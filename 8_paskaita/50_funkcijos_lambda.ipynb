{
 "cells": [
  {
   "cell_type": "markdown",
   "metadata": {},
   "source": [
    "# Lambda funkcijos\n",
    "\n",
    "lambda funkcijos dažnai yra vadinamos anoniminėmis, nes jos neturi pavadinimo, kaip kitos funkcijos.\n",
    "\n",
    "Sintaksė:\n",
    "\n",
    "lamda *argumentai*: funkcijos scenarijus\n",
    "\n",
    "lambda funkcijos yra naudojamos, kai mes norime kurti funkcijas efektyviau, tai mums leidžia padaryti paprasta lambda funkcijų sintaksė.\n"
   ]
  },
  {
   "cell_type": "code",
   "execution_count": 2,
   "metadata": {},
   "outputs": [
    {
     "name": "stdout",
     "output_type": "stream",
     "text": [
      "25\n",
      "25\n"
     ]
    }
   ],
   "source": [
    "def kvadratu(x):\n",
    "    return x**2\n",
    "\n",
    "print(kvadratu(5))\n",
    "\n",
    "square=lambda x: x**2\n",
    "print(square(5))"
   ]
  },
  {
   "cell_type": "code",
   "execution_count": 4,
   "metadata": {},
   "outputs": [
    {
     "name": "stdout",
     "output_type": "stream",
     "text": [
      "lyginis\n",
      "Lyginis\n"
     ]
    }
   ],
   "source": [
    "def lyginis_nelyginis(x):\n",
    "    if x %2==0:\n",
    "        return 'lyginis'\n",
    "    else:\n",
    "        return 'nelyginis'\n",
    "    \n",
    "lyg_nelyg=lambda x: 'Lyginis' if x%2==0 else 'nelyginis'\n",
    "\n",
    "print(lyginis_nelyginis(10))\n",
    "print(lyg_nelyg(10))"
   ]
  },
  {
   "cell_type": "code",
   "execution_count": 5,
   "metadata": {},
   "outputs": [
    {
     "name": "stdout",
     "output_type": "stream",
     "text": [
      "[1, 2, 3, 4, 5]\n"
     ]
    }
   ],
   "source": [
    "nums=[1,2,3,4,5]\n",
    "\n",
    "doubled_nums=map(lambda x: x*2, nums)\n",
    "print(nums)"
   ]
  },
  {
   "cell_type": "code",
   "execution_count": 7,
   "metadata": {},
   "outputs": [
    {
     "name": "stdout",
     "output_type": "stream",
     "text": [
      "['nelyginis', 'Lyginis', 'nelyginis', 'Lyginis', 'nelyginis']\n"
     ]
    }
   ],
   "source": [
    "nums=[1,2,3,4,5]\n",
    "\n",
    "doubled_nums=list(map(lambda x:'Lyginis' if x%2==0 else 'nelyginis',nums))\n",
    "print(doubled_nums)"
   ]
  },
  {
   "cell_type": "code",
   "execution_count": 10,
   "metadata": {},
   "outputs": [
    {
     "name": "stdout",
     "output_type": "stream",
     "text": [
      "[2, 4]\n"
     ]
    }
   ],
   "source": [
    "nums=[1,2,3,4,5]\n",
    "evens=list(filter(lambda x: x%2==0, nums))\n",
    "\n",
    "print(evens)"
   ]
  },
  {
   "cell_type": "code",
   "execution_count": 13,
   "metadata": {},
   "outputs": [
    {
     "name": "stdout",
     "output_type": "stream",
     "text": [
      "[(31.123123, 33.12312), (51.1223, 54.1212), (51.1241243, 11.11231123)]\n",
      "[(51.1241243, 11.11231123), (31.123123, 33.12312), (51.1223, 54.1212)]\n"
     ]
    }
   ],
   "source": [
    "points=[(51.1223,54.1212), (31.123123,33.12312),(51.1241243,11.11231123)]\n",
    "\n",
    "print(sorted(points))\n",
    "\n",
    "sorted_points=sorted(points, key=lambda x: x[1])\n",
    "print(sorted_points)"
   ]
  },
  {
   "cell_type": "code",
   "execution_count": 20,
   "metadata": {},
   "outputs": [
    {
     "name": "stdout",
     "output_type": "stream",
     "text": [
      "[{'vardas': 'Antanas', 'amzius': 40}, {'vardas': 'Paulina', 'amzius': 27}, {'vardas': 'Jonas', 'amzius': 20}]\n"
     ]
    }
   ],
   "source": [
    "darbuotojai=[\n",
    "    {'vardas':'Antanas','amzius': 40},\n",
    "    {'vardas':'Jonas','amzius': 20},\n",
    "    {'vardas':'Paulina','amzius': 27}\n",
    "]\n",
    "\n",
    "print(sorted(darbuotojai, key=lambda x: x['amzius'],reverse=True))"
   ]
  },
  {
   "cell_type": "code",
   "execution_count": 21,
   "metadata": {},
   "outputs": [
    {
     "data": {
      "text/plain": [
       "15"
      ]
     },
     "execution_count": 21,
     "metadata": {},
     "output_type": "execute_result"
    }
   ],
   "source": [
    "def s_suma(x,y):\n",
    "    return x+y\n",
    "\n",
    "suma = lambda x,y: x+y\n",
    "\n",
    "suma(5,10)"
   ]
  },
  {
   "cell_type": "markdown",
   "metadata": {},
   "source": [
    "## Užduotys"
   ]
  },
  {
   "cell_type": "markdown",
   "metadata": {},
   "source": [
    "### 1 Užduotis\n",
    "\n",
    "Parašykite programą, kuri naudodama lambda funkciją filtruoja sąrašą skaičių ir palieka tik teigiamus skaičius."
   ]
  },
  {
   "cell_type": "code",
   "execution_count": 23,
   "metadata": {},
   "outputs": [
    {
     "name": "stdout",
     "output_type": "stream",
     "text": [
      "[1, 2, 3, 4, 5]\n"
     ]
    }
   ],
   "source": [
    "nums=[0,1,2,3,4,5]\n",
    "evens=list(filter(lambda x: x>0, nums))\n",
    "\n",
    "print(evens)"
   ]
  },
  {
   "cell_type": "markdown",
   "metadata": {},
   "source": [
    "### 2 Užduotis\n",
    "\n",
    "Sukurkite programą, kuri naudodama lambda funkciją atrinktų žodžius iš sąrašo pagal jų ilgį ir išrikiuotų juos nuo trumpiausio iki ilgiausio."
   ]
  },
  {
   "cell_type": "code",
   "execution_count": 24,
   "metadata": {},
   "outputs": [
    {
     "name": "stdout",
     "output_type": "stream",
     "text": [
      "['Zita', 'Jonas', 'Rimas', 'Kazys', 'Paulius']\n"
     ]
    }
   ],
   "source": [
    "sarasas=['Jonas','Paulius','Rimas','Zita','Kazys']\n",
    "\n",
    "rikiuotas_sarasas=sorted(sarasas, key=len)\n",
    "\n",
    "print(rikiuotas_sarasas)"
   ]
  },
  {
   "cell_type": "markdown",
   "metadata": {},
   "source": [
    "### 3 Užduotis\n",
    "\n",
    "Parašykite programą, kuri sukuria skaičių seką nuo 1 iki n, kur n yra įvestas skaičius, naudodama lambda funkciją.\n",
    "\n",
    "pvz., lambda funkcijai pateikus argumentą 5 ji grąžintų [1,2,3,4,5], o pateikus 7 - [1,2,3,4,5,6,7]"
   ]
  },
  {
   "cell_type": "code",
   "execution_count": 30,
   "metadata": {},
   "outputs": [
    {
     "name": "stdout",
     "output_type": "stream",
     "text": [
      "range(10, 20)\n",
      "[1, 2, 3, 4, 5]\n",
      "[1, 2, 3, 4, 5, 6, 7]\n"
     ]
    }
   ],
   "source": [
    "print(range(10,20))\n",
    "\n",
    "square=lambda x: list(range(1,x+1))\n",
    "\n",
    "print(square(5))\n",
    "print(square(7))"
   ]
  },
  {
   "cell_type": "code",
   "execution_count": null,
   "metadata": {},
   "outputs": [],
   "source": []
  }
 ],
 "metadata": {
  "kernelspec": {
   "display_name": "Python 3",
   "language": "python",
   "name": "python3"
  },
  "language_info": {
   "codemirror_mode": {
    "name": "ipython",
    "version": 3
   },
   "file_extension": ".py",
   "mimetype": "text/x-python",
   "name": "python",
   "nbconvert_exporter": "python",
   "pygments_lexer": "ipython3",
   "version": "3.13.1"
  }
 },
 "nbformat": 4,
 "nbformat_minor": 2
}
