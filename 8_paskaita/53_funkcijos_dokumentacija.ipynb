{
 "cells": [
  {
   "cell_type": "markdown",
   "metadata": {},
   "source": [
    "# Funkcijų Dokumentavimas (Docstrings)\n",
    "\n",
    "Docstrings yra tekstas, kuris yra įterpiamas į Python funkcijų, modulių ir klasės aprašymą. Jie yra naudojami dokumentuoti kodą, kad kiti programuotojai (ar net patys jūsų mokiniai) galėtų lengvai suprasti, kaip naudoti jūsų sukurtus modulius ir funkcijas.\n",
    "\n",
    "Docstring yra tiesiog eilutės, kurių pradžioje yra trijų kabučių simbolis (\"\"\" arba '''). Šių kabučių viduje yra rašomas aprašymas apie funkciją, jos parametrus, grąžinamą reikšmę ir kitą svarbią informaciją."
   ]
  },
  {
   "cell_type": "code",
   "execution_count": null,
   "metadata": {},
   "outputs": [],
   "source": [
    "def suma(a:int,b:int) -> int:\n",
    "    \"\"\"\n",
    "    Si funkcija grazina suskaiciuota dvieju skaiciu suma.\n",
    "\n",
    "    Parametrai:\n",
    "    a(int): Pirmasis skaicius.\n",
    "    b(int): Antrasis skaicius.\n",
    "\n",
    "    Grazina:\n",
    "    int: Dvieju skaiciu suma\n",
    "    \"\"\"\n",
    "    return a+b\n",
    "\n",
    "suma()\n",
    "\n",
    "reversed()\n",
    "\n",
    "\"as\".isupper"
   ]
  },
  {
   "cell_type": "code",
   "execution_count": null,
   "metadata": {},
   "outputs": [],
   "source": []
  },
  {
   "cell_type": "markdown",
   "metadata": {},
   "source": [
    "## Užduotys\n",
    "\n",
    "Susikurkite keletą naujų celių, čia įkopijuokite savo anksčiau sukurtas funkcijas ir tada pasistenkite jas dokumentuoti."
   ]
  },
  {
   "cell_type": "code",
   "execution_count": null,
   "metadata": {},
   "outputs": [],
   "source": []
  }
 ],
 "metadata": {
  "kernelspec": {
   "display_name": "Python 3",
   "language": "python",
   "name": "python3"
  },
  "language_info": {
   "codemirror_mode": {
    "name": "ipython",
    "version": 3
   },
   "file_extension": ".py",
   "mimetype": "text/x-python",
   "name": "python",
   "nbconvert_exporter": "python",
   "pygments_lexer": "ipython3",
   "version": "3.12.1"
  }
 },
 "nbformat": 4,
 "nbformat_minor": 2
}
