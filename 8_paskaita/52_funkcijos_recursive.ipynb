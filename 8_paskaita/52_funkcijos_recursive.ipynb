{
 "cells": [
  {
   "cell_type": "markdown",
   "metadata": {},
   "source": [
    "# Recursive funkcijos (save kviečiančios funkcijos)\n",
    "\n",
    "Rekursija yra programavimo technika, kuomet funkcija iškviečia pati save. Tai leidžia funkcijai atlikti tam tikrą veiksmą kartojantįsiems elementams, išlaikant kodą aiškų ir tvarkingą.\n",
    "\n",
    "Pagrindinis rekursijos elementas yra rekursyvus kvietimas, kuomet funkcija kviečia pati save. Rekursyvus kvietimas turi baigtinę sąlygą, kuri nurodo, kada rekursija turi sustoti.\n",
    "\n",
    "Svarbu užtikrinti, kad rekursija turi galutinę sąlygą, kuri užtikrina, kad rekursyvūs kvietimai baigsis ir nebus besąlygiškai kartojami.\n",
    "\n"
   ]
  },
  {
   "cell_type": "code",
   "execution_count": 5,
   "metadata": {},
   "outputs": [
    {
     "data": {
      "text/plain": [
       "15"
      ]
     },
     "execution_count": 5,
     "metadata": {},
     "output_type": "execute_result"
    }
   ],
   "source": [
    "# 5 5+4+3+2+1\n",
    "# 7 7+6+5+4+3+2+1\n",
    "\n",
    "def suma_nuo_vieno_iki_n(n):\n",
    "    if n == 1:\n",
    "        return 1\n",
    "    else:\n",
    "        return n + suma_nuo_vieno_iki_n(n-1)\n",
    "    \n",
    "suma_nuo_vieno_iki_n(5)"
   ]
  },
  {
   "cell_type": "code",
   "execution_count": 6,
   "metadata": {},
   "outputs": [
    {
     "name": "stdout",
     "output_type": "stream",
     "text": [
      "120\n"
     ]
    }
   ],
   "source": [
    "#5! = 5*4*3*2*1\n",
    "\n",
    "def faktorialas(n):\n",
    "    if n == 1:\n",
    "        return 1\n",
    "    else:\n",
    "        return n * faktorialas(n-1)\n",
    "    \n",
    "print(faktorialas(5))"
   ]
  },
  {
   "cell_type": "code",
   "execution_count": null,
   "metadata": {},
   "outputs": [],
   "source": []
  },
  {
   "cell_type": "code",
   "execution_count": null,
   "metadata": {},
   "outputs": [],
   "source": []
  }
 ],
 "metadata": {
  "kernelspec": {
   "display_name": "Python 3",
   "language": "python",
   "name": "python3"
  },
  "language_info": {
   "codemirror_mode": {
    "name": "ipython",
    "version": 3
   },
   "file_extension": ".py",
   "mimetype": "text/x-python",
   "name": "python",
   "nbconvert_exporter": "python",
   "pygments_lexer": "ipython3",
   "version": "3.13.1"
  }
 },
 "nbformat": 4,
 "nbformat_minor": 2
}
