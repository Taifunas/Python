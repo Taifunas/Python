{
 "cells": [
  {
   "cell_type": "markdown",
   "metadata": {},
   "source": [
    "# Funkcijos funkcijose\n",
    "\n",
    "Provide encapsulation and hide your functions from external access\n",
    "Write helper functions to facilitate code reuse\n",
    "Create closure factory functions that retain state between calls\n",
    "Code decorator functions to add behavior to existing functions"
   ]
  },
  {
   "cell_type": "code",
   "execution_count": 2,
   "metadata": {},
   "outputs": [
    {
     "name": "stdout",
     "output_type": "stream",
     "text": [
      "90.0\n",
      "80.0\n"
     ]
    }
   ],
   "source": [
    "def pritaikyti_nuolaida(suma, nuolaidos_funkcija):\n",
    "    return suma - nuolaidos_funkcija(suma)\n",
    "\n",
    "def iprasta_nuolaida(suma):\n",
    "    return suma *0.1\n",
    "\n",
    "def premium_nuolaida(suma):\n",
    "    return suma *0.2\n",
    "\n",
    "bendra_kaina=100\n",
    "\n",
    "suma_paprasta_nuolaida=pritaikyti_nuolaida(bendra_kaina, iprasta_nuolaida)\n",
    "print(suma_paprasta_nuolaida)\n",
    "\n",
    "suma_premium_nuolaida=pritaikyti_nuolaida(bendra_kaina, premium_nuolaida)\n",
    "print(suma_premium_nuolaida)"
   ]
  },
  {
   "cell_type": "code",
   "execution_count": 3,
   "metadata": {},
   "outputs": [
    {
     "name": "stdout",
     "output_type": "stream",
     "text": [
      "tikrinu kaip veikia\n",
      "TIKRINU KAIP VEIKIA\n"
     ]
    }
   ],
   "source": [
    "def formatuoti_teksta(tekstas, formatavimo_funkcija):\n",
    "    return formatavimo_funkcija(tekstas)\n",
    "\n",
    "def didziosiomis(tekstas):\n",
    "    return tekstas.upper()\n",
    "\n",
    "def mazosiomis(tekstas):\n",
    "    return tekstas.lower()\n",
    "\n",
    "v_tekstas = 'tIkRiNu kAip veikia'\n",
    "\n",
    "print(formatuoti_teksta(v_tekstas, mazosiomis))\n",
    "print(formatuoti_teksta(v_tekstas, didziosiomis))"
   ]
  },
  {
   "cell_type": "code",
   "execution_count": 9,
   "metadata": {},
   "outputs": [
    {
     "name": "stdout",
     "output_type": "stream",
     "text": [
      "2\n",
      "4\n",
      "5\n"
     ]
    }
   ],
   "source": [
    "def pass_strength(password):\n",
    "\n",
    "    def has_uppercase(password):\n",
    "        return any(letter.isupper() for letter in password)\n",
    "    \n",
    "    def has_lowercase(password):\n",
    "        return any(letter.islower() for letter in password)\n",
    "    \n",
    "    def has_digit(password):\n",
    "        return any(letter.isdigit() for letter in password)\n",
    "    \n",
    "    def has_symbol(password):\n",
    "        return any(letter in \"!@#$%^&*()_+?\" for letter in password)\n",
    "    \n",
    "    score=0\n",
    "    if len(password)>=8:\n",
    "        score+=1\n",
    "    if has_uppercase(password):\n",
    "        score+=1\n",
    "    if has_lowercase(password):\n",
    "        score+=1\n",
    "    if has_digit(password):\n",
    "        score+=1\n",
    "    if has_symbol(password):\n",
    "        score+=1\n",
    "\n",
    "    return score\n",
    "\n",
    "print(pass_strength('Testas'))\n",
    "print(pass_strength('Testas1234'))\n",
    "print(pass_strength('Testas1234!'))\n"
   ]
  },
  {
   "cell_type": "code",
   "execution_count": 4,
   "metadata": {},
   "outputs": [
    {
     "data": {
      "text/plain": [
       "True"
      ]
     },
     "execution_count": 4,
     "metadata": {},
     "output_type": "execute_result"
    }
   ],
   "source": [
    "any([True, False])\n",
    "any([False, False])\n",
    "any([False, False, True])\n",
    "\n",
    "'a' in '!#@#*$@(*%^Y)'\n",
    "'!' in '!!@@#$%)()'"
   ]
  },
  {
   "cell_type": "code",
   "execution_count": null,
   "metadata": {},
   "outputs": [],
   "source": []
  },
  {
   "cell_type": "markdown",
   "metadata": {},
   "source": [
    "## Užduotys\n"
   ]
  },
  {
   "cell_type": "markdown",
   "metadata": {},
   "source": [
    "### Užduotis 1\n",
    "\n",
    "Sukurkite funkciją, kuri priimtų tris argumentus: x, y, figūra\n",
    "Funkcija turėtų grąžinti apskaičiuoti figūros plotą, pagal tai kokią figūrą, jūs nurodote kaip argumentą (keturkampis, apskritimas).\n",
    "Funkcija turi iškviesti kitą funkciją (išviso jūsų darbe turi būti trys funkcijos), priklausomai nuo figūros"
   ]
  },
  {
   "cell_type": "code",
   "execution_count": 13,
   "metadata": {},
   "outputs": [
    {
     "name": "stdout",
     "output_type": "stream",
     "text": [
      "9\n",
      "50.26548245743669\n"
     ]
    }
   ],
   "source": [
    "# Sukurti funkcija kvadrato ploto skaiciavimui\n",
    "# Sukurti funkcija apskritimo ploto skaiciavimui\n",
    "# Sukurti funkcija, kuri kaip argumenta priimtu funkcija, kuria norime naudoti\n",
    "# (apskritimo ar kvadrato) ir reikalingus skaicius (Atsiminkite, kad default reiksme\n",
    "#galite nurodyti ir None (jos jums gali prireikti apskritimo ploto skaiciavimui))\n",
    "\n",
    "\n",
    "import math\n",
    "\n",
    "def plotas_keturkampis(x, y):\n",
    "    return x * y\n",
    "\n",
    "def plotas_apskritimo(x,y):\n",
    "    return math.pi * x**2\n",
    "\n",
    "def apskaiciuoti_plota(x,figura, y=None):\n",
    "    if figura == 'keturkampis':\n",
    "        return plotas_keturkampis(x,y)\n",
    "    elif figura == 'apskritimas':\n",
    "        return plotas_apskritimo(x,y)\n",
    "    else:\n",
    "        return 'Forma neteisinga'\n",
    "\n",
    "print(apskaiciuoti_plota(3,'keturkampis', 3))\n",
    "print(apskaiciuoti_plota(4,'apskritimas'))"
   ]
  },
  {
   "cell_type": "markdown",
   "metadata": {},
   "source": []
  }
 ],
 "metadata": {
  "kernelspec": {
   "display_name": "Python 3",
   "language": "python",
   "name": "python3"
  },
  "language_info": {
   "codemirror_mode": {
    "name": "ipython",
    "version": 3
   },
   "file_extension": ".py",
   "mimetype": "text/x-python",
   "name": "python",
   "nbconvert_exporter": "python",
   "pygments_lexer": "ipython3",
   "version": "3.13.1"
  }
 },
 "nbformat": 4,
 "nbformat_minor": 2
}
