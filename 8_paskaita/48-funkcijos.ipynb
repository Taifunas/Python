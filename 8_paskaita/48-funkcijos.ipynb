{
 "cells": [
  {
   "cell_type": "markdown",
   "metadata": {},
   "source": [
    "# Funkcijos (5 dalis)"
   ]
  },
  {
   "cell_type": "markdown",
   "metadata": {},
   "source": [
    "Šioje dalyje nagrinėsime praktinius pavyzdžius, kuriuose rašysime funkcijas.\n",
    "\n",
    "Mūsų funkcijos naudos list/tuple/dict\n",
    "\n",
    "Taip pat ir for/while ciklus\n",
    "\n",
    "Plius aptarsime smulkias Python subtilybes\n",
    "\n",
    "## Pavyzdžiai\n"
   ]
  },
  {
   "cell_type": "code",
   "execution_count": null,
   "metadata": {},
   "outputs": [],
   "source": []
  },
  {
   "cell_type": "code",
   "execution_count": null,
   "metadata": {},
   "outputs": [],
   "source": [
    "# koordinačių išvedimas"
   ]
  },
  {
   "cell_type": "code",
   "execution_count": null,
   "metadata": {},
   "outputs": [],
   "source": []
  },
  {
   "cell_type": "code",
   "execution_count": null,
   "metadata": {},
   "outputs": [],
   "source": []
  },
  {
   "cell_type": "code",
   "execution_count": null,
   "metadata": {},
   "outputs": [],
   "source": []
  },
  {
   "cell_type": "code",
   "execution_count": null,
   "metadata": {},
   "outputs": [],
   "source": []
  },
  {
   "cell_type": "code",
   "execution_count": 8,
   "metadata": {},
   "outputs": [
    {
     "name": "stdout",
     "output_type": "stream",
     "text": [
      "True\n"
     ]
    }
   ],
   "source": [
    "import re\n",
    "\n",
    "def patikrinti_formata(email):\n",
    "    pattern=re.compile(r'^[a-zA-Z0-9,_+-]+@[a-z0-9.-]+\\.[a-zA-Z]{2,}$')\n",
    "    return bool(pattern.match(email))\n",
    "\n",
    "email='test@tes.com'\n",
    "print(patikrinti_formata(email))"
   ]
  },
  {
   "cell_type": "code",
   "execution_count": null,
   "metadata": {},
   "outputs": [],
   "source": []
  },
  {
   "cell_type": "code",
   "execution_count": null,
   "metadata": {},
   "outputs": [],
   "source": []
  },
  {
   "cell_type": "code",
   "execution_count": null,
   "metadata": {},
   "outputs": [],
   "source": []
  },
  {
   "cell_type": "code",
   "execution_count": null,
   "metadata": {},
   "outputs": [],
   "source": []
  },
  {
   "cell_type": "markdown",
   "metadata": {},
   "source": [
    "Natūraliojo skaičiaus n faktorialu vadinama visų natūraliųjų skaičių nuo 1 iki n sandauga, pavyzdžiui:\n",
    "\n",
    "5!=5×4×3×2×1=120.\n",
    " \n",
    "Sutarta, kad skaičiaus 0 faktorialas lygus 1 (0! = 1) (tuščioji sandauga). Matematikoje sandauga kurioje nėra dauginamųjų laikoma lygia vienetui (suma, kurioje nėra sudedamųjų, laikoma lygia nuliui).[1]"
   ]
  },
  {
   "cell_type": "code",
   "execution_count": null,
   "metadata": {},
   "outputs": [],
   "source": []
  },
  {
   "cell_type": "code",
   "execution_count": null,
   "metadata": {},
   "outputs": [],
   "source": []
  },
  {
   "cell_type": "code",
   "execution_count": null,
   "metadata": {},
   "outputs": [],
   "source": []
  },
  {
   "cell_type": "code",
   "execution_count": null,
   "metadata": {},
   "outputs": [],
   "source": []
  },
  {
   "cell_type": "code",
   "execution_count": null,
   "metadata": {},
   "outputs": [],
   "source": []
  },
  {
   "cell_type": "code",
   "execution_count": null,
   "metadata": {},
   "outputs": [],
   "source": []
  },
  {
   "cell_type": "code",
   "execution_count": null,
   "metadata": {},
   "outputs": [],
   "source": []
  },
  {
   "cell_type": "code",
   "execution_count": null,
   "metadata": {},
   "outputs": [],
   "source": []
  },
  {
   "cell_type": "code",
   "execution_count": null,
   "metadata": {},
   "outputs": [],
   "source": []
  },
  {
   "cell_type": "code",
   "execution_count": 15,
   "metadata": {},
   "outputs": [
    {
     "data": {
      "text/plain": [
       "True"
      ]
     },
     "execution_count": 15,
     "metadata": {},
     "output_type": "execute_result"
    }
   ],
   "source": [
    "def patikrinti_ar_anagrama(str):\n",
    "    if str.lower()==str.lower()[::-1]:\n",
    "        return True\n",
    "    return False\n",
    "\n",
    "patikrinti_ar_anagrama('Sigis')"
   ]
  },
  {
   "cell_type": "code",
   "execution_count": 16,
   "metadata": {},
   "outputs": [
    {
     "data": {
      "text/plain": [
       "'sabal'"
      ]
     },
     "execution_count": 16,
     "metadata": {},
     "output_type": "execute_result"
    }
   ],
   "source": [
    "'labas'[::-1]"
   ]
  },
  {
   "cell_type": "code",
   "execution_count": 28,
   "metadata": {},
   "outputs": [
    {
     "name": "stdout",
     "output_type": "stream",
     "text": [
      "54\n"
     ]
    },
    {
     "data": {
      "text/plain": [
       "True"
      ]
     },
     "execution_count": 28,
     "metadata": {},
     "output_type": "execute_result"
    }
   ],
   "source": [
    "from datetime import datetime\n",
    "\n",
    "def apskaiciuok_amziu(metai, menuo, diena):\n",
    "    dabar=datetime.today()\n",
    "    amzius=datetime.today()\n",
    "    g_data=datetime(metai,menuo,diena)\n",
    "    amzius=dabar.year-g_data.year - ((dabar.month, dabar.day)<(g_data.month,g_data.day))\n",
    "    return amzius\n",
    "\n",
    "print(apskaiciuok_amziu(1970,3,6))\n",
    "(2,5)<(11,5)"
   ]
  },
  {
   "cell_type": "markdown",
   "metadata": {},
   "source": []
  },
  {
   "cell_type": "markdown",
   "metadata": {},
   "source": [
    "### Užduotis 1\n",
    "\n",
    "Parašykite funkciją, kuri priima vieną sveikąjį skaičių kaip argumentą. Funkcija turi grąžinti \"Pergalė\", jei skaičius dalijasi iš 7 be liekanos ir nėra lygus 0, \"Lygiosios\", jei skaičius yra lygus 0, ir \"Pralaimėjimas\" kitu atveju."
   ]
  },
  {
   "cell_type": "code",
   "execution_count": null,
   "metadata": {},
   "outputs": [
    {
     "name": "stdout",
     "output_type": "stream",
     "text": [
      "Pergale\n",
      "Lygiosios\n",
      "Pralaimejimas\n"
     ]
    }
   ],
   "source": [
    "def pergale(x):\n",
    "    if x %7==0 and x !=0:\n",
    "        return 'Pergale'\n",
    "    elif x==0:\n",
    "        return 'Lygiosios'\n",
    "    else:\n",
    "        return 'Pralaimejimas'\n",
    "\n",
    "print(pergale(1))\n",
    "print(pergale(7))\n",
    "print(pergale(0))"
   ]
  },
  {
   "cell_type": "markdown",
   "metadata": {},
   "source": [
    "### Užduotis 2\n",
    "\n",
    "Parašykite funkciją, kuri priima vieną sveikąjį skaičių ir patikrina, ar jis yra pirminis. Jei skaičius yra pirminis, grąžinkite True, kitu atveju False.\n",
    "\n",
    "Pirminis skaičius – bet kuris natūralusis skaičius, didesnis nei 1, kuris dalinasi tik iš savęs ir vieneto. Vienetas nelaikomas nei pirminiu skaičiumi, nei sudėtiniu, kartais dar vadinamas netraliuoju dauginamuoju, kadangi yra kiekvieno skaičiaus skaidinyje"
   ]
  },
  {
   "cell_type": "code",
   "execution_count": 20,
   "metadata": {},
   "outputs": [
    {
     "name": "stdout",
     "output_type": "stream",
     "text": [
      "nepirminis\n",
      "pirminis\n",
      "pirminis\n",
      "nepirminis\n",
      "Pirminis\n",
      "nepirminis\n",
      "Pirminis\n",
      "nepirminis\n"
     ]
    }
   ],
   "source": [
    "\n",
    "def ar_pirminis(x):\n",
    "    if x == 2 or x==3:\n",
    "        return 'pirminis'\n",
    "    elif x > 2 and x%2!=0 and x%3!=0:\n",
    "        return 'Pirminis'\n",
    "    else:\n",
    "       return 'nepirminis'\n",
    "    \n",
    "print(ar_pirminis(1))\n",
    "print(ar_pirminis(2))\n",
    "print(ar_pirminis(3))\n",
    "print(ar_pirminis(4))\n",
    "print(ar_pirminis(5))\n",
    "print(ar_pirminis(6))\n",
    "print(ar_pirminis(7))\n",
    "print(ar_pirminis(8))\n",
    "\n",
    "\n",
    "# import math\n",
    "\n",
    "# def ar_pirminis(skaicius):\n",
    "#     if skaicius < 2:\n",
    "#         return False\n",
    "#     for i in range(2, int(math.sqrt(skaicius)) + 1):\n",
    "#         print(f\"skaicius: {int(math.sqrt(skaicius)) + 1} i: {i}\")\n",
    "#         if skaicius % i == 0:\n",
    "#             return False\n",
    "#     return True\n",
    "\n",
    "# ar_pirminis(2)\n",
    "# ar_pirminis(3)\n",
    "# ar_pirminis(4)\n",
    "# ar_pirminis(400000)\n",
    "# ar_pirminis(400001)"
   ]
  },
  {
   "cell_type": "markdown",
   "metadata": {},
   "source": [
    "### Užduotis 3\n",
    "\n",
    "Parašykite funkciją, kuri priima sąrašą žodžių ir sveikąjį skaičių n, o grąžina sąrašą, kuriame yra tik tie žodžiai, kurių ilgis yra didesnis nei n."
   ]
  },
  {
   "cell_type": "code",
   "execution_count": null,
   "metadata": {},
   "outputs": [
    {
     "name": "stdout",
     "output_type": "stream",
     "text": [
      "['labas', 'vakaras', 'Lietuvaaaa']\n"
     ]
    }
   ],
   "source": [
    "def ilgiausias_zodis(sarasas, n):\n",
    "    ilg_zod=[]\n",
    "    for zodis in sarasas:\n",
    "        if len(zodis)>n:\n",
    "            ilg_zod.append(zodis)\n",
    "    return ilg_zod\n",
    "\n",
    "listas=['labas','vakaras','Lietuvaaaa']\n",
    "print(ilgiausias_zodis(listas,3))"
   ]
  },
  {
   "cell_type": "markdown",
   "metadata": {},
   "source": [
    "### Užduotis 4\n",
    "\n",
    "Parašykite funkciją, kuri priima tekstą ir grąžina žodžių skaičių tame tekste."
   ]
  },
  {
   "cell_type": "code",
   "execution_count": 53,
   "metadata": {},
   "outputs": [
    {
     "name": "stdout",
     "output_type": "stream",
     "text": [
      "3\n"
     ]
    }
   ],
   "source": [
    "def zodziu_skaicius(sarasas):\n",
    "    ilgis=sarasas.split(' ')\n",
    "    return len(ilgis)\n",
    "\n",
    "listas='labas vakaras Lietuvaaaa'\n",
    "print(zodziu_skaicius(listas))"
   ]
  },
  {
   "cell_type": "markdown",
   "metadata": {},
   "source": [
    "### Užduotis 5\n",
    "\n",
    "Parašykite funkciją, kuri priima metus, mėnesį ir dieną ir grąžina dienos numerį nuo metų pradžios.\n",
    "\n",
    "pvz. dienos_numeris(2012,8,30) turėtų grąžinti 243\n",
    "dienos_numeris(2017,1,30) grąžintų 30"
   ]
  },
  {
   "cell_type": "code",
   "execution_count": null,
   "metadata": {},
   "outputs": [
    {
     "name": "stdout",
     "output_type": "stream",
     "text": [
      "38\n"
     ]
    }
   ],
   "source": [
    "# import datetime\n",
    "\n",
    "# metu pradzia=datetime.datetime(2025,1,1)\n",
    "# dabar=datetime.datetime.now()\n",
    "# skirtumas=dabar-nepriklausomybes_diena\n",
    "# print(skirtumas)\n",
    "\n",
    "# skirtumas_metais=dabar.year-nepriklausomybes_diena.year\n",
    "# print(skirtumas_metais)\n",
    "\n",
    "# formatuotas_skirtumas='{:0>4}-{:0>2}-{:>02}'.format(\n",
    "#     skirtumas.days//365,\n",
    "#     (skirtumas.days%365)//30,\n",
    "#     (skirtumas.days%365) %30\n",
    "# )\n",
    "\n",
    "# print(formatuotas_skirtumas)\n",
    "import datetime\n",
    "\n",
    "def dienu_sk(metai,menuo,diena):\n",
    "    metu_pradzia=datetime.datetime(2025,1,1)\n",
    "    skirtumas=datetime.datetime(metai,menuo,diena)-metu_pradzia\n",
    "    print(skirtumas.days)\n",
    "\n",
    "dienu_sk(2025,2,8)"
   ]
  },
  {
   "cell_type": "markdown",
   "metadata": {},
   "source": [
    "### Užduotis 6\n",
    "\n",
    "Parašykite funkciją, kuri priima sąrašą skaičių ir grąžina tuple, kuriame yra didžiausias ir mažiausias skaičiai iš sąrašo.\n"
   ]
  },
  {
   "cell_type": "code",
   "execution_count": 4,
   "metadata": {},
   "outputs": [
    {
     "name": "stdout",
     "output_type": "stream",
     "text": [
      "1 5\n"
     ]
    }
   ],
   "source": [
    "def tupl_ilg_trump_sk(skaiciai):\n",
    "    ilgiausias=skaiciai[0]\n",
    "    trumpiausias=skaiciai[0]\n",
    "    for skaicius in skaiciai:\n",
    "        if int(skaicius)>int(ilgiausias):\n",
    "           ilgiausias=skaicius\n",
    "        if int(skaicius)<int(trumpiausias):\n",
    "            trumpiausias=skaicius\n",
    "    print(trumpiausias,ilgiausias)\n",
    "\n",
    "skaiciai=('1',2,3,4,5)\n",
    "\n",
    "tupl_ilg_trump_sk(skaiciai)\n",
    "\n",
    "\n",
    "#max(listas) min(listas)\n"
   ]
  },
  {
   "cell_type": "markdown",
   "metadata": {},
   "source": [
    "### Užduotis 7\n",
    "\n",
    "Parašykite funkciją, kuri priima tekstą ir atspausdina tekstą su rėmelio dekoracija aplinkui. Rėmelis turėtų būti suformuotas iš simbolių \"*\".\n",
    "\n",
    "pvz tekstas_su_remeliu(\"labas\") grąžintų arba printintų\n",
    "\n",
    "rėmelio pavyzdį galite matyti žemiau esančios celės output'e"
   ]
  },
  {
   "cell_type": "code",
   "execution_count": 96,
   "metadata": {},
   "outputs": [
    {
     "name": "stdout",
     "output_type": "stream",
     "text": [
      "**************\n",
      "* labanaktis *\n",
      "**************\n",
      "None\n"
     ]
    }
   ],
   "source": [
    "def remelis(tekstas):\n",
    "    ilgis=len(tekstas)\n",
    "    print('*'*(ilgis+4))\n",
    "    print('*',tekstas,'*')\n",
    "    print('*'*(ilgis+4))\n",
    "\n",
    "print(remelis('labanaktis'))"
   ]
  },
  {
   "cell_type": "markdown",
   "metadata": {},
   "source": [
    "### Užduotis 8\n",
    "\n",
    "Parašykite funkciją, kuri priima sveikąjį skaičių ir grąžina jo skaitmenų sumą."
   ]
  },
  {
   "cell_type": "code",
   "execution_count": 8,
   "metadata": {},
   "outputs": [
    {
     "name": "stdout",
     "output_type": "stream",
     "text": [
      "[1, 1, 1, 4]\n",
      "7\n"
     ]
    }
   ],
   "source": [
    "def skaiciu_suma(sk):\n",
    "    result = [int(skaicius) for skaicius in str(sk)]\n",
    "    print(result)\n",
    "    suma=sum(result)\n",
    "    print(suma)\n",
    "\n",
    "skaiciai=1114\n",
    "skaiciu_suma(skaiciai)"
   ]
  },
  {
   "cell_type": "markdown",
   "metadata": {},
   "source": [
    "### Užduotis 9 \n",
    "\n",
    "Parašykite funkciją, kuri priima amžių ir grąžina atitinkamą amžiaus grupę: \"Vaikas\" (iki 12 metų), \"Paauglys\" (nuo 13 iki 18 metų), \"Suaugęs\" (nuo 19 iki 65 metų), \"Senjoras\" (virš 65 metų)."
   ]
  },
  {
   "cell_type": "code",
   "execution_count": 71,
   "metadata": {},
   "outputs": [
    {
     "name": "stdout",
     "output_type": "stream",
     "text": [
      "Suauges\n",
      "Vaikas iki 12 metu\n"
     ]
    }
   ],
   "source": [
    "def amziaus_grupe(amzius):\n",
    "    if amzius < 13:\n",
    "        return 'Vaikas iki 12 metu'\n",
    "    if amzius > 12 and amzius < 19:\n",
    "        return 'Paauglys'\n",
    "    if amzius >= 19 and amzius < 66:\n",
    "        return 'Suauges'\n",
    "    if amzius >= 66:\n",
    "        return 'Senjoras'\n",
    "    \n",
    "print(amziaus_grupe(34))\n",
    "print(amziaus_grupe(2))\n",
    "    \n",
    "    \n"
   ]
  },
  {
   "cell_type": "markdown",
   "metadata": {},
   "source": [
    "### Užduotis 10\n",
    "\n",
    "Parašykite funkciją, kuri priima geometrinės figūros tipo pavadinimą (\"apskritimas\", \"kvadratas\", \"trikampis\") ir reikiamus parametrus ir grąžina atitinkamos figūros plotą."
   ]
  },
  {
   "cell_type": "code",
   "execution_count": 72,
   "metadata": {},
   "outputs": [
    {
     "name": "stdout",
     "output_type": "stream",
     "text": [
      "9\n",
      "4.5\n",
      "50.26548245743669\n"
     ]
    }
   ],
   "source": [
    "import math\n",
    "\n",
    "def plotas_keturkampis(x, y):\n",
    "    return x * y\n",
    "\n",
    "def plotas_apskritimo(x,y):\n",
    "    return math.pi * x**2\n",
    "\n",
    "def plotas_trikampio(x,y):\n",
    "    return 1/2*x*y\n",
    "\n",
    "def apskaiciuoti_plota(x,figura, y=None):\n",
    "    if figura == 'keturkampis':\n",
    "        return plotas_keturkampis(x,y)\n",
    "    elif figura == 'apskritimas':\n",
    "        return plotas_apskritimo(x,y)\n",
    "    elif figura == 'trikampis':\n",
    "        return plotas_trikampio(x,y)\n",
    "    else:\n",
    "        return 'Forma neteisinga'\n",
    "\n",
    "print(apskaiciuoti_plota(3,'keturkampis', 3))\n",
    "print(apskaiciuoti_plota(3,'trikampis', 3))\n",
    "print(apskaiciuoti_plota(4,'apskritimas'))\n"
   ]
  },
  {
   "cell_type": "markdown",
   "metadata": {},
   "source": []
  }
 ],
 "metadata": {
  "kernelspec": {
   "display_name": "Python 3",
   "language": "python",
   "name": "python3"
  },
  "language_info": {
   "codemirror_mode": {
    "name": "ipython",
    "version": 3
   },
   "file_extension": ".py",
   "mimetype": "text/x-python",
   "name": "python",
   "nbconvert_exporter": "python",
   "pygments_lexer": "ipython3",
   "version": "3.13.1"
  }
 },
 "nbformat": 4,
 "nbformat_minor": 2
}
