{
 "cells": [
  {
   "cell_type": "code",
   "execution_count": 1,
   "metadata": {},
   "outputs": [
    {
     "name": "stdout",
     "output_type": "stream",
     "text": [
      "PAVYKO: Puslapis 1\n",
      "PAVYKO: Puslapis 2\n",
      "PAVYKO: Puslapis 3\n"
     ]
    }
   ],
   "source": [
    "import requests\n",
    "from bs4 import BeautifulSoup\n",
    "from time import sleep\n",
    "def get_data() :\n",
    "    \n",
    "    page = 1\n",
    "    while True :\n",
    "        req = requests.get(f\"https://www.skelbimai.lt/paieska?category=55&page={page}\")\n",
    "        if req.status_code != 200 :\n",
    "            return print(\"Prisijungimas nepavyko\")\n",
    "        \n",
    "        print(f\"PAVYKO: Puslapis {page}\")\n",
    "        html = BeautifulSoup(req.text)\n",
    "        # if \"disabled\" in html.select_one(\".right\").attrs :\n",
    "        #     print(\"Paskutinis puslapis\")\n",
    "        page += 1\n",
    "        if \"disabled\" in html.select_one(\".right\").attrs :\n",
    "            break\n",
    "        # Nurodome sekundžių kiekį kiek laukiame iki sekančios užklausos\n",
    "        sleep(1)\n",
    "get_data()"
   ]
  },
  {
   "cell_type": "code",
   "execution_count": 7,
   "metadata": {},
   "outputs": [
    {
     "name": "stdout",
     "output_type": "stream",
     "text": [
      "PAVYKO: Puslapis 1\n",
      "PAVYKO: Puslapis 2\n",
      "PAVYKO: Puslapis 3\n",
      "Paskutinis puslapis pasiektas\n"
     ]
    }
   ],
   "source": [
    "import requests\n",
    "from bs4 import BeautifulSoup\n",
    "from time import sleep\n",
    "def get_data() :\n",
    "    \n",
    "    page = 1\n",
    "    while True :\n",
    "        req = requests.get(f\"https://www.alio.lt/paieska/{page}/?category_id=613&search_hash=211401538b08df9b07faa3011d318d393d167c98\")\n",
    "        if req.status_code != 200 :\n",
    "            return print(\"Prisijungimas nepavyko\")\n",
    "        \n",
    "        print(f\"PAVYKO: Puslapis {page}\")\n",
    "        html = BeautifulSoup(req.text)\n",
    "\n",
    "        next_button = html.select_one(\".paging_b.next_page\")\n",
    "        if next_button and \"disabled\" in next_button.get(\"class\", []):\n",
    "                print(\"Paskutinis puslapis pasiektas\")\n",
    "                break  # Stop if no next button or if it's disabled\n",
    "        \n",
    "        page += 1\n",
    "        # if \"disabled\" in html.select_one(\".right\").attrs :\n",
    "        #     break\n",
    "        # Nurodome sekundžių kiekį kiek laukiame iki sekančios užklausos\n",
    "        sleep(1)\n",
    "get_data()"
   ]
  },
  {
   "cell_type": "code",
   "execution_count": null,
   "metadata": {},
   "outputs": [],
   "source": [
    "# ALIO.lt SCRAPERIS SU DUOMENŲ IŠSAUGOJIMU FAILE\n",
    "\n",
    "import requests\n",
    "from bs4 import BeautifulSoup\n",
    "from time import sleep\n",
    "import os\n",
    "\n",
    "# Ištriname prieš tai buvusį failą \n",
    "if os.path.exists(\"data.csv\") :\n",
    "    os.remove(\"data.csv\")\n",
    "\n",
    "file = open(\"data.csv\", \"a\", encoding=\"utf8\")\n",
    "\n",
    "def get_data(page = 1) : \n",
    "\n",
    "    req = requests.get(f\"https://www.alio.lt/viskas_nemokamai/dovanoja/siulo.html?page={page}\") \n",
    "\n",
    "    if req.status_code != 200 :\n",
    "        return print(\"Prisijungimas nepavyko\")\n",
    "    \n",
    "    print(f\"PAVYKO: Puslapis {page}\")\n",
    "\n",
    "    html = BeautifulSoup(req.text)\n",
    "\n",
    "    # listings = html.select(\".result:not(:first-child)\")\n",
    "\n",
    "    listings = html.select(\".result\")\n",
    "    listings.pop(0)\n",
    "\n",
    "    for listing in listings :\n",
    "        file.write(listing.select_one(\".a-d_name_val\").text.strip())\n",
    "        file.writelines(\"\\n\")\n",
    "\n",
    "    # Nurodome sekundžių kiekį kiek laukiame iki sekančios užklausos\n",
    "    sleep(1)\n",
    "\n",
    "    if \"disabled\" not in html.select_one(\".next_page\").attrs[\"class\"] :\n",
    "        get_data(page + 1)\n",
    "\n",
    "    # Laikinas stabdis \n",
    "    # if page < 4 :\n",
    "    #     get_data(page + 1) \n",
    "\n",
    "get_data()\n",
    "\n",
    "file.close()"
   ]
  }
 ],
 "metadata": {
  "kernelspec": {
   "display_name": "mokymai",
   "language": "python",
   "name": "python3"
  },
  "language_info": {
   "codemirror_mode": {
    "name": "ipython",
    "version": 3
   },
   "file_extension": ".py",
   "mimetype": "text/x-python",
   "name": "python",
   "nbconvert_exporter": "python",
   "pygments_lexer": "ipython3",
   "version": "3.13.1"
  }
 },
 "nbformat": 4,
 "nbformat_minor": 2
}
