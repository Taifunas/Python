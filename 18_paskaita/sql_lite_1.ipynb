{
 "cells": [
  {
   "cell_type": "markdown",
   "metadata": {},
   "source": [
    "## Užduotis 1\n",
    "\n",
    "Sukurkite prekių db<br>\n",
    "lentelės struktrūra yra tokia - prekės pavadinimas, turimas kiekis, kaina, savikaina<br>\n",
    "Išveskite visas prekes iš db<br>\n",
    "atspausdinkite visas išvestas prekes su f string'u"
   ]
  },
  {
   "cell_type": "code",
   "execution_count": null,
   "metadata": {},
   "outputs": [
    {
     "name": "stdout",
     "output_type": "stream",
     "text": [
      "ID: 1, Pavadinimas: Kompiuteris, Kiekis: 10, Kaina: 800.0€, Savikaina: 600.0€\n",
      "ID: 2, Pavadinimas: Telefonas, Kiekis: 15, Kaina: 500.0€, Savikaina: 350.0€\n",
      "ID: 3, Pavadinimas: Planšetė, Kiekis: 8, Kaina: 300.0€, Savikaina: 200.0€\n",
      "ID: 4, Pavadinimas: Monitorius, Kiekis: 12, Kaina: 150.0€, Savikaina: 100.0€\n",
      "ID: 5, Pavadinimas: Klaviatūra, Kiekis: 20, Kaina: 50.0€, Savikaina: 30.0€\n"
     ]
    }
   ],
   "source": [
    "import sqlite3\n",
    "\n",
    "# Sukuriame duomenų bazės failą atmintyje\n",
    "conn = sqlite3.connect(\":memory:\")\n",
    "cursor = conn.cursor()\n",
    "\n",
    "# Sukuriame lentelę\n",
    "cursor.execute('''\n",
    "    CREATE TABLE prekes (\n",
    "        id INTEGER PRIMARY KEY AUTOINCREMENT,\n",
    "        pavadinimas TEXT NOT NULL,\n",
    "        kiekis INTEGER NOT NULL,\n",
    "        kaina REAL NOT NULL,\n",
    "        savikaina REAL NOT NULL\n",
    "    )\n",
    "''')\n",
    "\n",
    "# Įdedame keletą prekių į duomenų bazę\n",
    "prekes_data = [\n",
    "    (\"Kompiuteris\", 10, 800.0, 600.0),\n",
    "    (\"Telefonas\", 15, 500.0, 350.0),\n",
    "    (\"Planšetė\", 8, 300.0, 200.0),\n",
    "    (\"Monitorius\", 12, 150.0, 100.0),\n",
    "    (\"Klaviatūra\", 20, 50.0, 30.0)\n",
    "]\n",
    "\n",
    "cursor.executemany(\"INSERT INTO prekes (pavadinimas, kiekis, kaina, savikaina) VALUES (?, ?, ?, ?)\", prekes_data)\n",
    "conn.commit()\n",
    "\n",
    "# Išrenkame visas prekes\n",
    "cursor.execute(\"SELECT * FROM prekes\")\n",
    "prekes = cursor.fetchall()\n",
    "\n",
    "# Atspausdiname prekes naudojant f-string\n",
    "for preke in prekes:\n",
    "    print(f\"ID: {preke[0]}, Pavadinimas: {preke[1]}, Kiekis: {preke[2]}, Kaina: {preke[3]}€, Savikaina: {preke[4]}€\")\n",
    "\n",
    "# Uždaryti prisijungimą prie DB\n",
    "conn.close()\n"
   ]
  },
  {
   "cell_type": "markdown",
   "metadata": {},
   "source": [
    "## Užduotis 2\n",
    "\n",
    "Sukurkite studentų db<br>\n",
    "lentelės struktūra yra tokia - vardas, pavardė, universiteto pavadinimas, pažymių vidurkis<br>\n",
    "Išveskite visus studentus, atspausdinkite studentus su f stringu<br>\n",
    "raskite studentus, kurių vidurkis didesnis už 5<br>\n",
    "raskite studentus, kurių vidurkis mažesnis už 5"
   ]
  },
  {
   "cell_type": "code",
   "execution_count": 21,
   "metadata": {},
   "outputs": [
    {
     "name": "stdout",
     "output_type": "stream",
     "text": [
      "Visi studentai:\n",
      "ID: 1, Vardas: Jonas, Pavardė: Kazlauskas, Universitetas: VU, Vidurkis: 6.7\n",
      "ID: 2, Vardas: Eglė, Pavardė: Petrauskaitė, Universitetas: KTU, Vidurkis: 8.2\n",
      "ID: 3, Vardas: Mantas, Pavardė: Jankauskas, Universitetas: VDU, Vidurkis: 4.9\n",
      "ID: 4, Vardas: Aistė, Pavardė: Žukauskaitė, Universitetas: ISM, Vidurkis: 9.1\n",
      "ID: 5, Vardas: Dovydas, Pavardė: Butkus, Universitetas: VU, Vidurkis: 5.3\n",
      "\n",
      "Studentai su vidurkiu > 5:\n",
      "ID: 1, Vardas: Jonas, Pavardė: Kazlauskas, Universitetas: VU, Vidurkis: 6.7\n",
      "ID: 2, Vardas: Eglė, Pavardė: Petrauskaitė, Universitetas: KTU, Vidurkis: 8.2\n",
      "ID: 4, Vardas: Aistė, Pavardė: Žukauskaitė, Universitetas: ISM, Vidurkis: 9.1\n",
      "ID: 5, Vardas: Dovydas, Pavardė: Butkus, Universitetas: VU, Vidurkis: 5.3\n",
      "\n",
      "Studentai su vidurkiu < 5:\n",
      "ID: 3, Vardas: Mantas, Pavardė: Jankauskas, Universitetas: VDU, Vidurkis: 4.9\n"
     ]
    }
   ],
   "source": [
    "# Pakartotinai sukuriame duomenų bazę ir atliekame veiksmus\n",
    "conn = sqlite3.connect(\":memory:\")\n",
    "cursor = conn.cursor()\n",
    "\n",
    "# Sukuriame studentų lentelę\n",
    "cursor.execute('''\n",
    "    CREATE TABLE studentai (\n",
    "        id INTEGER PRIMARY KEY AUTOINCREMENT,\n",
    "        vardas TEXT NOT NULL,\n",
    "        pavarde TEXT NOT NULL,\n",
    "        universitetas TEXT NOT NULL,\n",
    "        vidurkis REAL NOT NULL\n",
    "    )\n",
    "''')\n",
    "\n",
    "# Įdedame keletą studentų į duomenų bazę\n",
    "studentai_data = [\n",
    "    (\"Jonas\", \"Kazlauskas\", \"VU\", 6.7),\n",
    "    (\"Eglė\", \"Petrauskaitė\", \"KTU\", 8.2),\n",
    "    (\"Mantas\", \"Jankauskas\", \"VDU\", 4.9),\n",
    "    (\"Aistė\", \"Žukauskaitė\", \"ISM\", 9.1),\n",
    "    (\"Dovydas\", \"Butkus\", \"VU\", 5.3)\n",
    "]\n",
    "\n",
    "cursor.executemany(\"INSERT INTO studentai (vardas, pavarde, universitetas, vidurkis) VALUES (?, ?, ?, ?)\", studentai_data)\n",
    "conn.commit()\n",
    "\n",
    "# Išrenkame visus studentus\n",
    "cursor.execute(\"SELECT * FROM studentai\")\n",
    "studentai = cursor.fetchall()\n",
    "\n",
    "# Atspausdiname visus studentus naudojant f-string ir for in\n",
    "print(\"Visi studentai:\")\n",
    "for studentas in studentai:\n",
    "    print(f\"ID: {studentas[0]}, Vardas: {studentas[1]}, Pavardė: {studentas[2]}, Universitetas: {studentas[3]}, Vidurkis: {studentas[4]}\")\n",
    "\n",
    "# Randame studentus, kurių vidurkis didesnis už 5\n",
    "cursor.execute(\"SELECT * FROM studentai WHERE vidurkis > 5\")\n",
    "studentai_daugiau_uz_5 = cursor.fetchall()\n",
    "\n",
    "# Atspausdiname studentus su vidurkiu > 5\n",
    "print(\"\\nStudentai su vidurkiu > 5:\")\n",
    "for studentas in studentai_daugiau_uz_5:\n",
    "    print(f\"ID: {studentas[0]}, Vardas: {studentas[1]}, Pavardė: {studentas[2]}, Universitetas: {studentas[3]}, Vidurkis: {studentas[4]}\")\n",
    "\n",
    "# Randame studentus, kurių vidurkis mažesnis už 5\n",
    "cursor.execute(\"SELECT * FROM studentai WHERE vidurkis < 5\")\n",
    "studentai_maziau_uz_5 = cursor.fetchall()\n",
    "\n",
    "# Atspausdiname studentus su vidurkiu < 5\n",
    "print(\"\\nStudentai su vidurkiu < 5:\")\n",
    "for studentas in studentai_maziau_uz_5:\n",
    "    print(f\"ID: {studentas[0]}, Vardas: {studentas[1]}, Pavardė: {studentas[2]}, Universitetas: {studentas[3]}, Vidurkis: {studentas[4]}\")\n",
    "\n",
    "# Uždaryti prisijungimą prie DB\n",
    "conn.close()\n"
   ]
  },
  {
   "cell_type": "markdown",
   "metadata": {},
   "source": [
    "## Užduotis 3\n",
    "\n",
    "Sukurkite sąrašą, talpinantį dictionaries su parduotuvės informacija (pavadinimas, adresas)<br>\n",
    "sukurkite db pavadinimu parduotuvės<br>\n",
    "iteruodami per sąrašą įkelkite kiekvieną parduotuvę į db<br>\n",
    "išveskite db duomenis"
   ]
  },
  {
   "cell_type": "code",
   "execution_count": 22,
   "metadata": {},
   "outputs": [
    {
     "name": "stdout",
     "output_type": "stream",
     "text": [
      "Parduotuvių sąrašas:\n",
      "ID: 1, Pavadinimas: Maxima, Adresas: Gedimino pr. 9, Vilnius\n",
      "ID: 2, Pavadinimas: Iki, Adresas: Savanorių pr. 12, Kaunas\n",
      "ID: 3, Pavadinimas: Lidl, Adresas: Klaipėdos g. 5, Klaipėda\n",
      "ID: 4, Pavadinimas: Rimi, Adresas: Vytauto g. 30, Panevėžys\n",
      "ID: 5, Pavadinimas: Norfa, Adresas: Taikos pr. 40, Šiauliai\n"
     ]
    }
   ],
   "source": [
    "# Sukuriame sąrašą su parduotuvių informacija\n",
    "parduotuves_list = [\n",
    "    {\"pavadinimas\": \"Maxima\", \"adresas\": \"Gedimino pr. 9, Vilnius\"},\n",
    "    {\"pavadinimas\": \"Iki\", \"adresas\": \"Savanorių pr. 12, Kaunas\"},\n",
    "    {\"pavadinimas\": \"Lidl\", \"adresas\": \"Klaipėdos g. 5, Klaipėda\"},\n",
    "    {\"pavadinimas\": \"Rimi\", \"adresas\": \"Vytauto g. 30, Panevėžys\"},\n",
    "    {\"pavadinimas\": \"Norfa\", \"adresas\": \"Taikos pr. 40, Šiauliai\"}\n",
    "]\n",
    "\n",
    "# Sukuriame duomenų bazę atmintyje\n",
    "conn = sqlite3.connect(\":memory:\")\n",
    "cursor = conn.cursor()\n",
    "\n",
    "# Sukuriame parduotuvių lentelę\n",
    "cursor.execute('''\n",
    "    CREATE TABLE parduotuves (\n",
    "        id INTEGER PRIMARY KEY AUTOINCREMENT,\n",
    "        pavadinimas TEXT NOT NULL,\n",
    "        adresas TEXT NOT NULL\n",
    "    )\n",
    "''')\n",
    "\n",
    "# Iteruojame per sąrašą ir įkeliame parduotuves į DB\n",
    "for parduotuve in parduotuves_list:\n",
    "    cursor.execute(\"INSERT INTO parduotuves (pavadinimas, adresas) VALUES (?, ?)\",\n",
    "                   (parduotuve[\"pavadinimas\"], parduotuve[\"adresas\"]))\n",
    "\n",
    "conn.commit()\n",
    "\n",
    "# Išrenkame visus parduotuvių duomenis\n",
    "cursor.execute(\"SELECT * FROM parduotuves\")\n",
    "parduotuves = cursor.fetchall()\n",
    "\n",
    "# Atspausdiname visas parduotuves naudojant for in\n",
    "print(\"Parduotuvių sąrašas:\")\n",
    "for parduotuve in parduotuves:\n",
    "    print(f\"ID: {parduotuve[0]}, Pavadinimas: {parduotuve[1]}, Adresas: {parduotuve[2]}\")\n",
    "\n",
    "# Uždaryti prisijungimą prie DB\n",
    "conn.close()\n"
   ]
  }
 ],
 "metadata": {
  "kernelspec": {
   "display_name": "mokymai",
   "language": "python",
   "name": "python3"
  },
  "language_info": {
   "codemirror_mode": {
    "name": "ipython",
    "version": 3
   },
   "file_extension": ".py",
   "mimetype": "text/x-python",
   "name": "python",
   "nbconvert_exporter": "python",
   "pygments_lexer": "ipython3",
   "version": "3.13.1"
  }
 },
 "nbformat": 4,
 "nbformat_minor": 2
}
