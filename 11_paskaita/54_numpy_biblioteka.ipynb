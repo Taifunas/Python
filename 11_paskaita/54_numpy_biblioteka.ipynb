{
 "cells": [
  {
   "cell_type": "markdown",
   "metadata": {
    "id": "TK_pPsXOIOqM"
   },
   "source": [
    "# Importuojam numpy"
   ]
  },
  {
   "cell_type": "code",
   "execution_count": 3,
   "metadata": {
    "executionInfo": {
     "elapsed": 8,
     "status": "ok",
     "timestamp": 1688578888054,
     "user": {
      "displayName": "Ieva Jaksaityte",
      "userId": "00831868984698131417"
     },
     "user_tz": -180
    },
    "id": "Wua6sjKZIOqR"
   },
   "outputs": [],
   "source": [
    "import numpy as np"
   ]
  },
  {
   "cell_type": "markdown",
   "metadata": {
    "id": "GfhR_oYaIOqU"
   },
   "source": [
    "# Pagrindai"
   ]
  },
  {
   "cell_type": "code",
   "execution_count": 1,
   "metadata": {},
   "outputs": [
    {
     "name": "stdout",
     "output_type": "stream",
     "text": [
      "[1, 2, 3]\n"
     ]
    }
   ],
   "source": [
    "pirmas_sarasas=[1,2,3]\n",
    "print(pirmas_sarasas)"
   ]
  },
  {
   "cell_type": "code",
   "execution_count": 4,
   "metadata": {},
   "outputs": [
    {
     "name": "stdout",
     "output_type": "stream",
     "text": [
      "[1 2 3]\n"
     ]
    }
   ],
   "source": [
    "a=np.array([1,2,3])\n",
    "print(a)"
   ]
  },
  {
   "cell_type": "code",
   "execution_count": 5,
   "metadata": {},
   "outputs": [
    {
     "data": {
      "text/plain": [
       "[1, 2, 3, 1, 2, 3]"
      ]
     },
     "execution_count": 5,
     "metadata": {},
     "output_type": "execute_result"
    }
   ],
   "source": [
    "sarasas=[1,2,3]\n",
    "\n",
    "sarasas+sarasas"
   ]
  },
  {
   "cell_type": "code",
   "execution_count": 9,
   "metadata": {
    "id": "WZCfvMauIOqV",
    "outputId": "70ee2cd7-0799-417f-e76a-14809508e4f9"
   },
   "outputs": [
    {
     "name": "stdout",
     "output_type": "stream",
     "text": [
      "[2 4 6]\n",
      "[ 6 12 18]\n"
     ]
    }
   ],
   "source": [
    "a=np.array([1,2,3])\n",
    "a= a+a\n",
    "print(a)\n",
    "\n",
    "a=a*3\n",
    "print(a)"
   ]
  },
  {
   "cell_type": "code",
   "execution_count": 13,
   "metadata": {},
   "outputs": [
    {
     "name": "stdout",
     "output_type": "stream",
     "text": [
      "[[1 2 3]\n",
      " [4 5 6]\n",
      " [7 8 9]]\n",
      "(3, 3)\n",
      "<class 'numpy.ndarray'>\n"
     ]
    }
   ],
   "source": [
    "a=np.array([\n",
    "    [1,2,3],\n",
    "    [4,5,6],\n",
    "    [7,8,9]\n",
    "])\n",
    "\n",
    "print(a)\n",
    "print(a.shape)\n",
    "print(type(a))"
   ]
  },
  {
   "cell_type": "code",
   "execution_count": 14,
   "metadata": {
    "id": "H-iZegOyIOqZ",
    "outputId": "77e2be90-de73-4369-9f6b-c537c6812e75"
   },
   "outputs": [
    {
     "name": "stdout",
     "output_type": "stream",
     "text": [
      "[[1 2 3]\n",
      " [4 5 6]\n",
      " [7 8 9]]\n",
      "2\n"
     ]
    }
   ],
   "source": [
    "a=np.array([\n",
    "    [1,2,3],\n",
    "    [4,5,6],\n",
    "    [7,8,9]\n",
    "])\n",
    "\n",
    "print(a)\n",
    "print(a.ndim)"
   ]
  },
  {
   "cell_type": "code",
   "execution_count": 15,
   "metadata": {
    "id": "LqDc6F3LIOqe",
    "outputId": "aa3259f8-240a-49f3-e186-c73b0191e1b6"
   },
   "outputs": [
    {
     "data": {
      "text/plain": [
       "9"
      ]
     },
     "execution_count": 15,
     "metadata": {},
     "output_type": "execute_result"
    }
   ],
   "source": [
    "a=np.array([\n",
    "    [1,2,3],\n",
    "    [4,5,6],\n",
    "    [7,8,9]\n",
    "])\n",
    "\n",
    "a.size"
   ]
  },
  {
   "cell_type": "code",
   "execution_count": null,
   "metadata": {
    "id": "28nQuo7uIOqi",
    "outputId": "9fc47316-fa2c-4780-ec12-1cc3b80d7d04"
   },
   "outputs": [],
   "source": []
  },
  {
   "cell_type": "markdown",
   "metadata": {
    "id": "t7_bpq5hIOql"
   },
   "source": [
    "# Gauname informaciją, pakeičiame norimus elementus"
   ]
  },
  {
   "cell_type": "code",
   "execution_count": 17,
   "metadata": {
    "id": "h0Ndz_1RIOqo",
    "outputId": "a2a59080-c9dd-42cd-d702-4ab03865d3da"
   },
   "outputs": [
    {
     "name": "stdout",
     "output_type": "stream",
     "text": [
      "(2, 8)\n",
      "2\n"
     ]
    }
   ],
   "source": [
    "a=np.array(\n",
    "    [\n",
    "        [1,2,3,4,5,6,7,8],\n",
    "        [9,10,11,12,13,14,15,16]\n",
    "    ]\n",
    ")\n",
    "\n",
    "print(a.shape)\n",
    "print(a[0,1])"
   ]
  },
  {
   "cell_type": "code",
   "execution_count": 21,
   "metadata": {
    "id": "IOwXi4I9IOqq",
    "outputId": "07c94ec8-b55e-4d26-f608-90fe2419d999"
   },
   "outputs": [
    {
     "name": "stdout",
     "output_type": "stream",
     "text": [
      "[2 3 4]\n",
      "[[3 4]\n",
      " [8 9]]\n",
      "[[ 1  3  5]\n",
      " [11 13 15]]\n"
     ]
    }
   ],
   "source": [
    "a=np.array(\n",
    "    [\n",
    "        [1,2,3,4,5],\n",
    "        [6,7,8,9,10],\n",
    "        [11,12,13,14,15],\n",
    "        [16,17,18,19,20]\n",
    "    ]\n",
    ")\n",
    "\n",
    "print(a[0,1:4])\n",
    "print(a[0:2,2:4])\n",
    "print(a[0::2, 0:10:2])"
   ]
  },
  {
   "cell_type": "code",
   "execution_count": 22,
   "metadata": {
    "id": "lk7sIjZjIOqs",
    "outputId": "3472b3bb-cf69-43e6-dd83-c010f71c27c2"
   },
   "outputs": [
    {
     "name": "stdout",
     "output_type": "stream",
     "text": [
      "[[  1   2   3   4   5]\n",
      " [  6   7 999   9  10]\n",
      " [ 11  12  13  14  15]\n",
      " [ 16  17  18  19  20]]\n"
     ]
    }
   ],
   "source": [
    "a=np.array(\n",
    "    [\n",
    "        [1,2,3,4,5],\n",
    "        [6,7,8,9,10],\n",
    "        [11,12,13,14,15],\n",
    "        [16,17,18,19,20]\n",
    "    ]\n",
    ")\n",
    "\n",
    "a[1,2]=999\n",
    "print(a)"
   ]
  },
  {
   "cell_type": "code",
   "execution_count": 23,
   "metadata": {
    "id": "fAFv1_3KIOqs",
    "outputId": "460aa692-d382-470b-aa37-7f3f8ecf732a"
   },
   "outputs": [
    {
     "name": "stdout",
     "output_type": "stream",
     "text": [
      "[[10  2 10  4 10]\n",
      " [10  7 10  9 10]\n",
      " [10 12 10 14 10]\n",
      " [10 17 10 19 10]]\n"
     ]
    }
   ],
   "source": [
    "a=np.array(\n",
    "    [\n",
    "        [1,2,3,4,5],\n",
    "        [6,7,8,9,10],\n",
    "        [11,12,13,14,15],\n",
    "        [16,17,18,19,20]\n",
    "    ]\n",
    ")\n",
    "\n",
    "a[0:,::2]=10\n",
    "print(a)"
   ]
  },
  {
   "cell_type": "code",
   "execution_count": 25,
   "metadata": {
    "id": "-29SjLa_IOqt",
    "outputId": "ea087245-6149-4887-819d-6b8874dce876"
   },
   "outputs": [
    {
     "name": "stdout",
     "output_type": "stream",
     "text": [
      "[[ 1  2 10 10  5]\n",
      " [ 6  7  8  9 10]\n",
      " [11 12 13 14 15]\n",
      " [16 17 18 19 20]]\n"
     ]
    }
   ],
   "source": [
    "a=np.array(\n",
    "    [\n",
    "        [1,2,3,4,5],\n",
    "        [6,7,8,9,10],\n",
    "        [11,12,13,14,15],\n",
    "        [16,17,18,19,20]\n",
    "    ]\n",
    ")\n",
    "\n",
    "#vienu metu ideti kelis skaicius\n",
    "\n",
    "a[0,2:4] = [10,20]\n",
    "print(a)"
   ]
  },
  {
   "cell_type": "code",
   "execution_count": null,
   "metadata": {
    "id": "CX1x-j_1IOqu",
    "outputId": "a665f77b-3a9c-4f52-e16e-528560492e03"
   },
   "outputs": [],
   "source": []
  },
  {
   "cell_type": "code",
   "execution_count": null,
   "metadata": {
    "id": "BUakyFYOIOqv",
    "outputId": "4b78025f-1d10-47f4-a8ba-ecee55e3af50"
   },
   "outputs": [],
   "source": []
  },
  {
   "cell_type": "code",
   "execution_count": null,
   "metadata": {
    "id": "YHTgE2HQIOqv",
    "outputId": "6ed9caf8-8caf-4f9a-dfe3-eb094b46e4b4"
   },
   "outputs": [],
   "source": []
  },
  {
   "cell_type": "markdown",
   "metadata": {
    "id": "P1O53UAHIOqw"
   },
   "source": [
    "3d pavyzdys"
   ]
  },
  {
   "cell_type": "code",
   "execution_count": 27,
   "metadata": {
    "id": "qhzQQt5TIOqw",
    "outputId": "a6e2e5ac-b298-415b-998a-80777615e4de"
   },
   "outputs": [
    {
     "name": "stdout",
     "output_type": "stream",
     "text": [
      "[[[1 2]\n",
      "  [3 4]]\n",
      "\n",
      " [[5 6]\n",
      "  [7 8]]]\n",
      "(2, 2, 2)\n",
      "3\n"
     ]
    }
   ],
   "source": [
    "b=np.array([\n",
    "    [[1,2],[3,4]],\n",
    "    [[5,6],[7,8]]\n",
    "])\n",
    "\n",
    "print(b)\n",
    "print(b.shape)\n",
    "print(b.ndim)"
   ]
  },
  {
   "cell_type": "code",
   "execution_count": 31,
   "metadata": {
    "id": "-XJYtygIIOqx",
    "outputId": "fa94f50c-fedc-4d00-cda5-e7a49f8d4fdd"
   },
   "outputs": [
    {
     "name": "stdout",
     "output_type": "stream",
     "text": [
      "7\n",
      "4\n"
     ]
    }
   ],
   "source": [
    "b=np.array([\n",
    "    [[1,2],[3,4]],\n",
    "    [[5,6],[7,8]]\n",
    "])\n",
    "\n",
    "print(b[1, 1, 0])\n",
    "print(b[0,1,1])"
   ]
  },
  {
   "cell_type": "code",
   "execution_count": null,
   "metadata": {
    "id": "QTX5-PwVIOqy",
    "outputId": "8fe24864-dd40-4dfb-f861-34d0897a081b"
   },
   "outputs": [],
   "source": [
    "b=np.array([\n",
    "    [[1,2],[3,4]],\n",
    "    [[5,6],[7,8]]\n",
    "])"
   ]
  },
  {
   "cell_type": "code",
   "execution_count": 32,
   "metadata": {
    "id": "TcE3vs2oIOqz",
    "outputId": "4546e17b-ac72-4d4d-cbcf-55b2a7ae9919"
   },
   "outputs": [
    {
     "name": "stdout",
     "output_type": "stream",
     "text": [
      "[[[ 1  2]\n",
      "  [ 3  4]]\n",
      "\n",
      " [[10 10]\n",
      "  [ 7  8]]]\n"
     ]
    }
   ],
   "source": [
    "b=np.array([\n",
    "    [[1,2],[3,4]],\n",
    "    [[5,6],[7,8]]\n",
    "])\n",
    "\n",
    "b[1,0, :] = [10]\n",
    "print(b)"
   ]
  },
  {
   "cell_type": "markdown",
   "metadata": {
    "id": "WCfc1_35IOq0"
   },
   "source": [
    "# Sukuriame skirtingų tipų sąrašus/masyvus"
   ]
  },
  {
   "cell_type": "code",
   "execution_count": 33,
   "metadata": {
    "id": "A_6W7NKMIOq0"
   },
   "outputs": [
    {
     "name": "stdout",
     "output_type": "stream",
     "text": [
      "[0. 0. 0. 0. 0. 0. 0. 0. 0. 0.]\n"
     ]
    }
   ],
   "source": [
    "a=np.zeros(10)\n",
    "a.dtype\n",
    "print(a)"
   ]
  },
  {
   "cell_type": "code",
   "execution_count": 34,
   "metadata": {
    "id": "vTUhtgaaIOq1"
   },
   "outputs": [
    {
     "data": {
      "text/plain": [
       "array([[0., 0., 0.],\n",
       "       [0., 0., 0.]])"
      ]
     },
     "execution_count": 34,
     "metadata": {},
     "output_type": "execute_result"
    }
   ],
   "source": [
    "np.zeros((2,3))"
   ]
  },
  {
   "cell_type": "code",
   "execution_count": 35,
   "metadata": {
    "id": "Etz68DN9IOq2"
   },
   "outputs": [
    {
     "data": {
      "text/plain": [
       "array([[[0., 0., 0.],\n",
       "        [0., 0., 0.]],\n",
       "\n",
       "       [[0., 0., 0.],\n",
       "        [0., 0., 0.]],\n",
       "\n",
       "       [[0., 0., 0.],\n",
       "        [0., 0., 0.]],\n",
       "\n",
       "       [[0., 0., 0.],\n",
       "        [0., 0., 0.]]])"
      ]
     },
     "execution_count": 35,
     "metadata": {},
     "output_type": "execute_result"
    }
   ],
   "source": [
    "np.zeros((4,2,3)) #4 eilutes 2 nariai 3 reiksmes"
   ]
  },
  {
   "cell_type": "code",
   "execution_count": 36,
   "metadata": {
    "id": "qq3hxpO3IOq2"
   },
   "outputs": [
    {
     "data": {
      "text/plain": [
       "array([[[1., 1.],\n",
       "        [1., 1.],\n",
       "        [1., 1.]],\n",
       "\n",
       "       [[1., 1.],\n",
       "        [1., 1.],\n",
       "        [1., 1.]]])"
      ]
     },
     "execution_count": 36,
     "metadata": {},
     "output_type": "execute_result"
    }
   ],
   "source": [
    "np.ones((2,3,2))"
   ]
  },
  {
   "cell_type": "code",
   "execution_count": 37,
   "metadata": {
    "id": "N1RGJsvBIOq5"
   },
   "outputs": [
    {
     "data": {
      "text/plain": [
       "array([[99, 99],\n",
       "       [99, 99]])"
      ]
     },
     "execution_count": 37,
     "metadata": {},
     "output_type": "execute_result"
    }
   ],
   "source": [
    "np.full((2,2),99)"
   ]
  },
  {
   "cell_type": "code",
   "execution_count": 38,
   "metadata": {
    "id": "jza8o92nIOrA"
   },
   "outputs": [
    {
     "data": {
      "text/plain": [
       "array([[0.91108338, 0.75010848],\n",
       "       [0.25246151, 0.38910811],\n",
       "       [0.19887488, 0.43952577],\n",
       "       [0.69123883, 0.22023685]])"
      ]
     },
     "execution_count": 38,
     "metadata": {},
     "output_type": "execute_result"
    }
   ],
   "source": [
    "np.random.rand(4,2)"
   ]
  },
  {
   "cell_type": "code",
   "execution_count": 39,
   "metadata": {
    "id": "oX4diGRxIOrG"
   },
   "outputs": [
    {
     "data": {
      "text/plain": [
       "array([[[0.03282225, 0.45510569, 0.14094397],\n",
       "        [0.00727087, 0.28605482, 0.95320762]],\n",
       "\n",
       "       [[0.04375917, 0.74744459, 0.58446792],\n",
       "        [0.85302639, 0.23139737, 0.19711359]],\n",
       "\n",
       "       [[0.36418917, 0.09577404, 0.49011625],\n",
       "        [0.65127554, 0.99812759, 0.87744749]],\n",
       "\n",
       "       [[0.24393057, 0.65063438, 0.27825175],\n",
       "        [0.69261389, 0.00812444, 0.3550711 ]]])"
      ]
     },
     "execution_count": 39,
     "metadata": {},
     "output_type": "execute_result"
    }
   ],
   "source": [
    "np.random.rand(4,2,3)"
   ]
  },
  {
   "cell_type": "code",
   "execution_count": 40,
   "metadata": {},
   "outputs": [
    {
     "data": {
      "text/plain": [
       "array([[5, 1, 3],\n",
       "       [4, 6, 0],\n",
       "       [8, 9, 1]], dtype=int32)"
      ]
     },
     "execution_count": 40,
     "metadata": {},
     "output_type": "execute_result"
    }
   ],
   "source": [
    "np.random.randint(10, size=(3,3))"
   ]
  },
  {
   "cell_type": "code",
   "execution_count": null,
   "metadata": {},
   "outputs": [],
   "source": []
  },
  {
   "cell_type": "markdown",
   "metadata": {
    "id": "S7sHPPo1IOrS"
   },
   "source": [
    "# Matematika"
   ]
  },
  {
   "cell_type": "code",
   "execution_count": 41,
   "metadata": {
    "colab": {
     "base_uri": "https://localhost:8080/"
    },
    "executionInfo": {
     "elapsed": 7,
     "status": "ok",
     "timestamp": 1688578895310,
     "user": {
      "displayName": "Ieva Jaksaityte",
      "userId": "00831868984698131417"
     },
     "user_tz": -180
    },
    "id": "BHWM2xjEIOrS",
    "outputId": "3e9486cf-0af1-4456-e549-842bfaba58f7"
   },
   "outputs": [
    {
     "name": "stdout",
     "output_type": "stream",
     "text": [
      "[1 2 3 4]\n"
     ]
    }
   ],
   "source": [
    "a=np.array([1,2,3,4])\n",
    "print(a)"
   ]
  },
  {
   "cell_type": "code",
   "execution_count": 43,
   "metadata": {
    "colab": {
     "base_uri": "https://localhost:8080/"
    },
    "executionInfo": {
     "elapsed": 373,
     "status": "ok",
     "timestamp": 1688578899389,
     "user": {
      "displayName": "Ieva Jaksaityte",
      "userId": "00831868984698131417"
     },
     "user_tz": -180
    },
    "id": "jOCfCfIQIOrT",
    "outputId": "b1396dc0-cf1d-4eb3-c861-08d8d2a29555"
   },
   "outputs": [
    {
     "name": "stdout",
     "output_type": "stream",
     "text": [
      "[3 4 5 6]\n"
     ]
    }
   ],
   "source": [
    "a=np.array([1,2,3,4])\n",
    "a=a+2\n",
    "print(a)"
   ]
  },
  {
   "cell_type": "code",
   "execution_count": 44,
   "metadata": {
    "colab": {
     "base_uri": "https://localhost:8080/"
    },
    "executionInfo": {
     "elapsed": 399,
     "status": "ok",
     "timestamp": 1688578907609,
     "user": {
      "displayName": "Ieva Jaksaityte",
      "userId": "00831868984698131417"
     },
     "user_tz": -180
    },
    "id": "uMlg0-NhIOrT",
    "outputId": "7843314b-ef77-41e1-8208-999b807fa9cb"
   },
   "outputs": [
    {
     "data": {
      "text/plain": [
       "array([-1,  0,  1,  2])"
      ]
     },
     "execution_count": 44,
     "metadata": {},
     "output_type": "execute_result"
    }
   ],
   "source": [
    "a=np.array([1,2,3,4])\n",
    "a-2"
   ]
  },
  {
   "cell_type": "code",
   "execution_count": 45,
   "metadata": {
    "colab": {
     "base_uri": "https://localhost:8080/"
    },
    "executionInfo": {
     "elapsed": 370,
     "status": "ok",
     "timestamp": 1688578912188,
     "user": {
      "displayName": "Ieva Jaksaityte",
      "userId": "00831868984698131417"
     },
     "user_tz": -180
    },
    "id": "sWBh8DJnIOrT",
    "outputId": "d3a7558f-f9a7-4336-9f5d-9665a44972b7"
   },
   "outputs": [
    {
     "data": {
      "text/plain": [
       "array([2, 4, 6, 8])"
      ]
     },
     "execution_count": 45,
     "metadata": {},
     "output_type": "execute_result"
    }
   ],
   "source": [
    "a=np.array([1,2,3,4])\n",
    "a*2"
   ]
  },
  {
   "cell_type": "code",
   "execution_count": 46,
   "metadata": {
    "colab": {
     "base_uri": "https://localhost:8080/"
    },
    "executionInfo": {
     "elapsed": 36,
     "status": "ok",
     "timestamp": 1688578914743,
     "user": {
      "displayName": "Ieva Jaksaityte",
      "userId": "00831868984698131417"
     },
     "user_tz": -180
    },
    "id": "DxdfheC3IOrU",
    "outputId": "99807482-e905-4c83-b1eb-d98cd201dad7"
   },
   "outputs": [
    {
     "data": {
      "text/plain": [
       "array([0.5, 1. , 1.5, 2. ])"
      ]
     },
     "execution_count": 46,
     "metadata": {},
     "output_type": "execute_result"
    }
   ],
   "source": [
    "a=np.array([1,2,3,4])\n",
    "a/2"
   ]
  },
  {
   "cell_type": "code",
   "execution_count": 48,
   "metadata": {
    "colab": {
     "base_uri": "https://localhost:8080/"
    },
    "executionInfo": {
     "elapsed": 29,
     "status": "ok",
     "timestamp": 1688578940211,
     "user": {
      "displayName": "Ieva Jaksaityte",
      "userId": "00831868984698131417"
     },
     "user_tz": -180
    },
    "id": "WsttvRAVIOrV",
    "outputId": "faf6f04e-1719-475c-ddd0-6b8d599d8d22"
   },
   "outputs": [
    {
     "data": {
      "text/plain": [
       "array([ 6,  8, 10, 12])"
      ]
     },
     "execution_count": 48,
     "metadata": {},
     "output_type": "execute_result"
    }
   ],
   "source": [
    "a=np.array([1,2,3,4])\n",
    "b=np.array([5,6,7,8])\n",
    "a+b"
   ]
  },
  {
   "cell_type": "markdown",
   "metadata": {
    "id": "pv8c_pM1IOrh"
   },
   "source": [
    "Skaityti daugiau: https://docs.scipy.org/doc/numpy/reference/routines.math.html"
   ]
  },
  {
   "cell_type": "markdown",
   "metadata": {
    "id": "NxJvgTYUIOry"
   },
   "source": [
    "# Statistika"
   ]
  },
  {
   "cell_type": "code",
   "execution_count": 50,
   "metadata": {
    "id": "G70RDgthIOr1"
   },
   "outputs": [
    {
     "name": "stdout",
     "output_type": "stream",
     "text": [
      "1\n"
     ]
    }
   ],
   "source": [
    "a=np.array([1,2,3,4])\n",
    "np.min(a)\n",
    "print(np.min(a))"
   ]
  },
  {
   "cell_type": "code",
   "execution_count": 51,
   "metadata": {
    "id": "5P2Seju_IOr7"
   },
   "outputs": [
    {
     "data": {
      "text/plain": [
       "np.int64(8)"
      ]
     },
     "execution_count": 51,
     "metadata": {},
     "output_type": "execute_result"
    }
   ],
   "source": [
    "a=np.array([[1,2,3,4],[5,6,7,8]])\n",
    "np.max(a)"
   ]
  },
  {
   "cell_type": "code",
   "execution_count": 52,
   "metadata": {
    "id": "Nw6cY0baIOr-"
   },
   "outputs": [
    {
     "data": {
      "text/plain": [
       "array([10, 10, 15, 10])"
      ]
     },
     "execution_count": 52,
     "metadata": {},
     "output_type": "execute_result"
    }
   ],
   "source": [
    "a=np.array([\n",
    "    [9,10,5,4],\n",
    "    [10,2,4,1],\n",
    "    [5,6,7,7],\n",
    "    [3,1,15,10]\n",
    "    ])\n",
    "\n",
    "np.max(a,axis=0)"
   ]
  },
  {
   "cell_type": "code",
   "execution_count": 53,
   "metadata": {
    "id": "oOPyx2F4IOr_"
   },
   "outputs": [
    {
     "data": {
      "text/plain": [
       "array([10, 10,  7, 15])"
      ]
     },
     "execution_count": 53,
     "metadata": {},
     "output_type": "execute_result"
    }
   ],
   "source": [
    "a=np.array([\n",
    "    [9,10,5,4],\n",
    "    [10,2,4,1],\n",
    "    [5,6,7,7],\n",
    "    [3,1,15,10]\n",
    "    ])\n",
    "\n",
    "np.max(a,axis=1)"
   ]
  },
  {
   "cell_type": "code",
   "execution_count": 54,
   "metadata": {
    "id": "YqFEVq8pIOsC"
   },
   "outputs": [
    {
     "data": {
      "text/plain": [
       "array([[2, 4],\n",
       "       [6, 8]])"
      ]
     },
     "execution_count": 54,
     "metadata": {},
     "output_type": "execute_result"
    }
   ],
   "source": [
    "b = np.array([\n",
    "    [[1,2], [3,4]],\n",
    "    [[5,6], [7,8]]\n",
    "])\n",
    "\n",
    "np.max(b,axis=2)"
   ]
  },
  {
   "cell_type": "code",
   "execution_count": 56,
   "metadata": {
    "id": "5riufImKIOsD"
   },
   "outputs": [
    {
     "name": "stdout",
     "output_type": "stream",
     "text": [
      "36\n"
     ]
    },
    {
     "data": {
      "text/plain": [
       "array([28, 17, 25, 29])"
      ]
     },
     "execution_count": 56,
     "metadata": {},
     "output_type": "execute_result"
    }
   ],
   "source": [
    "b = np.array([\n",
    "    [[1,2], [3,4]],\n",
    "    [[5,6], [7,8]]\n",
    "])\n",
    "\n",
    "print(np.sum(b))\n",
    "\n",
    "a=np.array([\n",
    "    [9,10,5,4],\n",
    "    [10,2,4,1],\n",
    "    [5,6,7,7],\n",
    "    [3,1,15,10]\n",
    "    ])\n",
    "\n",
    "np.sum(a, axis=1)"
   ]
  },
  {
   "cell_type": "code",
   "execution_count": null,
   "metadata": {},
   "outputs": [],
   "source": []
  },
  {
   "cell_type": "markdown",
   "metadata": {
    "id": "uDd9KqZSIOsE"
   },
   "source": [
    "# Sąrašų/masyvų pertvarkymas"
   ]
  },
  {
   "cell_type": "markdown",
   "metadata": {
    "id": "yykuAtXuIOsE"
   },
   "source": [
    "Figūros pakeitimas (reshape)"
   ]
  },
  {
   "cell_type": "code",
   "execution_count": 60,
   "metadata": {
    "id": "wkISXfzZIOsF"
   },
   "outputs": [
    {
     "data": {
      "text/plain": [
       "array([[[1, 2],\n",
       "        [3, 4]],\n",
       "\n",
       "       [[5, 6],\n",
       "        [7, 8]]])"
      ]
     },
     "execution_count": 60,
     "metadata": {},
     "output_type": "execute_result"
    }
   ],
   "source": [
    "pradine=np.array([[1,2,3,4], [5,6,7,8]])\n",
    "pradine.shape\n",
    "pradine.reshape((8,1))\n",
    "pradine.reshape((2,2,2))"
   ]
  },
  {
   "cell_type": "code",
   "execution_count": null,
   "metadata": {
    "id": "weZIP_rBIOsG"
   },
   "outputs": [],
   "source": []
  },
  {
   "cell_type": "code",
   "execution_count": null,
   "metadata": {
    "id": "LKgaIVWzIOsG"
   },
   "outputs": [],
   "source": []
  },
  {
   "cell_type": "code",
   "execution_count": null,
   "metadata": {
    "id": "YRV8zw6aIOsH"
   },
   "outputs": [],
   "source": []
  },
  {
   "cell_type": "markdown",
   "metadata": {
    "id": "CRTRAs5oIOsI"
   },
   "source": [
    "Masyvų sujungimas"
   ]
  },
  {
   "cell_type": "code",
   "execution_count": 61,
   "metadata": {
    "id": "bY8SL1qtIOsJ"
   },
   "outputs": [
    {
     "data": {
      "text/plain": [
       "array([[1, 2, 3, 4],\n",
       "       [5, 6, 7, 8]])"
      ]
     },
     "execution_count": 61,
     "metadata": {},
     "output_type": "execute_result"
    }
   ],
   "source": [
    "m1=np.array([1,2,3,4])\n",
    "m2=np.array([5,6,7,8])\n",
    "\n",
    "np.vstack([m1,m2])"
   ]
  },
  {
   "cell_type": "code",
   "execution_count": null,
   "metadata": {
    "id": "L_tYKAJZIOsK"
   },
   "outputs": [],
   "source": []
  },
  {
   "cell_type": "markdown",
   "metadata": {
    "id": "1AJCtMnDIOsQ"
   },
   "source": [
    "# Įvairūs kiti dalykai"
   ]
  },
  {
   "cell_type": "markdown",
   "metadata": {
    "id": "QKqgR3MWIOsT"
   },
   "source": [
    "## Boolean kaukės (boolean masking) ir pažengęs indeksavimas (advanced indexing)"
   ]
  },
  {
   "cell_type": "code",
   "execution_count": 63,
   "metadata": {
    "id": "bid_O6ZTIOsT"
   },
   "outputs": [
    {
     "data": {
      "text/plain": [
       "array([1, 2, 3])"
      ]
     },
     "execution_count": 63,
     "metadata": {},
     "output_type": "execute_result"
    }
   ],
   "source": [
    "data=np.array([[1,2,3,4],[5,6,7,8]])\n",
    "data[data<4]"
   ]
  },
  {
   "cell_type": "code",
   "execution_count": 64,
   "metadata": {
    "id": "Kto32H2LIOsU"
   },
   "outputs": [
    {
     "data": {
      "text/plain": [
       "array([2, 3, 4])"
      ]
     },
     "execution_count": 64,
     "metadata": {},
     "output_type": "execute_result"
    }
   ],
   "source": [
    "indeksai=[1,2,3]\n",
    "\n",
    "a=np.array([1,2,3,4,5,6,7,8])\n",
    "\n",
    "a[indeksai]"
   ]
  },
  {
   "cell_type": "markdown",
   "metadata": {},
   "source": [
    "# Užduotys"
   ]
  },
  {
   "cell_type": "markdown",
   "metadata": {},
   "source": [
    "-  Sudaryti matricą(4,5) iš atsitiktinių skaičių.\n",
    "-  Ekrane atspausdinti:\n",
    "-  Antros eilutės, ketvirto stulpelio elemento reikšmę \n",
    "-  Trečią matricos stulpelį\n",
    "-  Paskutinę matricos eilutę"
   ]
  },
  {
   "cell_type": "code",
   "execution_count": 113,
   "metadata": {},
   "outputs": [
    {
     "name": "stdout",
     "output_type": "stream",
     "text": [
      "[[7 7 7 0 7]\n",
      " [9 4 4 8 9]\n",
      " [3 2 6 7 9]\n",
      " [3 5 4 7 5]]\n",
      "8\n",
      "[7 4 6 4]\n",
      "[3 5 4 7 5]\n"
     ]
    }
   ],
   "source": [
    "a=np.random.randint(10, size=(4,5))\n",
    "print(a)\n",
    "print(a[1,3])\n",
    "print(a[:,2])\n",
    "print(a[-1])\n"
   ]
  },
  {
   "cell_type": "markdown",
   "metadata": {},
   "source": [
    "Sudaryti matricą, kur eilučių ir stulpelių skaičių programa sukurtų Random principu.<br>\n",
    "Į ekraną išvesti matricą, eilučių, stulpelių skaičius ir matricos elementų skaičių"
   ]
  },
  {
   "cell_type": "code",
   "execution_count": 112,
   "metadata": {},
   "outputs": [
    {
     "name": "stdout",
     "output_type": "stream",
     "text": [
      "[[4 2 3 5 9 2 5 5]\n",
      " [0 7 7 8 0 4 7 1]\n",
      " [9 4 4 3 7 6 6 6]]\n",
      "(3, 8)\n",
      "2\n",
      "24\n"
     ]
    }
   ],
   "source": [
    "from random import randint\n",
    "a = np.random.randint(randint(1,10), size=(randint(1,10),randint(1,10)))\n",
    "print(a)\n",
    "print(a.shape)\n",
    "print(a.ndim)\n",
    "print(a.size)"
   ]
  }
 ],
 "metadata": {
  "colab": {
   "provenance": []
  },
  "kernelspec": {
   "display_name": "mokymai",
   "language": "python",
   "name": "python3"
  },
  "language_info": {
   "codemirror_mode": {
    "name": "ipython",
    "version": 3
   },
   "file_extension": ".py",
   "mimetype": "text/x-python",
   "name": "python",
   "nbconvert_exporter": "python",
   "pygments_lexer": "ipython3",
   "version": "3.13.1"
  }
 },
 "nbformat": 4,
 "nbformat_minor": 1
}
