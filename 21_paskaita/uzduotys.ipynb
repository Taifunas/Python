{
 "cells": [
  {
   "cell_type": "markdown",
   "metadata": {},
   "source": [
    "1. Jums duotas stringas: “Žalgiris, Anadolu Efes, Barcelona BC”. Pasinaudodami ciklų pagalba iš stringo ištraukite vieną atsitiktinį komandos pavadinimą. Rezultate kablelių ir tarpų neturi būti. \n",
    "Rezultato pvz: Anadolu Efes"
   ]
  },
  {
   "cell_type": "code",
   "execution_count": null,
   "metadata": {},
   "outputs": [
    {
     "name": "stdout",
     "output_type": "stream",
     "text": [
      "Anadolu Efes\n"
     ]
    }
   ],
   "source": [
    "import random\n",
    "\n",
    "stringas = \"Žalgiris, Anadolu Efes, Barcelona BC\"\n",
    "komandos = [komandos.strip() for komandos in stringas.split(\",\")]\n",
    "print(random.choice(komandos))\n"
   ]
  },
  {
   "cell_type": "markdown",
   "metadata": {},
   "source": [
    "2. Metam monetą. Monetos kritimo rezultatą imituojame pasinaudodami atsitiktinio skaičiaus generavimo funkcija. 0 reiškia herbą, o 1 - skaičius. Monetos metimo rezultatus terminale, atskiroje eilutėje: “S” jeigu iškrito skaičius ir “H” jeigu herbas. Suprogramuokite tris skirtingus scenarijus kai monetos metimą stabdome:\n",
    "a) Iškritus herbui; Pvz: SSSSSSSH\n",
    "b) Tris kartus iškritus herbui; Pvz SSSHSSHSSSH\n",
    "c) Tris kartus iš eilės iškritus herbui; SSHHSSHSHHH"
   ]
  },
  {
   "cell_type": "code",
   "execution_count": 24,
   "metadata": {},
   "outputs": [
    {
     "name": "stdout",
     "output_type": "stream",
     "text": [
      "Skaicius Skaicius Herbas \n",
      " --------------------------------------\n",
      "Skaicius Skaicius Skaicius Skaicius Skaicius Herbas Skaicius Skaicius Skaicius Herbas Skaicius Skaicius Herbas  \n",
      " -------------------------------------\n",
      "Herbas Skaicius Herbas Herbas Herbas "
     ]
    }
   ],
   "source": [
    "# a) Iškritus herbui\n",
    "\n",
    "while True:\n",
    "    metimas = random.randint(0, 1)\n",
    "    if metimas == 0:\n",
    "        print(\"Herbas \", end=\"\")\n",
    "        break\n",
    "    else:\n",
    "        print(\"Skaicius \", end=\"\")\n",
    "\n",
    "print('\\n --------------------------------------')\n",
    "# b)  Tris kartus iškritus herbui\n",
    "\n",
    "herbai = 0\n",
    "while herbai < 3:\n",
    "    metimas = random.randint(0, 1)\n",
    "    if metimas == 0:\n",
    "        print(\"Herbas \", end=\"\")\n",
    "        herbai += 1\n",
    "    else:\n",
    "        print(\"Skaicius \", end=\"\")\n",
    "print(' \\n -------------------------------------')\n",
    "# c) Tris kartus iš eilės iškritus herbui\n",
    "\n",
    "herbai3 = 0\n",
    "while herbai3 < 3:\n",
    "    metimas = random.randint(0, 1)\n",
    "    if metimas == 0:\n",
    "        print(\"Herbas \", end=\"\")\n",
    "        herbai3 += 1\n",
    "    else:\n",
    "        print(\"Skaicius \", end=\"\")\n",
    "        herbai3 = 0\n"
   ]
  },
  {
   "cell_type": "markdown",
   "metadata": {},
   "source": [
    "3. Sugeneruokite 300 atsitiktinių skaičių nuo 0 iki 300, atspausdinkite juos atskirtus tarpais vienoje eilutėje ir suskaičiuokite kiek tarp jų yra didesnių už 150.  Skaičiai didesni nei 275 turi būti atspausdinti skliausteliuose” [ ] “.\n"
   ]
  },
  {
   "cell_type": "code",
   "execution_count": 29,
   "metadata": {},
   "outputs": [
    {
     "name": "stdout",
     "output_type": "stream",
     "text": [
      "135 253 112 63 154 134 142 178 184 229 [300] [287] 133 117 35 179 101 194 [280] 86 148 144 232 158 29 137 10 [276] 54 150 124 98 55 125 40 133 235 15 183 55 132 274 [290] 166 94 9 199 193 113 194 46 259 94 2 236 35 70 170 62 [296] 209 131 152 143 24 138 211 168 33 [286] [281] 95 3 240 62 62 254 192 244 30 26 229 44 127 186 6 233 222 [284] 275 107 263 8 49 237 227 69 119 53 223 192 33 208 62 224 66 63 236 247 56 216 145 264 22 211 253 146 259 202 175 47 102 137 112 72 92 [285] 175 162 4 165 51 275 11 239 [281] 258 78 47 101 39 262 179 81 170 [292] 262 130 116 141 243 233 61 59 238 152 99 89 190 47 18 79 40 112 160 175 [284] 93 213 234 215 3 189 143 215 85 0 254 182 39 0 84 246 259 79 249 200 14 66 182 174 271 124 247 113 270 140 180 82 92 203 207 76 60 48 79 21 183 33 62 35 [284] 267 82 131 210 200 135 48 260 122 272 17 269 68 86 263 113 85 133 23 201 50 [297] [289] 106 194 182 185 243 6 15 194 193 25 251 270 148 [294] 107 [286] 96 200 54 175 100 103 62 176 220 3 105 47 142 228 42 7 141 210 271 109 83 94 117 [286] 62 179 179 177 129 144 184 172 1 155 188 123 258 252 38 70 200 268 257 244 6 75 16 [293] 2\n",
      "\n",
      "didesniu uz 150 yra : 141\n"
     ]
    }
   ],
   "source": [
    "random_skaiciai = [random.randint(0, 300) for _ in range(300)]\n",
    "\n",
    "didesni_uz_150 = sum(1 for sk in random_skaiciai if sk > 150)\n",
    "\n",
    "skaiciai = \" \".join(f\"[{sk}]\" if sk > 275 else str(sk) for sk in random_skaiciai)\n",
    "\n",
    "\n",
    "print(skaiciai)\n",
    "print(f\"\\ndidesniu uz 150 yra : {didesni_uz_150}\")\n"
   ]
  },
  {
   "cell_type": "markdown",
   "metadata": {},
   "source": [
    "4. Vienoje eilutėje atspausdinkite visus skaičius nuo 1 iki 3000, kurie dalijasi iš 77 be liekanos (remainder operatorius). Skaičius atskirkite kableliais. Po paskutinio skaičiaus kablelio neturi būti."
   ]
  },
  {
   "cell_type": "code",
   "execution_count": 37,
   "metadata": {},
   "outputs": [
    {
     "name": "stdout",
     "output_type": "stream",
     "text": [
      "['77', '154', '231', '308', '385', '462', '539', '616', '693', '770', '847', '924', '1001', '1078', '1155', '1232', '1309', '1386', '1463', '1540', '1617', '1694', '1771', '1848', '1925', '2002', '2079', '2156', '2233', '2310', '2387', '2464', '2541', '2618', '2695', '2772', '2849', '2926']\n",
      "77, 154, 231, 308, 385, 462, 539, 616, 693, 770, 847, 924, 1001, 1078, 1155, 1232, 1309, 1386, 1463, 1540, 1617, 1694, 1771, 1848, 1925, 2002, 2079, 2156, 2233, 2310, 2387, 2464, 2541, 2618, 2695, 2772, 2849, 2926\n"
     ]
    }
   ],
   "source": [
    "dalinasi_is_77 = [str(sk) for sk in range(1, 3001) if sk % 77 == 0]\n",
    "print(dalinasi_is_77)\n",
    "\n",
    "atskirimas_kableliais = \", \".join(dalinasi_is_77)\n",
    "print(atskirimas_kableliais)\n",
    "\n"
   ]
  },
  {
   "cell_type": "markdown",
   "metadata": {},
   "source": [
    "5. Jūs gavote užšifruotą žinutę: “vilniuscoljekhydgmfvhwipvopllndyuddcgxnleutsmprxqlcnxxthdhtpnutqocvtuanouumbkmlxexzmc”\n",
    "Surasti tai kas joje yra paslėpta jums padės varlė. Ji tupi ežero krante, o kiekviena raidė yra akmuo. Varlytė vienu šuoliu geba peršokti šešis akmenis. Su kiekvienu šuoliu priartėsite prie tikslo.\n",
    "Ką sako žinutė? v"
   ]
  },
  {
   "cell_type": "code",
   "execution_count": 42,
   "metadata": {},
   "outputs": [
    {
     "name": "stdout",
     "output_type": "stream",
     "text": [
      "vilniuscodingschool\n"
     ]
    }
   ],
   "source": [
    "zinute = \"jrgkjxvbsigdvifpjqyzlzxsxzjnvgojlziaofdfnufymsjqsxxyknqcchmpepoljekhydgmfvhwipvopllndyuddcgxnleutsmprxqlcnxxthdhtpnutqocvtuanouumbkmlxexzmc\"\n",
    "zodis = zinute[6::7]\n",
    "print(zodis)\n"
   ]
  }
 ],
 "metadata": {
  "kernelspec": {
   "display_name": "mokymai",
   "language": "python",
   "name": "python3"
  },
  "language_info": {
   "codemirror_mode": {
    "name": "ipython",
    "version": 3
   },
   "file_extension": ".py",
   "mimetype": "text/x-python",
   "name": "python",
   "nbconvert_exporter": "python",
   "pygments_lexer": "ipython3",
   "version": "3.13.1"
  }
 },
 "nbformat": 4,
 "nbformat_minor": 2
}
