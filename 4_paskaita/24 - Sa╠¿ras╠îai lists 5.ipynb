{
 "cells": [
  {
   "attachments": {},
   "cell_type": "markdown",
   "metadata": {},
   "source": [
    "# Sąrašai (`lists`) (5 dalis)"
   ]
  },
  {
   "attachments": {},
   "cell_type": "markdown",
   "metadata": {},
   "source": [
    "## Sąrašo skaidymas ir apjungimas\n",
    "\n",
    "Sąrašus galima sujungti į teksto eilutes ir teksto eilutes galima išskaidyti į sąrašus.\n",
    "\n",
    "- Kai norime `list` -> `str`, tuomet naudojame `join` metodą.\n",
    "- Kai norime `str` -> `list`, tuomet naudojame `split` metodą.\n",
    "\n",
    "## `join`\n",
    "\n",
    "`join` naudojame norėdami sąrašą sujungti į teksto eilutę.\n",
    "\n",
    "Sintaksė:\n",
    "\n",
    "```\n",
    "'<skirtukas tarp kiekvieno elemento>'.join(<sarasas>)\n",
    "```\n",
    "\n",
    "## `split`\n",
    "\n",
    "`split` naudojame norėdami teksto eilutę suskaidyti į sąrašą.\n",
    "\n",
    "Sintaksė:\n",
    "\n",
    "```\n",
    "<teksto eilutė>.split(<skirtukas pagal ką skelti>)\n",
    "```"
   ]
  },
  {
   "attachments": {},
   "cell_type": "markdown",
   "metadata": {},
   "source": [
    "## Pavyzdžiai"
   ]
  },
  {
   "cell_type": "code",
   "execution_count": 2,
   "metadata": {},
   "outputs": [
    {
     "name": "stdout",
     "output_type": "stream",
     "text": [
      "Petras\n",
      "['testas']\n",
      "5\n"
     ]
    }
   ],
   "source": [
    "zmones = ['Petras', 10, False, None, ['testas']]\n",
    "print(zmones[0])\n",
    "print(zmones[-1])\n",
    "print(len(zmones))"
   ]
  },
  {
   "cell_type": "code",
   "execution_count": 6,
   "metadata": {},
   "outputs": [
    {
     "name": "stdout",
     "output_type": "stream",
     "text": [
      "Labas mano vardas yra Juozas <class 'str'>\n"
     ]
    }
   ],
   "source": [
    "sarasas=['Labas','mano','vardas','yra','Juozas']\n",
    "sakinys= ' '.join(sarasas)\n",
    "print(sakinys, type(sakinys))"
   ]
  },
  {
   "cell_type": "code",
   "execution_count": 9,
   "metadata": {},
   "outputs": [
    {
     "name": "stdout",
     "output_type": "stream",
     "text": [
      "Labas mano vardas yra Juozas\n"
     ]
    }
   ],
   "source": [
    "sakinys=' '.join(['Labas','mano','vardas','yra','Juozas'])\n",
    "print(sakinys)"
   ]
  },
  {
   "cell_type": "code",
   "execution_count": 12,
   "metadata": {},
   "outputs": [
    {
     "name": "stdout",
     "output_type": "stream",
     "text": [
      "KaunasVilniusKlaipedaJonava\n",
      "Kaunas Vilnius Klaipeda Jonava\n"
     ]
    }
   ],
   "source": [
    "miestai= ['Kaunas', 'Vilnius','Klaipeda','Jonava']\n",
    "print(''.join(miestai))\n",
    "print(' '.join(miestai))"
   ]
  },
  {
   "cell_type": "code",
   "execution_count": 13,
   "metadata": {},
   "outputs": [
    {
     "ename": "TypeError",
     "evalue": "sequence item 0: expected str instance, int found",
     "output_type": "error",
     "traceback": [
      "\u001b[1;31m---------------------------------------------------------------------------\u001b[0m",
      "\u001b[1;31mTypeError\u001b[0m                                 Traceback (most recent call last)",
      "Cell \u001b[1;32mIn[13], line 2\u001b[0m\n\u001b[0;32m      1\u001b[0m skaiciai\u001b[38;5;241m=\u001b[39m[\u001b[38;5;241m5\u001b[39m,\u001b[38;5;241m10\u001b[39m,\u001b[38;5;241m12123\u001b[39m,\u001b[38;5;241m232\u001b[39m,\u001b[38;5;241m34345\u001b[39m]\n\u001b[1;32m----> 2\u001b[0m \u001b[38;5;28mprint\u001b[39m(\u001b[38;5;124;43m'\u001b[39;49m\u001b[38;5;124;43m,\u001b[39;49m\u001b[38;5;124;43m'\u001b[39;49m\u001b[38;5;241;43m.\u001b[39;49m\u001b[43mjoin\u001b[49m\u001b[43m(\u001b[49m\u001b[43mskaiciai\u001b[49m\u001b[43m)\u001b[49m)\n",
      "\u001b[1;31mTypeError\u001b[0m: sequence item 0: expected str instance, int found"
     ]
    }
   ],
   "source": [
    "skaiciai=[5,10,12123,232,34345]\n",
    "print(','.join(skaiciai))"
   ]
  },
  {
   "cell_type": "code",
   "execution_count": 19,
   "metadata": {},
   "outputs": [
    {
     "name": "stdout",
     "output_type": "stream",
     "text": [
      "5,10,12123,232,34345 <class 'str'>\n",
      "<map object at 0x00000289A056E0E0>\n",
      "['5', '10', '12123', '232', '34345']\n"
     ]
    }
   ],
   "source": [
    "skaiciai=[5,10,12123,232,34345]\n",
    "skaiciai_tekste=','.join(map(str, skaiciai))\n",
    "print(skaiciai_tekste, type(skaiciai_tekste))\n",
    "print(map(str, skaiciai))\n",
    "print(list(map(str, skaiciai)))"
   ]
  },
  {
   "cell_type": "code",
   "execution_count": 21,
   "metadata": {},
   "outputs": [
    {
     "name": "stdout",
     "output_type": "stream",
     "text": [
      "5,10,12123,232,34345\n"
     ]
    }
   ],
   "source": [
    "skaiciai=[5,10,12123,232,34345]\n",
    "skaiciai_tekste=','.join([str(skaicius) for skaicius in skaiciai])\n",
    "print(skaiciai_tekste)"
   ]
  },
  {
   "cell_type": "code",
   "execution_count": null,
   "metadata": {},
   "outputs": [],
   "source": []
  },
  {
   "cell_type": "code",
   "execution_count": null,
   "metadata": {},
   "outputs": [],
   "source": []
  },
  {
   "cell_type": "code",
   "execution_count": null,
   "metadata": {},
   "outputs": [],
   "source": []
  },
  {
   "cell_type": "code",
   "execution_count": null,
   "metadata": {},
   "outputs": [],
   "source": []
  },
  {
   "attachments": {},
   "cell_type": "markdown",
   "metadata": {},
   "source": [
    "## Užduotys"
   ]
  },
  {
   "attachments": {},
   "cell_type": "markdown",
   "metadata": {},
   "source": [
    "### Užduotis 1\n",
    "\n",
    "Susikurkite žodžių sąrašą su duomenimis. Išveskite šį sąrašą šiais pavidalais:\n",
    "\n",
    "- Kiekvieną žodį atskirant kableliu ir tarpu: `pirmas, antras, trečias, ...`\n",
    "- Kiekvieną žodį atskiriant vertikaliu brūkšneliu: `pirmas|antras|trečias|...`\n",
    "- Kiekvieną žodį atskiriant tarpu: `pirmas antras trečias ...`"
   ]
  },
  {
   "cell_type": "code",
   "execution_count": 25,
   "metadata": {},
   "outputs": [
    {
     "name": "stdout",
     "output_type": "stream",
     "text": [
      "pirmas, antras, trecias\n",
      "pirmas|antras|trecias\n",
      "pirmas antras trecias\n"
     ]
    }
   ],
   "source": [
    "# Kodą rašykite čia...\n",
    "\n",
    "zodziai =['pirmas', 'antras','trecias']\n",
    "print(', '.join(zodziai))\n",
    "print('|'.join(zodziai))\n",
    "print(' '.join(zodziai))"
   ]
  },
  {
   "attachments": {},
   "cell_type": "markdown",
   "metadata": {},
   "source": [
    "### Užduotis 2\n",
    "\n",
    "Susikurkite pažymių sąrašą ir užpildykite jį pažymiais. Surikiuokite sąrašą nuo didžiausio iki mažiausio pažymio ir išveskite taip, kad kiekvienas pažymys būtų atskirtas kableliu ir tarpu (`9, 8, 6, ...`)."
   ]
  },
  {
   "cell_type": "code",
   "execution_count": 34,
   "metadata": {},
   "outputs": [
    {
     "name": "stdout",
     "output_type": "stream",
     "text": [
      "10, 9, 9, 8, 8, 8, 7, 7, 6, 5\n"
     ]
    }
   ],
   "source": [
    "# Kodą rašykite čia...\n",
    "pazymiai = [9, 8, 6, 7, 10, 5, 8, 9, 8, 7]\n",
    "pazymiai.sort(reverse=True)\n",
    "print(', '.join(map(str, pazymiai)))\n"
   ]
  },
  {
   "attachments": {},
   "cell_type": "markdown",
   "metadata": {},
   "source": [
    "### Užduotis 3\n",
    "\n",
    "Susikurkite sąrašą prekių pavadinimams saugoti (prekių krepšeliui). Įveskite į šį sąrašą norimą informaciją. Išveskite šį sąrašą taip, kad tarp kiekvienos prekės būtų parašytas toks skirtukas: ` ||| `. Turėtų vaizde gautis taip: `prekė 1 ||| prekė 2 ||| prekė 3`."
   ]
  },
  {
   "cell_type": "code",
   "execution_count": 37,
   "metadata": {},
   "outputs": [
    {
     "name": "stdout",
     "output_type": "stream",
     "text": [
      "prekė 1 ||| prekė 2 ||| prekė 3 ||| prekė 4 ||| prekė 5\n"
     ]
    }
   ],
   "source": [
    "# Kodą rašykite čia...\n",
    "\n",
    "prekiu_sarasas = [\"prekė 1\", \"prekė 2\", \"prekė 3\", \"prekė 4\", \"prekė 5\"]\n",
    "print(' ||| '.join(prekiu_sarasas))\n"
   ]
  },
  {
   "attachments": {},
   "cell_type": "markdown",
   "metadata": {},
   "source": [
    "### Užduotis 4\n",
    "\n",
    "Susikurkite sąrašą su datomis. Šias datas paverskite į tekstos eilutes tokiais pavidalais:\n",
    "\n",
    "- `data1 / data2 / data3 / ...`\n",
    "- `data1|data2|data3|...`\n",
    "- `data1__data2__data3__...`\n",
    "- `data1-data2-data3-...`"
   ]
  },
  {
   "cell_type": "code",
   "execution_count": 38,
   "metadata": {},
   "outputs": [
    {
     "name": "stdout",
     "output_type": "stream",
     "text": [
      "2024-02-25 / 2024-02-26 / 2024-02-27 / 2024-02-28\n",
      "2024-02-25|2024-02-26|2024-02-27|2024-02-28\n",
      "2024-02-25_2024-02-26_2024-02-27_2024-02-28\n",
      "2024-02-25-2024-02-26-2024-02-27-2024-02-28\n"
     ]
    }
   ],
   "source": [
    "# Kodą rašykite čia...\n",
    "\n",
    "datos = [\"2024-02-25\", \"2024-02-26\", \"2024-02-27\", \"2024-02-28\"]\n",
    "print(' / '.join(datos))\n",
    "print('|'.join(datos))\n",
    "print('_'.join(datos))\n",
    "print('-'.join(datos))\n"
   ]
  },
  {
   "attachments": {},
   "cell_type": "markdown",
   "metadata": {},
   "source": [
    "### Užduotis 5\n",
    "\n",
    "Susikurkite teksto eilutę, kurioje būtų saugoma studentų informacija (vardai su pavardėmis), o teksto eilutę suformatuokite kiekvieną studentą atskiriant kableliu ir tarpu: `studentas1, studentas2, studentas3, ...`.\n",
    "\n",
    "Išskaidykite šią teksto eilutę taip, kad visus studentus turėtumėte sąraše kaip atskirus elementus."
   ]
  },
  {
   "cell_type": "code",
   "execution_count": 5,
   "metadata": {},
   "outputs": [],
   "source": [
    "# Kodą rašykite čia...\n",
    "\n",
    "studentu_info = \"Jonas Jonaitis, Petras Petraitis, Ona Onaitė, Marija Marijaitė\"\n",
    "\n"
   ]
  },
  {
   "attachments": {},
   "cell_type": "markdown",
   "metadata": {},
   "source": [
    "### Užduotis 6\n",
    "\n",
    "Susikurkite teksto eilutę, kur būtų saugomos datos su laikais, o jos būtų atskirtos vertikaliu brūkšneliu: `data su laiku|data su laiku|data su laiku|...`.\n",
    "\n",
    "Išskaidykite šią teksto eilutę taip, kad visas datas turėtumėte sąraše kaip atskirus elementus."
   ]
  },
  {
   "cell_type": "code",
   "execution_count": 39,
   "metadata": {},
   "outputs": [
    {
     "name": "stdout",
     "output_type": "stream",
     "text": [
      "['2024-02-25 10:30:00', '2024-02-26 12:45:00', '2024-02-27 14:15:00', '2024-02-28 09:00:00']\n"
     ]
    }
   ],
   "source": [
    "# Kodą rašykite čia...\n",
    "\n",
    "datos_su_laikais = \"2024-02-25 10:30:00|2024-02-26 12:45:00|2024-02-27 14:15:00|2024-02-28 09:00:00\"\n",
    "\n",
    "print(datos_su_laikais.split('|'))"
   ]
  },
  {
   "attachments": {},
   "cell_type": "markdown",
   "metadata": {},
   "source": [
    "### Užduotis 7\n",
    "\n",
    "Susikurkite tokią teksto eilutę: `Jonas;Jonauskas;21;KTU;8`. Ją paverskite į sąrašą, skaidymui naudojant skirtuką `;`."
   ]
  },
  {
   "cell_type": "code",
   "execution_count": 7,
   "metadata": {},
   "outputs": [],
   "source": [
    "# Kodą rašykite čia...\n",
    "\n",
    "teksto_eilute = \"Jonas;Jonauskas;21;KTU;8\"\n",
    "\n",
    "\n"
   ]
  },
  {
   "attachments": {},
   "cell_type": "markdown",
   "metadata": {},
   "source": [
    "### Užduotis 8\n",
    "\n",
    "Susikurkite teksto eilutę, kurioje būtų saugoma savaitės temperatūrų informacija, pvz: `17.5;20.6;21.7;22.9;...`. Šią eilutę paverskite į sąrašą, skaidymui naudojant simbolį `;`, taip pat, sąraše kiekviena temperatūra turėtų būti išsaugota kaip float, o ne tekstu."
   ]
  },
  {
   "cell_type": "code",
   "execution_count": 8,
   "metadata": {},
   "outputs": [],
   "source": [
    "# Kodą rašykite čia...\n",
    "\n",
    "temperaturu_info = \"17.5;20.6;21.7;22.9;\"\n",
    "\n"
   ]
  }
 ],
 "metadata": {
  "kernelspec": {
   "display_name": "Python 3",
   "language": "python",
   "name": "python3"
  },
  "language_info": {
   "codemirror_mode": {
    "name": "ipython",
    "version": 3
   },
   "file_extension": ".py",
   "mimetype": "text/x-python",
   "name": "python",
   "nbconvert_exporter": "python",
   "pygments_lexer": "ipython3",
   "version": "3.13.1"
  },
  "orig_nbformat": 4,
  "vscode": {
   "interpreter": {
    "hash": "aa11ca274996316222ef16f35c5f6dbeb467b694c0b2154cdf34dcf9271d5fd0"
   }
  }
 },
 "nbformat": 4,
 "nbformat_minor": 2
}
