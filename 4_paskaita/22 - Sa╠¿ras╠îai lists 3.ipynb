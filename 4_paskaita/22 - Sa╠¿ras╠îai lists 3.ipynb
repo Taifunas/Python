{
 "cells": [
  {
   "attachments": {},
   "cell_type": "markdown",
   "metadata": {},
   "source": [
    "# Sąrašai (`lists`) (3 dalis)"
   ]
  },
  {
   "attachments": {},
   "cell_type": "markdown",
   "metadata": {},
   "source": [
    "## Pavyzdžiai"
   ]
  },
  {
   "cell_type": "code",
   "execution_count": 1,
   "metadata": {},
   "outputs": [
    {
     "name": "stdout",
     "output_type": "stream",
     "text": [
      "['diena', 'pavsaris', 'ruduo', 'vakaras', 'vasara', 'ziema']\n"
     ]
    }
   ],
   "source": [
    "zodziai=['pavsaris','vasara','ruduo','ziema','diena','vakaras']\n",
    "#testas=['Labas', 10,None, True, []]\n",
    "\n",
    "zodziai.sort()\n",
    "print(zodziai)"
   ]
  },
  {
   "cell_type": "code",
   "execution_count": 4,
   "metadata": {},
   "outputs": [
    {
     "name": "stdout",
     "output_type": "stream",
     "text": [
      "[1, 4, 5, 10, 12, 32, 2354, 4342]\n"
     ]
    }
   ],
   "source": [
    "skaiciai=[5,10,4,32,2354,12,1,4342]\n",
    "skaiciai.sort()\n",
    "print(skaiciai)"
   ]
  },
  {
   "cell_type": "code",
   "execution_count": 5,
   "metadata": {},
   "outputs": [
    {
     "ename": "TypeError",
     "evalue": "'<' not supported between instances of 'int' and 'str'",
     "output_type": "error",
     "traceback": [
      "\u001b[1;31m---------------------------------------------------------------------------\u001b[0m",
      "\u001b[1;31mTypeError\u001b[0m                                 Traceback (most recent call last)",
      "Cell \u001b[1;32mIn[5], line 2\u001b[0m\n\u001b[0;32m      1\u001b[0m testas\u001b[38;5;241m=\u001b[39m[\u001b[38;5;124m'\u001b[39m\u001b[38;5;124mLabas\u001b[39m\u001b[38;5;124m'\u001b[39m, \u001b[38;5;241m10\u001b[39m,\u001b[38;5;28;01mNone\u001b[39;00m, \u001b[38;5;28;01mTrue\u001b[39;00m, []]\n\u001b[1;32m----> 2\u001b[0m \u001b[43mtestas\u001b[49m\u001b[38;5;241;43m.\u001b[39;49m\u001b[43msort\u001b[49m\u001b[43m(\u001b[49m\u001b[43m)\u001b[49m\n\u001b[0;32m      3\u001b[0m \u001b[38;5;28mprint\u001b[39m(testas)\n",
      "\u001b[1;31mTypeError\u001b[0m: '<' not supported between instances of 'int' and 'str'"
     ]
    }
   ],
   "source": [
    "testas=['Labas', 10,None, True, []]\n",
    "testas.sort()\n",
    "print(testas)"
   ]
  },
  {
   "cell_type": "code",
   "execution_count": 13,
   "metadata": {},
   "outputs": [
    {
     "name": "stdout",
     "output_type": "stream",
     "text": [
      "[5, 10, 4, 32, 2354, 12, 1, 4342]\n",
      "[1, 4, 5, 10, 12, 32, 2354, 4342]\n"
     ]
    }
   ],
   "source": [
    "skaiciai=[5,10,4,32,2354,12,1,4342]\n",
    "sorted_skaiciai=sorted(skaiciai)\n",
    "print(skaiciai)\n",
    "print(sorted_skaiciai)"
   ]
  },
  {
   "cell_type": "code",
   "execution_count": 9,
   "metadata": {},
   "outputs": [
    {
     "name": "stdout",
     "output_type": "stream",
     "text": [
      "[4342, 2354, 32, 12, 10, 5, 4, 1]\n"
     ]
    }
   ],
   "source": [
    "sorted_skaiciai.reverse()\n",
    "print(sorted_skaiciai)"
   ]
  },
  {
   "cell_type": "code",
   "execution_count": 17,
   "metadata": {},
   "outputs": [
    {
     "name": "stdout",
     "output_type": "stream",
     "text": [
      "[4342, 2354, 32, 12, 10, 5, 4, 1]\n"
     ]
    }
   ],
   "source": [
    "nuo_didziausio=sorted(skaiciai, reverse=True)\n",
    "print(nuo_didziausio)"
   ]
  },
  {
   "cell_type": "code",
   "execution_count": 20,
   "metadata": {},
   "outputs": [
    {
     "name": "stdout",
     "output_type": "stream",
     "text": [
      "[1231, 451, 12, 3, 2, 1, 1]\n"
     ]
    }
   ],
   "source": [
    "skaiciai=[1,2,3,451,1231,12,1]\n",
    "skaiciai.sort(reverse=True)\n",
    "print(skaiciai)"
   ]
  },
  {
   "cell_type": "code",
   "execution_count": 24,
   "metadata": {},
   "outputs": [
    {
     "name": "stdout",
     "output_type": "stream",
     "text": [
      "['11', '2000000', '555', '66']\n"
     ]
    }
   ],
   "source": [
    "skaiciai=[\"66\",'555','2000000','11']\n",
    "skaiciai.sort()\n",
    "print(skaiciai)"
   ]
  },
  {
   "attachments": {},
   "cell_type": "markdown",
   "metadata": {},
   "source": [
    "## Užduotys"
   ]
  },
  {
   "attachments": {},
   "cell_type": "markdown",
   "metadata": {},
   "source": [
    "### Užduotis 1\n",
    "\n",
    "Susikurkite automobilių markių sąrašą ir užpildykite jį duomenimis (sąrašo kūrimo metu arba su vartotojo įvestimi). Išveskite turimus duomenis ekrane. Tuomet surikiuokite automobilių markes didėjimo tvarka ir išveskite. Taip pat, surikiuokite mažėjimo tvarka ir išveskite."
   ]
  },
  {
   "cell_type": "code",
   "execution_count": 32,
   "metadata": {},
   "outputs": [
    {
     "name": "stdout",
     "output_type": "stream",
     "text": [
      "['vw', 'audi', 'bmw', 'toyota', 'opel']\n",
      "['audi', 'bmw', 'opel', 'toyota', 'vw']\n"
     ]
    }
   ],
   "source": [
    "# Kodą rašykite čia...\n",
    "automobiliai=['vw','audi','bmw','toyota','opel']\n",
    "print(automobiliai)\n",
    "automobiliai.sort()\n",
    "print(automobiliai)\n"
   ]
  },
  {
   "attachments": {},
   "cell_type": "markdown",
   "metadata": {},
   "source": [
    "### Užduotis 2\n",
    "\n",
    "Susikurkite studento pažymių sąrašą ir užpildykite duomenimis. Išveskite tris didžiausius turimus pažymius."
   ]
  },
  {
   "cell_type": "code",
   "execution_count": 33,
   "metadata": {},
   "outputs": [
    {
     "name": "stdout",
     "output_type": "stream",
     "text": [
      "[3, 4, 5]\n"
     ]
    }
   ],
   "source": [
    "# Kodą rašykite čia...\n",
    "pazymiai=[1,2,3,4,5]\n",
    "pazymiai.sort()\n",
    "print(pazymiai[2:])"
   ]
  },
  {
   "attachments": {},
   "cell_type": "markdown",
   "metadata": {},
   "source": [
    "### Užduotis 3\n",
    "\n",
    "Susikurkite studentų pažymių sąrašą ir užpildykite duomenimis. Jeigu studentas turi neigiamų pažymių (1, 2, 3, arba 4), išveskite kiek tokių pažymių jis turi (pvz.: pažymio 2 turi 3 vnt., pažymio 4 turi 1 vnt.)."
   ]
  },
  {
   "cell_type": "code",
   "execution_count": 61,
   "metadata": {},
   "outputs": [
    {
     "name": "stdout",
     "output_type": "stream",
     "text": [
      "pazymio 1 turi 1 vnt.\n",
      "pazymio 2 turi 2 vnt.\n",
      "pazymio 3 turi 1 vnt.\n",
      "pazymio 4 turi 3 vnt.\n"
     ]
    }
   ],
   "source": [
    "# Kodą rašykite čia...\n",
    "pazymiai=[1,2,3,4,5,6,4,4,5,2]\n",
    "patikrinti=[]\n",
    "\n",
    "for i in pazymiai:\n",
    "    if i < 5 and i not in patikrinti:\n",
    "        total = pazymiai.count(i)\n",
    "        print(f'pazymio {i} turi {total} vnt.')\n",
    "        patikrinti.append(i)\n",
    "\n",
    "\n",
    "\n",
    "    #    total[i]+=1\n",
    "    #else:\n",
    "    #    total[i]=1\n",
    "#        print(i)        \n",
    "#for el in pazymiai:\n",
    "#    if el in total:\n",
    "##        total[el]+=1\n",
    "#    else:\n",
    "#        total[el]=1\n",
    "#print(total)\n"
   ]
  }
 ],
 "metadata": {
  "kernelspec": {
   "display_name": "Python 3",
   "language": "python",
   "name": "python3"
  },
  "language_info": {
   "codemirror_mode": {
    "name": "ipython",
    "version": 3
   },
   "file_extension": ".py",
   "mimetype": "text/x-python",
   "name": "python",
   "nbconvert_exporter": "python",
   "pygments_lexer": "ipython3",
   "version": "3.13.1"
  },
  "orig_nbformat": 4,
  "vscode": {
   "interpreter": {
    "hash": "aa11ca274996316222ef16f35c5f6dbeb467b694c0b2154cdf34dcf9271d5fd0"
   }
  }
 },
 "nbformat": 4,
 "nbformat_minor": 2
}
