{
 "cells": [
  {
   "attachments": {},
   "cell_type": "markdown",
   "metadata": {},
   "source": [
    "# Sąrašai (`lists`) (7 dalis)"
   ]
  },
  {
   "attachments": {},
   "cell_type": "markdown",
   "metadata": {},
   "source": [
    "## Pavyzdžiai"
   ]
  },
  {
   "attachments": {},
   "cell_type": "markdown",
   "metadata": {},
   "source": [
    "Rankiniu būdu išvedama visa informacija:"
   ]
  },
  {
   "cell_type": "code",
   "execution_count": 2,
   "metadata": {},
   "outputs": [
    {
     "name": "stdout",
     "output_type": "stream",
     "text": [
      "['audi', 'a6']\n",
      "['bmw', 428]\n",
      "['vw', 't-roc']\n"
     ]
    }
   ],
   "source": [
    "automobiliai=[['audi','a6'],['bmw',428],['vw','t-roc']]\n",
    "print(automobiliai[0])\n",
    "print(automobiliai[1])\n",
    "print(automobiliai[2])"
   ]
  },
  {
   "attachments": {},
   "cell_type": "markdown",
   "metadata": {},
   "source": [
    "Su ciklo pagalba išvedama visa informacija:"
   ]
  },
  {
   "cell_type": "code",
   "execution_count": 4,
   "metadata": {},
   "outputs": [
    {
     "name": "stdout",
     "output_type": "stream",
     "text": [
      "audi\n",
      "bmw\n",
      "vw\n"
     ]
    }
   ],
   "source": [
    "for automobilis in automobiliai:\n",
    "    print(automobilis[0])"
   ]
  },
  {
   "cell_type": "code",
   "execution_count": 6,
   "metadata": {},
   "outputs": [
    {
     "name": "stdout",
     "output_type": "stream",
     "text": [
      "Kaunas\n",
      "Klaipde\n",
      "Vilnius\n",
      "Siauliai\n"
     ]
    }
   ],
   "source": [
    "miestai=['Kaunas','Klaipde','Vilnius','Siauliai']\n",
    "for miestas in miestai:\n",
    "    print(miestas)"
   ]
  },
  {
   "attachments": {},
   "cell_type": "markdown",
   "metadata": {},
   "source": [
    "Jeigu reikia indeksų:"
   ]
  },
  {
   "cell_type": "code",
   "execution_count": 8,
   "metadata": {},
   "outputs": [
    {
     "name": "stdout",
     "output_type": "stream",
     "text": [
      "(0, 'Kaunas')\n",
      "(1, 'Klaipde')\n",
      "(2, 'Vilnius')\n",
      "(3, 'Siauliai')\n"
     ]
    }
   ],
   "source": [
    "for miestas in enumerate(miestai):\n",
    "    print(miestas)"
   ]
  },
  {
   "cell_type": "code",
   "execution_count": 12,
   "metadata": {},
   "outputs": [
    {
     "name": "stdout",
     "output_type": "stream",
     "text": [
      "0 Kaunas\n",
      "1 Klaipde\n",
      "2 Vilnius\n",
      "3 Siauliai\n",
      "1 Kaunas\n",
      "2 Klaipde\n",
      "3 Vilnius\n",
      "4 Siauliai\n"
     ]
    }
   ],
   "source": [
    "for index, miestas in enumerate(miestai):\n",
    "    print(index, miestas)\n",
    "\n",
    "for index, miestas in enumerate(miestai, start=1):\n",
    "    print(index, miestas)"
   ]
  },
  {
   "cell_type": "code",
   "execution_count": 15,
   "metadata": {},
   "outputs": [
    {
     "name": "stdout",
     "output_type": "stream",
     "text": [
      "0 Silute\n",
      "1 Silale\n",
      "2 Siluva\n"
     ]
    }
   ],
   "source": [
    "miestai=['Silute','Silale','Siluva']\n",
    "\n",
    "for index in range(len(miestai)):\n",
    "    print(index,miestai[index])"
   ]
  },
  {
   "cell_type": "code",
   "execution_count": null,
   "metadata": {},
   "outputs": [],
   "source": []
  },
  {
   "cell_type": "code",
   "execution_count": null,
   "metadata": {},
   "outputs": [],
   "source": []
  },
  {
   "cell_type": "code",
   "execution_count": null,
   "metadata": {},
   "outputs": [],
   "source": []
  },
  {
   "cell_type": "code",
   "execution_count": null,
   "metadata": {},
   "outputs": [],
   "source": []
  },
  {
   "cell_type": "code",
   "execution_count": null,
   "metadata": {},
   "outputs": [],
   "source": []
  },
  {
   "attachments": {},
   "cell_type": "markdown",
   "metadata": {},
   "source": [
    "## Užduotys"
   ]
  },
  {
   "attachments": {},
   "cell_type": "markdown",
   "metadata": {},
   "source": [
    "### Užduotis 1\n",
    "\n",
    "Susikurkite sąrašą projekto komandos narių vardams ir pavardėms saugoti. Išveskite tekstą \"prie projekto dirba šie komandos nariai:\" ir iškart po to kiekvieną komandos narį atskiroje eilutėje."
   ]
  },
  {
   "cell_type": "code",
   "execution_count": 18,
   "metadata": {},
   "outputs": [
    {
     "name": "stdout",
     "output_type": "stream",
     "text": [
      "prie projekto dirba šie komandos nariai: \n",
      "1 Jonas Jonaitis\n",
      "2 Petras Petraitis\n",
      "3 Ona Onaitė\n",
      "4 Marytė Marytėnaitė\n",
      "5 Kazys Kazlauskas\n"
     ]
    }
   ],
   "source": [
    "# Kodą rašykite čia...\n",
    "\n",
    "\n",
    "komandos_nariai = [\n",
    "    \"Jonas Jonaitis\",\n",
    "    \"Petras Petraitis\",\n",
    "    \"Ona Onaitė\",\n",
    "    \"Marytė Marytėnaitė\",\n",
    "    \"Kazys Kazlauskas\"\n",
    "]\n",
    "\n",
    "print('prie projekto dirba šie komandos nariai: ')\n",
    "for index, i in enumerate(komandos_nariai, start=1):\n",
    "    print(index, i)"
   ]
  },
  {
   "attachments": {},
   "cell_type": "markdown",
   "metadata": {},
   "source": [
    "### Užduotis 2\n",
    "\n",
    "Susikurkite sąrašą, kuriame būtų saugomos jau praeitos Python temos. Išveskite tekstą \"mes jau mokėmės:\". Ir iškart po to atskirose eilutėse visas temas, tačiau jas sunumeruokite \"1-a tema:\", \"2-a tema:\" ir t.t. Tai pamėginkite atlikti tiek su `for` ciklu, tiek su `while` ciklu."
   ]
  },
  {
   "cell_type": "code",
   "execution_count": 27,
   "metadata": {},
   "outputs": [
    {
     "name": "stdout",
     "output_type": "stream",
     "text": [
      "mes jau mokėmės: \n",
      "1-a Kintamieji ir tipai\n",
      "2-a Sąlyginiai sakiniai\n",
      "3-a Ciklai\n",
      "4-a Funkcijos\n",
      "5-a Klasių kūrimas\n",
      "\n",
      "1-a Kintamieji ir tipai\n",
      "2-a Sąlyginiai sakiniai\n",
      "3-a Ciklai\n",
      "4-a Funkcijos\n",
      "5-a Klasių kūrimas\n"
     ]
    }
   ],
   "source": [
    "# Kodą rašykite čia...\n",
    "\n",
    "praeitos_temas = [\n",
    "    \"Kintamieji ir tipai\",\n",
    "    \"Sąlyginiai sakiniai\",\n",
    "    \"Ciklai\",\n",
    "    \"Funkcijos\",\n",
    "    \"Klasių kūrimas\"\n",
    "]\n",
    "\n",
    "print('mes jau mokėmės: ')\n",
    "for index, i in enumerate(praeitos_temas, start=1):\n",
    "    print(f'{index}-a {i}')\n",
    "print()\n",
    "\n",
    "counter=0\n",
    "while counter < len(praeitos_temas):\n",
    "    print(f'{counter+1}-a {praeitos_temas[counter]}')\n",
    "    counter+=1"
   ]
  },
  {
   "attachments": {},
   "cell_type": "markdown",
   "metadata": {},
   "source": [
    "### Užduotis 3\n",
    "\n",
    "Susikurkite sąrašą studijų programų pavadinimams saugoti. Užpildykite šį sąrašą duomenimis. Išveskite kiekvieną studijų programą atskiroje eilutėje."
   ]
  },
  {
   "cell_type": "code",
   "execution_count": 28,
   "metadata": {},
   "outputs": [
    {
     "name": "stdout",
     "output_type": "stream",
     "text": [
      "1-a Informatikos bakalauras\n",
      "2-a Ekonomikos magistras\n",
      "3-a Psichologijos bakalauras\n",
      "4-a Teisės bakalauras\n",
      "5-a Biologijos magistras\n"
     ]
    }
   ],
   "source": [
    "# Kodą rašykite čia...\n",
    "\n",
    "# Sukuriame sąrašą su studijų programų pavadinimais\n",
    "studiju_programos = [\n",
    "    \"Informatikos bakalauras\",\n",
    "    \"Ekonomikos magistras\",\n",
    "    \"Psichologijos bakalauras\",\n",
    "    \"Teisės bakalauras\",\n",
    "    \"Biologijos magistras\"\n",
    "]\n",
    "\n",
    "# Išvedame kiekvieną studijų programą atskiroje eilutėje\n",
    "\n",
    "for index, i in enumerate(studiju_programos, start=1):\n",
    "    print(f'{index}-a {i}')"
   ]
  },
  {
   "attachments": {},
   "cell_type": "markdown",
   "metadata": {},
   "source": [
    "### Užduotis 4\n",
    "\n",
    "Susikurkite sąrašą šalių pavadinimams saugoti ir jį užpildykite duomenimis. Išveskite šalių pavadinimus atskirose eilutėse, su prierašu \"šalis\" ir tada nurodant šalį iš sąrašo."
   ]
  },
  {
   "cell_type": "code",
   "execution_count": 29,
   "metadata": {},
   "outputs": [
    {
     "name": "stdout",
     "output_type": "stream",
     "text": [
      "1-a salis Lietuva\n",
      "2-a salis Latvija\n",
      "3-a salis Estija\n",
      "4-a salis Lenkija\n",
      "5-a salis Suomija\n"
     ]
    }
   ],
   "source": [
    "# Kodą rašykite čia...\n",
    "\n",
    "salys = [\"Lietuva\", \"Latvija\", \"Estija\", \"Lenkija\", \"Suomija\"]\n",
    "\n",
    "for index, i in enumerate(salys, start=1):\n",
    "    print(f'{index}-a salis {i}')\n"
   ]
  },
  {
   "attachments": {},
   "cell_type": "markdown",
   "metadata": {},
   "source": [
    "### Užduotis 5\n",
    "\n",
    "Susikurkite sąrašą prekių krepšeliui saugoti. Išveskite kiek prekių krepšelyje yra narių. Tuomet išveskite visą prekių krepšelio informaciją, nurodant kelinta prekė, pvz \"nr 1 pirkinys:\", \"nr 2 pirkinys:\" ir t.t."
   ]
  },
  {
   "cell_type": "code",
   "execution_count": 30,
   "metadata": {},
   "outputs": [
    {
     "name": "stdout",
     "output_type": "stream",
     "text": [
      "nr 1 pirkinys: obuolys\n",
      "nr 2 pirkinys: bananas\n",
      "nr 3 pirkinys: saldainiai\n",
      "nr 4 pirkinys: pienas\n",
      "nr 5 pirkinys: duona\n"
     ]
    }
   ],
   "source": [
    "# Kodą rašykite čia...\n",
    "prekiu_krepselis = [\"obuolys\", \"bananas\", \"saldainiai\", \"pienas\", \"duona\"]\n",
    "\n",
    "for index, i in enumerate(prekiu_krepselis, start=1):\n",
    "    print(f'nr {index} pirkinys: {i}')"
   ]
  },
  {
   "attachments": {},
   "cell_type": "markdown",
   "metadata": {},
   "source": [
    "### Užduotis 6\n",
    "\n",
    "Susikurkite pažymių sąrašą ir užpildykite jį informacija. Surikiuokite pažymius nuo didžiausio iki mažiausio. Išveskite visus turimus pažymius atskirose eilutėse. Prie kiekvieno pažymio taip pat prirašykite \"puikiai\", jeigu jis yra 10, \"labai gerai\", jeigu jis yra 9 ir t.t."
   ]
  },
  {
   "cell_type": "code",
   "execution_count": 32,
   "metadata": {},
   "outputs": [
    {
     "name": "stdout",
     "output_type": "stream",
     "text": [
      "10 labai gerai\n",
      "9 Puikiai\n",
      "9 Puikiai\n",
      "8 Galima geriau\n",
      "8 Galima geriau\n",
      "7 Galima geriau\n",
      "6 Galima geriau\n"
     ]
    }
   ],
   "source": [
    "# Kodą rašykite čia...\n",
    "\n",
    "pazymiai = [8, 9, 7, 10, 6, 8, 9]\n",
    "pazymiai.sort(reverse=True)\n",
    "\n",
    "for pazimys in pazymiai:\n",
    "    if pazimys==10:\n",
    "        print(pazimys,'labai gerai')\n",
    "    elif pazimys==9:\n",
    "        print(pazimys,'Puikiai')\n",
    "    else:\n",
    "        print(pazimys,'Galima geriau')\n"
   ]
  }
 ],
 "metadata": {
  "kernelspec": {
   "display_name": "Python 3",
   "language": "python",
   "name": "python3"
  },
  "language_info": {
   "codemirror_mode": {
    "name": "ipython",
    "version": 3
   },
   "file_extension": ".py",
   "mimetype": "text/x-python",
   "name": "python",
   "nbconvert_exporter": "python",
   "pygments_lexer": "ipython3",
   "version": "3.13.1"
  },
  "orig_nbformat": 4,
  "vscode": {
   "interpreter": {
    "hash": "aa11ca274996316222ef16f35c5f6dbeb467b694c0b2154cdf34dcf9271d5fd0"
   }
  }
 },
 "nbformat": 4,
 "nbformat_minor": 2
}
