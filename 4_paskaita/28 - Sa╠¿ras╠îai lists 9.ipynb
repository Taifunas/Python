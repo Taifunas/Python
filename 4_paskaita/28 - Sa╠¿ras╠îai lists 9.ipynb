{
 "cells": [
  {
   "attachments": {},
   "cell_type": "markdown",
   "metadata": {},
   "source": [
    "# Sąrašai (`lists`) (9 dalis)"
   ]
  },
  {
   "attachments": {},
   "cell_type": "markdown",
   "metadata": {},
   "source": [
    "## Sąrašo perdarymas (`list comprehension`)"
   ]
  },
  {
   "attachments": {},
   "cell_type": "markdown",
   "metadata": {},
   "source": [
    "## Pavyzdžiai"
   ]
  },
  {
   "cell_type": "code",
   "execution_count": 2,
   "metadata": {},
   "outputs": [
    {
     "name": "stdout",
     "output_type": "stream",
     "text": [
      "[1, 2, 3, 4, 5, 6]\n"
     ]
    }
   ],
   "source": [
    "pradiniai=[1,2,3,4,5,6]\n",
    "nauji=[]\n",
    "\n",
    "for num in pradiniai:\n",
    "    nauji.append(num)\n",
    "\n",
    "print(nauji)"
   ]
  },
  {
   "cell_type": "code",
   "execution_count": 1,
   "metadata": {},
   "outputs": [
    {
     "name": "stdout",
     "output_type": "stream",
     "text": [
      "[1, 2, 3, 4, 5, 6]\n"
     ]
    }
   ],
   "source": [
    "pradiniai=[1,2,3,4,5,6]\n",
    "nauji=[num for num in pradiniai]\n",
    "print(nauji)"
   ]
  },
  {
   "cell_type": "code",
   "execution_count": 3,
   "metadata": {},
   "outputs": [
    {
     "name": "stdout",
     "output_type": "stream",
     "text": [
      "[2, 4, 6, 8, 10, 12]\n"
     ]
    }
   ],
   "source": [
    "pradiniai=[1,2,3,4,5,6]\n",
    "nauji=[]\n",
    "\n",
    "for num in pradiniai:\n",
    "    nauji.append(num*2)\n",
    "\n",
    "print(nauji)"
   ]
  },
  {
   "cell_type": "code",
   "execution_count": 4,
   "metadata": {},
   "outputs": [
    {
     "name": "stdout",
     "output_type": "stream",
     "text": [
      "[2, 4, 6, 8, 10, 12]\n"
     ]
    }
   ],
   "source": [
    "pradiniai=[1,2,3,4,5,6]\n",
    "\n",
    "dvigubi=[num*2 for num in pradiniai]\n",
    "\n",
    "print(dvigubi)"
   ]
  },
  {
   "cell_type": "code",
   "execution_count": 5,
   "metadata": {},
   "outputs": [
    {
     "name": "stdout",
     "output_type": "stream",
     "text": [
      "['aaaaa', 'bbbbb', 'ccccc']\n"
     ]
    }
   ],
   "source": [
    "raides=['a','b','c']\n",
    "\n",
    "pakeistos=[raide*5 for raide in raides]\n",
    "\n",
    "print(pakeistos)"
   ]
  },
  {
   "cell_type": "code",
   "execution_count": 8,
   "metadata": {},
   "outputs": [
    {
     "name": "stdout",
     "output_type": "stream",
     "text": [
      "[5, 8, 9, 10]\n"
     ]
    }
   ],
   "source": [
    "zodziai=['knyga','zurnalas','skaitykle','laikrastis']\n",
    "\n",
    "raidziu_kiekiai=[len(zodis) for zodis in zodziai]\n",
    "\n",
    "print(raidziu_kiekiai)"
   ]
  },
  {
   "cell_type": "code",
   "execution_count": 10,
   "metadata": {},
   "outputs": [
    {
     "name": "stdout",
     "output_type": "stream",
     "text": [
      "[5, 6, 8]\n",
      "[-1, -10, -3]\n",
      "['neigiamas', 'teigiamas', 'teigiamas', 'neigiamas', 'teigiamas', 'neigiamas']\n"
     ]
    }
   ],
   "source": [
    "pradiniai = [-1, 5, 6, -10, 8, -3]\n",
    "\n",
    "teigiami = [sk for sk in pradiniai if sk > 0]\n",
    "neigiami = [sk for sk in pradiniai if sk < 0]\n",
    "\n",
    "print(teigiami)\n",
    "print(neigiami)\n",
    "\n",
    "teigiami_neigiami = [\"teigiamas\" if sk > 0 else \"neigiamas\" for sk in pradiniai]\n",
    "print(teigiami_neigiami)"
   ]
  },
  {
   "cell_type": "code",
   "execution_count": null,
   "metadata": {},
   "outputs": [],
   "source": []
  },
  {
   "cell_type": "code",
   "execution_count": null,
   "metadata": {},
   "outputs": [],
   "source": []
  },
  {
   "cell_type": "code",
   "execution_count": null,
   "metadata": {},
   "outputs": [],
   "source": []
  },
  {
   "cell_type": "code",
   "execution_count": null,
   "metadata": {},
   "outputs": [],
   "source": []
  },
  {
   "cell_type": "code",
   "execution_count": null,
   "metadata": {},
   "outputs": [],
   "source": []
  },
  {
   "cell_type": "code",
   "execution_count": null,
   "metadata": {},
   "outputs": [],
   "source": []
  },
  {
   "cell_type": "code",
   "execution_count": null,
   "metadata": {},
   "outputs": [],
   "source": []
  },
  {
   "cell_type": "code",
   "execution_count": null,
   "metadata": {},
   "outputs": [],
   "source": []
  },
  {
   "attachments": {},
   "cell_type": "markdown",
   "metadata": {},
   "source": [
    "## Užduotys"
   ]
  },
  {
   "attachments": {},
   "cell_type": "markdown",
   "metadata": {},
   "source": [
    "### Užduotis 1\n",
    "\n",
    "Susikurkite studentų pažymių sąrašą ir surašykite pažymių į šį sąrašą. Paverskite visus šio sąrašo pažymius taip, kad ties kiekvienu parodytų kiek trūksta iki 10, pvz, jeigu pažymys yra 8, tai jam iki 10 trūksta 2, arba jeigu pažymys yra 7, tai jam iki 10 trūksta 3, arba jeigu yra 10, tai jam trūksta 0."
   ]
  },
  {
   "cell_type": "code",
   "execution_count": 11,
   "metadata": {},
   "outputs": [
    {
     "name": "stdout",
     "output_type": "stream",
     "text": [
      "['truksta 5', 'truksta 4', 'truksta 3', 'truksta 7', 'truksta 6', 'truksta 3', 'truksta 5', 'truksta 4']\n"
     ]
    }
   ],
   "source": [
    "# Kodą rašykite čia...\n",
    "sarasas=[5,6,7,3,4,7,5,6]\n",
    "iki_10=[f'truksta {10-sk}' for sk in sarasas]\n",
    "print(iki_10)"
   ]
  },
  {
   "attachments": {},
   "cell_type": "markdown",
   "metadata": {},
   "source": [
    "### Užduotis 2\n",
    "\n",
    "Susikurkite žodžių sąrašą ir užpildykite jį duomenimis. Paverskite visus šio sąrašo žodžius, kad jie visi būtų iš didžiųjų raidžių."
   ]
  },
  {
   "cell_type": "code",
   "execution_count": 12,
   "metadata": {},
   "outputs": [
    {
     "name": "stdout",
     "output_type": "stream",
     "text": [
      "['MEDIS', 'AGUONA', 'ZIBUTE', 'MARMALIADAS']\n"
     ]
    }
   ],
   "source": [
    "# Kodą rašykite čia...\n",
    "sarasas=['medis','aguona','zibute','marmaliadas']\n",
    "naujas=[zodis.upper() for zodis in sarasas]\n",
    "print(naujas)"
   ]
  },
  {
   "attachments": {},
   "cell_type": "markdown",
   "metadata": {},
   "source": [
    "### Užduotis 3\n",
    "\n",
    "Susikurkite žmonių vardų sąrašą ir užpildykite jį duomenimis. Į naują sąrašą paimkite kiekvieno vardo pirmąją raidę. Jeigu bus kažkuris vardas ne iš didžiosios raidės, tai jį paverskite iš didžiosios raidės. Surikiuokite pagal abėcėlę."
   ]
  },
  {
   "cell_type": "code",
   "execution_count": 14,
   "metadata": {},
   "outputs": [
    {
     "name": "stdout",
     "output_type": "stream",
     "text": [
      "['Aurimas', 'Paulius', 'Rimantas', 'Tadas']\n"
     ]
    }
   ],
   "source": [
    "# Kodą rašykite čia...\n",
    "sarasas=['Tadas','Rimantas','paulius','Aurimas']\n",
    "naujas=sorted([zodis[0].title() for zodis in sarasas])\n",
    "print(naujas)"
   ]
  },
  {
   "attachments": {},
   "cell_type": "markdown",
   "metadata": {},
   "source": [
    "### Užduotis 4\n",
    "\n",
    "Susikurkite skaičių sąrašą ir jį užpildykite duomenimis. Susikurkite naują sąrašą, kuriame būtų pradinių skaičių kvadratai. Susikurkite naują sąrašą, kuriame būtų pradinių skaičių kūbai (trečias laipsnis)."
   ]
  },
  {
   "cell_type": "code",
   "execution_count": 15,
   "metadata": {},
   "outputs": [
    {
     "name": "stdout",
     "output_type": "stream",
     "text": [
      "[25, 81, 64, 49, 4, 16, 36]\n",
      "[125, 729, 512, 343, 8, 64, 216]\n"
     ]
    }
   ],
   "source": [
    "# Kodą rašykite čia...\n",
    "sarasas=[5,9,8,7,2,4,6]\n",
    "kvadratai=[sk**2 for sk in sarasas]\n",
    "kubai=[sk**3 for sk in sarasas]\n",
    "print(kvadratai)\n",
    "print(kubai)"
   ]
  },
  {
   "attachments": {},
   "cell_type": "markdown",
   "metadata": {},
   "source": [
    "### Užduotis 5\n",
    "\n",
    "Susikurkite miestų pavadinimų sąrašą, jį užpildykite duomenimis. Šiame sąraše nesilaikykite taisyklingo vardinimo, t.y. miestai gali būti tiek iš didžių raidžių tiek iš mažųjų, gali būti miesto viduryje didžiųjų raidžių ir pan. Sukurkite naują sąrašą šio pagrindu, kur viskas būtų sutvarkyta, t.y. pirma raidė padaryta didžioji, o visos kitos - mažosios."
   ]
  },
  {
   "cell_type": "code",
   "execution_count": 16,
   "metadata": {},
   "outputs": [
    {
     "name": "stdout",
     "output_type": "stream",
     "text": [
      "['Kaunas', 'Vilnius', 'Palanga']\n"
     ]
    }
   ],
   "source": [
    "# Kodą rašykite čia...\n",
    "miestai = ['kaunas', 'viLnius', 'PaLaNgA']\n",
    "naujas=[zodis.title() for zodis in miestai]\n",
    "print(naujas)"
   ]
  },
  {
   "attachments": {},
   "cell_type": "markdown",
   "metadata": {},
   "source": [
    "### Užduotis 6\n",
    "\n",
    "Susikurkite skaičių sąrašą su duomenimis. Į naują sąrašą atrinkite tik tuos skaičius, kurie didesni nei kažkoks pasirinktas skaičius (pvz: 5)."
   ]
  },
  {
   "cell_type": "code",
   "execution_count": 18,
   "metadata": {},
   "outputs": [
    {
     "name": "stdout",
     "output_type": "stream",
     "text": [
      "[6, 8, 7, 12]\n"
     ]
    }
   ],
   "source": [
    "# Kodą rašykite čia...\n",
    "nums = [2,6,8,7,12]\n",
    "pvz=5\n",
    "naujas=[sk for sk in nums if sk>pvz]\n",
    "print(naujas)\n"
   ]
  },
  {
   "attachments": {},
   "cell_type": "markdown",
   "metadata": {},
   "source": [
    "### Užduotis 7\n",
    "\n",
    "Susikurkite skaičių sąrašą su duomenimis. Į naują sąrašą atrinkite tik tuos skaičius, kurie yra didesni arba lygūs vidurkiui (prieš tai teks susirasti vidurkį). Taip pat, į naują sąrašą atrinkite tik tuos skaičius, kurie yra mažesni nei vidurkis."
   ]
  },
  {
   "cell_type": "code",
   "execution_count": 7,
   "metadata": {},
   "outputs": [],
   "source": [
    "# Kodą rašykite čia...\n",
    "nums = [6,8,7,12]\n",
    "\n"
   ]
  },
  {
   "attachments": {},
   "cell_type": "markdown",
   "metadata": {},
   "source": [
    "### Užduotis 8\n",
    "\n",
    "Susikurkite skaičių sąrašą su duomenimis. Į naują sąrašą atrinkite tik tuos skaičius, kurie yra lyginiai ir kurie yra didesni nei vidurkis."
   ]
  },
  {
   "cell_type": "code",
   "execution_count": 8,
   "metadata": {},
   "outputs": [],
   "source": [
    "# Kodą rašykite čia...\n",
    "nums = [6,8,7,12]\n",
    "\n"
   ]
  },
  {
   "attachments": {},
   "cell_type": "markdown",
   "metadata": {},
   "source": [
    "### Užduotis 9\n",
    "\n",
    "Susikurkite pažymių sąrašą su duomenimis. Į naują sąrašą atrinkite visus neigiamus pažymius (4 ir mažiau). Raskite kiek buvo neigiamų pažymių."
   ]
  },
  {
   "cell_type": "code",
   "execution_count": 9,
   "metadata": {},
   "outputs": [],
   "source": [
    "# Kodą rašykite čia...\n",
    "\n",
    "pazymiai = [10, 5, 4]\n",
    "\n"
   ]
  },
  {
   "attachments": {},
   "cell_type": "markdown",
   "metadata": {},
   "source": [
    "### Užduotis 10\n",
    "\n",
    "Susikurkite pažymių sąrašą su duomenimis. Į naują sąrašą sudėkite visus teigiamus pažymius, o vietoje neigiamų (4 ir mažiau) turėtų rašytis žodis \"Neigiamas\". Pvz.: jeigu turite sąrašą `[7, 4, 8, 3, 9]`, tai naujas sąrašas turėtų būti toks: `[7, 'Neigiamas', 8, 'Neigiamas', 9]`."
   ]
  },
  {
   "cell_type": "code",
   "execution_count": 20,
   "metadata": {},
   "outputs": [
    {
     "name": "stdout",
     "output_type": "stream",
     "text": [
      "[10, 5, 'Neigiamas']\n"
     ]
    }
   ],
   "source": [
    "# Kodą rašykite čia...\n",
    "pazymiai = [10, 5, 4]\n",
    "\n",
    "naujas=['Neigiamas' if sk<5 else sk for sk in pazymiai]\n",
    "print(naujas)"
   ]
  },
  {
   "attachments": {},
   "cell_type": "markdown",
   "metadata": {},
   "source": [
    "### Užduotis 11\n",
    "\n",
    "Susikurkite skaičių sąrašą su duomenimis. Kai kurie elementai sąraše turėtų būti `None` reikšmės. Pvz.: `[7, 8, 5, None, 3, 6, None, 4]`. Sukurkite naują sąrašą, kur skaičiai persikeltų, o vietoj `None` reikšmės įsidėtų skaičius 0 (atkreipkite dėmesį, kad turi būti įrašytas kaip `int`, o ne `str`). Raskite visų skaičių sumą."
   ]
  },
  {
   "cell_type": "code",
   "execution_count": 21,
   "metadata": {},
   "outputs": [
    {
     "ename": "TypeError",
     "evalue": "unsupported operand type(s) for +: 'int' and 'NoneType'",
     "output_type": "error",
     "traceback": [
      "\u001b[1;31m---------------------------------------------------------------------------\u001b[0m",
      "\u001b[1;31mTypeError\u001b[0m                                 Traceback (most recent call last)",
      "Cell \u001b[1;32mIn[21], line 3\u001b[0m\n\u001b[0;32m      1\u001b[0m \u001b[38;5;66;03m# Kodą rašykite čia...\u001b[39;00m\n\u001b[0;32m      2\u001b[0m listas \u001b[38;5;241m=\u001b[39m [\u001b[38;5;28;01mNone\u001b[39;00m, \u001b[38;5;241m5\u001b[39m]\n\u001b[1;32m----> 3\u001b[0m naujas\u001b[38;5;241m=\u001b[39m\u001b[38;5;28;43msum\u001b[39;49m\u001b[43m(\u001b[49m\u001b[43m[\u001b[49m\u001b[38;5;241;43m0\u001b[39;49m\u001b[43m \u001b[49m\u001b[38;5;28;43;01mif\u001b[39;49;00m\u001b[43m \u001b[49m\u001b[43msk\u001b[49m\u001b[38;5;241;43m!=\u001b[39;49m\u001b[38;5;28;43;01mNone\u001b[39;49;00m\u001b[43m \u001b[49m\u001b[38;5;28;43;01melse\u001b[39;49;00m\u001b[43m \u001b[49m\u001b[43msk\u001b[49m\u001b[43m \u001b[49m\u001b[38;5;28;43;01mfor\u001b[39;49;00m\u001b[43m \u001b[49m\u001b[43msk\u001b[49m\u001b[43m \u001b[49m\u001b[38;5;129;43;01min\u001b[39;49;00m\u001b[43m \u001b[49m\u001b[43mlistas\u001b[49m\u001b[43m]\u001b[49m\u001b[43m)\u001b[49m\n\u001b[0;32m      4\u001b[0m \u001b[38;5;28mprint\u001b[39m(naujas)\n",
      "\u001b[1;31mTypeError\u001b[0m: unsupported operand type(s) for +: 'int' and 'NoneType'"
     ]
    }
   ],
   "source": [
    "# Kodą rašykite čia...\n",
    "listas = [None, 5]\n",
    "naujas=sum([0 if sk!=None else sk for sk in listas])\n",
    "print(naujas)\n",
    "\n",
    "listas = [None, 5, 6,4]\n",
    "naujas=sum([sk if sk!=None else 0 for sk in listas])\n",
    "print(naujas)"
   ]
  }
 ],
 "metadata": {
  "kernelspec": {
   "display_name": "Python 3",
   "language": "python",
   "name": "python3"
  },
  "language_info": {
   "codemirror_mode": {
    "name": "ipython",
    "version": 3
   },
   "file_extension": ".py",
   "mimetype": "text/x-python",
   "name": "python",
   "nbconvert_exporter": "python",
   "pygments_lexer": "ipython3",
   "version": "3.13.1"
  },
  "orig_nbformat": 4,
  "vscode": {
   "interpreter": {
    "hash": "aa11ca274996316222ef16f35c5f6dbeb467b694c0b2154cdf34dcf9271d5fd0"
   }
  }
 },
 "nbformat": 4,
 "nbformat_minor": 2
}
