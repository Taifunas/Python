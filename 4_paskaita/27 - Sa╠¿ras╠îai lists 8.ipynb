{
 "cells": [
  {
   "attachments": {},
   "cell_type": "markdown",
   "metadata": {},
   "source": [
    "# Sąrašai (`lists`) (8 dalis)"
   ]
  },
  {
   "attachments": {},
   "cell_type": "markdown",
   "metadata": {},
   "source": [
    "## Pavyzdžiai"
   ]
  },
  {
   "cell_type": "code",
   "execution_count": 1,
   "metadata": {},
   "outputs": [
    {
     "name": "stdout",
     "output_type": "stream",
     "text": [
      "[23, 32, 31]\n"
     ]
    }
   ],
   "source": [
    "from random import randint\n",
    "kiek=int(input('Kiek norite skaiciu sarase?'))\n",
    "skaiciai=[]\n",
    "\n",
    "for _ in range(kiek):\n",
    "    skaiciai.append(randint(1,100))\n",
    "\n",
    "print(skaiciai)"
   ]
  },
  {
   "cell_type": "code",
   "execution_count": 5,
   "metadata": {},
   "outputs": [
    {
     "name": "stdout",
     "output_type": "stream",
     "text": [
      "lyginius suma 28\n",
      "nelyginiu suma 1275\n"
     ]
    }
   ],
   "source": [
    "# is turimo saraso suskaiciuoti lyginiu ir nelyginiu sumas\n",
    "\n",
    "skaiciai=[1,3,5,2,4,10,1243,23,12]\n",
    "lyginiai_suma=0\n",
    "nelyginiu_suma=0\n",
    "\n",
    "for skaicius in skaiciai:\n",
    "    if skaicius % 2 ==0:\n",
    "        lyginiai_suma+=skaicius\n",
    "    else:\n",
    "        nelyginiu_suma+=skaicius\n",
    "\n",
    "print('lyginius suma',lyginiai_suma)\n",
    "print('nelyginiu suma',nelyginiu_suma)"
   ]
  },
  {
   "cell_type": "code",
   "execution_count": 6,
   "metadata": {},
   "outputs": [
    {
     "name": "stdout",
     "output_type": "stream",
     "text": [
      "neapmoketos imokos [-150, -100] -250\n",
      "apmoketos imokos [200, 300, 500] 1000\n"
     ]
    }
   ],
   "source": [
    "imoku_sumos=[200,-150,300,-100,500]\n",
    "apmoketos=[]\n",
    "neapmoketos=[]\n",
    "\n",
    "for imoka in imoku_sumos:\n",
    "    if imoka > 0:\n",
    "        apmoketos.append(imoka)\n",
    "    else:\n",
    "        neapmoketos.append(imoka)\n",
    "print('neapmoketos imokos', neapmoketos, sum(neapmoketos))\n",
    "print('apmoketos imokos', apmoketos, sum(apmoketos))"
   ]
  },
  {
   "cell_type": "code",
   "execution_count": null,
   "metadata": {},
   "outputs": [],
   "source": []
  },
  {
   "cell_type": "code",
   "execution_count": null,
   "metadata": {},
   "outputs": [],
   "source": []
  },
  {
   "cell_type": "code",
   "execution_count": null,
   "metadata": {},
   "outputs": [],
   "source": []
  },
  {
   "cell_type": "code",
   "execution_count": null,
   "metadata": {},
   "outputs": [],
   "source": []
  },
  {
   "cell_type": "code",
   "execution_count": null,
   "metadata": {},
   "outputs": [],
   "source": []
  },
  {
   "cell_type": "code",
   "execution_count": null,
   "metadata": {},
   "outputs": [],
   "source": []
  },
  {
   "cell_type": "code",
   "execution_count": null,
   "metadata": {},
   "outputs": [],
   "source": []
  },
  {
   "cell_type": "code",
   "execution_count": null,
   "metadata": {},
   "outputs": [],
   "source": []
  },
  {
   "cell_type": "code",
   "execution_count": null,
   "metadata": {},
   "outputs": [],
   "source": []
  },
  {
   "cell_type": "code",
   "execution_count": null,
   "metadata": {},
   "outputs": [],
   "source": []
  },
  {
   "cell_type": "code",
   "execution_count": null,
   "metadata": {},
   "outputs": [],
   "source": []
  },
  {
   "cell_type": "code",
   "execution_count": null,
   "metadata": {},
   "outputs": [],
   "source": []
  },
  {
   "cell_type": "code",
   "execution_count": null,
   "metadata": {},
   "outputs": [],
   "source": []
  },
  {
   "attachments": {},
   "cell_type": "markdown",
   "metadata": {},
   "source": [
    "## Užduotys"
   ]
  },
  {
   "attachments": {},
   "cell_type": "markdown",
   "metadata": {},
   "source": [
    "### Užduotis 1\n",
    "\n",
    "Susikurkite programą, kurioje vartotojas galėtų nusakyti kiek atsitiktinių skaičių turėtų būti sugeneruota. Tuomet programa turėtų būtent tokį kiekį atsitiktinių skaičių sugeneruoti ir sudėti į sąrašą. Išveskite visus šiuos skaičius ekrane. Tuomet tuos pačius skaičius išveskite ekrane dar kartą, tačiau viską spausdinkite atskirose eilutėse, eilutėje nurodant patį skaičių ir jo kvadratą."
   ]
  },
  {
   "cell_type": "code",
   "execution_count": 10,
   "metadata": {},
   "outputs": [
    {
     "name": "stdout",
     "output_type": "stream",
     "text": [
      "[9, 8, 2, 7, 9, 2, 7, 9, 2, 8, 2, 8, 8, 9, 6, 3, 9, 8, 3, 9, 3]\n",
      "9 18\n",
      "8 16\n",
      "2 4\n",
      "7 14\n",
      "9 18\n",
      "2 4\n",
      "7 14\n",
      "9 18\n",
      "2 4\n",
      "8 16\n",
      "2 4\n",
      "8 16\n",
      "8 16\n",
      "9 18\n",
      "6 12\n",
      "3 6\n",
      "9 18\n",
      "8 16\n",
      "3 6\n",
      "9 18\n",
      "3 6\n"
     ]
    }
   ],
   "source": [
    "# Kodą rašykite čia...\n",
    "from random import randint\n",
    "vartotojo_noras=int(input('kiek skaiciu nori'))\n",
    "sarasas=[]\n",
    "\n",
    "for _ in range(vartotojo_noras):\n",
    "    sarasas.append(randint(2,9))\n",
    "print(sarasas)\n",
    "for skaicius in sarasas:\n",
    "    print(skaicius, skaicius*2)"
   ]
  },
  {
   "attachments": {},
   "cell_type": "markdown",
   "metadata": {},
   "source": [
    "### Užduotis 2\n",
    "\n",
    "Susikurkite norimą sąrašą su duomenimis. Išsiveskite viso šio sąrašo informaciją. Pakeiskite trijų pasirinktų narių reikšmes į kitas. Išsiveskite pakeisto sąrašo informaciją."
   ]
  },
  {
   "cell_type": "code",
   "execution_count": 22,
   "metadata": {},
   "outputs": [],
   "source": [
    "# Kodą rašykite čia...\n",
    "\n",
    "sarasas = [1,2,3,4,5,6]\n",
    "\n",
    "sarasas[1] = 7\n",
    "sarasas[2] = 8\n",
    "sarasas[3] = 9\n",
    "\n",
    "print(sarasas)"
   ]
  },
  {
   "attachments": {},
   "cell_type": "markdown",
   "metadata": {},
   "source": [
    "### Užduotis 3\n",
    "\n",
    "Susikurkite sąrašą ir jį užpildykite skaičiais (savarankiškai arba atsitiktiniais). Iš pradžių išveskite tekstą \"lyginiai skaičiai\" ir visus lyginius skaičius. Tuomet išveskite tekstą \"visi nelyginiai skaičiai\" ir visus nelyginius skaičius. Bei ant galo tekstą \"visi skaičiai, kurie dalinasi iš 3\" ir visus skaičius, kurie atitinka tokią sąlygą."
   ]
  },
  {
   "cell_type": "code",
   "execution_count": 14,
   "metadata": {},
   "outputs": [
    {
     "name": "stdout",
     "output_type": "stream",
     "text": [
      "[2, 6]\n",
      "[49, 9]\n",
      "[6, 9]\n"
     ]
    }
   ],
   "source": [
    "# Kodą rašykite čia...\n",
    "sarasas=[2,6,49,9]\n",
    "lyginiai=[]\n",
    "nelyginiai=[]\n",
    "dalinasi=[]\n",
    "\n",
    "for skaicius in sarasas:\n",
    "    if skaicius % 2 == 0:\n",
    "        lyginiai.append(skaicius)\n",
    "    else:\n",
    "        nelyginiai.append(skaicius)\n",
    "    if skaicius%3 ==  0:\n",
    "        dalinasi.append(skaicius)\n",
    "print(lyginiai)\n",
    "print(nelyginiai)\n",
    "print(dalinasi)"
   ]
  },
  {
   "attachments": {},
   "cell_type": "markdown",
   "metadata": {},
   "source": [
    "### Užduotis 4\n",
    "\n",
    "Susikurkite sąrašą ir jį užpildykite atsitiktiniais skaičiais. Išveskite visus skaičius didesnius nei vidurkis."
   ]
  },
  {
   "cell_type": "code",
   "execution_count": 24,
   "metadata": {},
   "outputs": [],
   "source": [
    "# Kodą rašykite čia...\n"
   ]
  },
  {
   "attachments": {},
   "cell_type": "markdown",
   "metadata": {},
   "source": [
    "### Užduotis 5\n",
    "\n",
    "Susikurkite programą, kurioje būtų sukurtas sąrašas iš pasirinkto kiekio atsitiktinių skaičių. Raskite kiekvieno skaičiaus daliklius, pavyzdžiui:\n",
    "\n",
    "```\n",
    "skaičius 2 dalinasi iš 2\n",
    "skaičius 3 dalinasi iš 3\n",
    "skaičius 4 dalinasi iš 2, 4\n",
    "skaičius 5 dalinasi iš 5\n",
    "skaičius 6 dalinasi iš 2, 3, 6\n",
    "```"
   ]
  },
  {
   "cell_type": "code",
   "execution_count": 25,
   "metadata": {},
   "outputs": [],
   "source": [
    "# Kodą rašykite čia...\n",
    "\n",
    "\n"
   ]
  },
  {
   "attachments": {},
   "cell_type": "markdown",
   "metadata": {},
   "source": [
    "### Užduotis 6\n",
    "\n",
    "Sukurkite programą, kurioje vartotojas galėtų įvesti norimą kiekį žodžių (pasirenka iš pradžių ir vykdomas for iki to kiekio skaičiaus, arba vykdomas while kol neįveda q ar kokio kito simbolio/žodžio). Išveskite visus šiuos žodžius ekrane."
   ]
  },
  {
   "cell_type": "code",
   "execution_count": 26,
   "metadata": {},
   "outputs": [],
   "source": [
    "# Kodą rašykite čia...\n",
    "\n"
   ]
  },
  {
   "attachments": {},
   "cell_type": "markdown",
   "metadata": {},
   "source": [
    "### Užduotis 7\n",
    "\n",
    "Susikurkite sąrašą iš pasirinktų žodžių. Atskirose eilutėse išveskite patį žodį, jo raidžių kiekį."
   ]
  },
  {
   "cell_type": "code",
   "execution_count": 27,
   "metadata": {},
   "outputs": [],
   "source": [
    "# Kodą rašykite čia...\n",
    "\n"
   ]
  },
  {
   "attachments": {},
   "cell_type": "markdown",
   "metadata": {},
   "source": [
    "### Užduotis 8\n",
    "\n",
    "Susikurkite pažymių sąrašą. Šiuos pažymius leiskite įvesti vartotojui. Baigus įvedimą, išveskite suvestų pažymių vidurkį. Taip pat, jeigu studentas turėjo neigiamų pažymių, tuomet atskirai parodykite tuos neigiamus pažymius ir jų kiekį."
   ]
  },
  {
   "cell_type": "code",
   "execution_count": 24,
   "metadata": {},
   "outputs": [
    {
     "name": "stdout",
     "output_type": "stream",
     "text": [
      "[1, 2, 3, 4, 5, 6, 7]\n",
      "4.0\n",
      "[1, 2, 3, 4] neigiamu paz kiekis 4\n"
     ]
    }
   ],
   "source": [
    "# Kodą rašykite čia...\n",
    "\n",
    "pazymiai=[int(paz) for paz in input('iveskite pazymius per tarpus').split()]\n",
    "print(pazymiai)\n",
    "\n",
    "print(sum(pazymiai)/len(pazymiai))\n",
    "neigiami=[]\n",
    "for pazimys in pazymiai:\n",
    "    if pazimys < 5:\n",
    "        neigiami.append(pazimys)\n",
    "\n",
    "print(neigiami,'neigiamu paz kiekis', len(neigiami))"
   ]
  },
  {
   "attachments": {},
   "cell_type": "markdown",
   "metadata": {},
   "source": [
    "### Užduotis 9\n",
    "\n",
    "Susikurkite žodžių sąrašą. Raskite ir išveskite trumpiausią ir ilgiausią žodžius, bei jų raidžių kiekius."
   ]
  },
  {
   "cell_type": "code",
   "execution_count": 27,
   "metadata": {},
   "outputs": [
    {
     "name": "stdout",
     "output_type": "stream",
     "text": [
      "kate 4\n"
     ]
    }
   ],
   "source": [
    "# Kodą rašykite čia...\n",
    "\n",
    "zodziai = [\"obuolys\", \"kate\", \"maistas\", \"namas\", \"programavimas\"]\n",
    "\n",
    "trumpiausias_zodis=zodziai[0]\n",
    "for zodis in zodziai:\n",
    "    if len(zodis)<len(trumpiausias_zodis):\n",
    "        trumpiausias_zodis=zodis\n",
    "    \n",
    "print(trumpiausias_zodis, len(trumpiausias_zodis))"
   ]
  },
  {
   "attachments": {},
   "cell_type": "markdown",
   "metadata": {},
   "source": [
    "### Užduotis 10\n",
    "\n",
    "Sugeneruokite 100-ą atsitiktinių skaičių ir sukelkite visus tuos skaičius į sąrašą. Atlikite šiuos veiksmus:\n",
    "\n",
    "- Raskite mažiausią skaičių, didžiausią skaičių, bei vidurkį.\n",
    "- Tuomet atrinkite į atskirą sąrašą skaičius, kurie žemesni nei vidurkis. Raskite šių skaičių vidurkį.\n",
    "- Taip pat, atrinkite į dar vieną sąrašą skaičius, kurie didesni nei vidurkis. Raskite šių skaičių vidurkį.\n",
    "- Ekrane išveskite pradinius duomenis, mažiausią ir didžiausią skaičius, rastą vidurkį, pirmus atrinktus skaičius ir jų vidurkį, antrus atrinktus skaičius ir jų vidurkį."
   ]
  },
  {
   "cell_type": "code",
   "execution_count": 30,
   "metadata": {},
   "outputs": [
    {
     "name": "stdout",
     "output_type": "stream",
     "text": [
      "1 100 48.42\n",
      "26.22222222222222 74.47826086956522\n"
     ]
    }
   ],
   "source": [
    "# Kodą rašykite čia...\n",
    "from random import randint\n",
    "\n",
    "skaiciai=[randint(1,100) for _ in range(100)]\n",
    "maziausias=min(skaiciai)\n",
    "didziausias=max(skaiciai)\n",
    "vidurkis=sum(skaiciai)/len(skaiciai)\n",
    "print(maziausias,didziausias,vidurkis)\n",
    "\n",
    "mazesni_nei_vid=[skaicius for skaicius in skaiciai if skaicius<vidurkis]\n",
    "didesni_nei_vid=[skaicius for skaicius in skaiciai if skaicius>vidurkis]\n",
    "\n",
    "mazesni_nei_vid_vidurkis=sum(mazesni_nei_vid)/len(mazesni_nei_vid)\n",
    "didesni_nei_vid_vidurkis=sum(didesni_nei_vid)/len(didesni_nei_vid)\n",
    "\n",
    "print(mazesni_nei_vid_vidurkis,didesni_nei_vid_vidurkis)"
   ]
  },
  {
   "attachments": {},
   "cell_type": "markdown",
   "metadata": {},
   "source": [
    "### Užduotis 11\n",
    "\n",
    "Susikurkite žodžių masyvą. Išveskite per kiek simbolių yra ilgesnis ilgiausias žodis už trumpiausią. Tarkime ilgiausias yra “kompiuteris” (11 simbolių), o trumpiausias “medis” (5), skirtumas tarp jų 11 - 5 = 6 simboliai."
   ]
  },
  {
   "cell_type": "code",
   "execution_count": 35,
   "metadata": {},
   "outputs": [
    {
     "name": "stdout",
     "output_type": "stream",
     "text": [
      "13-4=9 simboliai\n"
     ]
    }
   ],
   "source": [
    "# Kodą rašykite čia...\n",
    "zodziai = [\"obuolys\", \"kate\", \"maistas\", \"namas\", \"programavimas\"]\n",
    "\n",
    "trumpiausias_zodis=zodziai[0]\n",
    "ilgiausias_zodis=zodziai[0]\n",
    "for zodis in zodziai:\n",
    "    if len(zodis)<len(trumpiausias_zodis):\n",
    "        trumpiausias_zodis=zodis\n",
    "    if len(zodis)>len(ilgiausias_zodis):\n",
    "        ilgiausias_zodis=zodis\n",
    "\n",
    "print(f'{len(ilgiausias_zodis)}-{len(trumpiausias_zodis)}={len(ilgiausias_zodis)-len(trumpiausias_zodis)} simboliai.')\n",
    "\n"
   ]
  },
  {
   "attachments": {},
   "cell_type": "markdown",
   "metadata": {},
   "source": [
    "### Užduotis 12\n",
    "\n",
    "Susikurkite dviejų studentų pažymių sąrašus. Šią informaciją leiskite suvesti vartotojui. Raskite kurio studento vidurkis yra geresnis. Taip pat, ar kuris iš jų (ar abu) turi neigiamų pažymių."
   ]
  },
  {
   "cell_type": "code",
   "execution_count": 32,
   "metadata": {},
   "outputs": [],
   "source": [
    "# Kodą rašykite čia...\n",
    "\n"
   ]
  },
  {
   "attachments": {},
   "cell_type": "markdown",
   "metadata": {},
   "source": [
    "### Užduotis 13\n",
    "\n",
    "Susikurkite skaičių masyvą ir užpildykite jį atsitiktiniais skaičiais. Raskite visų skaičių, kurie dalinasi iš 4 sumą."
   ]
  },
  {
   "cell_type": "code",
   "execution_count": 42,
   "metadata": {},
   "outputs": [
    {
     "name": "stdout",
     "output_type": "stream",
     "text": [
      "28\n"
     ]
    }
   ],
   "source": [
    "skaiciai=[1,2,3,4,5,6,7,3,1,9,4,4,4,4,8]\n",
    "listas=sum([skaicius for skaicius in skaiciai if skaicius%4==0])\n",
    "print(listas)"
   ]
  },
  {
   "attachments": {},
   "cell_type": "markdown",
   "metadata": {},
   "source": [
    "### Užduotis 14\n",
    "\n",
    "Susikurkite skaičių masyvą ir užpildykite jį duomenimis. Išveskite visus skaičius atskirose eilutėse. Prie kiekvieno lyginio skaičiaus dar išvedant jo kvadratą."
   ]
  },
  {
   "cell_type": "code",
   "execution_count": 33,
   "metadata": {},
   "outputs": [],
   "source": [
    "# Kodą rašykite čia...\n",
    "\n"
   ]
  },
  {
   "attachments": {},
   "cell_type": "markdown",
   "metadata": {},
   "source": [
    "### Užduotis 15\n",
    "\n",
    "Susikurkite studento pažymių sąrašą ir užpildykite jį duomenimis (atsitiktiniais arba kokius įrašysite). Išveskite kiekvieną pažymį atskiroje eilutėje. Prie kiekvieno pažymio nurodykite ar tai teigiamas, ar neigiamas pažymys. Taip pat, jeigu neigiamas pažymys, tuomet dar nurodykite kiek balų trūko iki teigiamo pažymio. Teigiamas pažymys skaitosi 5 balai."
   ]
  },
  {
   "cell_type": "code",
   "execution_count": 34,
   "metadata": {},
   "outputs": [],
   "source": [
    "# Kodą rašykite čia...\n",
    "\n",
    "\n"
   ]
  },
  {
   "attachments": {},
   "cell_type": "markdown",
   "metadata": {},
   "source": [
    "### Užduotis 16\n",
    "\n",
    "Susikurkite žodžių sąrašą ir užpildykite duomenimis. Išveskite visus žodžius ekrane, nurodant iš kiek raidžių kiekvienas šis žodis yra sudarytas. Papildykite programą taip, kad rastumėte visų raidžių kiekį (pvz yra žodžiai \"medis\" ir \"alus\", 5 ir 4 raidės atitinkamai, o jas sudėjus gaunasi 9 raidės)."
   ]
  },
  {
   "cell_type": "code",
   "execution_count": 45,
   "metadata": {},
   "outputs": [
    {
     "name": "stdout",
     "output_type": "stream",
     "text": [
      "medis 5\n",
      "aguona 6\n",
      "zibute 6\n",
      "marmaliadas 11\n",
      "suma:  28\n"
     ]
    }
   ],
   "source": [
    "# Kodą rašykite čia...\n",
    "\n",
    "sarasas=['medis','aguona','zibute','marmaliadas']\n",
    "suma=0\n",
    "for zodis in sarasas:\n",
    "    print(zodis, len(zodis))\n",
    "    suma+=len(zodis)\n",
    "print('suma: ', suma)"
   ]
  },
  {
   "attachments": {},
   "cell_type": "markdown",
   "metadata": {},
   "source": [
    "### Užduotis 17\n",
    "\n",
    "Susikurkite skaičių sąrašą ir užpildykite duomenimis. Raskite visų skaičių, kurie dalinasi iš 3 sumą ir vidurkį. Išveskite pradinius duomenis ir gautus atsakymus."
   ]
  },
  {
   "cell_type": "code",
   "execution_count": 36,
   "metadata": {},
   "outputs": [],
   "source": [
    "# Kodą rašykite čia...\n",
    "\n",
    "\n",
    "\n"
   ]
  },
  {
   "attachments": {},
   "cell_type": "markdown",
   "metadata": {},
   "source": [
    "### Užduotis 18\n",
    "\n",
    "Susikurkite sąrašą failų pavadinimams saugoti, užpildykite jį duomenimis. Įsivaizduokite kad jums reikės nuskaityti šiuos failus, todėl pirma norėsite patikrinti su kuriais galite dirbti. Atrinkite į atskirą sąrašą tik tuos failus, kurių galūnė yra .txt arba .json tipo. Išveskite atrinktus duomenis."
   ]
  },
  {
   "cell_type": "code",
   "execution_count": 37,
   "metadata": {},
   "outputs": [],
   "source": [
    "# Kodą rašykite čia...\n",
    "\n",
    "\n"
   ]
  },
  {
   "attachments": {},
   "cell_type": "markdown",
   "metadata": {},
   "source": [
    "### Užduotis 19\n",
    "\n",
    "Susikurkite sąrašą įvykusių klaidų kodams saugoti ir užpildykite šį masyvą duomenimis. Tuomet išveskite visas sukauptas klaidas administratoriui, taip, kad jis suprastų kas per klaidos įvyko. Pavyzdžiui, jeigu yra kodas \"ui87\", tai kad išvestų \"Grafinės sąsajos klaida navigacijoje\", arba jeigu kodas \"sys12\", tuomet \"Trūksta operatyviosios atminties sistemoje\" ir pan."
   ]
  },
  {
   "cell_type": "code",
   "execution_count": 38,
   "metadata": {},
   "outputs": [],
   "source": [
    "# Kodą rašykite čia...\n",
    "\n"
   ]
  },
  {
   "attachments": {},
   "cell_type": "markdown",
   "metadata": {},
   "source": [
    "### Užduotis 20\n",
    "\n",
    "Susikurkite sąrašą sandėlio likučiams saugoti (kiekvienas atskiras narys sąraše yra atskiros prekės likutis). Su kiekvienu likučiu paskaičiuokite per kiek dienų bus išpirktas, jei per dieną vidutiniškai yra nuperkami 5 vnt. Išveskite atsakymus atskirose eilutėse, nurodant kiek yra dabar ir kiek dienų užteks jo. Pavyzdžiui, jeigu yra likučiai 74, 54 ir 32, tai 74 vnt. prekės užteks maždaug 15 dienų, 54 vnt. prekės užteks maždaug 11 dienų ir t.t. Pabandykite papildyti programą taip, kad į atskirą sąrašą atrinktų tas prekes, kurių užteks savaitei ar mažiau, jas išveskite atskirai, pačioje pabaigoje."
   ]
  },
  {
   "cell_type": "code",
   "execution_count": 39,
   "metadata": {},
   "outputs": [],
   "source": [
    "# Kodą rašykite čia...\n"
   ]
  },
  {
   "attachments": {},
   "cell_type": "markdown",
   "metadata": {},
   "source": [
    "### Užduotis 21\n",
    "\n",
    "Susikurkite sąrašą norimiems žodžiams saugoti. Užpildykite šį sąrašą duomenimis. Į kitą sąrašą atrinkite tuos žodžius, kurie yra trumpi (sudaro mažiau nei 5 raidės). Išveskite pradinius duomenis ir atrinktus."
   ]
  },
  {
   "cell_type": "code",
   "execution_count": 40,
   "metadata": {},
   "outputs": [],
   "source": [
    "# Kodą rašykite čia...\n"
   ]
  }
 ],
 "metadata": {
  "kernelspec": {
   "display_name": "Python 3",
   "language": "python",
   "name": "python3"
  },
  "language_info": {
   "codemirror_mode": {
    "name": "ipython",
    "version": 3
   },
   "file_extension": ".py",
   "mimetype": "text/x-python",
   "name": "python",
   "nbconvert_exporter": "python",
   "pygments_lexer": "ipython3",
   "version": "3.13.1"
  },
  "orig_nbformat": 4,
  "vscode": {
   "interpreter": {
    "hash": "aa11ca274996316222ef16f35c5f6dbeb467b694c0b2154cdf34dcf9271d5fd0"
   }
  }
 },
 "nbformat": 4,
 "nbformat_minor": 2
}
