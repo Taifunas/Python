{
 "cells": [
  {
   "attachments": {},
   "cell_type": "markdown",
   "metadata": {},
   "source": [
    "# Sąrašai (`lists`) (6 dalis)"
   ]
  },
  {
   "attachments": {},
   "cell_type": "markdown",
   "metadata": {},
   "source": [
    "## Sąrašo išpakavimas (`list unpacking`)"
   ]
  },
  {
   "attachments": {},
   "cell_type": "markdown",
   "metadata": {},
   "source": [
    "## Pavyzdžiai"
   ]
  },
  {
   "cell_type": "code",
   "execution_count": 1,
   "metadata": {},
   "outputs": [
    {
     "name": "stdout",
     "output_type": "stream",
     "text": [
      "['Jonas', 'Jonaitis', 30, 180, 80, 36.6]\n"
     ]
    }
   ],
   "source": [
    "zmogus_informacija=['Jonas','Jonaitis',30,180,80,36.6]\n",
    "print(zmogus_informacija)"
   ]
  },
  {
   "cell_type": "code",
   "execution_count": 2,
   "metadata": {},
   "outputs": [
    {
     "name": "stdout",
     "output_type": "stream",
     "text": [
      "testas\n"
     ]
    }
   ],
   "source": [
    "a,b=1,2\n",
    "c,d,e='testas', True, False\n",
    "print(c)"
   ]
  },
  {
   "cell_type": "code",
   "execution_count": 3,
   "metadata": {},
   "outputs": [
    {
     "name": "stdout",
     "output_type": "stream",
     "text": [
      "Jonas\n",
      "Jonaitis\n"
     ]
    }
   ],
   "source": [
    "zmogus_informacija=['Jonas','Jonaitis',30,180,80,36.6]\n",
    "vardas,pavarde,amzius,ugis,svoris,temperatura=zmogus_informacija\n",
    "print(vardas)\n",
    "print(pavarde)"
   ]
  },
  {
   "cell_type": "code",
   "execution_count": 6,
   "metadata": {},
   "outputs": [],
   "source": [
    "sarasas=[1,2,3]\n",
    "vienas,du,trys=sarasas"
   ]
  },
  {
   "cell_type": "code",
   "execution_count": 8,
   "metadata": {},
   "outputs": [],
   "source": [
    "vienas, du, trys=[1,2,3]"
   ]
  },
  {
   "cell_type": "code",
   "execution_count": 11,
   "metadata": {},
   "outputs": [
    {
     "name": "stdout",
     "output_type": "stream",
     "text": [
      "[50, 100, 20, 300, 1000] <class 'list'>\n"
     ]
    }
   ],
   "source": [
    "kliento_informacija=['testas@gmail.com','Jonas',50,100,20,300,1000]\n",
    "email,name,*payments=kliento_informacija\n",
    "print(payments, type(payments))"
   ]
  },
  {
   "cell_type": "code",
   "execution_count": 13,
   "metadata": {},
   "outputs": [
    {
     "name": "stdout",
     "output_type": "stream",
     "text": [
      "[5, 4, 10, 10]\n"
     ]
    }
   ],
   "source": [
    "vardas,pavarde,*pazymiai,universitetas=['Ona','Kazlauskaite',5,4,10,10,'VU']\n",
    "print(pazymiai)"
   ]
  },
  {
   "attachments": {},
   "cell_type": "markdown",
   "metadata": {},
   "source": [
    "## Užduotys"
   ]
  },
  {
   "attachments": {},
   "cell_type": "markdown",
   "metadata": {},
   "source": [
    "### Užduotis 1\n",
    "\n",
    "Jums yra duotas sąrašas, kurį turite \"išpakuoti\" (atlikti `list unpacking`). Duotame sąraše informacija yra pasiskirsčiusi taip: markė; modelis; rida; metai; darbinis tūris. Ten kur yra duoti skaičiai, pamėginkite juos paversti į skaičius. Išsiveskite visą ištrauktą iš šio sąrašo informaciją."
   ]
  },
  {
   "cell_type": "code",
   "execution_count": 15,
   "metadata": {},
   "outputs": [
    {
     "name": "stdout",
     "output_type": "stream",
     "text": [
      "Audi\n"
     ]
    }
   ],
   "source": [
    "# .... = ['Audi', 'A4', 12454, 2010, 1.6]\n",
    "\n",
    "# Kodą rašykite čia...\n",
    "\n",
    "info=['Audi', 'A4', 12454, 2010, 1.6]\n",
    "marke,modelis,rida,metai,turis=info\n",
    "print(marke)\n"
   ]
  },
  {
   "attachments": {},
   "cell_type": "markdown",
   "metadata": {},
   "source": [
    "### Užduotis 2\n",
    "\n",
    "Jums yra duoti du sąrašai, kuriuos turite \"išpakuoti\" (atlikti `list unpacking`). Duotuose sąrašuose informacija yra pasiskirsčiusi taip: savaitė metuose; likusiose vietose temperatūrų vidurkiai. Ten kur yra duoti skaičiai, pamėginkite juos paversti į skaičius. Išsiveskite visą ištrauktą iš šio sąrašo informaciją.\n",
    "\n",
    "*Papildomai:*\n",
    "\n",
    "Pamėginkite rasti abiejų savaičių vidurkius. Suraskite kurios savaitės vidurkis didesnis ir per kiek išveskite."
   ]
  },
  {
   "cell_type": "code",
   "execution_count": 24,
   "metadata": {},
   "outputs": [
    {
     "name": "stdout",
     "output_type": "stream",
     "text": [
      "24 savaitė vid temp:  15.275 didesne per:  0.52\n"
     ]
    }
   ],
   "source": [
    "# ... = ['24 savaitė', 14.7, 15.8, 14.4, 16.2]\n",
    "# ... = ['25 savaitė', 15.2, 14.1, 16.5, 17.4]\n",
    "\n",
    "# Kodą rašykite čia...\n",
    "info1=['24 savaitė', 14.7, 15.8, 14.4, 16.2]\n",
    "info2=['25 savaitė', 15.2, 14.1, 16.5, 17.4]\n",
    "\n",
    "savaite1,*temp1=info1\n",
    "savaite2,*temp2=info2\n",
    "vid1=sum(temp1)/len(temp1)\n",
    "vid2=sum(temp2)/len(temp2)\n",
    "if vid1<vid2:\n",
    "    print(savaite1, 'vid temp: ', vid1,'didesne per: ',round(vid2-vid1,2))\n",
    "elif vid2>vid1:\n",
    "    print(savaite2, 'vid temp: ', vid2,'didesne per: ',vid1-vid2)\n",
    "else:\n",
    "    print('temp vienodos')"
   ]
  },
  {
   "attachments": {},
   "cell_type": "markdown",
   "metadata": {},
   "source": [
    "### Užduotis 3\n",
    "\n",
    "Jums yra duotas sąrašas, kurį turite \"išpakuoti\" (atlikti `list unpacking`). Duotame sąraše informacija yra pasiskirsčiusi taip: prekės pavadinimas; kaina; savikaina; kiekis sandėlyje. Ten kur yra duoti skaičiai, pamėginkite juos paversti į skaičius. Išsiveskite visą ištrauktą iš šio sąrašo informaciją. Raskite kiek būtų galima uždirbti pardavus visus šios prekės vienetus (nepamirškite atimti savikainos)."
   ]
  },
  {
   "cell_type": "code",
   "execution_count": 26,
   "metadata": {},
   "outputs": [
    {
     "name": "stdout",
     "output_type": "stream",
     "text": [
      "Preke Pieštukas Pelnas:  74\n"
     ]
    }
   ],
   "source": [
    "# ... = ['Pieštukas', 2, 1, 74]\n",
    "\n",
    "# Kodą rašykite čia...\n",
    "\n",
    "info=['Pieštukas', 2, 1, 74]\n",
    "preke,kaina,savikaina,kiekis=info\n",
    "print('Preke',preke,'Pelnas: ', (kaina-savikaina)*kiekis)"
   ]
  }
 ],
 "metadata": {
  "kernelspec": {
   "display_name": "Python 3",
   "language": "python",
   "name": "python3"
  },
  "language_info": {
   "codemirror_mode": {
    "name": "ipython",
    "version": 3
   },
   "file_extension": ".py",
   "mimetype": "text/x-python",
   "name": "python",
   "nbconvert_exporter": "python",
   "pygments_lexer": "ipython3",
   "version": "3.13.1"
  },
  "orig_nbformat": 4,
  "vscode": {
   "interpreter": {
    "hash": "aa11ca274996316222ef16f35c5f6dbeb467b694c0b2154cdf34dcf9271d5fd0"
   }
  }
 },
 "nbformat": 4,
 "nbformat_minor": 2
}
