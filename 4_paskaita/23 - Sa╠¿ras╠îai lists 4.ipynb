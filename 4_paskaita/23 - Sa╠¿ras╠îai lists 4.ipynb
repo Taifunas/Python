{
 "cells": [
  {
   "attachments": {},
   "cell_type": "markdown",
   "metadata": {},
   "source": [
    "# Sąrašai (`lists`) (4 dalis)"
   ]
  },
  {
   "attachments": {},
   "cell_type": "markdown",
   "metadata": {},
   "source": [
    "## Sąrašo karpymas (list slicing)\n",
    "\n",
    "Jeigu norime išsikarpyti tam tikras dalis iš sąrašo, tam mes galime naudoti metodiką pavadintą `list slicing`.\n",
    "\n",
    "Pats karpymas vyksta nurodant tam tikrus parametus tarp `[ ]` skliaustelių.\n",
    "\n",
    "Po karpymo yra grąžinamas naujas sąrašas.\n",
    "\n",
    "## Sintaksė\n",
    "\n",
    "Karpant sąrašą mes galima nurodyti norimus iškirpti rėžius tokiu būdu:\n",
    "\n",
    "```\n",
    "saraso_pavadinimas[pradzia:pabaiga]\n",
    "saraso_pavadinimas[pradzia:pabaiga:zingsnis]\n",
    "```\n",
    "\n",
    "Paaiškinimai:\n",
    "\n",
    "- `saraso_pavadinimas` - iš kurio sąrašo imama informacija.\n",
    "- `pradzia` - indeksas kuriuo pradedamas karpymas (įeina).\n",
    "- `pabaiga` - indeksas, kuriuo baigiamas karpymas (neįeina).\n",
    "- `zingsnis` - kiek elementų praleisti po kiekvieno paimto elemento.\n",
    "\n",
    "Karpant nebūtina nurodyti visų reikšmių.\n",
    "\n",
    "Viskas nuo pradžios iki nurodytos pabaigos:\n",
    "\n",
    "```\n",
    "saraso_pavadinimas[:pabaiga]\n",
    "```\n",
    "\n",
    "Viskas nuo nurodytos pradžios iki visiškai pabaigos:\n",
    "\n",
    "```\n",
    "saraso_pavadinimas[pradzia:]\n",
    "```\n",
    "\n",
    "Viskas nuo pradžios iki pabaigos:\n",
    "\n",
    "```\n",
    "saraso_pavadinimas[:]\n",
    "```\n",
    "\n",
    "Viskas nuo pradžios iki nurodytos pabaigos, darant nurodytą žingsnį:\n",
    "\n",
    "```\n",
    "saraso_pavadinimas[:pabaiga:zingsnis]\n",
    "```\n",
    "\n",
    "Viskas nuo nurodytos pradžios iki visiškai pabaigos, darant nurodytą žingsnį:\n",
    "\n",
    "```\n",
    "saraso_pavadinimas[pradzia::zingsnis]\n",
    "```\n",
    "\n",
    "Ir t.t."
   ]
  },
  {
   "attachments": {},
   "cell_type": "markdown",
   "metadata": {},
   "source": [
    "## Pavyzdžiai"
   ]
  },
  {
   "cell_type": "code",
   "execution_count": 3,
   "metadata": {},
   "outputs": [
    {
     "name": "stdout",
     "output_type": "stream",
     "text": [
      "['medis', 'kriause', 'popierius', 'medis', 'stalas']\n",
      "medis\n",
      "['medis', 'kriause', 'popierius']\n",
      "['popierius', 'medis', 'stalas']\n"
     ]
    }
   ],
   "source": [
    "zodziai=['medis','kriause','popierius','medis','stalas']\n",
    "\n",
    "print(zodziai)\n",
    "print(zodziai[0])\n",
    "print(zodziai[0:3])\n",
    "print(zodziai[2:10])"
   ]
  },
  {
   "cell_type": "code",
   "execution_count": 5,
   "metadata": {},
   "outputs": [
    {
     "name": "stdout",
     "output_type": "stream",
     "text": [
      "['popierius', 'medis', 'stalas']\n",
      "['medis', 'kriause', 'popierius']\n"
     ]
    }
   ],
   "source": [
    "zodziai=['medis','kriause','popierius','medis','stalas']\n",
    "print(zodziai[2:])\n",
    "print(zodziai[:3])"
   ]
  },
  {
   "cell_type": "code",
   "execution_count": 8,
   "metadata": {},
   "outputs": [
    {
     "name": "stdout",
     "output_type": "stream",
     "text": [
      "['medis', 'popierius', 'stalas']\n",
      "['medis', 'popierius', 'stalas']\n"
     ]
    }
   ],
   "source": [
    "zodziai=['medis','kriause','popierius','medis','stalas']\n",
    "print(zodziai[0:5:2])\n",
    "print(zodziai[::2])"
   ]
  },
  {
   "cell_type": "code",
   "execution_count": 9,
   "metadata": {},
   "outputs": [
    {
     "name": "stdout",
     "output_type": "stream",
     "text": [
      "['stalas', 'medis', 'popierius', 'kriause', 'medis']\n"
     ]
    }
   ],
   "source": [
    "zodziai=['medis','kriause','popierius','medis','stalas']\n",
    "print(zodziai[::-1])"
   ]
  },
  {
   "cell_type": "code",
   "execution_count": 17,
   "metadata": {},
   "outputs": [
    {
     "name": "stdout",
     "output_type": "stream",
     "text": [
      "['vw', 'audi', 'bmw', 'toyota', 'opel']\n",
      "True\n",
      "False\n",
      "['vw', 'audi', 'bmw', 'toyota', 'opel']\n",
      "['vw', 'audi', 'bmw', 'toyota', 'opel', 'peugeot']\n"
     ]
    }
   ],
   "source": [
    "automobiliai=['vw','audi','bmw','toyota','opel']\n",
    "kopija=automobiliai[:]\n",
    "\n",
    "print(kopija)\n",
    "\n",
    "print(automobiliai==kopija)\n",
    "print(automobiliai is kopija)\n",
    "\n",
    "kopija.append('peugeot')\n",
    "print(automobiliai)\n",
    "print(kopija)"
   ]
  },
  {
   "cell_type": "code",
   "execution_count": null,
   "metadata": {},
   "outputs": [],
   "source": []
  },
  {
   "cell_type": "code",
   "execution_count": null,
   "metadata": {},
   "outputs": [],
   "source": []
  },
  {
   "cell_type": "code",
   "execution_count": null,
   "metadata": {},
   "outputs": [],
   "source": []
  },
  {
   "cell_type": "code",
   "execution_count": null,
   "metadata": {},
   "outputs": [],
   "source": []
  },
  {
   "cell_type": "code",
   "execution_count": null,
   "metadata": {},
   "outputs": [],
   "source": []
  },
  {
   "attachments": {},
   "cell_type": "markdown",
   "metadata": {},
   "source": [
    "## Užduotys"
   ]
  },
  {
   "attachments": {},
   "cell_type": "markdown",
   "metadata": {},
   "source": [
    "### Užduotis 1\n",
    "\n",
    "Susikurkite pasirinktą sąrašą su duomenimis. Pritaikykite list slicing tokiais būdais ir gautus atsakymus išveskite:\n",
    "\n",
    "- Paimkite pirmus tris narius.\n",
    "- Paimkite du narius, pradedant trečiu.\n",
    "- Paimkite paskutinius keturis narius.\n",
    "- Paimkite kas antrą narį, pradedant trečiu nariu.\n",
    "- Paimkite visus atbuline tvarka."
   ]
  },
  {
   "cell_type": "code",
   "execution_count": 23,
   "metadata": {},
   "outputs": [
    {
     "data": {
      "text/plain": [
       "[10, 9, 8, 7, 6, 5, 4, 3, 2, 1]"
      ]
     },
     "execution_count": 23,
     "metadata": {},
     "output_type": "execute_result"
    }
   ],
   "source": [
    "# Kodą rašykite čia...\n",
    "\n",
    "duomenys = [1, 2, 3, 4, 5, 6, 7, 8, 9, 10]\n",
    "duomenys[:3]\n",
    "duomenys[2:4]\n",
    "duomenys[6:]\n",
    "duomenys[2::2]\n",
    "duomenys[::-1]\n"
   ]
  },
  {
   "attachments": {},
   "cell_type": "markdown",
   "metadata": {},
   "source": [
    "### Užduotis 2\n",
    "\n",
    "Susikurkite sąrašą studentų vidurkiams saugoti. Išsitraukite ir pasidėkite į atskirą sąrašą tris didžiausius pažymius (galite surikiuoti ir išsikirpti ką reikia)."
   ]
  },
  {
   "cell_type": "code",
   "execution_count": 35,
   "metadata": {},
   "outputs": [
    {
     "name": "stdout",
     "output_type": "stream",
     "text": [
      "[9.2, 8.9, 8.3]\n"
     ]
    }
   ],
   "source": [
    "# Kodą rašykite čia...\n",
    "\n",
    "studentu_vidurkiai = [7.8, 6.5, 9.2, 8.3, 7.1, 8.9, 6.7]\n",
    "sarasas=sorted(studentu_vidurkiai, reverse=True)\n",
    "print(sarasas[:3])\n",
    "\n",
    "\n",
    "#skaiciai=[5,10,4,32,2354,12,1,4342]\n",
    "#sorted_skaiciai=sorted(skaiciai)\n",
    "#print(skaiciai)\n",
    "#print(sorted_skaiciai)\n",
    "\n"
   ]
  },
  {
   "attachments": {},
   "cell_type": "markdown",
   "metadata": {},
   "source": [
    "### Užduotis 3\n",
    "\n",
    "Pamėginkite sukurti žodžių žodyną. Šį žodyną turėtų užpildyti vartotojas, įvesdamas visus norimus žodžius. Po kiekvieno įvedimo jam turėtų būti parodomi visi žodžiai, tačiau surikiuoti, t.y. įdėjus žodį į sąrašą, jį surikiuokite iš naujo ir parodykite."
   ]
  },
  {
   "cell_type": "code",
   "execution_count": null,
   "metadata": {},
   "outputs": [
    {
     "name": "stdout",
     "output_type": "stream",
     "text": [
      "['labas']\n",
      "['labas', 'vakaras']\n",
      "['labas', 'publika', 'vakaras']\n"
     ]
    }
   ],
   "source": [
    "# Kodą rašykite čia...\n",
    "\n",
    "zodynas=[]\n",
    "while True:\n",
    "    dar_ivesti = 't'\n",
    "    while dar_ivesti.lower() == 't':\n",
    "        zod = input('iveskite zodi')\n",
    "        zodynas.append(zod)\n",
    "        zodynas.sort()\n",
    "        print(zodynas)\n",
    "        dar_ivesti = input('Ar norite dar karta ivesti? t/n')\n",
    "    if dar_ivesti != 't':\n",
    "        break\n",
    "    "
   ]
  },
  {
   "attachments": {},
   "cell_type": "markdown",
   "metadata": {},
   "source": [
    "### Užduotis 4\n",
    "\n",
    "Sukurkite sąrašą, kuriame saugotumėte sandėlio likučius. Į atskirą sąrašą persikelkite visus likučius kurių lieka mažai (mažiau nei 5 vnt. arba trijų prekių likučius, kurių likę mažiausiai)."
   ]
  },
  {
   "cell_type": "code",
   "execution_count": 43,
   "metadata": {},
   "outputs": [
    {
     "name": "stdout",
     "output_type": "stream",
     "text": [
      "[['Bananai', 3], ['Kiviai', 2], ['Abrikosai', 4], ['Slyvos', 1]]\n",
      "[['Slyvos', 1], ['Kiviai', 2], ['Bananai', 3], ['Abrikosai', 4], ['Persikai', 6], ['Mangai', 7], ['Mandarinai', 8], ['Vyšnios', 12], ['Ananasai', 15], ['Obuoliai', 20]]\n"
     ]
    },
    {
     "data": {
      "text/plain": [
       "[['Slyvos', 1], ['Kiviai', 2], ['Bananai', 3]]"
      ]
     },
     "execution_count": 43,
     "metadata": {},
     "output_type": "execute_result"
    }
   ],
   "source": [
    "# Kodą rašykite čia...\n",
    "\n",
    "sandelio_likuciai = [\n",
    "    [\"Obuoliai\", 20],\n",
    "    [\"Bananai\", 3],\n",
    "    [\"Mandarinai\", 8],\n",
    "    [\"Ananasai\", 15],\n",
    "    [\"Kiviai\", 2],\n",
    "    [\"Persikai\", 6],\n",
    "    [\"Abrikosai\", 4],\n",
    "    [\"Vyšnios\", 12],\n",
    "    [\"Slyvos\", 1],\n",
    "    [\"Mangai\", 7]\n",
    "]\n",
    "\n",
    "#print(sandelio_likuciai)\n",
    "#sandelio_likuciai[0][1]\n",
    "trukumas=[]\n",
    "for i in range(len(sandelio_likuciai)):\n",
    "    if sandelio_likuciai[i][1]<5:\n",
    "        #print(sandelio_likuciai[i])\n",
    "        trukumas.append(sandelio_likuciai[i])\n",
    "print(trukumas)\n",
    "\n",
    "isrikiuotas=sorted(sandelio_likuciai, key=lambda x: x[1])\n",
    "print(isrikiuotas)\n",
    "isrikiuotas[:3]"
   ]
  }
 ],
 "metadata": {
  "kernelspec": {
   "display_name": "Python 3",
   "language": "python",
   "name": "python3"
  },
  "language_info": {
   "codemirror_mode": {
    "name": "ipython",
    "version": 3
   },
   "file_extension": ".py",
   "mimetype": "text/x-python",
   "name": "python",
   "nbconvert_exporter": "python",
   "pygments_lexer": "ipython3",
   "version": "3.13.1"
  },
  "orig_nbformat": 4,
  "vscode": {
   "interpreter": {
    "hash": "aa11ca274996316222ef16f35c5f6dbeb467b694c0b2154cdf34dcf9271d5fd0"
   }
  }
 },
 "nbformat": 4,
 "nbformat_minor": 2
}
