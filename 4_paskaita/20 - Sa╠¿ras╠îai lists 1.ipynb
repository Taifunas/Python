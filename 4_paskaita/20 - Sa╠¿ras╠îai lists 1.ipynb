{
 "cells": [
  {
   "attachments": {},
   "cell_type": "markdown",
   "metadata": {},
   "source": [
    "# Sąrašai (`lists`) (1 dalis)"
   ]
  },
  {
   "attachments": {},
   "cell_type": "markdown",
   "metadata": {},
   "source": [
    "## Apie sąrašus\n",
    "\n",
    "Sąrašus galima įsivaizduoti kaip duomenų rinkinį. Galimi pavyzdžiai būtų tokie:\n",
    "\n",
    "- studentų pažymiai;\n",
    "- žodžiai;\n",
    "- prekės;\n",
    "- studentai;\n",
    "- automobiliai;\n",
    "- ..."
   ]
  },
  {
   "attachments": {},
   "cell_type": "markdown",
   "metadata": {},
   "source": [
    "## Sąrašo kūrimas\n",
    "\n",
    "Tuščias sąrašas (be duomenų):\n",
    "\n",
    "```\n",
    "saraso_pavadinimas = []\n",
    "```\n",
    "\n",
    "Pavyzdžiui:"
   ]
  },
  {
   "cell_type": "code",
   "execution_count": 13,
   "metadata": {},
   "outputs": [
    {
     "name": "stdout",
     "output_type": "stream",
     "text": [
      "<class 'list'>\n"
     ]
    }
   ],
   "source": [
    "informacija=[]\n",
    "print(type(informacija))"
   ]
  },
  {
   "attachments": {},
   "cell_type": "markdown",
   "metadata": {},
   "source": [
    "\n",
    "Sąrašas su duomenimis:\n",
    "\n",
    "```\n",
    "saraso_pavadinimas = [reikšmė, reikšmė, reikšmė, ...]\n",
    "```\n",
    "\n",
    "Pavyzdžiui:"
   ]
  },
  {
   "cell_type": "code",
   "execution_count": 14,
   "metadata": {},
   "outputs": [
    {
     "name": "stdout",
     "output_type": "stream",
     "text": [
      "[7, 6, 5, 4, 3, 2, 1]\n"
     ]
    }
   ],
   "source": [
    "skaiciai=[7,6,5,4,3,2,1]\n",
    "print(skaiciai)"
   ]
  },
  {
   "cell_type": "code",
   "execution_count": 6,
   "metadata": {},
   "outputs": [],
   "source": []
  },
  {
   "attachments": {},
   "cell_type": "markdown",
   "metadata": {},
   "source": [
    "## Viso sąrašo atvaizdavimas\n",
    "\n",
    "Jeigu norime atvaizduoti informaciją iš viso sąrašo, tai galime padaryti taip:"
   ]
  },
  {
   "cell_type": "code",
   "execution_count": null,
   "metadata": {},
   "outputs": [],
   "source": []
  },
  {
   "cell_type": "code",
   "execution_count": null,
   "metadata": {},
   "outputs": [],
   "source": []
  },
  {
   "attachments": {},
   "cell_type": "markdown",
   "metadata": {},
   "source": [
    "## Sąrašo papildymas\n",
    "\n",
    "Jeigu norima papildyti jau egzistuojantį sąrašą, tam galima naudoti `append()` arba `extend()` metodus.\n",
    "\n",
    "Pavyzdžiui:"
   ]
  },
  {
   "cell_type": "code",
   "execution_count": 15,
   "metadata": {},
   "outputs": [
    {
     "name": "stdout",
     "output_type": "stream",
     "text": [
      "[1, 2, 3, 4, 5]\n",
      "[1, 2, 3, 4, 5]\n",
      "[1, 2, 3, 4, 5, [1, 2, 3]]\n",
      "[1, 2, 3, 4, 5, [1, 2, 3]]\n",
      "[1, 2, 3, 4, 5, [1, 2, 3], 1, 2, 3]\n"
     ]
    }
   ],
   "source": [
    "skaiciai = [1,2,3,4]\n",
    "\n",
    "skaiciai.append(5)\n",
    "\n",
    "print(skaiciai)\n",
    "\n",
    "print(skaiciai)\n",
    "skaiciai.append([1,2,3])\n",
    "print(skaiciai)\n",
    "\n",
    "print(skaiciai)\n",
    "skaiciai.extend([1,2,3]) # naudojamas kai norime prideti saraso narius juo pasklaiziant\n",
    "print(skaiciai)"
   ]
  },
  {
   "attachments": {},
   "cell_type": "markdown",
   "metadata": {},
   "source": [
    "## Sąrašo elementų kiekis\n",
    "\n",
    "Norėdami išsiaiškinti kiek sąraše yra elementų, mes galima naudoti `len()` funkciją:\n",
    "\n",
    "```\n",
    "len(saraso_pavadinimas)\n",
    "```\n",
    "\n",
    "Pavyzdžiui:"
   ]
  },
  {
   "cell_type": "code",
   "execution_count": 19,
   "metadata": {},
   "outputs": [
    {
     "name": "stdout",
     "output_type": "stream",
     "text": [
      "3\n",
      "['semkadieni', 'bus', 'sauleta', 'ir', 'silta', 'diena']\n",
      "6\n"
     ]
    }
   ],
   "source": [
    "pasisveikinimai=['labas', 'sveiki', 'hi']\n",
    "print(len(pasisveikinimai))\n",
    "\n",
    "sakinys='semkadieni bus sauleta ir silta diena'\n",
    "sakinys_liste=sakinys.split()\n",
    "\n",
    "print(sakinys_liste)\n",
    "print(len(sakinys_liste))\n",
    "\n"
   ]
  },
  {
   "attachments": {},
   "cell_type": "markdown",
   "metadata": {},
   "source": [
    "## Indeksavimas\n",
    "\n",
    "Jeigu sąrašuose yra duomenų, tai kiekvienas elementas tame sąraše turi savo indeksą. O su šio indekso pagalba galima tą informaciją pasiekti arba pakeisti.\n",
    "\n",
    "Indeksai yra skaičiuojami pradedant nuo 0.\n",
    "\n",
    "Tarkime, turime tokį sąrašą:\n",
    "\n",
    "```\n",
    "pazymiai = [7, 8, 5, 9, 10, 6]\n",
    "```\n",
    "\n",
    "Tai kiekvienas elementas iš sąrašo įgaus tokius indeksus:\n",
    "\n",
    "| Elementas iš sąrašo | 7 | 8 | 5 | 9 | 10 | 6 |\n",
    "|-|-|-|-|-|-|-|\n",
    "| Priskirtas indeksas | 0 | 1 | 2 | 3 | 4 | 5 |\n",
    "\n",
    "Arba jeigu turime tokį sąrašą:\n",
    "\n",
    "```\n",
    "medziai = ['Gluosnis', 'Ąžuolas', 'Liepa', 'Berželis', 'Obelis']\n",
    "```\n",
    "\n",
    "Tai kiekvienas elementas iš sąrašo įgaus tokius indeksus:\n",
    "\n",
    "| Elementas iš sąrašo | 'Gluosnis' | 'Ąžuolas' | 'Liepa' | 'Berželis' | 'Obelis' |\n",
    "|-|-|-|-|-|-|\n",
    "| Priskirtas indeksas | 0 | 1 | 2 | 3 | 4 |\n",
    "\n",
    "Python taip pat leidžia indeksavimą taikyti žiūrint nuo galo, o tuo atveju numeracija pradedama nuo -1, pavyzdžiui:\n",
    "\n",
    "| Elementas iš sąrašo | 'Gluosnis' | 'Ąžuolas' | 'Liepa' | 'Berželis' | 'Obelis' |\n",
    "|-|-|-|-|-|-|\n",
    "| Priskirtas indeksas (nuo galo) | -5 | -4 | -3 | -2 | -1 |"
   ]
  },
  {
   "attachments": {},
   "cell_type": "markdown",
   "metadata": {},
   "source": [
    "### Indekso naudojimo sintaksė\n",
    "\n",
    "Norint gauti informaciją:\n",
    "\n",
    "```\n",
    "saraso_pavadinimas[indeksas]\n",
    "```\n",
    "\n",
    "Norint atnaujinti informaciją:\n",
    "\n",
    "```\n",
    "saraso_pavadinimas[indeksas] = nauja_reiksme\n",
    "```"
   ]
  },
  {
   "attachments": {},
   "cell_type": "markdown",
   "metadata": {},
   "source": [
    "### Užduotis žodžiu: koks indeksas arba reikšmė?\n",
    "\n",
    "| Reikšmė | 5 | 8 | 9 | 3 | -1 | 7 | -2 | 4 |\n",
    "|-|-|-|-|-|-|-|-|-|\n",
    "| Indesas | 0 | 1 | 2 | 3 | 4 | 5 | 6 | 7 |\n",
    "\n",
    "- skaiciai[???] = 5\n",
    "- skaiciai[3] = ???\n",
    "- skaiciai[6] = ???\n",
    "- skaiciai[???] = 8\n",
    "- skaiciai[???] = 7\n",
    "- skaiciai[4] = ???\n",
    "- skaiciai[???] = 9\n",
    "- skaiciai[???] = 4"
   ]
  },
  {
   "cell_type": "markdown",
   "metadata": {},
   "source": []
  },
  {
   "attachments": {},
   "cell_type": "markdown",
   "metadata": {},
   "source": [
    "## Pavyzdžiai"
   ]
  },
  {
   "cell_type": "code",
   "execution_count": 22,
   "metadata": {},
   "outputs": [
    {
     "name": "stdout",
     "output_type": "stream",
     "text": [
      "a\n",
      "b\n",
      "e\n"
     ]
    }
   ],
   "source": [
    "raides=['a','b','c','d','e']\n",
    "print(raides[0])\n",
    "print(raides[1])\n",
    "print(raides[-1])"
   ]
  },
  {
   "cell_type": "code",
   "execution_count": 26,
   "metadata": {},
   "outputs": [
    {
     "name": "stdout",
     "output_type": "stream",
     "text": [
      "skaiciai [47, 54, 23, 345435, 234, 234, 23534]\n",
      "pirmas saraso narys 47\n",
      "nariu kiekis sarase 7\n",
      "paskutinis narys is saraso 23534\n",
      "paskutinis narys is saraso 23534\n"
     ]
    }
   ],
   "source": [
    "skaiciai=[47,54,23,345435,234,234,23534]\n",
    "print('skaiciai', skaiciai)\n",
    "print('pirmas saraso narys', skaiciai[0])\n",
    "print('nariu kiekis sarase', len(skaiciai))\n",
    "print('paskutinis narys is saraso', skaiciai[-1])\n",
    "print('paskutinis narys is saraso', skaiciai[len(skaiciai)-1])"
   ]
  },
  {
   "cell_type": "code",
   "execution_count": 5,
   "metadata": {},
   "outputs": [
    {
     "name": "stdout",
     "output_type": "stream",
     "text": [
      "studento pazymiai [8, 10, 5, 6, 4, 9]\n",
      "42 7.0\n"
     ]
    },
    {
     "ename": "TypeError",
     "evalue": "object of type 'float' has no len()",
     "output_type": "error",
     "traceback": [
      "\u001b[1;31m---------------------------------------------------------------------------\u001b[0m",
      "\u001b[1;31mTypeError\u001b[0m                                 Traceback (most recent call last)",
      "Cell \u001b[1;32mIn[5], line 10\u001b[0m\n\u001b[0;32m      7\u001b[0m \u001b[38;5;28mprint\u001b[39m(suma, vidurkis)\n\u001b[0;32m      9\u001b[0m suma\u001b[38;5;241m=\u001b[39m\u001b[38;5;28msum\u001b[39m(pazymiai)\n\u001b[1;32m---> 10\u001b[0m vidurkis\u001b[38;5;241m=\u001b[39msuma\u001b[38;5;241m/\u001b[39m\u001b[38;5;28;43mlen\u001b[39;49m\u001b[43m(\u001b[49m\u001b[43mvidurkis\u001b[49m\u001b[43m)\u001b[49m\n",
      "\u001b[1;31mTypeError\u001b[0m: object of type 'float' has no len()"
     ]
    }
   ],
   "source": [
    "pazymiai=[8,10,5,6,4,9]\n",
    "\n",
    "print('studento pazymiai', pazymiai)\n",
    "\n",
    "suma = pazymiai[0]+pazymiai[1]+pazymiai[2]+pazymiai[3]+pazymiai[4]+pazymiai[5]\n",
    "vidurkis=suma/len(pazymiai)\n",
    "print(suma, vidurkis)\n",
    "\n",
    "suma=sum(pazymiai)\n",
    "vidurkis=suma/len(vidurkis)"
   ]
  },
  {
   "cell_type": "code",
   "execution_count": 10,
   "metadata": {},
   "outputs": [
    {
     "name": "stdout",
     "output_type": "stream",
     "text": [
      "['Agne', 'Tomas', 'Romas', 'Juste']\n",
      "['Agne', 'Paulius', 'Saulius', 'Juste']\n"
     ]
    }
   ],
   "source": [
    "vardai=['Agne', 'Tomas', 'Romas','Juste']\n",
    "\n",
    "print(vardai)\n",
    "\n",
    "vardai[1]='Paulius'\n",
    "vardai[2]='Saulius'\n",
    "#vardai[10]='Testas' jei indeksas per didelis mes klaida\n",
    "print(vardai)"
   ]
  },
  {
   "cell_type": "code",
   "execution_count": 9,
   "metadata": {},
   "outputs": [
    {
     "name": "stdout",
     "output_type": "stream",
     "text": [
      "[96, 77, 35, 18, 72, 92, 52, 26, 85, 51, 92, 64, 7, 56, 63, 67, 81, 69, 5, 59, 94, 59, 24, 64, 22, 74, 39, 46, 61, 32, 48, 13, 23, 95, 10, 21, 57, 83, 7, 8, 56, 78, 25, 50, 89, 19, 68, 16, 72, 89, 100, 36, 49, 35, 26, 26, 28, 100, 12, 57, 77, 26, 87, 95, 66, 40, 36, 92, 40, 45, 94, 43, 9, 79, 91, 42, 42, 32, 35, 42, 19, 62, 21, 32, 26, 9, 76, 81, 6, 69, 55, 98, 96, 79, 91, 47, 44, 9, 77, 8]\n"
     ]
    }
   ],
   "source": [
    "from random import randint\n",
    "\n",
    "skaiciai=[]\n",
    "\n",
    "for _ in range(100):\n",
    "    skaiciai.append(randint(1,100))\n",
    "print(skaiciai)"
   ]
  },
  {
   "cell_type": "code",
   "execution_count": null,
   "metadata": {},
   "outputs": [],
   "source": []
  },
  {
   "cell_type": "code",
   "execution_count": null,
   "metadata": {},
   "outputs": [],
   "source": []
  },
  {
   "cell_type": "code",
   "execution_count": null,
   "metadata": {},
   "outputs": [],
   "source": []
  },
  {
   "cell_type": "code",
   "execution_count": null,
   "metadata": {},
   "outputs": [],
   "source": []
  },
  {
   "cell_type": "code",
   "execution_count": null,
   "metadata": {},
   "outputs": [],
   "source": []
  },
  {
   "attachments": {},
   "cell_type": "markdown",
   "metadata": {},
   "source": [
    "## Užduotys"
   ]
  },
  {
   "attachments": {},
   "cell_type": "markdown",
   "metadata": {},
   "source": [
    "### Užduotis 1\n",
    "\n",
    "Susikurkite sąrašą vardams saugoti ir užpildykite jį informacija. Išveskite visą šį sąrašą, tuomet pirmą vardą iš jo, trečią vardą iš jo, paskutinį vardą, bei kiek šiame sąraše yra įvestų vardų."
   ]
  },
  {
   "cell_type": "code",
   "execution_count": 15,
   "metadata": {},
   "outputs": [
    {
     "name": "stdout",
     "output_type": "stream",
     "text": [
      "vardas1 vardas3 vardas2 is viso vardu  3\n"
     ]
    }
   ],
   "source": [
    "# Kodą rašykite čia...\n",
    "sarasas=['vardas1', 'vardas2', 'vardas3']\n",
    "\n",
    "print(sarasas[0],sarasas[2],sarasas[1], \"is viso vardu \", len(sarasas))"
   ]
  },
  {
   "attachments": {},
   "cell_type": "markdown",
   "metadata": {},
   "source": [
    "### Užduotis 2\n",
    "\n",
    "Susikurkite sąrašą, kuriame būtų išsaugoti prekių pavadinimai (pvz.: obuoliai, kriaušės, morkos, svogūnai, ...). Išveskite viso šio sąrašo informaciją. Pakeiskite trijų pasirinktų narių reikšmes į kitas. Išsiveskite pakeisto sąrašo informaciją."
   ]
  },
  {
   "cell_type": "code",
   "execution_count": 16,
   "metadata": {},
   "outputs": [
    {
     "name": "stdout",
     "output_type": "stream",
     "text": [
      "['obuoliai', 'kirauses', 'morkos', 'svogunai']\n",
      "['obuoliai', 'moliugai', 'bulves', 'agurkai']\n"
     ]
    }
   ],
   "source": [
    "# Kodą rašykite čia...\n",
    "sarasas=['obuoliai', 'kirauses', 'morkos','svogunai']\n",
    "print(sarasas)\n",
    "sarasas[3]='agurkai'\n",
    "sarasas[2]='bulves'\n",
    "sarasas[1]='moliugai'\n",
    "print(sarasas)\n",
    "\n"
   ]
  },
  {
   "attachments": {},
   "cell_type": "markdown",
   "metadata": {},
   "source": [
    "### Užduotis 3\n",
    "\n",
    "Susikurkite sąrašą žmonių ūgiams saugoti ir užpildykite jį informacija. Išveskite viso šio sąrašo duomenis bei kiek įvestų ūgių turite."
   ]
  },
  {
   "cell_type": "code",
   "execution_count": 18,
   "metadata": {},
   "outputs": [
    {
     "name": "stdout",
     "output_type": "stream",
     "text": [
      "[1.9, 2.1, 1.7, 1.5] 4\n"
     ]
    }
   ],
   "source": [
    "# Kodą rašykite čia...\n",
    "sarasas=[1.9,2.1,1.7,1.5]\n",
    "print(sarasas, len(sarasas))"
   ]
  },
  {
   "attachments": {},
   "cell_type": "markdown",
   "metadata": {},
   "source": [
    "### Užduotis 4\n",
    "\n",
    "Susikurkite sąrašą, kuriame būtų saugomas miestų sąrašas. Į šį sąrašą iškart įrašykite keletą miestų. Šį sąrašą išveskite, kad matytųsi visi jo duomenys, taip pat, išveskite kiek miestų jame yra. Tuomet šį sąrašą papildykite su `append` ir/ar `extend` metodu. Vėl pakartokite visą jo išvedimą ir kiek narių jame yra.\n",
    "\n",
    "*Papildomai:*\n",
    "\n",
    "Sugalvokite kaip galėtumėte vartotojui parodyti kiek naujų miestų buvo įrašyta į sąrašą. Pvz.: jeigu sąraše buvo Kaunas ir Vilnius, o su `append` / `extend` buvo pridėta dar Klaipėda, Šiauliai ir Biržai, tai tuomet išveskite, kad buvo pridėti 3 nauji miestai. Ši dalis turėtų būti išspręsta su `len` funkcija, tačiau greičiausiai reikės užsisaugoti tarpinius rezultatus."
   ]
  },
  {
   "cell_type": "code",
   "execution_count": 27,
   "metadata": {},
   "outputs": [
    {
     "name": "stdout",
     "output_type": "stream",
     "text": [
      "['Siauliai', 'Vilnius', 'Kaunas', 'Klaipeda'] 4\n",
      "['Siauliai', 'Vilnius', 'Kaunas', 'Klaipeda', 'Jonava']\n",
      "['Siauliai', 'Vilnius', 'Kaunas', 'Klaipeda', 'Jonava', 'kebabiseks', 'kernaviskes', 'lavasiskes']\n"
     ]
    }
   ],
   "source": [
    "# Kodą rašykite čia...\n",
    "\n",
    "sarasas=['Siauliai','Vilnius','Kaunas','Klaipeda']\n",
    "print(sarasas, len(sarasas))\n",
    "\n",
    "sarasas.append('Jonava') # prideda pabaigoj\n",
    "print(sarasas)\n",
    "sarasas.extend(['kebabiseks','kernaviskes','lavasiskes']) #prideda lista\n",
    "print(sarasas)\n"
   ]
  },
  {
   "attachments": {},
   "cell_type": "markdown",
   "metadata": {},
   "source": [
    "### Užduotis 5\n",
    "\n",
    "Susikurkite sąrašą pažymiams saugoti. Pamėginkite sukurti programą, kur vartotojas galėtų suvesti norimą kiekį naujų duomenų. Galiausiai išveskite visus pažymius ir jų kiekį."
   ]
  },
  {
   "cell_type": "code",
   "execution_count": 28,
   "metadata": {},
   "outputs": [
    {
     "name": "stdout",
     "output_type": "stream",
     "text": [
      "['1', '2', '3', '4', '5'] 5\n"
     ]
    }
   ],
   "source": [
    "# Kodą rašykite čia...\n",
    "pazymiai=input('iveskite pazymius per tarpa: ').split()\n",
    "\n",
    "print(pazymiai, len(pazymiai))\n",
    "\n"
   ]
  },
  {
   "attachments": {},
   "cell_type": "markdown",
   "metadata": {},
   "source": [
    "### Užduotis 6\n",
    "\n",
    "Susikurkite tuščią sąrašą. Užpildykite šį sąrašą keliais atsitiktinai sugeneruotais skaičiais. Išveskite šio sąrašo informaciją. Raskite turimų skaičių sumą ir vidurkį."
   ]
  },
  {
   "cell_type": "code",
   "execution_count": 56,
   "metadata": {},
   "outputs": [
    {
     "name": "stdout",
     "output_type": "stream",
     "text": [
      "[5, 9]\n",
      "14 7.0\n"
     ]
    }
   ],
   "source": [
    "# Kodą rašykite čia...\n",
    "from random import randint\n",
    "\n",
    "skaiciai=[]\n",
    "\n",
    "for _ in range(2): #range (kiek kartu suksis)\n",
    "    skaiciai.append(randint(1,10)) #random skaiciai is aibes (randint)\n",
    "print(skaiciai)\n",
    "#suma=skaiciai[0]+skaiciai[1]\n",
    "suma1=sum(skaiciai)\n",
    "vidurkis=suma1/len(skaiciai)\n",
    "print(suma1, vidurkis)\n"
   ]
  },
  {
   "attachments": {},
   "cell_type": "markdown",
   "metadata": {},
   "source": [
    "### Užduotis 7\n",
    "\n",
    "Sukurkite du sąrašus dviejų studentų pažymiams saugoti. Įveskite po 3-5 pažymius kiekvienam studentui (iškart kuriant sąrašus arba per `append` / `extend` metodus). Suskaičiuokite ir išveskite jų vidurkius. Išsiaiškinkite kurio studento vidurkis didesnis ir per kiek didesnis nei kito studento vidurkis, išveskite gautus atsakymus."
   ]
  },
  {
   "cell_type": "code",
   "execution_count": 63,
   "metadata": {},
   "outputs": [
    {
     "name": "stdout",
     "output_type": "stream",
     "text": [
      "pirmo studento vidurkis didesnis per 3.0\n"
     ]
    }
   ],
   "source": [
    "# Kodą rašykite čia...\n",
    "studentas1=[2,3,5,6,7]\n",
    "studentas2=[5,6,8,9,10]\n",
    "\n",
    "sum_studentas1=sum(studentas1)\n",
    "sum_studentas2=sum(studentas2)\n",
    "vid_studentas1=sum_studentas1/len(studentas1)\n",
    "vid_studentas2=sum_studentas2/len(studentas2)\n",
    "\n",
    "if vid_studentas1>vid_studentas2:\n",
    "    skirtumas=vid_studentas1-vid_studentas2\n",
    "    print(f'pirmo studento vidurkis didesnis per {skirtumas}')\n",
    "elif vid_studentas1<vid_studentas2:\n",
    "    skirtumas1=vid_studentas2-vid_studentas1\n",
    "    print(f'pirmo studento vidurkis didesnis per {skirtumas1}')\n",
    "else:\n",
    "    print('vidrukiai vienodi')"
   ]
  }
 ],
 "metadata": {
  "kernelspec": {
   "display_name": "Python 3",
   "language": "python",
   "name": "python3"
  },
  "language_info": {
   "codemirror_mode": {
    "name": "ipython",
    "version": 3
   },
   "file_extension": ".py",
   "mimetype": "text/x-python",
   "name": "python",
   "nbconvert_exporter": "python",
   "pygments_lexer": "ipython3",
   "version": "3.13.1"
  },
  "orig_nbformat": 4,
  "vscode": {
   "interpreter": {
    "hash": "aa11ca274996316222ef16f35c5f6dbeb467b694c0b2154cdf34dcf9271d5fd0"
   }
  }
 },
 "nbformat": 4,
 "nbformat_minor": 2
}
