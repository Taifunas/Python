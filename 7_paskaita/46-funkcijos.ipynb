{
 "cells": [
  {
   "cell_type": "markdown",
   "metadata": {},
   "source": [
    "# Funkcijos (4 dalis)"
   ]
  },
  {
   "cell_type": "markdown",
   "metadata": {},
   "source": [
    "## Dabar pamėginsime panaudoti return dalį\n",
    "\n",
    "Funkcijos aprašymas:\n",
    "\n",
    "```\n",
    "def funkcijos_pavadinimas():\n",
    "    # funkcijos kodas\n",
    "    return grazinamas_atsakymas\n",
    "```\n",
    "\n",
    "1-as variantas panaudoti funkcijos atsakymą:\n",
    "\n",
    "```\n",
    "print( funkcijos_pavadinimas() )\n",
    "```\n",
    "\n",
    "2-as variantas panaudoti funkcijos atsakymą:\n",
    "\n",
    "```\n",
    "atsakymas = funkcijos_pavadinimas()\n",
    "print(atsakymas)\n",
    "```"
   ]
  },
  {
   "cell_type": "markdown",
   "metadata": {},
   "source": [
    "## Taip pat, return su parametrais / argumentais\n",
    "\n",
    "Funkcijos aprašymas:\n",
    "\n",
    "```\n",
    "def funkcijos_pavadinimas(parametras1, parametras2, ...):\n",
    "    # funkcijos kodas\n",
    "    return grazinamas_atsakymas\n",
    "```\n",
    "\n",
    "1-as variantas panaudoti funkcijos atsakymą:\n",
    "\n",
    "```\n",
    "print( funkcijos_pavadinimas(argumentas1, argumentas2, ...) )\n",
    "```\n",
    "\n",
    "2-as variantas panaudoti funkcijos atsakymą:\n",
    "\n",
    "```\n",
    "atsakymas = funkcijos_pavadinimas(argumentas1, argumentas2, ...)\n",
    "print(atsakymas)\n",
    "```"
   ]
  },
  {
   "cell_type": "markdown",
   "metadata": {},
   "source": [
    "## Pavyzdžiai"
   ]
  },
  {
   "cell_type": "code",
   "execution_count": 2,
   "metadata": {},
   "outputs": [
    {
     "name": "stdout",
     "output_type": "stream",
     "text": [
      "10\n",
      "10\n",
      "None\n"
     ]
    }
   ],
   "source": [
    "def sk():\n",
    "    return 10\n",
    "\n",
    "a = sk()\n",
    "print(a)\n",
    "\n",
    "def sk1():\n",
    "    print(10)\n",
    "\n",
    "b=sk1()\n",
    "print(b)"
   ]
  },
  {
   "cell_type": "code",
   "execution_count": 3,
   "metadata": {},
   "outputs": [
    {
     "name": "stdout",
     "output_type": "stream",
     "text": [
      "15\n"
     ]
    }
   ],
   "source": [
    "def suma(a,b):\n",
    "    return a+b\n",
    "\n",
    "rezultatas=suma(5,10)\n",
    "\n",
    "print(rezultatas)"
   ]
  },
  {
   "cell_type": "code",
   "execution_count": 4,
   "metadata": {},
   "outputs": [
    {
     "name": "stdout",
     "output_type": "stream",
     "text": [
      "10\n",
      "20\n"
     ]
    }
   ],
   "source": [
    "def sk():\n",
    "    pirmas_sk=10\n",
    "    antras_sk=20\n",
    "    return pirmas_sk, antras_sk\n",
    "\n",
    "a,b=sk()\n",
    "print(a)\n",
    "print(b)"
   ]
  },
  {
   "cell_type": "code",
   "execution_count": 10,
   "metadata": {},
   "outputs": [
    {
     "name": "stdout",
     "output_type": "stream",
     "text": [
      "nelyginis\n",
      "lyginis\n"
     ]
    }
   ],
   "source": [
    "def lyginis_nelyginis(skaicius):\n",
    "    #print('pabaiga')\n",
    "    if skaicius %2==0:\n",
    "        return 'lyginis'\n",
    "    else:\n",
    "        return 'nelyginis'\n",
    "   \n",
    "\n",
    "print(lyginis_nelyginis(1))\n",
    "\n",
    "rezultatas=lyginis_nelyginis(10)\n",
    "print(rezultatas)"
   ]
  },
  {
   "cell_type": "code",
   "execution_count": 11,
   "metadata": {},
   "outputs": [
    {
     "data": {
      "text/plain": [
       "True"
      ]
     },
     "execution_count": 11,
     "metadata": {},
     "output_type": "execute_result"
    }
   ],
   "source": [
    "# ar yra bent vienas nelyginis skaicius?\n",
    "\n",
    "def ar_yra_nelyginis(skaiciai):\n",
    "    for skaicius in skaiciai:\n",
    "        if skaicius % 2!=0:\n",
    "            return True\n",
    "    return False\n",
    "\n",
    "ar_yra_nelyginis([10,8,5,10,10,2])"
   ]
  },
  {
   "cell_type": "markdown",
   "metadata": {},
   "source": [
    "## Užduotys"
   ]
  },
  {
   "cell_type": "markdown",
   "metadata": {},
   "source": [
    "### Užduotis 1\n",
    "\n",
    "Susikurkite funkciją, kuri grąžintų bet kokį jūsų norimą sakinį. Iškvieskite šią funkciją ir išspausdinkite gautus rezultatus."
   ]
  },
  {
   "cell_type": "code",
   "execution_count": 13,
   "metadata": {},
   "outputs": [
    {
     "name": "stdout",
     "output_type": "stream",
     "text": [
      "labas vakaras\n"
     ]
    }
   ],
   "source": [
    "def sakiniai(sak1):\n",
    "    return sak1\n",
    "\n",
    "kintamasis1='labas vakaras'\n",
    "print(sakiniai(kintamasis1))"
   ]
  },
  {
   "cell_type": "markdown",
   "metadata": {},
   "source": [
    "### Užduotis 2\n",
    "\n",
    "Susikurkite funkciją, kuri grąžintų atsitiktinai sugeneruotą skaičių. Iškvieskite šią funkciją kelis kartus ir gautus atsakymus išveskite kokiu norite būdu."
   ]
  },
  {
   "cell_type": "code",
   "execution_count": 17,
   "metadata": {},
   "outputs": [
    {
     "name": "stdout",
     "output_type": "stream",
     "text": [
      "70\n",
      "82\n",
      "60\n"
     ]
    }
   ],
   "source": [
    "from random import randint\n",
    "\n",
    "def random_skaiciai():\n",
    "    return randint(1,100)\n",
    "\n",
    "print(random_skaiciai())\n",
    "print(random_skaiciai())\n",
    "print(random_skaiciai())\n"
   ]
  },
  {
   "cell_type": "markdown",
   "metadata": {},
   "source": [
    "### Užduotis 3\n",
    "\n",
    "Susikurkite funkciją, kuri per argumentus priimtų studento vardą ir vidurkį.<br>\n",
    "Ši funkcija turėtų sugeneruoti iš to sakinį (pvz Studentas Tomas turi vidurkį 8.7) ir tai grąžinti kaip atsakymą.<br>\n",
    "Iškvieskite šią funkciją bent porą kartų, perduodant vis skirtingus duomenis.<br> \n",
    "Gautus atsakymus išveskite."
   ]
  },
  {
   "cell_type": "code",
   "execution_count": 20,
   "metadata": {},
   "outputs": [
    {
     "name": "stdout",
     "output_type": "stream",
     "text": [
      "Studentas antoske turi vidurkį 8.7\n"
     ]
    }
   ],
   "source": [
    "def duomenys(vardas, vidurkis):\n",
    "    return f'Studentas {vardas} turi vidurkį {vidurkis}'\n",
    "\n",
    "data=['antoske',8.7]\n",
    "print(duomenys(data[0],data[1]))\n"
   ]
  }
 ],
 "metadata": {
  "kernelspec": {
   "display_name": "Python 3",
   "language": "python",
   "name": "python3"
  },
  "language_info": {
   "codemirror_mode": {
    "name": "ipython",
    "version": 3
   },
   "file_extension": ".py",
   "mimetype": "text/x-python",
   "name": "python",
   "nbconvert_exporter": "python",
   "pygments_lexer": "ipython3",
   "version": "3.13.1"
  }
 },
 "nbformat": 4,
 "nbformat_minor": 2
}
