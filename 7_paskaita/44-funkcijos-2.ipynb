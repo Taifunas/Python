{
 "cells": [
  {
   "cell_type": "markdown",
   "metadata": {},
   "source": [
    "# Funkcijos (2 dalis)"
   ]
  },
  {
   "cell_type": "markdown",
   "metadata": {},
   "source": [
    "## Dabar pridėsime parametrus ir argumentus\n",
    "\n",
    "Funkcijos aprašymas:\n",
    "\n",
    "```\n",
    "def funkcijos_pavadinimas(parametras1, parametras2, ...):\n",
    "    # funkcijos kodas\n",
    "```\n",
    "\n",
    "Funkcijos iškvietimas:\n",
    "\n",
    "```\n",
    "funkcijos_pavadinimas(argumentas1, argumentas2, ...)\n",
    "```"
   ]
  },
  {
   "cell_type": "markdown",
   "metadata": {},
   "source": [
    "## Pavyzdžiai"
   ]
  },
  {
   "cell_type": "code",
   "execution_count": 2,
   "metadata": {},
   "outputs": [
    {
     "name": "stdout",
     "output_type": "stream",
     "text": [
      "labas\n"
     ]
    }
   ],
   "source": [
    "def pasisveikinimas():\n",
    "    print('labas')\n",
    "\n",
    "pasisveikinimas()"
   ]
  },
  {
   "cell_type": "code",
   "execution_count": 3,
   "metadata": {},
   "outputs": [
    {
     "name": "stdout",
     "output_type": "stream",
     "text": [
      "labas, Jonai\n",
      "labas, Tomai\n"
     ]
    }
   ],
   "source": [
    "# su parametrais\n",
    "\n",
    "def pasisveikinimas(vardas):\n",
    "    print(f'labas, {vardas}')\n",
    "\n",
    "pasisveikinimas('Jonai')\n",
    "pasisveikinimas('Tomai')"
   ]
  },
  {
   "cell_type": "code",
   "execution_count": 8,
   "metadata": {},
   "outputs": [
    {
     "name": "stdout",
     "output_type": "stream",
     "text": [
      "labas, Jonas Jonaiti\n",
      "labas, Petrai Petraiti\n",
      "labas, Kazys Kazlauskas\n",
      "labas, Kazys testas\n"
     ]
    }
   ],
   "source": [
    "# galime naudoti tiek parametrų, kiek norime\n",
    "def pasisveikinimas(vardas,pavarde):\n",
    "    print(f'labas, {vardas} {pavarde}')\n",
    "\n",
    "pasisveikinimas('Jonas', 'Jonaiti')\n",
    "pasisveikinimas('Petrai', 'Petraiti')\n",
    "\n",
    "pasisveikinimas(pavarde='Kazlauskas',vardas='Kazys')\n",
    "pasisveikinimas('Kazys', pavarde='testas')\n"
   ]
  },
  {
   "cell_type": "code",
   "execution_count": 11,
   "metadata": {},
   "outputs": [
    {
     "name": "stdout",
     "output_type": "stream",
     "text": [
      "5+10=50\n",
      "500+555=277500\n"
     ]
    }
   ],
   "source": [
    "# keletas parametrų su skaičiais\n",
    "\n",
    "def daugyba(x,y):\n",
    "    rezultatas=x*y\n",
    "    print(f'{x}+{y}={rezultatas}')\n",
    "\n",
    "daugyba(5,10)\n",
    "daugyba(500,555)"
   ]
  },
  {
   "cell_type": "code",
   "execution_count": 12,
   "metadata": {},
   "outputs": [
    {
     "name": "stdout",
     "output_type": "stream",
     "text": [
      "vardas:  Mantas\n",
      "amzius:  24\n",
      "profesija:  dusmanas\n"
     ]
    }
   ],
   "source": [
    "# trys parametrai\n",
    "\n",
    "def isvedimas(vardas, amzius, profesija):\n",
    "    print('vardas: ', vardas)\n",
    "    print('amzius: ', amzius)\n",
    "    print('profesija: ', profesija)\n",
    "\n",
    "isvedimas('Mantas',24,'dusmanas')"
   ]
  },
  {
   "cell_type": "code",
   "execution_count": 15,
   "metadata": {},
   "outputs": [
    {
     "name": "stdout",
     "output_type": "stream",
     "text": [
      "vardas:  Mantas\n",
      "amzius:  24\n",
      "profesija:  bedarbis\n",
      "\n",
      "vardas:  Mantas\n",
      "amzius:  24\n",
      "profesija:  dusmanas\n",
      "\n"
     ]
    }
   ],
   "source": [
    "# default parametrai\n",
    "\n",
    "def isvedimas(vardas, amzius, profesija='bedarbis'):\n",
    "    print('vardas: ', vardas)\n",
    "    print('amzius: ', amzius)\n",
    "    print('profesija: ', profesija)\n",
    "    print()\n",
    "\n",
    "isvedimas('Mantas',24)\n",
    "isvedimas('Mantas',24,'dusmanas')"
   ]
  },
  {
   "cell_type": "code",
   "execution_count": null,
   "metadata": {},
   "outputs": [],
   "source": []
  },
  {
   "cell_type": "markdown",
   "metadata": {},
   "source": [
    "## Užduotys"
   ]
  },
  {
   "cell_type": "markdown",
   "metadata": {},
   "source": [
    "### Užduotis 1\n",
    "\n",
    "Sukurkite funkciją pasisveikinimui, šiai funkcijai per argumentus perduokite vardą, funkcijoje išveskite tekstą labas ir gautą vardą.<br>\n",
    "Sukurkite kitą funkciją, kuri irgi per argumentus gautų vardą, tačiau pasakytų 'viso gero' ir patį vardą.<br>\n",
    "Iškvieskite abi funkcijas, su sugalvotais vardais."
   ]
  },
  {
   "cell_type": "code",
   "execution_count": null,
   "metadata": {},
   "outputs": [],
   "source": [
    "def pasisveikinimas(vardas):\n",
    "    print(f'labas, {vardas}')\n",
    "\n",
    "pasisveikinimas('Jonai')"
   ]
  },
  {
   "cell_type": "markdown",
   "metadata": {},
   "source": [
    "### Užduotis 2\n",
    "\n",
    "Sukurkite funkciją, kuriai perduotumėte du skaičius.<br>\n",
    "Ši funkcija turi rasti kuris skaičius yra didesnis ir išvesti gautą atsakymą, o jei skaičiai lygūs - tuomet išvesti, kad skaičiai lygūs.<br>\n",
    "Iškvieskite šią funkciją keletą kartų, duodant skirtingus skaičius."
   ]
  },
  {
   "cell_type": "code",
   "execution_count": 20,
   "metadata": {},
   "outputs": [
    {
     "name": "stdout",
     "output_type": "stream",
     "text": [
      "skaicius 3 yra didesnis uz 2\n",
      "skaiciai vienodi\n"
     ]
    }
   ],
   "source": [
    "def skaiciai(x,y):\n",
    "    if x>y:\n",
    "        print(f'skaicius {x} yra didesnis uz {y}')\n",
    "    elif x==y:\n",
    "        print('skaiciai vienodi')\n",
    "    else:\n",
    "        print(f'skaicius {y} yra didesnis uz {x}')\n",
    "\n",
    "skaiciai(2,3)\n",
    "skaiciai(2,2)"
   ]
  },
  {
   "cell_type": "markdown",
   "metadata": {},
   "source": [
    "### Užduotis 3\n",
    "\n",
    "Sukurkite funkciją, kuri per argumentus gautų automobilių duomenis (markė, modelis, gamybos metai, darbinis tūris).<br>\n",
    "Ši funkcija turėtų šiuos duomenis išvesti gražiai formatuotus.<br>\n",
    "Iškvieskite šią funkciją du kartus, perduodant skirtingus duomenis jai."
   ]
  },
  {
   "cell_type": "code",
   "execution_count": 25,
   "metadata": {},
   "outputs": [
    {
     "name": "stdout",
     "output_type": "stream",
     "text": [
      "masinos marke yra audi, modelis a6, gamybos metai 2016m., o darbinis turis 2.6l.\n"
     ]
    }
   ],
   "source": [
    "def isvedimas(marke, modelis, gamybos_metai, darbinis_turis):\n",
    "    print(f'masinos marke yra {marke}, modelis {modelis}, gamybos metai {gamybos_metai}m., o darbinis turis {darbinis_turis}l.')\n",
    "\n",
    "isvedimas('audi','a6',2016,2.6)    "
   ]
  },
  {
   "cell_type": "markdown",
   "metadata": {},
   "source": [
    "### Užduotis 4\n",
    "\n",
    "Pabandykite parašyti bent dvi pasirinktas funkcijas, kuriose būtų naudojami default parametrai. Iškvieskite šias funkcijas įvairiais būdais (perduodant visus argumentus, bei neperduodant tų kuriuos galima praleisti (turinčius default reikšmes))."
   ]
  },
  {
   "cell_type": "code",
   "execution_count": null,
   "metadata": {},
   "outputs": [],
   "source": [
    "def isvedimas(vardas, amzius, profesija='bedarbis'):\n",
    "    print('vardas: ', vardas)\n",
    "    print('amzius: ', amzius)\n",
    "    print('profesija: ', profesija)\n",
    "    print()\n",
    "\n",
    "isvedimas('Mantas',24)\n",
    "isvedimas('Mantas',24,'dusmanas')"
   ]
  },
  {
   "cell_type": "code",
   "execution_count": 34,
   "metadata": {},
   "outputs": [
    {
     "name": "stdout",
     "output_type": "stream",
     "text": [
      "4\n"
     ]
    }
   ],
   "source": [
    "def skaiciuoti(x,y=2):\n",
    "    suma=x+y\n",
    "    print(suma)\n",
    "\n",
    "skaiciuoti(2)    "
   ]
  }
 ],
 "metadata": {
  "kernelspec": {
   "display_name": "Python 3",
   "language": "python",
   "name": "python3"
  },
  "language_info": {
   "codemirror_mode": {
    "name": "ipython",
    "version": 3
   },
   "file_extension": ".py",
   "mimetype": "text/x-python",
   "name": "python",
   "nbconvert_exporter": "python",
   "pygments_lexer": "ipython3",
   "version": "3.13.1"
  }
 },
 "nbformat": 4,
 "nbformat_minor": 2
}
