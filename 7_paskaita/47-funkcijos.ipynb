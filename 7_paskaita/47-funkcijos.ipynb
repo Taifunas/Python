{
 "cells": [
  {
   "cell_type": "markdown",
   "metadata": {},
   "source": [
    "# Papildomos užduotys"
   ]
  },
  {
   "cell_type": "markdown",
   "metadata": {},
   "source": [
    "### Užduotis 1\n",
    "\n",
    "Sukurkite funkciją, kuri išvestų 10 atsitiktinių skaičių. Po visų išvestų skaičių turėtų padėti tuščią eilutę. Šią funkciją iškvieskite 5 kartus."
   ]
  },
  {
   "cell_type": "code",
   "execution_count": 3,
   "metadata": {},
   "outputs": [
    {
     "name": "stdout",
     "output_type": "stream",
     "text": [
      "55\n",
      "33\n",
      "99\n",
      "34\n",
      "39\n",
      "50\n",
      "2\n",
      "31\n",
      "26\n",
      "71\n",
      "\n",
      "30\n",
      "67\n",
      "68\n",
      "20\n",
      "79\n",
      "86\n",
      "33\n",
      "89\n",
      "10\n",
      "94\n",
      "\n",
      "86\n",
      "69\n",
      "32\n",
      "61\n",
      "6\n",
      "32\n",
      "41\n",
      "41\n",
      "18\n",
      "8\n",
      "\n",
      "36\n",
      "89\n",
      "58\n",
      "84\n",
      "71\n",
      "27\n",
      "22\n",
      "22\n",
      "27\n",
      "60\n",
      "\n",
      "71\n",
      "5\n",
      "72\n",
      "78\n",
      "75\n",
      "67\n",
      "15\n",
      "8\n",
      "59\n",
      "56\n",
      "\n"
     ]
    }
   ],
   "source": [
    "from random import randint\n",
    "\n",
    "def random_skaiciai():\n",
    "    for _ in range(10):\n",
    "        print(randint(1,100))\n",
    "    print()\n",
    "\n",
    "random_skaiciai()\n",
    "random_skaiciai()\n",
    "random_skaiciai()\n",
    "random_skaiciai()\n",
    "random_skaiciai()\n"
   ]
  },
  {
   "cell_type": "markdown",
   "metadata": {},
   "source": [
    "### Užduotis 2\n",
    "\n",
    "Sukurkite funkciją, kuri išvestų atsitiktinį skaičių. Už funkcijos ribų sukurkite ciklą, kurį būtų vykdomas 10 kartų. Iškvieskite sukurtą funkciją cikle. Turėtumėte pamatyti 10 atsitiktinių skaičių."
   ]
  },
  {
   "cell_type": "code",
   "execution_count": null,
   "metadata": {},
   "outputs": [],
   "source": []
  },
  {
   "cell_type": "markdown",
   "metadata": {},
   "source": [
    "### Užduotis 3\n",
    "\n",
    "Susikurkite funkciją kuri priimtų skaičių masyvą per argumentus.<br>\n",
    "Ši funkcija turėtų rasti duotųjų skaičių sumą ir grąžinti gautą atsakymą.<br>\n",
    "Už funkcijos ribų susikurkite du skaičių masyvus ir užpildykite juos duomenimis.<br>\n",
    "Iškvieskite turimą funkciją du kartus, jai abu kartus perduodant skirtingą masyvą.<br>\n",
    "Gautus atsakymus išveskite.<br>\n",
    "Taip pat, raskite kuri suma gavosi didesnė ir išveskite atsakymą."
   ]
  },
  {
   "cell_type": "code",
   "execution_count": 8,
   "metadata": {},
   "outputs": [
    {
     "name": "stdout",
     "output_type": "stream",
     "text": [
      "pirmas sarasas didesnis\n"
     ]
    }
   ],
   "source": [
    "def suma(skaiciai):\n",
    "    return sum(skaiciai)\n",
    "\n",
    "sk_masyvas1=[1,2,34,5,6,78,3]\n",
    "sk_masyvas2=[4,5,6,3,12]\n",
    "\n",
    "sk1_suma=suma(sk_masyvas1)\n",
    "sk2_suma=suma(sk_masyvas2)\n",
    "\n",
    "if sk1_suma>sk2_suma:\n",
    "    print('pirmas sarasas didesnis')\n",
    "elif sk1_suma==sk2_suma:\n",
    "    print('sarasai lygus')\n",
    "else:\n",
    "    print('antras sarasas didesnis')"
   ]
  },
  {
   "cell_type": "markdown",
   "metadata": {},
   "source": [
    "### Užduotis 4\n",
    "\n",
    "Susikurkite funkciją kuri per argumentus priimtų žodžių masyvą.<br> \n",
    "Ji turėtų rasti ir grąžinti ilgiausią žodį masyve.<br>\n",
    "Už funkcijos ribų susikurkite žodžių masyvą.<br>\n",
    "Iškvieskite funkciją perduodant jai žodžių masyvą.<br>\n",
    "Gautą atsakymą išveskite, taip pat, nurodykite šio žodžio ilgį."
   ]
  },
  {
   "cell_type": "code",
   "execution_count": 11,
   "metadata": {},
   "outputs": [
    {
     "name": "stdout",
     "output_type": "stream",
     "text": [
      "Lietuvaaaa 10\n"
     ]
    }
   ],
   "source": [
    "\n",
    "def ilgiausias_zodis(sarasas):\n",
    "    ilg_zod=sarasas[0]\n",
    "    for zodis in sarasas:\n",
    "        if len(zodis)>len(ilg_zod):\n",
    "            ilg_zod=zodis\n",
    "    return ilg_zod\n",
    "\n",
    "listas=['labas','vakaras','Lietuvaaaa']\n",
    "print(ilgiausias_zodis(listas), len(ilgiausias_zodis(listas)))"
   ]
  },
  {
   "cell_type": "markdown",
   "metadata": {},
   "source": [
    "### Užduotis 5\n",
    "\n",
    "Susikurkite funkciją kuri per argumentus priimtų pažymių masyvą.<br> \n",
    "Ji turėtų patikrinti ar visi pažymiai teigiami: jei visi teigiami turėtų grąžintų True kaip atsakymą, o jei yra bent vienas neigiamas - False.<br>\n",
    "Susikurkite du pažymių masyvus.<br>\n",
    "Iškvieskite šią funkciją du kartus, abu kartus perduodant skirtingus masyvus.<br> \n",
    "Gautus atsakymus paverskite į tekstą (jeigu gavote True - išveskite tekstą 'visi studento pažymiai teigiami', jei False - 'studentas turi bent vieną neigiamą pažymį').<br>\n",
    "Šiam iškonvertavimui iš True/False į tekstą galite pamėginti pasikurti atskirą funkciją, jai perduoti kitos funkcijos atsakymą."
   ]
  },
  {
   "cell_type": "code",
   "execution_count": 16,
   "metadata": {},
   "outputs": [
    {
     "name": "stdout",
     "output_type": "stream",
     "text": [
      "10\n",
      "5\n",
      "3\n",
      "yra neigiamu pazymiu\n"
     ]
    }
   ],
   "source": [
    "def teigiami_neigiami(pazymiai):\n",
    "    for pazymys in pazymiai:\n",
    "        print(pazymys)\n",
    "        if pazymys <5:\n",
    "            return False\n",
    "    return True\n",
    "\n",
    "studento_pazymiai=[10,5,3,6,8]\n",
    "rezultatas=teigiami_neigiami(studento_pazymiai)\n",
    "\n",
    "def isvedimas(atsakymas):\n",
    "    if atsakymas:\n",
    "        print('visi teigiami pazymiai')\n",
    "    else:\n",
    "        print('yra neigiamu pazymiu')\n",
    "\n",
    "isvedimas(rezultatas)"
   ]
  },
  {
   "cell_type": "markdown",
   "metadata": {},
   "source": [
    "### Užduotis 6\n",
    "\n",
    "Sukurkite funkciją, kuri išvestų 10 atsitiktinių skaičių. Po visų išvestų skaičių turėtų padėti tuščią eilutę. Šią funkciją iškvieskite 5 kartus."
   ]
  },
  {
   "cell_type": "code",
   "execution_count": 1,
   "metadata": {},
   "outputs": [
    {
     "name": "stdout",
     "output_type": "stream",
     "text": [
      "1\n",
      "2\n",
      "3\n",
      "4\n"
     ]
    }
   ],
   "source": [
    "def atspausdinti(skaiciai):\n",
    "    for skaicius in skaiciai:\n",
    "        print(skaicius)\n",
    "\n",
    "atspausdinti([1,2,3,4])"
   ]
  },
  {
   "cell_type": "markdown",
   "metadata": {},
   "source": [
    "### Užduotis 7\n",
    "\n",
    "Sukurkite funkciją, kuri išvestų atsitiktinį skaičių. Už funkcijos ribų sukurkite ciklą, kurį būtų vykdomas 10 kartų. Iškvieskite sukurtą funkciją cikle. Turėtumėte pamatyti 10 atsitiktinių skaičių."
   ]
  },
  {
   "cell_type": "code",
   "execution_count": 2,
   "metadata": {},
   "outputs": [
    {
     "name": "stdout",
     "output_type": "stream",
     "text": [
      "labas simas\n"
     ]
    }
   ],
   "source": [
    "from random import randint\n",
    "def sukurti_skaiciu():\n",
    "    print(randint(3,15))\n",
    "sukurti_skaiciu()\n",
    "for akrtas in range(10)\n",
    "    sukurti_skaiciu()"
   ]
  },
  {
   "cell_type": "markdown",
   "metadata": {},
   "source": [
    "### Užduotis 8\n",
    "\n",
    "Sukurkite funkciją sumai skaičiuoti, ši funkcija per argumentus turėtų gauti du skaičius, bei išvesti patį veiksmą kartu su atsakymu (pvz 7 + 5 = 12).<br>\n",
    "Sukurkite tokias pačias funkcijas skirtumui, sandaugai ir dalmeniui rasti.<br>\n",
    "Sukurkite dar vieną funkciją, kuri sugeneruotų du atsitiktinius skaičius, bei iškviestų kitas 4 funkcijas, perduodant joms sugeneruotus skaičius.<br> \n",
    "Šią bendrąją funkciją iškvieskite keletą kartų."
   ]
  },
  {
   "cell_type": "code",
   "execution_count": 3,
   "metadata": {},
   "outputs": [
    {
     "name": "stdout",
     "output_type": "stream",
     "text": [
      "1+2=3\n"
     ]
    }
   ],
   "source": [
    "def skaiciuojama_suma(sk1,sk2):\n",
    "    print(f'{sk1}+{sk2}={sk1+sk2}')\n",
    "skaiciuojama_suma(1,2)"
   ]
  },
  {
   "cell_type": "markdown",
   "metadata": {},
   "source": [
    "### Užduotis 9\n",
    "\n",
    "Susikurkite funkciją, kuri per argumentus priimtų pažymių masyvą, bei studento vardą su pavarde.<br>\n",
    "Funkcija turėtų išvesti studento vardą ir pavardę, jo pažymius.<br>\n",
    "Taip pat, suskaičiuoti vidurkį, bei jį išvesti.<br>\n",
    "Už funkcijos ribų susikurkite reikiamus kintamuosius ir masyvus studentų pažymiams saugoti ir užpildykite juos duomenimis.<br> \n",
    "Iškvieskite šią funkciją perduodant visus reikalingus duomenis."
   ]
  },
  {
   "cell_type": "code",
   "execution_count": null,
   "metadata": {},
   "outputs": [],
   "source": []
  },
  {
   "cell_type": "markdown",
   "metadata": {},
   "source": [
    "### Užduotis 10\n",
    "\n",
    "Susikurkite funkciją, kuri per argumentus gautų skaičių.<br>\n",
    "Ji turėtų surasti duoto skaičiaus mažiausią daliklį (skaičių iš kurio dalinasi be liekanos).<br>\n",
    "Už funkcijos ribų sukite ciklą nuo 10 iki 30 ir kiekvienoje ciklo iteracijoje iškvieskite šią funkciją, perduodant ciklo kintamąjį."
   ]
  },
  {
   "cell_type": "code",
   "execution_count": null,
   "metadata": {},
   "outputs": [],
   "source": [
    "def maziausias_daliklis(skaicius):\n",
    "    for daliklis"
   ]
  }
 ],
 "metadata": {
  "kernelspec": {
   "display_name": "Python 3",
   "language": "python",
   "name": "python3"
  },
  "language_info": {
   "codemirror_mode": {
    "name": "ipython",
    "version": 3
   },
   "file_extension": ".py",
   "mimetype": "text/x-python",
   "name": "python",
   "nbconvert_exporter": "python",
   "pygments_lexer": "ipython3",
   "version": "3.13.1"
  }
 },
 "nbformat": 4,
 "nbformat_minor": 2
}
