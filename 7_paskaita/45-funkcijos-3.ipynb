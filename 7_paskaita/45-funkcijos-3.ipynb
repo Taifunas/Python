{
 "cells": [
  {
   "cell_type": "markdown",
   "metadata": {},
   "source": [
    "# Funkcijos (3 dalis)\n",
    "\n",
    "- Atliekam veiksmus su masyvais (sąrašai)"
   ]
  },
  {
   "cell_type": "markdown",
   "metadata": {},
   "source": [
    "## Pavyzdžiai"
   ]
  },
  {
   "cell_type": "code",
   "execution_count": 2,
   "metadata": {},
   "outputs": [
    {
     "name": "stdout",
     "output_type": "stream",
     "text": [
      "skaiciai\n",
      "7\n",
      "8\n",
      "9\n",
      "raides\n",
      "a\n",
      "b\n",
      "c\n"
     ]
    }
   ],
   "source": [
    "def  spausdinti_saraso_elementus(komentaras:str, sarasas:list):\n",
    "    print(komentaras)\n",
    "    for elementas in sarasas:\n",
    "        print(elementas)\n",
    "\n",
    "skaiciai=[7,8,9]\n",
    "spausdinti_saraso_elementus('skaiciai',skaiciai)\n",
    "\n",
    "raides=['a','b','c']\n",
    "spausdinti_saraso_elementus('raides', raides)"
   ]
  },
  {
   "cell_type": "code",
   "execution_count": 4,
   "metadata": {},
   "outputs": [
    {
     "name": "stdout",
     "output_type": "stream",
     "text": [
      "gautas vidurkis:  384261.6666666667\n",
      "gautas vidurkis:  5.666666666666667\n"
     ]
    }
   ],
   "source": [
    "def vidurkis(skaiciu_sarasas):\n",
    "    vidurkis=sum(skaiciu_sarasas)/len(skaiciu_sarasas)\n",
    "    print('gautas vidurkis: ', vidurkis)\n",
    "\n",
    "skaiciai=[12,2134213,1231,123123,46757,234]\n",
    "skaiciai2=[1,4,5,7,7,10]\n",
    "\n",
    "vidurkis(skaiciai)\n",
    "vidurkis(skaiciai2)"
   ]
  },
  {
   "cell_type": "code",
   "execution_count": 7,
   "metadata": {},
   "outputs": [
    {
     "name": "stdout",
     "output_type": "stream",
     "text": [
      "didziausias skaicius 2134213\n",
      "didziausias skaicius 10\n"
     ]
    }
   ],
   "source": [
    "max(skaiciai)\n",
    "\n",
    "def didziausias(skaiciu_sarasas):\n",
    "    didz_sk=max(skaiciu_sarasas)\n",
    "    print('didziausias skaicius', didz_sk)\n",
    "\n",
    "didziausias(skaiciai)\n",
    "didziausias(skaiciai2)"
   ]
  },
  {
   "cell_type": "markdown",
   "metadata": {},
   "source": [
    "## Užduotys"
   ]
  },
  {
   "cell_type": "markdown",
   "metadata": {},
   "source": [
    "### Užduotis 1\n",
    "\n",
    "Susikurkite funkciją, kuri per argumentus priimtų žodžių masyvą.<br>\n",
    "Funkcijoje išveskite visus žodžius iš masyvo atskirose eilutėse, nurodant žodžio ilgį (simbolių kiekį).<br>\n",
    "Už funkcijos ribų susikurkite žodžių masyvą ir užpildykite jį duomenimis.<br>\n",
    "Iškvieskite sukurtą funkciją perduodant turimą masyvą."
   ]
  },
  {
   "cell_type": "code",
   "execution_count": 9,
   "metadata": {},
   "outputs": [
    {
     "name": "stdout",
     "output_type": "stream",
     "text": [
      "labas 5\n",
      "vakaras 7\n",
      "Lietuva 7\n"
     ]
    }
   ],
   "source": [
    "def zodziu_ilgiai(zodziai):\n",
    "    for zodis in zodziai:\n",
    "        print(zodis, len(zodis))\n",
    "\n",
    "zodziai=['labas','vakaras','Lietuva']\n",
    "zodziu_ilgiai(zodziai)"
   ]
  },
  {
   "cell_type": "markdown",
   "metadata": {},
   "source": [
    "### Užduotis 2\n",
    "\n",
    "Susikurkite funkciją, kuri per argumentus priimtų skaičių masyvą.<br>\n",
    "Funkcija turėtų atspausdinti visus skaičius, šalia jų išvedant to skaičiaus kvadratą ir jį padalintą iš dviejų.<br>\n",
    "Už funkcijos ribų susikurkite du skaičių masyvus ir užpildykite jį duomenimis.<br>\n",
    "Iškvieskite funkciją du kartus, kiekvieną kartą perduodant skirtingą turimą masyvą.<br>"
   ]
  },
  {
   "cell_type": "code",
   "execution_count": 10,
   "metadata": {},
   "outputs": [
    {
     "name": "stdout",
     "output_type": "stream",
     "text": [
      "1 1 0.5\n",
      "22 484 11.0\n",
      "55 3025 27.5\n",
      "66 4356 33.0\n"
     ]
    }
   ],
   "source": [
    "def skaiciu_spausdinimas(skaiciai):\n",
    "    for skaicius in skaiciai:\n",
    "        print(skaicius, skaicius**2,skaicius/2)\n",
    "\n",
    "skaiciai=[1,22,55,66]\n",
    "\n",
    "skaiciu_spausdinimas(skaiciai)"
   ]
  }
 ],
 "metadata": {
  "kernelspec": {
   "display_name": "Python 3",
   "language": "python",
   "name": "python3"
  },
  "language_info": {
   "codemirror_mode": {
    "name": "ipython",
    "version": 3
   },
   "file_extension": ".py",
   "mimetype": "text/x-python",
   "name": "python",
   "nbconvert_exporter": "python",
   "pygments_lexer": "ipython3",
   "version": "3.13.1"
  }
 },
 "nbformat": 4,
 "nbformat_minor": 2
}
