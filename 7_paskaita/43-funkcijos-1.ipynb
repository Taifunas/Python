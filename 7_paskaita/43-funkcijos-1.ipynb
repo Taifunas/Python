{
 "cells": [
  {
   "cell_type": "markdown",
   "metadata": {},
   "source": [
    "# Funkcijos (1 dalis)"
   ]
  },
  {
   "cell_type": "markdown",
   "metadata": {},
   "source": [
    "## Apie funkcijas"
   ]
  },
  {
   "cell_type": "code",
   "execution_count": 1,
   "metadata": {},
   "outputs": [
    {
     "name": "stdout",
     "output_type": "stream",
     "text": [
      "labas\n",
      "[1, 2, 3, 4, 5, 6, 7, 8, 9]\n"
     ]
    }
   ],
   "source": [
    "# Python turi daug iš anksto paruoštų funkcijų. \n",
    "# Su kai kuriomis jau susipažinote, pvz, `range()`, `print()`, `randint()`, ir kt.\n",
    "# Atlieka konkrečią vieną užduotį.\n",
    "\n",
    "from random import randint\n",
    "\n",
    "randint(1,100)\n",
    "print('labas')\n",
    "print(list(range(1,10)))\n"
   ]
  },
  {
   "cell_type": "code",
   "execution_count": 8,
   "metadata": {},
   "outputs": [
    {
     "name": "stdout",
     "output_type": "stream",
     "text": [
      "Labas vakaras\n",
      "Labas vakaras\n",
      "Labas vakaras\n",
      "Labas vakaras\n"
     ]
    }
   ],
   "source": [
    "# sintaksė\n",
    "def pasisveikinti():\n",
    "    print('Labas vakaras')\n",
    "\n",
    "pasisveikinti()\n",
    "pasisveikinti()\n",
    "pasisveikinti()\n",
    "pasisveikinti()\n",
    "\n"
   ]
  },
  {
   "cell_type": "code",
   "execution_count": 7,
   "metadata": {},
   "outputs": [
    {
     "name": "stdout",
     "output_type": "stream",
     "text": [
      "Labas vakaras\n"
     ]
    }
   ],
   "source": [
    "# - Funkcija pati savavališkai nevykdo jokio kodo, \n",
    "# todėl norint, kad ji atliktų kokį nors darbą - reikės ją iškviesti.\n",
    "pasisveikinti()"
   ]
  },
  {
   "cell_type": "code",
   "execution_count": 10,
   "metadata": {},
   "outputs": [
    {
     "name": "stdout",
     "output_type": "stream",
     "text": [
      "3\n"
     ]
    }
   ],
   "source": [
    "# - Jeigu funkcijai reikia kokių nors duomenų, jai tai galima perduoti kaip parametrus / argumentus.\n",
    "# - Funkcija gali grąžinti atsakymą, o šį atsakymą jau galite naudoti ir kur nors išorėje.\n",
    "\n",
    "def suma(pirmas_sk, antras_sk):\n",
    "    suma=pirmas_sk+antras_sk\n",
    "    print(suma)\n",
    "\n",
    "suma(1,2)"
   ]
  },
  {
   "cell_type": "code",
   "execution_count": null,
   "metadata": {},
   "outputs": [],
   "source": []
  },
  {
   "cell_type": "markdown",
   "metadata": {},
   "source": [
    "## Pavyzdžiai"
   ]
  },
  {
   "cell_type": "code",
   "execution_count": 11,
   "metadata": {},
   "outputs": [
    {
     "name": "stdout",
     "output_type": "stream",
     "text": [
      "pirma eilute\n",
      "antra eilute\n",
      "trecia eilute\n",
      "ketvirta eilute\n",
      "penkta eilute\n"
     ]
    }
   ],
   "source": [
    "# funkciją galime kviesti kiek norime kartų\n",
    "\n",
    "def deklamuoti():\n",
    "    print('pirma eilute')\n",
    "    print('antra eilute')\n",
    "    print('trecia eilute')\n",
    "    print('ketvirta eilute')\n",
    "    print('penkta eilute')\n",
    "\n",
    "deklamuoti()"
   ]
  },
  {
   "cell_type": "code",
   "execution_count": 12,
   "metadata": {},
   "outputs": [
    {
     "name": "stdout",
     "output_type": "stream",
     "text": [
      "sveiki prisijunge prie sistemos!\n",
      "atsijungete sekmingai\n",
      "lauksime sugriztant\n"
     ]
    }
   ],
   "source": [
    "# keletas funkcijų\n",
    "\n",
    "def pasisveikinti():\n",
    "    print('sveiki prisijunge prie sistemos!')\n",
    "\n",
    "def atsiskveikinti():\n",
    "    print('atsijungete sekmingai')\n",
    "    print('lauksime sugriztant')\n",
    "\n",
    "pasisveikinti()\n",
    "atsiskveikinti()"
   ]
  },
  {
   "cell_type": "code",
   "execution_count": 14,
   "metadata": {},
   "outputs": [
    {
     "name": "stdout",
     "output_type": "stream",
     "text": [
      "10\n"
     ]
    }
   ],
   "source": [
    "def isvedimas():\n",
    "    print(skaicius)\n",
    "skaicius=10\n",
    "\n",
    "isvedimas()"
   ]
  },
  {
   "cell_type": "markdown",
   "metadata": {},
   "source": [
    "## Užduotys"
   ]
  },
  {
   "cell_type": "markdown",
   "metadata": {},
   "source": [
    "### Užduotis 1\n",
    "\n",
    "Sukurkite funkciją, kuri išvestų jūsų vardą ir kodėl pasirinkote programavimą. Iškvieskite šią funkciją tris kartus."
   ]
  },
  {
   "cell_type": "code",
   "execution_count": 18,
   "metadata": {},
   "outputs": [
    {
     "name": "stdout",
     "output_type": "stream",
     "text": [
      "Mantas, kad durnas nebuciau\n",
      "Mantas, kad durnas nebuciau\n",
      "Mantas, kad durnas nebuciau\n"
     ]
    }
   ],
   "source": [
    "def funkcija():\n",
    "    print('Mantas, kad durnas nebuciau')\n",
    "\n",
    "funkcija()\n",
    "funkcija()\n",
    "funkcija()"
   ]
  },
  {
   "cell_type": "markdown",
   "metadata": {},
   "source": [
    "### Užduotis 2\n",
    "\n",
    "Sukurkite funkciją, kuri išvestų 5 eilučių eilėraštį. Iškvieskite šią funkciją 5 kartus."
   ]
  },
  {
   "cell_type": "code",
   "execution_count": 20,
   "metadata": {},
   "outputs": [
    {
     "name": "stdout",
     "output_type": "stream",
     "text": [
      "eilerastis 5 eiluciu\n",
      " kaku\n",
      " maku\n",
      "eilerastis 5 eiluciu\n",
      " kaku\n",
      " maku\n",
      "eilerastis 5 eiluciu\n",
      " kaku\n",
      " maku\n",
      "eilerastis 5 eiluciu\n",
      " kaku\n",
      " maku\n",
      "eilerastis 5 eiluciu\n",
      " kaku\n",
      " maku\n"
     ]
    }
   ],
   "source": [
    "def eilerastis():\n",
    "    print('eilerastis 5 eiluciu\\n kaku\\n maku')\n",
    "\n",
    "eilerastis()\n",
    "eilerastis()\n",
    "eilerastis()\n",
    "eilerastis()\n",
    "eilerastis()"
   ]
  },
  {
   "cell_type": "markdown",
   "metadata": {},
   "source": [
    "### Užduotis 3\n",
    "\n",
    "Sukurkite tris funkcijas, kur kiekviena išvestų skirtingus tekstus. Iškvieskite visas tris funkcijas po vieną kartą."
   ]
  },
  {
   "cell_type": "code",
   "execution_count": null,
   "metadata": {},
   "outputs": [],
   "source": []
  },
  {
   "cell_type": "markdown",
   "metadata": {},
   "source": [
    "### Užduotis 4\n",
    "\n",
    "Sukurkite dvi funkcijas, kur vienoje būtų viena teksto eilutėje, kitoje kita. Sukurkite trečią funkciją, kuri iškviestų pirmas dvi funkcijas. Iškvieskite šią trečiąją funkciją."
   ]
  },
  {
   "cell_type": "code",
   "execution_count": null,
   "metadata": {},
   "outputs": [],
   "source": []
  },
  {
   "cell_type": "markdown",
   "metadata": {},
   "source": [
    "### Užduotis 5\n",
    "\n",
    "Sukurkite funkciją, kurios viduje sugeneruotumėte du atsitiktinius skaičius.<br>\n",
    "Funkcijoje suskaičiuokite ir išveskite šių dviejų skaičių sumą, kartu išvedant ir patį atliekamą veiksmą (pvz 7 + 2 = 9).<br>\n",
    "Iškvieskite šią funkciją keletą kartų."
   ]
  },
  {
   "cell_type": "code",
   "execution_count": null,
   "metadata": {},
   "outputs": [],
   "source": []
  },
  {
   "cell_type": "markdown",
   "metadata": {},
   "source": [
    "### Užduotis 6\n",
    "\n",
    "Sukurkite ir iškvieskite funkciją, kurioje kintamuosiuose būtų saugoma informacija apie policininką (vardas, pavardė, amžius, alga). Išveskite šią informaciją suformatuotai (pavyzdžiui įterpkite į sakinį, ar išveskite sąrašu ar pan.)."
   ]
  },
  {
   "cell_type": "code",
   "execution_count": null,
   "metadata": {},
   "outputs": [],
   "source": []
  }
 ],
 "metadata": {
  "kernelspec": {
   "display_name": "Python 3",
   "language": "python",
   "name": "python3"
  },
  "language_info": {
   "codemirror_mode": {
    "name": "ipython",
    "version": 3
   },
   "file_extension": ".py",
   "mimetype": "text/x-python",
   "name": "python",
   "nbconvert_exporter": "python",
   "pygments_lexer": "ipython3",
   "version": "3.13.1"
  }
 },
 "nbformat": 4,
 "nbformat_minor": 2
}
