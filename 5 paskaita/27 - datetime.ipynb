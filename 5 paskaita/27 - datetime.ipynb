{
 "cells": [
  {
   "cell_type": "markdown",
   "id": "96c64e56",
   "metadata": {},
   "source": [
    "# Python DateTime modulis"
   ]
  },
  {
   "cell_type": "code",
   "execution_count": 8,
   "id": "62be209d",
   "metadata": {},
   "outputs": [
    {
     "name": "stdout",
     "output_type": "stream",
     "text": [
      "2025-02-04 18:50:21.885557\n"
     ]
    }
   ],
   "source": [
    "import datetime\n",
    "\n",
    "data_ir_laikas_dabar=datetime.datetime.now()\n",
    "print(data_ir_laikas_dabar)\n"
   ]
  },
  {
   "cell_type": "code",
   "execution_count": 12,
   "id": "00f9e0db",
   "metadata": {},
   "outputs": [
    {
     "name": "stdout",
     "output_type": "stream",
     "text": [
      "2025-02-04\n"
     ]
    }
   ],
   "source": [
    "data_dabar=datetime.datetime.today()\n",
    "print(data_dabar.date())\n"
   ]
  },
  {
   "cell_type": "code",
   "execution_count": null,
   "id": "31c8fad1",
   "metadata": {},
   "outputs": [],
   "source": [
    "data_dabar=datetime.datetime.today()\n",
    "print(data_dabar.date())"
   ]
  },
  {
   "cell_type": "code",
   "execution_count": 13,
   "id": "a396eee8",
   "metadata": {},
   "outputs": [
    {
     "name": "stdout",
     "output_type": "stream",
     "text": [
      "18:52:46.672844\n"
     ]
    }
   ],
   "source": [
    "data_dabar=datetime.datetime.today()\n",
    "laikas_dabar=data_dabar.time()\n",
    "print(laikas_dabar)"
   ]
  },
  {
   "cell_type": "code",
   "execution_count": 17,
   "id": "05ce9e15",
   "metadata": {},
   "outputs": [
    {
     "name": "stdout",
     "output_type": "stream",
     "text": [
      "18:58:25.064743\n",
      "18:58:25\n",
      "18-58-25\n",
      "18:58\n",
      "58:18\n",
      "2025-02-04\n",
      "04-02-2025\n",
      "2025-02\n"
     ]
    }
   ],
   "source": [
    "data_ir_laikas_dabar=datetime.datetime.now()\n",
    "laikas_dabar=data_ir_laikas_dabar.time()\n",
    "\n",
    "print(laikas_dabar)\n",
    "print(laikas_dabar.strftime('%H:%M:%S'))\n",
    "print(laikas_dabar.strftime('%H-%M-%S'))\n",
    "print(laikas_dabar.strftime('%H:%M'))\n",
    "print(laikas_dabar.strftime('%M:%H'))\n",
    "\n",
    "print(data_ir_laikas_dabar.strftime('%Y-%m-%d'))\n",
    "print(data_ir_laikas_dabar.strftime('%d-%m-%Y'))\n",
    "print(data_ir_laikas_dabar.strftime('%Y-%m'))"
   ]
  },
  {
   "cell_type": "code",
   "execution_count": 18,
   "id": "e6bf2723",
   "metadata": {},
   "outputs": [
    {
     "name": "stdout",
     "output_type": "stream",
     "text": [
      "2025-02-04 19:00:00\n",
      "2025-01-01 00:00:00\n"
     ]
    }
   ],
   "source": [
    "data_ir_laikas=datetime.datetime(2025,2,4,19,0,0)\n",
    "print(data_ir_laikas)\n",
    "\n",
    "data_ir_laikas=datetime.datetime(2025,1,1)\n",
    "print(data_ir_laikas)"
   ]
  },
  {
   "cell_type": "code",
   "execution_count": 21,
   "id": "b068ef87",
   "metadata": {},
   "outputs": [
    {
     "name": "stdout",
     "output_type": "stream",
     "text": [
      "2025-02-04 19:03:36.779305\n",
      "5 days, 0:00:00\n"
     ]
    }
   ],
   "source": [
    "dabar=datetime.datetime.now()\n",
    "print(dabar)\n",
    "\n",
    "print(datetime.timedelta(days=5))"
   ]
  },
  {
   "cell_type": "code",
   "execution_count": 24,
   "id": "b92372d5",
   "metadata": {},
   "outputs": [
    {
     "name": "stdout",
     "output_type": "stream",
     "text": [
      "2025-01-30 19:03:36.779305\n",
      "2025-02-09 19:03:36.779305\n",
      "2025-03-27 07:09:36.779305\n"
     ]
    }
   ],
   "source": [
    "print(dabar-datetime.timedelta(days=5))\n",
    "print(dabar+datetime.timedelta(days=5))\n",
    "print(dabar+datetime.timedelta(days=50, hours=12, minutes=6))"
   ]
  },
  {
   "cell_type": "code",
   "execution_count": 31,
   "id": "8974be1a",
   "metadata": {},
   "outputs": [
    {
     "name": "stdout",
     "output_type": "stream",
     "text": [
      "12749 days, 19:12:09.836154\n",
      "35\n",
      "0034-11-09\n"
     ]
    }
   ],
   "source": [
    "nepriklausomybes_diena=datetime.datetime(1990,3,11)\n",
    "dabar=datetime.datetime.now()\n",
    "skirtumas=dabar-nepriklausomybes_diena\n",
    "print(skirtumas)\n",
    "\n",
    "skirtumas_metais=dabar.year-nepriklausomybes_diena.year\n",
    "print(skirtumas_metais)\n",
    "\n",
    "formatuotas_skirtumas='{:0>4}-{:0>2}-{:>02}'.format(\n",
    "    skirtumas.days//365,\n",
    "    (skirtumas.days%365)//30,\n",
    "    (skirtumas.days%365) %30\n",
    ")\n",
    "\n",
    "print(formatuotas_skirtumas)"
   ]
  },
  {
   "cell_type": "code",
   "execution_count": null,
   "id": "e6b0f71f",
   "metadata": {},
   "outputs": [],
   "source": []
  },
  {
   "cell_type": "markdown",
   "id": "8b0aff9f",
   "metadata": {},
   "source": [
    "## Užduotis 1"
   ]
  },
  {
   "cell_type": "markdown",
   "id": "c8a823af",
   "metadata": {},
   "source": [
    "Sukurkite datetime objektą su šia data '2023-01-01 13:00:00'. Išsaugokite datą į kintamąjį<br>\n",
    "išsaugokite dabartinį laiką į atskirą kintamąjį<br>\n",
    "iš dabartinės datos atimkite prieš tai išsaugotą laiką<br>\n",
    "atsapausdinkite gautą laiką sekundėmis"
   ]
  },
  {
   "cell_type": "code",
   "execution_count": 67,
   "id": "baa164f0",
   "metadata": {},
   "outputs": [
    {
     "name": "stdout",
     "output_type": "stream",
     "text": [
      "2023-01-01 13:00:00\n",
      "2025-02-04 19:28:54.900357\n",
      "765 days, 6:28:54.744876\n",
      "23334\n",
      "2023-01-01 13:00:00\n",
      "2025-02-04 19:28:54.900447\n",
      "765 days, 6:28:54.900447\n",
      "23334\n"
     ]
    }
   ],
   "source": [
    "data=datetime.datetime(2023,1,1,13)\n",
    "print(data)\n",
    "data_dabar=datetime.datetime.now()\n",
    "print(data_dabar)\n",
    "skitumas=data_dabar-data\n",
    "print(skirtumas)\n",
    "sekundemis=skirtumas.seconds\n",
    "print(sekundemis)\n",
    "\n",
    "data = datetime.datetime(2023, 1, 1, 13)\n",
    "print(data)\n",
    "data_dabar = datetime.datetime.now()\n",
    "print(data_dabar)\n",
    "skirtumas = data_dabar - data\n",
    "print(skirtumas)\n",
    "sekundemis = skirtumas.seconds\n",
    "print(sekundemis)"
   ]
  }
 ],
 "metadata": {
  "kernelspec": {
   "display_name": "Python 3",
   "language": "python",
   "name": "python3"
  },
  "language_info": {
   "codemirror_mode": {
    "name": "ipython",
    "version": 3
   },
   "file_extension": ".py",
   "mimetype": "text/x-python",
   "name": "python",
   "nbconvert_exporter": "python",
   "pygments_lexer": "ipython3",
   "version": "3.13.1"
  }
 },
 "nbformat": 4,
 "nbformat_minor": 5
}
