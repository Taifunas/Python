{
 "cells": [
  {
   "cell_type": "markdown",
   "metadata": {},
   "source": [
    "# Žodynai (`dictionaries`) (2 dalis)\n",
    "\n",
    "- pridėjimas į sąrašus\n",
    "- iteravimas"
   ]
  },
  {
   "cell_type": "markdown",
   "metadata": {},
   "source": [
    "## Pavyzdžiai"
   ]
  },
  {
   "cell_type": "code",
   "execution_count": 4,
   "metadata": {},
   "outputs": [
    {
     "name": "stdout",
     "output_type": "stream",
     "text": [
      "knygos pavadinimas yra apie miska, jos kaina yra 14.99, o autorius yra kazys bryantas\n",
      "knygos pavadinimas yra apie sporta, jos kaina yra 11.99, o autorius yra klebonas bronius\n",
      "knygos pavadinimas yra apie statybas, jos kaina yra 21.99, o autorius yra statys stasys\n"
     ]
    }
   ],
   "source": [
    "knygos=[{'pavadinimas':'apie miska','kaina':14.99,'autorius':'kazys bryantas'},\n",
    "        {'pavadinimas':'apie sporta','kaina':11.99,'autorius':'klebonas bronius'},\n",
    "        {'pavadinimas':'apie statybas','kaina':21.99,'autorius':'statys stasys'}\n",
    "]\n",
    "\n",
    "for knyga in knygos:\n",
    "    print(f'knygos pavadinimas yra {knyga['pavadinimas']}, jos kaina yra {knyga['kaina']}, o autorius yra {knyga['autorius']}')\n",
    "    #print(knyga)"
   ]
  },
  {
   "cell_type": "code",
   "execution_count": 5,
   "metadata": {},
   "outputs": [
    {
     "name": "stdout",
     "output_type": "stream",
     "text": [
      "11.99\n",
      "48.97\n"
     ]
    }
   ],
   "source": [
    "knygos=[{'pavadinimas':'apie miska','kaina':14.99,'autorius':'kazys bryantas'},\n",
    "        {'pavadinimas':'apie sporta','kaina':11.99,'autorius':'klebonas bronius'},\n",
    "        {'pavadinimas':'apie statybas','kaina':21.99,'autorius':'statys stasys'}\n",
    "]\n",
    "print(knygos[1]['kaina'])\n",
    "\n",
    "knygu_suma=0\n",
    "\n",
    "for knyga in knygos:\n",
    "    knygu_suma+=knyga['kaina']\n",
    "\n",
    "print(knygu_suma)"
   ]
  },
  {
   "cell_type": "code",
   "execution_count": 13,
   "metadata": {},
   "outputs": [
    {
     "name": "stdout",
     "output_type": "stream",
     "text": [
      "studentas Kazys grinius pazymiu vidurkis:  6.75\n",
      "studentas petras petraitis pazymiu vidurkis:  4.75\n"
     ]
    }
   ],
   "source": [
    "studentai=[\n",
    "    {'vardas':'Kazys', 'pavarde':'grinius','pazymiai':[8,3,5,6,7,8,9,8]},\n",
    "     {'vardas':'petras', 'pavarde':'petraitis','pazymiai':[8,3,2,5,1,2,9,8]}\n",
    "]\n",
    "\n",
    "for studentas in studentai:\n",
    "    print(f'studentas {studentas['vardas']} {studentas['pavarde']} pazymiu vidurkis: ', end=' ')\n",
    "    vidurkis=sum(studentas['pazymiai'])/len(studentas['pazymiai'])\n",
    "    print(vidurkis)"
   ]
  },
  {
   "cell_type": "code",
   "execution_count": null,
   "metadata": {},
   "outputs": [],
   "source": [
    "studentai = [\n",
    "    {'vardas': 'Kazys', 'pavarde': 'Grinius', 'pazymiai': [8,9,10,6,7,10,10]},\n",
    "    {'vardas': 'Antanas', 'pavarde': 'Smetona', 'pazymiai': [5,10,4,3,2,10,10]},\n",
    "]\n",
    "\n",
    "didz_vidurkis = 0\n",
    "didz_vidurki_studentas = studentai[0]\n",
    "\n",
    "for studentas in studentai:\n",
    "    vidurkis = sum(studentas['pazymiai'])/len(studentas['pazymiai'])\n",
    "    if vidurkis > didz_vidurkis:\n",
    "        didz_vidurkis = vidurkis\n",
    "        didz_vidurki_studentas = studentas\n",
    "\n",
    "print(f'Didziausia vidurki turi studentas {didz_vidurki_studentas['vardas']} {didz_vidurki_studentas['pavarde']}, jo vidurkis yra {round(didz_vidurkis,1)}')"
   ]
  },
  {
   "cell_type": "code",
   "execution_count": null,
   "metadata": {},
   "outputs": [],
   "source": []
  },
  {
   "cell_type": "code",
   "execution_count": null,
   "metadata": {},
   "outputs": [],
   "source": []
  },
  {
   "cell_type": "markdown",
   "metadata": {},
   "source": [
    "## Užduotys"
   ]
  },
  {
   "cell_type": "markdown",
   "metadata": {},
   "source": [
    "### Užduotis 1\n",
    "\n",
    "Susikurkite sąrašą, kuriame būtų saugomos skirtingos knygos (kaip dictionary elementai).<br>\n",
    "Apie kiekvieną knygą į atskirus knygų dictionary sudėkite norimą informaciją (bent 3 savybes).<br>\n",
    "Į list įdėkite bent 2 knygas.<br>\n",
    "Visas šias knygas išsiveskite.<br>\n",
    "Tuomet parodykite pirmą knygą, bei antros knygos kažkurią savybę."
   ]
  },
  {
   "cell_type": "code",
   "execution_count": 14,
   "metadata": {},
   "outputs": [
    {
     "name": "stdout",
     "output_type": "stream",
     "text": [
      "[{'pavadinimas': 'apie miska', 'kaina': 14.99, 'autorius': 'Jonas Jonaitis'}, {'pavadinimas': 'apie sporta', 'kaina': 19.99, 'autorius': 'Petras Petraitis'}]\n",
      "pirma knyga parase Jonas Jonaitis, antra knyga parase Petras Petraitis\n"
     ]
    }
   ],
   "source": [
    "knygos = [\n",
    "    {'pavadinimas': 'apie miska', 'kaina': 14.99, 'autorius':'Jonas Jonaitis'},\n",
    "    {'pavadinimas': 'apie sporta', 'kaina': 19.99, 'autorius':'Petras Petraitis'}\n",
    "]\n",
    "\n",
    "print(knygos)\n",
    "print(f'pirma knyga parase {knygos[0]['autorius']}, antra knyga parase {knygos[1]['autorius']}')"
   ]
  },
  {
   "cell_type": "markdown",
   "metadata": {},
   "source": [
    "### Užduotis 2\n",
    "\n",
    "Susikurkite sąrašą, kuriame būtų keletas prekių (kaip dictionary elementai) ir jį užpildykite pasirinktais duomenimis.<br>\n",
    "Išveskite visų prekių pavadinimus su kainomis ir dar kokiais nors atributais atskirose eilutėse."
   ]
  },
  {
   "cell_type": "code",
   "execution_count": 15,
   "metadata": {},
   "outputs": [
    {
     "name": "stdout",
     "output_type": "stream",
     "text": [
      "Pavadinimas: apie miska\n",
      "Kaina: 14.99 EUR\n",
      "Isleidimo data: 1999 m.\n",
      "Pavadinimas: apie sporta\n",
      "Kaina: 19.99 EUR\n",
      "Isleidimo data: 2015 m.\n"
     ]
    }
   ],
   "source": [
    "knygos = [\n",
    "    {'pavadinimas': 'apie miska', 'kaina': 14.99, 'isleidimo_metai':1999},\n",
    "    {'pavadinimas': 'apie sporta', 'kaina': 19.99, 'isleidimo_metai':2015}\n",
    "]\n",
    "\n",
    "for knyga in knygos:\n",
    "    print(f'Pavadinimas: {knyga['pavadinimas']}')\n",
    "    print(f'Kaina: {knyga['kaina']} EUR')\n",
    "    print(f'Isleidimo data: {knyga['isleidimo_metai']} m.')"
   ]
  },
  {
   "cell_type": "markdown",
   "metadata": {},
   "source": [
    "### Užduotis 3\n",
    "\n",
    "Susikurkite sąrašą, kuriame būtų saugoma informacija apie keletą automobilių (kaip dictionary elementai) ir užpildykite jį pasirinktais duomenimis.<br>\n",
    "Išveskite kiekvieno automobilio pavadinimą, metus ir paskaičiuotą jo amžių (dabartiniai metai - gamybos metai)."
   ]
  },
  {
   "cell_type": "code",
   "execution_count": 16,
   "metadata": {},
   "outputs": [
    {
     "name": "stdout",
     "output_type": "stream",
     "text": [
      "Pavadinimas: Audi\n",
      "Metai: 2015\n",
      "Automobilio amzius 10\n",
      "Pavadinimas: Ford\n",
      "Metai: 2019\n",
      "Automobilio amzius 6\n"
     ]
    }
   ],
   "source": [
    "import datetime\n",
    "automobilis = [\n",
    "    {'marke':'Audi','modelis':'RS6','metai':2015,'rida': 50000},\n",
    "    {'marke':'Ford','modelis':'Mustang', 'metai':2019, 'rida':35000}\n",
    "]\n",
    "\n",
    "data_ir_laikas_dabar = datetime.datetime.now() \n",
    "\n",
    "\n",
    "for auto in automobilis:\n",
    "    print(f'Pavadinimas: {auto['marke']}')\n",
    "    print(f'Metai: {auto['metai']}')\n",
    "\n",
    "    print('Automobilio amzius', int(data_ir_laikas_dabar.strftime('%Y')) - auto['metai'])"
   ]
  }
 ],
 "metadata": {
  "kernelspec": {
   "display_name": "Python 3",
   "language": "python",
   "name": "python3"
  },
  "language_info": {
   "codemirror_mode": {
    "name": "ipython",
    "version": 3
   },
   "file_extension": ".py",
   "mimetype": "text/x-python",
   "name": "python",
   "nbconvert_exporter": "python",
   "pygments_lexer": "ipython3",
   "version": "3.13.1"
  }
 },
 "nbformat": 4,
 "nbformat_minor": 2
}
