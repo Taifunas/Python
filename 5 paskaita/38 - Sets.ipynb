{
 "cells": [
  {
   "cell_type": "markdown",
   "metadata": {},
   "source": [
    "# Sets"
   ]
  },
  {
   "cell_type": "code",
   "execution_count": 2,
   "metadata": {},
   "outputs": [
    {
     "name": "stdout",
     "output_type": "stream",
     "text": [
      "[1, 2, 3]\n",
      "{1, 2, 3}\n"
     ]
    }
   ],
   "source": [
    "sarasas=[1,2,3]\n",
    "setas={1,2,3}\n",
    "\n",
    "print(sarasas)\n",
    "print(setas)"
   ]
  },
  {
   "cell_type": "code",
   "execution_count": 4,
   "metadata": {},
   "outputs": [
    {
     "name": "stdout",
     "output_type": "stream",
     "text": [
      "{1, 2}\n"
     ]
    }
   ],
   "source": [
    "setas={1,1,2,2,2,2,2,}\n",
    "print(setas)"
   ]
  },
  {
   "cell_type": "markdown",
   "metadata": {},
   "source": [
    "## Pavyzdžiai"
   ]
  },
  {
   "cell_type": "code",
   "execution_count": 5,
   "metadata": {},
   "outputs": [
    {
     "name": "stdout",
     "output_type": "stream",
     "text": [
      "<class 'set'>\n",
      "<class 'dict'>\n"
     ]
    }
   ],
   "source": [
    "\n",
    "tuscias_set=set()\n",
    "kuriame_taip={}\n",
    "\n",
    "print(type(tuscias_set))\n",
    "print(type(kuriame_taip))"
   ]
  },
  {
   "cell_type": "code",
   "execution_count": 1,
   "metadata": {},
   "outputs": [],
   "source": [
    "# kai turime reikšmes, galime kurti taip:\n",
    "\n"
   ]
  },
  {
   "cell_type": "code",
   "execution_count": 6,
   "metadata": {},
   "outputs": [
    {
     "name": "stdout",
     "output_type": "stream",
     "text": [
      "{1, 2, 3, 4, 5, 6, 7}\n"
     ]
    }
   ],
   "source": [
    "# galime paversti sąrašą į set'a\n",
    "\n",
    "skaiciai=[1,2,3,4,5,5,5,6,7,7,7]\n",
    "rinkinys=set(skaiciai)\n",
    "\n",
    "print(rinkinys)\n",
    "skaiciai=list(rinkinys)"
   ]
  },
  {
   "cell_type": "code",
   "execution_count": 7,
   "metadata": {},
   "outputs": [
    {
     "name": "stdout",
     "output_type": "stream",
     "text": [
      "{'Vilnius', 'Kaunas', 'Klaipeda'}\n"
     ]
    }
   ],
   "source": [
    "# set talpina tik unikalius elementus\n",
    "unikalus_miestai={'Vilnius','Kaunas','Vilnius','Klaipeda'}\n",
    "print(unikalus_miestai)"
   ]
  },
  {
   "cell_type": "code",
   "execution_count": 8,
   "metadata": {},
   "outputs": [
    {
     "ename": "TypeError",
     "evalue": "'set' object is not subscriptable",
     "output_type": "error",
     "traceback": [
      "\u001b[1;31m---------------------------------------------------------------------------\u001b[0m",
      "\u001b[1;31mTypeError\u001b[0m                                 Traceback (most recent call last)",
      "Cell \u001b[1;32mIn[8], line 2\u001b[0m\n\u001b[0;32m      1\u001b[0m \u001b[38;5;66;03m# priminimas, negalime naudoti indekso kaip liste\u001b[39;00m\n\u001b[1;32m----> 2\u001b[0m \u001b[43munikalus_miestai\u001b[49m\u001b[43m[\u001b[49m\u001b[38;5;241;43m0\u001b[39;49m\u001b[43m]\u001b[49m\n",
      "\u001b[1;31mTypeError\u001b[0m: 'set' object is not subscriptable"
     ]
    }
   ],
   "source": [
    "# priminimas, negalime naudoti indekso kaip liste\n",
    "unikalus_miestai[0]"
   ]
  },
  {
   "cell_type": "code",
   "execution_count": 9,
   "metadata": {},
   "outputs": [
    {
     "name": "stdout",
     "output_type": "stream",
     "text": [
      "{None, '5', 5, 'pavizdys'}\n"
     ]
    }
   ],
   "source": [
    "# galime talpinti įvairių tipų duomenis\n",
    "\n",
    "ivairi_info={5, 'pavizdys', None, '5'}\n",
    "print(ivairi_info)"
   ]
  },
  {
   "cell_type": "code",
   "execution_count": 6,
   "metadata": {},
   "outputs": [],
   "source": [
    "# galime iteruoti\n"
   ]
  },
  {
   "cell_type": "code",
   "execution_count": 7,
   "metadata": {},
   "outputs": [],
   "source": [
    "# setas talpina tik unikalius duomenis\n",
    "\n"
   ]
  },
  {
   "cell_type": "code",
   "execution_count": 8,
   "metadata": {},
   "outputs": [],
   "source": [
    "# iš list konvertuojame į set, kad gauti unikalius duomenis ir atgal\n"
   ]
  },
  {
   "cell_type": "code",
   "execution_count": 10,
   "metadata": {},
   "outputs": [
    {
     "data": {
      "text/plain": [
       "3"
      ]
     },
     "execution_count": 10,
     "metadata": {},
     "output_type": "execute_result"
    }
   ],
   "source": [
    "# galime naudoti len funkciją\n",
    "len(unikalus_miestai)"
   ]
  },
  {
   "cell_type": "code",
   "execution_count": 12,
   "metadata": {},
   "outputs": [
    {
     "name": "stdout",
     "output_type": "stream",
     "text": [
      "{1, 2, 3}\n",
      "{1, 2, 3, 4}\n",
      "{1, 2, 3, 4, 10}\n"
     ]
    }
   ],
   "source": [
    "# galime pridėti elementus į set\n",
    "s = set([1,2,3])\n",
    "print(s)\n",
    "s.add(4)\n",
    "print(s)\n",
    "s.add(10)\n",
    "print(s)"
   ]
  },
  {
   "cell_type": "code",
   "execution_count": 13,
   "metadata": {},
   "outputs": [
    {
     "name": "stdout",
     "output_type": "stream",
     "text": [
      "{1, 3, 4, 10}\n"
     ]
    }
   ],
   "source": [
    "s.discard(2)\n",
    "print(s)"
   ]
  },
  {
   "cell_type": "code",
   "execution_count": 14,
   "metadata": {},
   "outputs": [
    {
     "name": "stdout",
     "output_type": "stream",
     "text": [
      "set()\n"
     ]
    }
   ],
   "source": [
    "s.clear()\n",
    "print(s)"
   ]
  },
  {
   "cell_type": "code",
   "execution_count": null,
   "metadata": {},
   "outputs": [],
   "source": []
  },
  {
   "cell_type": "code",
   "execution_count": null,
   "metadata": {},
   "outputs": [],
   "source": []
  },
  {
   "cell_type": "markdown",
   "metadata": {},
   "source": [
    "## set union and intersection\n",
    "\n",
    "- galime rasti visus unikalius elementus iš kelių set'ų\n",
    "- galime rasti tik tuos unikalius elementus, kurie yra abiejuose set'uose"
   ]
  },
  {
   "cell_type": "code",
   "execution_count": 16,
   "metadata": {},
   "outputs": [
    {
     "name": "stdout",
     "output_type": "stream",
     "text": [
      "{'Petras', 'Jonas', 'Giedrius', 'Greta', 'Ona', 'Gintare'}\n",
      "{'Petras', 'Gintare'}\n"
     ]
    }
   ],
   "source": [
    "matematikos_studentai={'Ona','Petras','Giedrius','Gintare'}\n",
    "biolofijos_studentai={'Petras','Jonas','Gintare','Greta'}\n",
    "\n",
    "visi_unikalus=matematikos_studentai | biolofijos_studentai\n",
    "print(visi_unikalus)\n",
    "pasikartoja_abiejuose=matematikos_studentai & biolofijos_studentai\n",
    "print(pasikartoja_abiejuose)"
   ]
  },
  {
   "cell_type": "code",
   "execution_count": 11,
   "metadata": {},
   "outputs": [],
   "source": [
    "# set intersection\n",
    "# galima elementus, kurie yra ir pirmam ir antram set'e\n",
    "matematikos_studentai.intersection()"
   ]
  },
  {
   "cell_type": "markdown",
   "metadata": {},
   "source": [
    "## Užduotys"
   ]
  },
  {
   "cell_type": "markdown",
   "metadata": {},
   "source": [
    "### Užduotis 1\n",
    "\n",
    "Įsivaizduokite, kad sukūrėte balsavimo formą, kurioje žmogus galėjo rinktis vieną iš kelių galimų variantų ir turite sąraše visus tuos balsavimo duomenis (pvz: balsavimui panaudotas klausimas `\"labiausiai patinkanti kalba:\"`, o atsakymai `['c++', 'python', 'python', 'javascript', 'python', 'c#', 'javascript']`).<br>\n",
    "Atrinkite visus skirtingus atsakymų variantus į atskirą sąrašą (būtų `['c++', 'python', 'javascript', 'c#']`)."
   ]
  },
  {
   "cell_type": "code",
   "execution_count": 17,
   "metadata": {},
   "outputs": [
    {
     "name": "stdout",
     "output_type": "stream",
     "text": [
      "{'javascript', 'c#', 'python', 'c++'}\n"
     ]
    }
   ],
   "source": [
    "atsakymai = {'c++', 'python', 'python', 'javascript', 'python', 'c#', 'javascript'}\n",
    "print(atsakymai)"
   ]
  },
  {
   "cell_type": "markdown",
   "metadata": {},
   "source": [
    "### Užduotis 2\n",
    "\n",
    "Sukurkite du sąrašus su bet kokiais skaičiais<br>\n",
    "raskite tik tuos sąrašo elementus, kurie yra abiejuose sąrašuose<br>\n",
    "raskite unikalius sąrašo elementus iš abiejų sąrašų<br>\n",
    "atspausdinkite"
   ]
  },
  {
   "cell_type": "code",
   "execution_count": 18,
   "metadata": {},
   "outputs": [
    {
     "name": "stdout",
     "output_type": "stream",
     "text": [
      "{64, 1, 2, 3, 4, 5, 6, 7, 216, 27, 32, 47, 55, 57}\n",
      "{1, 2, 3, 5, 6, 7}\n"
     ]
    }
   ],
   "source": [
    "sk1={1,2,3,4,5,6,55,32,2,6,7,27,4,1}\n",
    "sk2={1,2,3,5,216,3,6,64,57,7,47}\n",
    "\n",
    "visi_unikalus=sk1 | sk2\n",
    "print(visi_unikalus)\n",
    "pasikartoja_abiejuose=sk1 & sk2\n",
    "print(pasikartoja_abiejuose)"
   ]
  }
 ],
 "metadata": {
  "kernelspec": {
   "display_name": "Python 3",
   "language": "python",
   "name": "python3"
  },
  "language_info": {
   "codemirror_mode": {
    "name": "ipython",
    "version": 3
   },
   "file_extension": ".py",
   "mimetype": "text/x-python",
   "name": "python",
   "nbconvert_exporter": "python",
   "pygments_lexer": "ipython3",
   "version": "3.13.1"
  }
 },
 "nbformat": 4,
 "nbformat_minor": 2
}
