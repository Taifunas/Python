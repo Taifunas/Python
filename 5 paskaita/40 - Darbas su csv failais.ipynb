{
 "cells": [
  {
   "cell_type": "markdown",
   "metadata": {},
   "source": [
    "# Darbas su csv failais"
   ]
  },
  {
   "cell_type": "markdown",
   "metadata": {},
   "source": [
    "## `csv` failo skaitymas\n",
    "\n",
    "- `reader` - leidžia eiti per eilutes `csv` faile kaip pro lists\n",
    "- `DictReader` - leidžia eiti per eilutes `csv` faile kaip `OrderedDicts`"
   ]
  },
  {
   "cell_type": "markdown",
   "metadata": {},
   "source": [
    "## Pavyzdžiai"
   ]
  },
  {
   "cell_type": "code",
   "execution_count": 3,
   "metadata": {},
   "outputs": [
    {
     "name": "stdout",
     "output_type": "stream",
     "text": [
      "['Vardas', 'Pavardė', 'Amžius', 'Mokykla', 'Kursas']\n",
      "['Petras', 'Petraitis', '21', 'KTU', '3']\n",
      "['Inga', 'Ingauskytė', '22', 'KTU', '4']\n",
      "['Jonas', 'Jonaitis', '20', 'VDU', '2']\n",
      "['Gintarė', 'Gintarytė', '21', 'VDU', '3']\n"
     ]
    }
   ],
   "source": [
    "from csv import reader\n",
    "\n",
    "with open('./studentai.csv', encoding='utf-8') as f:\n",
    "    csv_reader=reader(f)\n",
    "    for row in csv_reader:\n",
    "        print(row)"
   ]
  },
  {
   "cell_type": "code",
   "execution_count": 4,
   "metadata": {},
   "outputs": [
    {
     "name": "stdout",
     "output_type": "stream",
     "text": [
      "['Petras', 'Petraitis', '21', 'KTU', '3']\n",
      "['Inga', 'Ingauskytė', '22', 'KTU', '4']\n",
      "['Jonas', 'Jonaitis', '20', 'VDU', '2']\n",
      "['Gintarė', 'Gintarytė', '21', 'VDU', '3']\n"
     ]
    }
   ],
   "source": [
    "from csv import reader\n",
    "\n",
    "with open('./studentai.csv', encoding='utf-8') as f:\n",
    "    csv_reader=reader(f)\n",
    "    next(csv_reader)\n",
    "    for row in csv_reader:\n",
    "        print(row)"
   ]
  },
  {
   "cell_type": "code",
   "execution_count": 5,
   "metadata": {},
   "outputs": [
    {
     "name": "stdout",
     "output_type": "stream",
     "text": [
      "{'Vardas': 'Petras', 'Pavardė': 'Petraitis', 'Amžius': '21', 'Mokykla': 'KTU', 'Kursas': '3'}\n",
      "{'Vardas': 'Inga', 'Pavardė': 'Ingauskytė', 'Amžius': '22', 'Mokykla': 'KTU', 'Kursas': '4'}\n",
      "{'Vardas': 'Jonas', 'Pavardė': 'Jonaitis', 'Amžius': '20', 'Mokykla': 'VDU', 'Kursas': '2'}\n",
      "{'Vardas': 'Gintarė', 'Pavardė': 'Gintarytė', 'Amžius': '21', 'Mokykla': 'VDU', 'Kursas': '3'}\n"
     ]
    }
   ],
   "source": [
    "from csv import DictReader\n",
    "\n",
    "with open('./studentai.csv', encoding='utf-8') as f:\n",
    "    d_reader=DictReader(f)\n",
    "    for row in d_reader:\n",
    "        print(row)"
   ]
  },
  {
   "cell_type": "code",
   "execution_count": 7,
   "metadata": {},
   "outputs": [],
   "source": [
    "from csv import writer\n",
    "\n",
    "orai=[\n",
    "    ['Data', 'temperatura','oras'],\n",
    "    ['2025-02-05', '2','darganota'],\n",
    "    ['2025-02-06', '3','Giedra']  ]\n",
    "\n",
    "with open('orai.csv','w',newline='') as f:\n",
    "    f_writer=writer(f)\n",
    "    f_writer.writerows(orai)"
   ]
  },
  {
   "cell_type": "code",
   "execution_count": null,
   "metadata": {},
   "outputs": [],
   "source": []
  },
  {
   "cell_type": "markdown",
   "metadata": {},
   "source": [
    "## Užduotys"
   ]
  },
  {
   "cell_type": "markdown",
   "metadata": {},
   "source": [
    "### Užduotys 1\n",
    "\n",
    "Susikurkite csv failą su norimais duomenimis.<br>\n",
    "Nuskaitykite pasirinktą csv failą ir paskaičiuokite bent 2 dalykus (pvz min/max pagal kažkurį atributą, sumą, ar pan.)."
   ]
  },
  {
   "cell_type": "code",
   "execution_count": 6,
   "metadata": {},
   "outputs": [
    {
     "name": "stdout",
     "output_type": "stream",
     "text": [
      "Vidurkis: 21.0\n",
      "21.0\n"
     ]
    }
   ],
   "source": [
    "from csv import DictReader\n",
    "\n",
    "with open('./studentai.csv', encoding='utf-8') as failas:\n",
    "    dict_reader=DictReader(failas, delimiter=',')\n",
    "    amzius=0\n",
    "    index=0\n",
    "    for row in dict_reader:\n",
    "        amzius+=int(row['Amžius'])\n",
    "        index+=1\n",
    "    print('Vidurkis:',amzius/index)\n",
    "    print(amzius/(dict_reader.line_num-1))"
   ]
  },
  {
   "cell_type": "code",
   "execution_count": null,
   "metadata": {},
   "outputs": [],
   "source": [
    "\n"
   ]
  }
 ],
 "metadata": {
  "kernelspec": {
   "display_name": "Python 3",
   "language": "python",
   "name": "python3"
  },
  "language_info": {
   "codemirror_mode": {
    "name": "ipython",
    "version": 3
   },
   "file_extension": ".py",
   "mimetype": "text/x-python",
   "name": "python",
   "nbconvert_exporter": "python",
   "pygments_lexer": "ipython3",
   "version": "3.13.1"
  }
 },
 "nbformat": 4,
 "nbformat_minor": 2
}
