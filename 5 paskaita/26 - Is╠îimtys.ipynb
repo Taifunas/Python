{
 "cells": [
  {
   "cell_type": "markdown",
   "id": "d8482ab6",
   "metadata": {},
   "source": [
    "# Išimtys"
   ]
  },
  {
   "cell_type": "code",
   "execution_count": 3,
   "id": "07aeefe1",
   "metadata": {},
   "outputs": [
    {
     "name": "stdout",
     "output_type": "stream",
     "text": [
      "1.0\n",
      "pabaiga\n"
     ]
    }
   ],
   "source": [
    "try:\n",
    "    vartotojo_ivestis = input('Iveskite skaiciu, kuri padalinsime is jo paties')\n",
    "    skaicius = int(vartotojo_ivestis)\n",
    "    print(skaicius/skaicius)\n",
    "except ValueError:\n",
    "    print('Dalyba nebus atliekama, nes tai nėra skaičius')\n",
    "except ZeroDivisionError:\n",
    "    print('Dalyba is nulio negalima!')\n",
    "    vartotojo_ivestis = input('Iveskite skaiciu, kuri padalinsime is jo paties')\n",
    "    skaicius = int(vartotojo_ivestis)\n",
    "    print(skaicius/skaicius)\n",
    "\n",
    "print('pabaiga')"
   ]
  },
  {
   "cell_type": "code",
   "execution_count": 5,
   "id": "2278c125",
   "metadata": {},
   "outputs": [
    {
     "name": "stdout",
     "output_type": "stream",
     "text": [
      "Nutiko klaida\n",
      "programos pabaiga\n"
     ]
    }
   ],
   "source": [
    "saskaitos_likutis=0\n",
    "\n",
    "try:\n",
    "    saskaitos_likutis+=inesama_suma\n",
    "except:\n",
    "    print('Nutiko klaida')\n",
    "\n",
    "finally:\n",
    "    print('programos pabaiga')"
   ]
  },
  {
   "cell_type": "code",
   "execution_count": 6,
   "id": "cb0881d8",
   "metadata": {},
   "outputs": [
    {
     "name": "stdout",
     "output_type": "stream",
     "text": [
      "nutiko klaida name 'inesama_suma' is not defined\n",
      "programos pabaiga\n"
     ]
    }
   ],
   "source": [
    "try:\n",
    "    saskaitos_likutis+=inesama_suma\n",
    "except Exception as e:\n",
    "    print('nutiko klaida', e)\n",
    "finally: \n",
    "    print('programos pabaiga')"
   ]
  },
  {
   "cell_type": "code",
   "execution_count": 9,
   "id": "4adda41f",
   "metadata": {},
   "outputs": [
    {
     "name": "stdout",
     "output_type": "stream",
     "text": [
      "Klaida reikia teigiamo skaiciaus\n"
     ]
    }
   ],
   "source": [
    "inputas=int(input('iveskite skaiciu didesni nei 0'))\n",
    "\n",
    "try:\n",
    "    if inputas < 0:\n",
    "        raise Exception('reikia teigiamo skaiciaus')\n",
    "except Exception as e:\n",
    "    print('Klaida', e)"
   ]
  },
  {
   "cell_type": "code",
   "execution_count": null,
   "id": "dfcb7ad4",
   "metadata": {},
   "outputs": [],
   "source": []
  },
  {
   "cell_type": "code",
   "execution_count": null,
   "id": "74f460d7",
   "metadata": {},
   "outputs": [],
   "source": []
  },
  {
   "cell_type": "code",
   "execution_count": null,
   "id": "bf3543d5",
   "metadata": {},
   "outputs": [],
   "source": []
  },
  {
   "cell_type": "code",
   "execution_count": null,
   "id": "4d4f2db0",
   "metadata": {},
   "outputs": [],
   "source": []
  },
  {
   "cell_type": "markdown",
   "id": "e785ea9e",
   "metadata": {},
   "source": [
    "## Užduotys"
   ]
  },
  {
   "cell_type": "markdown",
   "id": "7dde3925",
   "metadata": {},
   "source": [
    "## Užduotis 1\n",
    "\n",
    "Parašykite try except bloką šiai klaidai: 0/0\n",
    "Nepriklausomai nuo to ar klaida įvyks ar ne išspausdinkite tekstą: 'Tęsiame toliau'"
   ]
  },
  {
   "cell_type": "code",
   "execution_count": 10,
   "id": "1364e3d1",
   "metadata": {},
   "outputs": [
    {
     "name": "stdout",
     "output_type": "stream",
     "text": [
      "nesidalina is 0\n"
     ]
    }
   ],
   "source": [
    "try:\n",
    "    rezultatas=0/0\n",
    "except ZeroDivisionError:\n",
    "    print('nesidalina is 0')"
   ]
  },
  {
   "cell_type": "markdown",
   "id": "72826dd8",
   "metadata": {},
   "source": [
    "## Užduotis 2\n",
    "\n",
    "Parašykite try except bloką šiai klaidai: x = mano_kintamasis"
   ]
  },
  {
   "cell_type": "code",
   "execution_count": 11,
   "id": "162c6fc3",
   "metadata": {},
   "outputs": [
    {
     "name": "stdout",
     "output_type": "stream",
     "text": [
      "kintamasis nera deklaruotas\n",
      "tesiame toliau\n"
     ]
    }
   ],
   "source": [
    "try:\n",
    "    x=mano_kintamasis\n",
    "except NameError:\n",
    "    print('kintamasis nera deklaruotas')\n",
    "finally:\n",
    "    print('tesiame toliau')"
   ]
  },
  {
   "cell_type": "markdown",
   "id": "f6548678",
   "metadata": {},
   "source": [
    "## Užduotis 3\n",
    "\n",
    "Parašykite try except bloką šiai klaidai: 'labas' + 2"
   ]
  },
  {
   "cell_type": "code",
   "execution_count": 15,
   "id": "3a7b40fd",
   "metadata": {},
   "outputs": [
    {
     "name": "stdout",
     "output_type": "stream",
     "text": [
      "Tipai netinkami\n",
      "tesiame toliau\n"
     ]
    }
   ],
   "source": [
    "try:\n",
    "    kintamasis='Labas'+2\n",
    "except TypeError:\n",
    "    print('Tipai netinkami')\n",
    "finally:\n",
    "    print('tesiame toliau')"
   ]
  }
 ],
 "metadata": {
  "kernelspec": {
   "display_name": "Python 3",
   "language": "python",
   "name": "python3"
  },
  "language_info": {
   "codemirror_mode": {
    "name": "ipython",
    "version": 3
   },
   "file_extension": ".py",
   "mimetype": "text/x-python",
   "name": "python",
   "nbconvert_exporter": "python",
   "pygments_lexer": "ipython3",
   "version": "3.13.1"
  }
 },
 "nbformat": 4,
 "nbformat_minor": 5
}
