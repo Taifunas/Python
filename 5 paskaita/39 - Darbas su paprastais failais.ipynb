{
 "cells": [
  {
   "cell_type": "markdown",
   "metadata": {},
   "source": [
    "# Darbas su paprastais failais"
   ]
  },
  {
   "cell_type": "markdown",
   "metadata": {},
   "source": [
    "## Pavyzdžiai"
   ]
  },
  {
   "cell_type": "markdown",
   "metadata": {},
   "source": [
    "Failo atidarymas:\n",
    "\n",
    "```\n",
    "open('failas.txt')\n",
    "```\n",
    "\n",
    "Failo nuskaitymas:\n",
    "\n",
    "```\n",
    ".read()\n",
    ".readline()\n",
    ".readlines()\n",
    "```\n",
    "\n",
    "Failo uždarymas:\n",
    "\n",
    "```\n",
    ".close()\n",
    "```\n",
    "\n",
    "Būsena ar failas uždarytas:\n",
    "\n",
    "```\n",
    ".closed\n",
    "```"
   ]
  },
  {
   "cell_type": "code",
   "execution_count": 6,
   "metadata": {},
   "outputs": [
    {
     "name": "stdout",
     "output_type": "stream",
     "text": [
      "tekstas, kuris yra irasytas\n",
      "cia yra antra eilute įšų\n"
     ]
    }
   ],
   "source": [
    "failas=open('./tekstas.txt', encoding='utf-8')\n",
    "\n",
    "nuskaitytas_failas=failas.read() # grazina visa failo turini kaip teksta\n",
    "print(nuskaitytas_failas)\n",
    "failas.close()"
   ]
  },
  {
   "cell_type": "code",
   "execution_count": 7,
   "metadata": {},
   "outputs": [
    {
     "name": "stdout",
     "output_type": "stream",
     "text": [
      "['tekstas, kuris yra irasytas\\n', 'cia yra antra eilute įšų']\n"
     ]
    }
   ],
   "source": [
    "failas=open('./tekstas.txt', encoding='utf-8')\n",
    "\n",
    "nuskaitytas_failas=failas.readlines() # grazina visa failo turini kaip teksta\n",
    "print(nuskaitytas_failas)\n",
    "failas.close()"
   ]
  },
  {
   "cell_type": "code",
   "execution_count": 9,
   "metadata": {},
   "outputs": [
    {
     "name": "stdout",
     "output_type": "stream",
     "text": [
      "tekstas, kuris yra irasytas\n",
      "\n",
      "cia yra antra eilute įšų\n"
     ]
    }
   ],
   "source": [
    "failas=open('./tekstas.txt', encoding='utf-8')\n",
    "\n",
    "nuskaitytas_failas=failas.readline() # grazina visa failo turini kaip teksta\n",
    "print(nuskaitytas_failas)\n",
    "nuskaitytas_failas=failas.readline() # grazina visa failo turini kaip teksta\n",
    "print(nuskaitytas_failas)\n",
    "failas.close()"
   ]
  },
  {
   "cell_type": "code",
   "execution_count": 12,
   "metadata": {},
   "outputs": [
    {
     "name": "stdout",
     "output_type": "stream",
     "text": [
      "['tekstas, kuris yra irasytas', 'cia yra antra eilute įšų']\n"
     ]
    }
   ],
   "source": [
    "failas=open('./tekstas.txt', encoding='utf-8')\n",
    "\n",
    "nuskaitytas_failas=failas.read() # grazina visa failo turini kaip teksta\n",
    "iskaidytas_tekstas=nuskaitytas_failas.splitlines()\n",
    "print(iskaidytas_tekstas)\n",
    "failas.close()"
   ]
  },
  {
   "cell_type": "code",
   "execution_count": null,
   "metadata": {},
   "outputs": [],
   "source": []
  },
  {
   "cell_type": "markdown",
   "metadata": {},
   "source": [
    "## Sintaksė\n",
    "\n",
    "Failo atidarymas ir uždarymas su `with`:\n",
    "\n",
    "```\n",
    "with open('failas.txt') as failas:\n",
    "```"
   ]
  },
  {
   "cell_type": "code",
   "execution_count": 13,
   "metadata": {},
   "outputs": [
    {
     "name": "stdout",
     "output_type": "stream",
     "text": [
      "tekstas, kuris yra irasytas\n",
      "cia yra antra eilute Ä¯Å¡Å³\n"
     ]
    }
   ],
   "source": [
    "\n",
    "with open('./tekstas.txt') as failas:\n",
    "    tekstas=failas.read()\n",
    "    print(tekstas)"
   ]
  },
  {
   "cell_type": "code",
   "execution_count": 15,
   "metadata": {},
   "outputs": [
    {
     "name": "stdout",
     "output_type": "stream",
     "text": [
      "tekstas, kuris yra irasytas\n",
      "\n",
      "cia yra antra eilute Ä¯Å¡Å³\n"
     ]
    }
   ],
   "source": [
    "with open('./tekstas.txt') as failas:\n",
    "    for eilute in failas:\n",
    "        print(eilute)"
   ]
  },
  {
   "cell_type": "code",
   "execution_count": 17,
   "metadata": {},
   "outputs": [
    {
     "name": "stdout",
     "output_type": "stream",
     "text": [
      "tekstas, kuris yra irasytas\n",
      "cia yra antra eilute įšų\n"
     ]
    }
   ],
   "source": [
    "with open('./tekstas.txt', encoding='utf-8') as failas:\n",
    "    for eilute in failas:\n",
    "        eilute=eilute.rstrip('\\n')\n",
    "        print(eilute)"
   ]
  },
  {
   "cell_type": "code",
   "execution_count": 25,
   "metadata": {},
   "outputs": [
    {
     "name": "stdout",
     "output_type": "stream",
     "text": [
      "[{'vardas': 'Petras', 'pavarde': 'Petrauskas', 'amzius': '22', 'universitetas': 'KTU', 'vidurkis': '8.7'}, {'vardas': 'Inga', 'pavarde': 'Ingauskienė', 'amzius': '23', 'universitetas': 'VDU', 'vidurkis': '8.9'}, {'vardas': 'Ugnius', 'pavarde': 'Ugnavičius', 'amzius': '21', 'universitetas': 'KTU', 'vidurkis': '8.5'}, {'vardas': 'Gintarė', 'pavarde': 'Gintarytė', 'amzius': '22', 'universitetas': 'VDU', 'vidurkis': '8.3'}]\n"
     ]
    }
   ],
   "source": [
    "studentai=[]\n",
    "\n",
    "with open('./studentai.txt', encoding='utf-8') as f:\n",
    "    for eilute in f:\n",
    "        eilute=eilute.rstrip('\\n')\n",
    "        isskaidyta=eilute.split(';')\n",
    "        studentas=dict(\n",
    "            vardas=isskaidyta[0],\n",
    "            pavarde=isskaidyta[1],\n",
    "            amzius=isskaidyta[2],\n",
    "            universitetas=isskaidyta[3],\n",
    "            vidurkis=isskaidyta[4],\n",
    "        )\n",
    "        studentai.append(studentas)\n",
    "        \n",
    "print(studentai)"
   ]
  },
  {
   "cell_type": "code",
   "execution_count": 29,
   "metadata": {},
   "outputs": [
    {
     "name": "stdout",
     "output_type": "stream",
     "text": [
      "pirma\n",
      "antra\n",
      "trecia\n",
      "\n"
     ]
    }
   ],
   "source": [
    "with open('pavyzdys.txt', 'w', encoding='utf-8') as f: # w iraso duomenis\n",
    "    f.write('pirma\\n')\n",
    "    f.write('antra\\n')\n",
    "    f.write('trecia\\n')\n",
    "\n",
    "with open('pavyzdys.txt', 'r', encoding='utf-8') as f: # r readina duomenis\n",
    "    duomenys=f.read()\n",
    "    print(duomenys)"
   ]
  },
  {
   "cell_type": "code",
   "execution_count": 33,
   "metadata": {},
   "outputs": [],
   "source": [
    "# kaip irasyti i faila?\n",
    "\n",
    "with open('pavyzdys.txt', 'a', encoding='utf-8') as f: #'a' append dadeda teksta i faila\n",
    "    f.write('pirma\\n')\n",
    "    f.write('antra\\n')\n",
    "    f.write('trecia\\n')\n",
    "\n"
   ]
  },
  {
   "cell_type": "code",
   "execution_count": 34,
   "metadata": {},
   "outputs": [],
   "source": [
    "with open('pavyzdys.txt', 'r+', encoding='utf-8') as f:\n",
    "    f.write('ar atsiras virsuje\\n')\n",
    "    f.write('antra\\n')\n",
    "    f.write('trecia\\n')\n"
   ]
  },
  {
   "cell_type": "code",
   "execution_count": null,
   "metadata": {},
   "outputs": [],
   "source": []
  },
  {
   "cell_type": "code",
   "execution_count": null,
   "metadata": {},
   "outputs": [],
   "source": []
  },
  {
   "cell_type": "markdown",
   "metadata": {},
   "source": [
    "## Užduotys"
   ]
  },
  {
   "cell_type": "markdown",
   "metadata": {},
   "source": [
    "### Užduotis 1\n",
    "\n",
    "Susikurkite paprastą tekstinį failą su norimu tekstu. Nuskaitykite šį failą ir suskaičiuokite kiek šiame faile yra žodžių, kiek simbolių ir kiek atskirų eilučių."
   ]
  },
  {
   "cell_type": "code",
   "execution_count": null,
   "metadata": {},
   "outputs": [],
   "source": [
    "with open('./failas.txt', encoding='utf-8', mode='w') as f:\n",
    "    f.write('kazys bryantas geriausias\\nsarunas onylas storiausias\\n')\n",
    "\n",
    "with open('./failas.txt', encoding='utf-8', mode='r') as f:\n",
    "    tekstas=f.read()\n",
    "    tekstas=tekstas.splitlines()\n",
    "    print(tekstas)\n",
    "zodziu_skaicius=0\n",
    "raidziu_skaicius=0\n",
    "for eilute in tekstas:\n",
    "    zodziu_skaicius+=(len(eilute.split()))\n",
    "    raidziu_skaicius+=len(eilute)\n",
    "print('zodziu skaicius: ', zodziu_skaicius)\n",
    "print('raidziu skaicius: ', raidziu_skaicius)\n",
    "print(len(tekstas))"
   ]
  }
 ],
 "metadata": {
  "kernelspec": {
   "display_name": "Python 3",
   "language": "python",
   "name": "python3"
  },
  "language_info": {
   "codemirror_mode": {
    "name": "ipython",
    "version": 3
   },
   "file_extension": ".py",
   "mimetype": "text/x-python",
   "name": "python",
   "nbconvert_exporter": "python",
   "pygments_lexer": "ipython3",
   "version": "3.13.1"
  }
 },
 "nbformat": 4,
 "nbformat_minor": 2
}
