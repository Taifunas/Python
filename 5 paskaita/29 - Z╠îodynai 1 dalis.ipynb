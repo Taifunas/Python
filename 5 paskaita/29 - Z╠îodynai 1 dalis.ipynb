{
 "cells": [
  {
   "cell_type": "markdown",
   "metadata": {},
   "source": [
    "# Žodynai (`dictionaries`) (1 dalis)"
   ]
  },
  {
   "cell_type": "code",
   "execution_count": 1,
   "metadata": {},
   "outputs": [
    {
     "name": "stdout",
     "output_type": "stream",
     "text": [
      "vw golf 2015 278943\n"
     ]
    }
   ],
   "source": [
    "marke='vw'\n",
    "modelis='golf'\n",
    "metai=2015\n",
    "rida=278943\n",
    "\n",
    "print(marke, modelis, metai, rida)"
   ]
  },
  {
   "cell_type": "code",
   "execution_count": null,
   "metadata": {},
   "outputs": [],
   "source": [
    "automobilis=['vw','golf',2015,278943]\n",
    "print(automobilis)\n"
   ]
  },
  {
   "cell_type": "code",
   "execution_count": 3,
   "metadata": {},
   "outputs": [
    {
     "name": "stdout",
     "output_type": "stream",
     "text": [
      "{'marke': 'Vw', 'modelis': 'golf', 'metai': 2015, 'rida': 278943}\n"
     ]
    }
   ],
   "source": [
    "automobilis={\n",
    "    'marke':'Vw',\n",
    "    'modelis':'golf',\n",
    "    'metai':2015,\n",
    "    'rida':278943\n",
    "}\n",
    "\n",
    "print(automobilis)\n",
    "\n",
    "automobilis2={\n",
    "    'marke':'ford',\n",
    "    'modelis':'transit',\n",
    "    'metai':2019,\n",
    "    'rida':350000\n",
    "}"
   ]
  },
  {
   "cell_type": "code",
   "execution_count": 6,
   "metadata": {},
   "outputs": [
    {
     "name": "stdout",
     "output_type": "stream",
     "text": [
      "Vw\n",
      "golf\n",
      "2015\n",
      "278943\n"
     ]
    }
   ],
   "source": [
    "automobilis={\n",
    "    'marke':'Vw',\n",
    "    'modelis':'golf',\n",
    "    'metai':2015,\n",
    "    'rida':278943\n",
    "}\n",
    "\n",
    "print(automobilis['marke'])\n",
    "print(automobilis['modelis'])\n",
    "print(automobilis['metai'])\n",
    "print(automobilis['rida'])"
   ]
  },
  {
   "cell_type": "code",
   "execution_count": 7,
   "metadata": {},
   "outputs": [
    {
     "name": "stdout",
     "output_type": "stream",
     "text": [
      "<class 'dict'> {}\n"
     ]
    }
   ],
   "source": [
    "zmogus={}\n",
    "print(type(zmogus), zmogus)"
   ]
  },
  {
   "cell_type": "code",
   "execution_count": 11,
   "metadata": {},
   "outputs": [
    {
     "name": "stdout",
     "output_type": "stream",
     "text": [
      "<class 'dict'> {'marke': 'vw', 'modelis': 'golf', 'metai': 2015, 'rida': 278943}\n",
      "vw\n"
     ]
    }
   ],
   "source": [
    "\n",
    "automobilis=dict(marke='vw',modelis='golf',metai=2015,rida=278943)\n",
    "print(type(automobilis), automobilis)\n",
    "print(automobilis['marke'])"
   ]
  },
  {
   "cell_type": "code",
   "execution_count": 18,
   "metadata": {},
   "outputs": [
    {
     "name": "stdout",
     "output_type": "stream",
     "text": [
      "{'marke': 'vw', 'modelis': 'golf', 'metai': 2015, 'rida': 281443, 'darbinis turis': 1.6}\n",
      "{'marke': 'vw', 'modelis': 'golf', 'metai': 2015, 'rida': 281943, 'darbinis turis': 2.0}\n",
      "{'marke': 'vw', 'modelis': 'golf', 'metai': 2015, 'rida': 281943, 'darbinis turis': 1.6}\n"
     ]
    }
   ],
   "source": [
    "\n",
    "print(automobilis)\n",
    "automobilis['darbinis turis']=2.0\n",
    "automobilis['rida']=automobilis['rida']+500\n",
    "print(automobilis)\n",
    "automobilis['darbinis turis']=1.6\n",
    "print(automobilis)\n"
   ]
  },
  {
   "cell_type": "code",
   "execution_count": 21,
   "metadata": {},
   "outputs": [
    {
     "name": "stdout",
     "output_type": "stream",
     "text": [
      "spalva neapibrezta\n",
      "juoda\n"
     ]
    }
   ],
   "source": [
    "#print(automobilis['spalva'])\n",
    "\n",
    "automobilis2['spalva']='juoda'\n",
    "print(automobilis.get('spalva','spalva neapibrezta'))\n",
    "print(automobilis2.get('spalva','spalva neapibrezta'))"
   ]
  },
  {
   "cell_type": "code",
   "execution_count": null,
   "metadata": {},
   "outputs": [],
   "source": []
  },
  {
   "cell_type": "code",
   "execution_count": null,
   "metadata": {},
   "outputs": [],
   "source": []
  },
  {
   "cell_type": "code",
   "execution_count": null,
   "metadata": {},
   "outputs": [],
   "source": []
  },
  {
   "cell_type": "code",
   "execution_count": null,
   "metadata": {},
   "outputs": [],
   "source": []
  },
  {
   "cell_type": "code",
   "execution_count": null,
   "metadata": {},
   "outputs": [],
   "source": []
  },
  {
   "cell_type": "markdown",
   "metadata": {},
   "source": [
    "## Užduotys"
   ]
  },
  {
   "cell_type": "markdown",
   "metadata": {},
   "source": [
    "### Užduotis 1\n",
    "\n",
    "Sukurkite dictionary studento duomenims saugoti.<br>\n",
    "Į šį dictionary sudėkite tokias savybes su reikšmėmis: vardas, pavardė, amžius, studijų programa, atsiskaitytų kreditų skaičius, pažymiai, ūgis, kelintame kurse mokosi, kurioje mokykloje mokosi.<br>\n",
    "Išveskite šią informaciją per vieną `print()`.<br>\n",
    "Taip pat, pamėginkite išvesti atskirose eilutėse tris skirtingas pasirinktas savybes."
   ]
  },
  {
   "cell_type": "code",
   "execution_count": 23,
   "metadata": {},
   "outputs": [
    {
     "name": "stdout",
     "output_type": "stream",
     "text": [
      "{'vardas': 'Antanas', 'pavarde': 'kazlauskas', 'ugis': 2.15, 'metai': 25, 'studiju_programa': 'dusmanas', 'atsiskaityu_kreditu_skaicius': 90, 'pazymiai': [5, 6, 7, 4, 10]}\n",
      "kazlauskas\n",
      "[5, 6, 7, 4, 10]\n",
      "Antanas\n"
     ]
    }
   ],
   "source": [
    "studentas={\n",
    "    'vardas':'Antanas',\n",
    "    'pavarde':'kazlauskas',\n",
    "    'ugis':2.15,\n",
    "    'metai':25,\n",
    "    'studiju_programa':'dusmanas',\n",
    "    'atsiskaityu_kreditu_skaicius':90,\n",
    "    'pazymiai':[5,6,7,4,10]\n",
    "}\n",
    "\n",
    "print(studentas)\n",
    "print(studentas['pavarde'])\n",
    "print(studentas['pazymiai'])\n",
    "print(studentas['vardas'])"
   ]
  },
  {
   "cell_type": "markdown",
   "metadata": {},
   "source": [
    "### Užduotis 2\n",
    "\n",
    "Sukurkite dictionary informacijai apie filmą saugoti.<br>\n",
    "Į šį dictionary sudėkite tokias savybes su reikšmėmis: pavadinimas, režisierius, biudžetas, kiek uždirbo pinigų po išleidimo, žanras, trukmė, išleidimo metai, aktorių sąrašas (sąrašas su jų vardais ir pavardėmis).<br>\n",
    "Išveskite šio dictionary informaciją.<br>\n",
    "Paskaičiuokite ir išveskite šio filmo pelną (uždarbis - biudžetas).<br>\n",
    "Išveskite kiek filme dalyvavo aktorių (jų kiekis)."
   ]
  },
  {
   "cell_type": "code",
   "execution_count": 28,
   "metadata": {},
   "outputs": [
    {
     "name": "stdout",
     "output_type": "stream",
     "text": [
      "{'pavadinimas': 'srekas', 'rezisierius': 'Petras', 'biudzetas': 100000, 'kiek_uzdirbo_pinigu_po_isleidimo': 15000000, 'zanras': 'animacinis', 'truko': 160, 'aktoriai': ['zenius', 'kazys', 'antoske']}\n",
      "14900000\n",
      "3\n"
     ]
    }
   ],
   "source": [
    "filmas={\n",
    "    'pavadinimas':'srekas',\n",
    "    'rezisierius':'Petras',\n",
    "    'biudzetas':100000,\n",
    "    'kiek_uzdirbo_pinigu_po_isleidimo':15000000,\n",
    "    'zanras':'animacinis',\n",
    "    'truko':160,\n",
    "    'aktoriai':['zenius','kazys','antoske']\n",
    "}\n",
    "\n",
    "print(filmas)\n",
    "print(filmas['kiek_uzdirbo_pinigu_po_isleidimo']-filmas['biudzetas'])\n",
    "print(len(filmas['aktoriai']))"
   ]
  },
  {
   "cell_type": "markdown",
   "metadata": {},
   "source": []
  },
  {
   "cell_type": "markdown",
   "metadata": {},
   "source": [
    "### Užduotis 3\n",
    "\n",
    "Sukurkite dictionary automobilio duomenims saugoti.<br>\n",
    "Į šį dictionary savybes su reikšmėmis sukelkite, po to kai sukursite tuščią dictionary.<br>\n",
    "Sudėkite šias savybes su reikšmėmis: markė, modelis, rida, gamybos metai, spalva, darbinis tūris, ar daužta, ar parduodama.<br>\n",
    "Išveskite visą automobilio informaciją.<br>\n",
    "Paskaičiuokite ir išveskite kiek vidutiniškai per metus yra nuvažiavęs automobilis (jeigu viso nuvažiavo 300 kilometrų, o automobiliui yra 2 metai, tai per metus vidutiniškai gaunasi 150 km.)."
   ]
  },
  {
   "cell_type": "code",
   "execution_count": 32,
   "metadata": {},
   "outputs": [
    {
     "name": "stdout",
     "output_type": "stream",
     "text": [
      "125000.0\n",
      "{'marke': 'vw', 'modelis': 'golf', 'rida': 250000, 'metai': 2023, 'darbinis_turis': 1.6, 'dauzta': True, 'ar_parduodama': True}\n"
     ]
    }
   ],
   "source": [
    "auto_duomenis={}\n",
    "auto_duomenis['marke']='vw'\n",
    "auto_duomenis['modelis']='golf'\n",
    "auto_duomenis['rida']=250000\n",
    "auto_duomenis['metai']=2023\n",
    "auto_duomenis['darbinis_turis']=1.6\n",
    "auto_duomenis['dauzta']=True\n",
    "auto_duomenis['ar_parduodama']=True\n",
    "\n",
    "print(auto_duomenis)\n",
    "\n",
    "print(auto_duomenis['rida']/(2025 - auto_duomenis['metai']))"
   ]
  }
 ],
 "metadata": {
  "kernelspec": {
   "display_name": "Python 3",
   "language": "python",
   "name": "python3"
  },
  "language_info": {
   "codemirror_mode": {
    "name": "ipython",
    "version": 3
   },
   "file_extension": ".py",
   "mimetype": "text/x-python",
   "name": "python",
   "nbconvert_exporter": "python",
   "pygments_lexer": "ipython3",
   "version": "3.13.1"
  }
 },
 "nbformat": 4,
 "nbformat_minor": 2
}
