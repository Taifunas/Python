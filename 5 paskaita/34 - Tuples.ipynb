{
 "cells": [
  {
   "attachments": {},
   "cell_type": "markdown",
   "metadata": {},
   "source": [
    "# Tuples"
   ]
  },
  {
   "attachments": {},
   "cell_type": "markdown",
   "metadata": {},
   "source": [
    "## Apie `tuples`\n",
    "\n",
    "- Tai susijusių duomenų sugrupavimas (labai panašu į list).\n",
    "- Tačiau tų duomenų mes niekaip po sukūrimo keisti nebegalime (read-only).\n",
    "- Tuples yra greitesni už list’us, mažesnė rizika kad kažką sugadinsime ir pan. Tačiau jeigu reikia galimybės keisti duomenis - tuomet tuples netiks."
   ]
  },
  {
   "attachments": {},
   "cell_type": "markdown",
   "metadata": {},
   "source": [
    "## Sintaksė\n",
    "\n",
    "1-as variantas:\n",
    "\n",
    "```\n",
    "rinkinys = (reiksme, reiksme, reiksme)\n",
    "```\n",
    "\n",
    "2-as variantas:\n",
    "\n",
    "```\n",
    "rinkinys = tuple([reiksme, reiksme, reiksme])\n",
    "```"
   ]
  },
  {
   "attachments": {},
   "cell_type": "markdown",
   "metadata": {},
   "source": [
    "## Pavyzdžiai"
   ]
  },
  {
   "cell_type": "code",
   "execution_count": 3,
   "metadata": {},
   "outputs": [
    {
     "name": "stdout",
     "output_type": "stream",
     "text": [
      "('sausis', 'vasaris', 'kovas', 'balandis', 'geguze')\n",
      "<class 'tuple'>\n"
     ]
    }
   ],
   "source": [
    "menesiai=('sausis', 'vasaris','kovas','balandis','geguze')\n",
    "\n",
    "print(menesiai)\n",
    "\n",
    "print(type(menesiai))"
   ]
  },
  {
   "cell_type": "code",
   "execution_count": 6,
   "metadata": {},
   "outputs": [
    {
     "name": "stdout",
     "output_type": "stream",
     "text": [
      "['sausis', 'vasaris', 'kovas', 'balandis', 'geguze']\n",
      "<class 'list'>\n",
      "('sausis', 'vasaris', 'kovas', 'balandis', 'geguze')\n"
     ]
    }
   ],
   "source": [
    "menesiai=['sausis', 'vasaris','kovas','balandis','geguze']\n",
    "print(menesiai)\n",
    "print(type(menesiai))\n",
    "\n",
    "menesiai_saugus=tuple(menesiai)\n",
    "print(menesiai_saugus)"
   ]
  },
  {
   "cell_type": "code",
   "execution_count": 7,
   "metadata": {},
   "outputs": [
    {
     "name": "stdout",
     "output_type": "stream",
     "text": [
      "sausis\n",
      "kovas\n",
      "('sausis', 'vasaris', 'kovas')\n"
     ]
    }
   ],
   "source": [
    "print(menesiai_saugus[0])\n",
    "print(menesiai_saugus[2])\n",
    "print(menesiai_saugus[0:3])"
   ]
  },
  {
   "cell_type": "code",
   "execution_count": 9,
   "metadata": {},
   "outputs": [
    {
     "name": "stdout",
     "output_type": "stream",
     "text": [
      "1\n",
      "0\n"
     ]
    }
   ],
   "source": [
    "print(menesiai_saugus.count('sausis'))\n",
    "print(menesiai_saugus.index('sausis'))"
   ]
  },
  {
   "cell_type": "code",
   "execution_count": 11,
   "metadata": {},
   "outputs": [
    {
     "name": "stdout",
     "output_type": "stream",
     "text": [
      "sausis\n",
      "vasaris\n",
      "kovas\n",
      "balandis\n",
      "geguze\n"
     ]
    }
   ],
   "source": [
    "for menesis in menesiai_saugus:\n",
    "    print(menesis)"
   ]
  },
  {
   "cell_type": "code",
   "execution_count": 12,
   "metadata": {},
   "outputs": [
    {
     "ename": "TypeError",
     "evalue": "'tuple' object does not support item assignment",
     "output_type": "error",
     "traceback": [
      "\u001b[1;31m---------------------------------------------------------------------------\u001b[0m",
      "\u001b[1;31mTypeError\u001b[0m                                 Traceback (most recent call last)",
      "Cell \u001b[1;32mIn[12], line 1\u001b[0m\n\u001b[1;32m----> 1\u001b[0m \u001b[43mmenesiai_saugus\u001b[49m\u001b[43m[\u001b[49m\u001b[38;5;241;43m2\u001b[39;49m\u001b[43m]\u001b[49m \u001b[38;5;241m=\u001b[39m \u001b[38;5;124m'\u001b[39m\u001b[38;5;124mrugpjutis\u001b[39m\u001b[38;5;124m'\u001b[39m \u001b[38;5;66;03m# negalime pakeisti nariu , nera kintantis\u001b[39;00m\n",
      "\u001b[1;31mTypeError\u001b[0m: 'tuple' object does not support item assignment"
     ]
    }
   ],
   "source": [
    "menesiai_saugus[2] = 'rugpjutis' # negalime pakeisti nariu , nera kintantis"
   ]
  },
  {
   "cell_type": "code",
   "execution_count": null,
   "metadata": {},
   "outputs": [],
   "source": []
  },
  {
   "cell_type": "code",
   "execution_count": null,
   "metadata": {},
   "outputs": [],
   "source": []
  },
  {
   "cell_type": "code",
   "execution_count": null,
   "metadata": {},
   "outputs": [],
   "source": []
  },
  {
   "cell_type": "code",
   "execution_count": 37,
   "metadata": {},
   "outputs": [
    {
     "ename": "IndexError",
     "evalue": "list index out of range",
     "output_type": "error",
     "traceback": [
      "\u001b[1;31m---------------------------------------------------------------------------\u001b[0m",
      "\u001b[1;31mIndexError\u001b[0m                                Traceback (most recent call last)",
      "Cell \u001b[1;32mIn[37], line 1\u001b[0m\n\u001b[1;32m----> 1\u001b[0m \u001b[38;5;28mlen\u001b[39m(\u001b[43mmenesiai\u001b[49m\u001b[43m[\u001b[49m\u001b[38;5;241;43m5\u001b[39;49m\u001b[43m]\u001b[49m)\n",
      "\u001b[1;31mIndexError\u001b[0m: list index out of range"
     ]
    }
   ],
   "source": []
  },
  {
   "attachments": {},
   "cell_type": "markdown",
   "metadata": {},
   "source": [
    "## Užduotys"
   ]
  },
  {
   "attachments": {},
   "cell_type": "markdown",
   "metadata": {},
   "source": [
    "### Užduotis 1\n",
    "\n",
    "Susikurkite tuple iš studijų programos modulių pavadinimų. Atspausdinkite šiuos pavadinimus sąraše, prieš kiekvieną pavadinimą išvedant brūkšniuką. Raskite ilgiausią modulio pavadinimą."
   ]
  },
  {
   "cell_type": "code",
   "execution_count": 51,
   "metadata": {},
   "outputs": [
    {
     "name": "stdout",
     "output_type": "stream",
     "text": [
      "-sausis\n",
      "-vasaris\n",
      "-kovas\n",
      "-balandis\n",
      "-geguze\n",
      "ilgiausias zodis :balandis simboliu skaicius 8\n"
     ]
    }
   ],
   "source": [
    "# Kodą rašykite čia...\n",
    "#menesiai=['sausis', 'vasaris','kovas','balandis','geguze']\n",
    "#\n",
    "#ilgiausias=['sausis']\n",
    "#for menesis in menesiai_saugus:\n",
    "#    print(f'-{menesis}')\n",
    "#    if len(menesiai[menesis])>len(ilgiausias):\n",
    "#        ilgiausias=menesis\n",
    "#\n",
    "#print(ilgiausias)\n",
    "\n",
    "\n",
    "menesiai=('sausis', 'vasaris','kovas','balandis','geguze')\n",
    "\n",
    "ilgiausias=[]\n",
    "for menesis in menesiai:\n",
    "    print(f'-{menesis}')\n",
    "    if len(menesis)>len(ilgiausias):\n",
    "        ilgiausias=menesis\n",
    "print(f'ilgiausias zodis :{ilgiausias} simboliu skaicius {len(ilgiausias)}')\n"
   ]
  },
  {
   "attachments": {},
   "cell_type": "markdown",
   "metadata": {},
   "source": [
    "### Užduotis 2\n",
    "\n",
    "Susikurkite tuple iš mėnesių pavadinimų. Susikurkite kitus tuples sezonams apibūdinti: žiema, pavasaris, vasara, ruduo. Panaudokite slicing `[start:end]`, kad atitinkamus mėnesius sudėtumėte į atitinkamus sezonų tuples. Šį priskyrimą turite atlikti kuriant individualius sezonų tuples, kitaip išmes klaidą, kad jo negalite modifikuoti."
   ]
  },
  {
   "cell_type": "code",
   "execution_count": 56,
   "metadata": {},
   "outputs": [
    {
     "name": "stdout",
     "output_type": "stream",
     "text": [
      "Ziema: ('gruodis', 'sausis', 'vasaris')\n",
      "Pavasaris: ('kovas', 'balandis', 'geguze')\n",
      "Vasara: ('birzelis', 'liepa', 'rugpjutis')\n",
      "Ruduo: ('rugsejis', 'spalis', 'lapkritis')\n"
     ]
    },
    {
     "data": {
      "text/plain": [
       "('lapkritis', 'gruodis')"
      ]
     },
     "execution_count": 56,
     "metadata": {},
     "output_type": "execute_result"
    }
   ],
   "source": [
    "# Kodą rašykite čia...\n",
    "menesiai=('sausis', 'vasaris','kovas','balandis','geguze','birzelis','liepa', 'rugpjutis', 'rugsejis', 'spalis', 'lapkritis', 'gruodis')\n",
    "sezonai = ('ziema','pavasaris','vasara','ruduo')\n",
    "\n",
    "ziema = menesiai[11:] + menesiai[:2]\n",
    "pavasaris = menesiai[2:5]\n",
    "vasara = menesiai[5:8]\n",
    "ruduo = menesiai[8:11]\n",
    "\n",
    "print(f\"Ziema: {ziema}\")\n",
    "print(f\"Pavasaris: {pavasaris}\")\n",
    "print(f\"Vasara: {vasara}\")\n",
    "print(f\"Ruduo: {ruduo}\") "
   ]
  }
 ],
 "metadata": {
  "kernelspec": {
   "display_name": "Python 3",
   "language": "python",
   "name": "python3"
  },
  "language_info": {
   "codemirror_mode": {
    "name": "ipython",
    "version": 3
   },
   "file_extension": ".py",
   "mimetype": "text/x-python",
   "name": "python",
   "nbconvert_exporter": "python",
   "pygments_lexer": "ipython3",
   "version": "3.13.1"
  },
  "orig_nbformat": 4,
  "vscode": {
   "interpreter": {
    "hash": "aa11ca274996316222ef16f35c5f6dbeb467b694c0b2154cdf34dcf9271d5fd0"
   }
  }
 },
 "nbformat": 4,
 "nbformat_minor": 2
}
