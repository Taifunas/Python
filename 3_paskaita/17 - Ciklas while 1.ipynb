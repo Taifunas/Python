{
 "cells": [
  {
   "attachments": {},
   "cell_type": "markdown",
   "metadata": {},
   "source": [
    "# Ciklas `while` (1 dalis)"
   ]
  },
  {
   "attachments": {},
   "cell_type": "markdown",
   "metadata": {},
   "source": [
    "## Apie ciklą `while`\n",
    "\n",
    "Dažniausiai naudojamas kai nežinome kiek kartų ciklas turėtų būti vykdomas. Pavyzdžiui:\n",
    "\n",
    "- Nuskaitinėjame failą, tačiau nežinome kiek teksto eilučių jame yra.\n",
    "- Bandome iš vartotojo gauti duomenis, tačiau nežinome iš kelinto karto jis sugebės suvesti duomenis tvarkingai.\n",
    "- Vykdome skaičiavimus ir norime juos vykdyti iki kol pasieksime tinkamą rezultatą.\n",
    "- ..."
   ]
  },
  {
   "attachments": {},
   "cell_type": "markdown",
   "metadata": {},
   "source": [
    "## Sintaksė\n",
    "\n",
    "```\n",
    "while patikrinimo_salyga:\n",
    "\t# vykdomas kodas jei patikrinimo_salyga yra True\n",
    "```\n",
    "\n",
    "- **patikrinimo_salyga** - jeigu ši sąlyga grąžina True tipo atsakymą, tuomet ciklas vykdo iteraciją\n",
    "- Ciklas vykdo tiek iteracijų kiek patikrinimo_salyga vis dar grąžina True"
   ]
  },
  {
   "attachments": {},
   "cell_type": "markdown",
   "metadata": {},
   "source": [
    "## Pavyzdžiai"
   ]
  },
  {
   "attachments": {},
   "cell_type": "markdown",
   "metadata": {},
   "source": [
    "Nuo 0 iki 5 su `for`:"
   ]
  },
  {
   "cell_type": "code",
   "execution_count": 1,
   "metadata": {},
   "outputs": [
    {
     "name": "stdout",
     "output_type": "stream",
     "text": [
      "0\n",
      "1\n",
      "2\n",
      "3\n",
      "4\n"
     ]
    }
   ],
   "source": [
    "for skaicius in range(5):\n",
    "    print(skaicius)"
   ]
  },
  {
   "attachments": {},
   "cell_type": "markdown",
   "metadata": {},
   "source": [
    "Nuo 0 iki 5 su `while`:"
   ]
  },
  {
   "cell_type": "code",
   "execution_count": 3,
   "metadata": {},
   "outputs": [
    {
     "name": "stdout",
     "output_type": "stream",
     "text": [
      "0\n",
      "1\n",
      "2\n",
      "3\n",
      "4\n"
     ]
    }
   ],
   "source": [
    "skaicius = 0\n",
    "\n",
    "while skaicius<5:\n",
    "    print(skaicius)\n",
    "    skaicius+=1"
   ]
  },
  {
   "cell_type": "code",
   "execution_count": 4,
   "metadata": {},
   "outputs": [
    {
     "name": "stdout",
     "output_type": "stream",
     "text": [
      "10\n",
      "11\n",
      "12\n",
      "13\n",
      "14\n",
      "15\n",
      "16\n",
      "17\n",
      "18\n",
      "19\n",
      "20\n"
     ]
    }
   ],
   "source": [
    "pradzia = 10\n",
    "pabaiga = 20\n",
    "\n",
    "dabartinis = pradzia\n",
    "\n",
    "while dabartinis <= pabaiga:\n",
    "    print(dabartinis)\n",
    "    dabartinis += 1"
   ]
  },
  {
   "cell_type": "code",
   "execution_count": 5,
   "metadata": {},
   "outputs": [
    {
     "name": "stdout",
     "output_type": "stream",
     "text": [
      "Si teksta kartosime\n",
      "Si teksta kartosime\n",
      "Si teksta kartosime\n",
      "Si teksta kartosime\n",
      "Si teksta kartosime\n"
     ]
    }
   ],
   "source": [
    "tekstas='Si teksta kartosime'\n",
    "kiek_liko=5\n",
    "\n",
    "while kiek_liko>0:\n",
    "    print(tekstas)\n",
    "    kiek_liko-=1"
   ]
  },
  {
   "cell_type": "code",
   "execution_count": 16,
   "metadata": {},
   "outputs": [
    {
     "name": "stdout",
     "output_type": "stream",
     "text": [
      "6\n",
      "3\n",
      "7\n",
      "18\n"
     ]
    }
   ],
   "source": [
    "from random import randint\n",
    "\n",
    "skaicius = 1\n",
    "\n",
    "while skaicius<10:\n",
    "    skaicius=randint(1,20)\n",
    "    print(skaicius)"
   ]
  },
  {
   "cell_type": "code",
   "execution_count": 24,
   "metadata": {},
   "outputs": [
    {
     "name": "stdout",
     "output_type": "stream",
     "text": [
      "turimas prekiu kiekis: 50\n",
      "turimas prekiu kiekis: 0\n",
      "parduodame visas prekes\n"
     ]
    }
   ],
   "source": [
    "prekiu_kiekis=50\n",
    "\n",
    "while prekiu_kiekis>=0:\n",
    "    print(f'turimas prekiu kiekis: {prekiu_kiekis}')\n",
    "    nupirkti=int(input('kiek prekiu norite nusipirkti'))\n",
    "    if nupirkti>prekiu_kiekis:\n",
    "        print('parduodame visas prekes')\n",
    "        break\n",
    "    prekiu_kiekis-=nupirkti\n"
   ]
  },
  {
   "cell_type": "code",
   "execution_count": 26,
   "metadata": {},
   "outputs": [
    {
     "name": "stdout",
     "output_type": "stream",
     "text": [
      "spejimas turetu buti didesnis\n",
      "spejimas turetu buti didesnis\n",
      "spejimas turetu buti didesnis\n",
      "spejimas turetu buti didesnis\n",
      "spejimas turetu buti didesnis\n",
      "spejimas turetu buti didesnis\n",
      "spejimas turetu buti didesnis\n",
      "spejimas turetu buti didesnis\n",
      "spejimas turetu buti didesnis\n",
      "spejimas turetu buti didesnis\n",
      "spejimas turetu buti mazesnis\n",
      "spejimas turetu buti didesnis\n",
      "spejimas turetu buti mazesnis\n",
      "spejimas turetu buti mazesnis\n",
      "spejimas turetu buti mazesnis\n",
      "spejimas turetu buti mazesnis\n"
     ]
    }
   ],
   "source": [
    "from random import randint\n",
    "random_number=randint(1,100)\n",
    "while True:\n",
    "    spejimas=int(input('spekite skaiciu: '))\n",
    "    if spejimas > random_number:\n",
    "        print('spejimas turetu buti mazesnis')\n",
    "    elif spejimas < random_number:\n",
    "        print('spejimas turetu buti didesnis')\n",
    "    else:\n",
    "        break"
   ]
  },
  {
   "cell_type": "code",
   "execution_count": null,
   "metadata": {},
   "outputs": [],
   "source": []
  },
  {
   "cell_type": "code",
   "execution_count": null,
   "metadata": {},
   "outputs": [],
   "source": []
  },
  {
   "cell_type": "code",
   "execution_count": null,
   "metadata": {},
   "outputs": [],
   "source": []
  },
  {
   "cell_type": "code",
   "execution_count": null,
   "metadata": {},
   "outputs": [],
   "source": []
  },
  {
   "cell_type": "code",
   "execution_count": null,
   "metadata": {},
   "outputs": [],
   "source": []
  },
  {
   "cell_type": "code",
   "execution_count": null,
   "metadata": {},
   "outputs": [],
   "source": []
  },
  {
   "cell_type": "code",
   "execution_count": null,
   "metadata": {},
   "outputs": [],
   "source": []
  },
  {
   "attachments": {},
   "cell_type": "markdown",
   "metadata": {},
   "source": [
    "## Užduotys"
   ]
  },
  {
   "attachments": {},
   "cell_type": "markdown",
   "metadata": {},
   "source": [
    "### Užduotis 1\n",
    "\n",
    "Išveskite visus skaičius nuo 1 iki 20."
   ]
  },
  {
   "cell_type": "code",
   "execution_count": 1,
   "metadata": {},
   "outputs": [],
   "source": [
    "# Kodą rašykite čia..."
   ]
  },
  {
   "attachments": {},
   "cell_type": "markdown",
   "metadata": {},
   "source": [
    "### Užduotis 2\n",
    "\n",
    "Išveskite visus skaičius nuo 1 iki 50. Prie kiekvieno lyginio skaičiaus parašykite žodį \"lyginis\", o prie kiekvieno nelyginio – \"nelyginis\"."
   ]
  },
  {
   "cell_type": "code",
   "execution_count": 2,
   "metadata": {},
   "outputs": [],
   "source": [
    "# Kodą rašykite čia..."
   ]
  },
  {
   "attachments": {},
   "cell_type": "markdown",
   "metadata": {},
   "source": [
    "### Užduotis 3\n",
    "\n",
    "Išveskite visus skaičius nuo 25 iki 50. Vietoj skaičių, kurie dalinasi iš 3 išveskite tekstą \"dalinasi iš 3\"."
   ]
  },
  {
   "cell_type": "code",
   "execution_count": 3,
   "metadata": {},
   "outputs": [],
   "source": [
    "# Kodą rašykite čia..."
   ]
  },
  {
   "attachments": {},
   "cell_type": "markdown",
   "metadata": {},
   "source": [
    "### Užduotis 4\n",
    "\n",
    "Išveskite visus skaičius nuo 1 iki 100 arba iki tol kol pasitaikys toks, kuris dalinasi iš 7."
   ]
  },
  {
   "cell_type": "code",
   "execution_count": 4,
   "metadata": {},
   "outputs": [],
   "source": [
    "# Kodą rašykite čia..."
   ]
  },
  {
   "attachments": {},
   "cell_type": "markdown",
   "metadata": {},
   "source": [
    "### Užduotis 5\n",
    "\n",
    "Išvedinėkite visus skaičius nuo 1 iki tol kol pasitaikys skaičius, kuris dalinasi iš 3 ir iš 5."
   ]
  },
  {
   "cell_type": "code",
   "execution_count": 5,
   "metadata": {},
   "outputs": [],
   "source": [
    "# Kodą rašykite čia..."
   ]
  },
  {
   "attachments": {},
   "cell_type": "markdown",
   "metadata": {},
   "source": [
    "### Užduotis 6\n",
    "\n",
    "Išvedinėkite visus skaičius nuo 1 iki tol, kol pasitaikys toks skaičius, kuris yra ir lyginis ir dalinasi iš 15."
   ]
  },
  {
   "cell_type": "code",
   "execution_count": 6,
   "metadata": {},
   "outputs": [],
   "source": [
    "# Kodą rašykite čia..."
   ]
  },
  {
   "attachments": {},
   "cell_type": "markdown",
   "metadata": {},
   "source": [
    "### Užduotis 7\n",
    "\n",
    "Generuokite ir išvedinėkite atsitiktinius skaičius (šie skaičiai ribose [1-100]) iki tol kol pasitaikys toks kuris yra virš 50 ir yra lyginis (ciklas sustos tik tada kai sugeneruotas atsitiktinis skaičius bus virš 50 ir bus lyginis (pvz: 52), kitu atveju generuos naują skaičių ir jį išves)."
   ]
  },
  {
   "cell_type": "code",
   "execution_count": 7,
   "metadata": {},
   "outputs": [],
   "source": [
    "# Kodą rašykite čia..."
   ]
  },
  {
   "attachments": {},
   "cell_type": "markdown",
   "metadata": {},
   "source": [
    "### Užduotis 8\n",
    "\n",
    "Susikurkite du kintamuosius prekių kiekiams saugoti. Pavyzdžiui, pirmasis kintamasis gali būti tarkim `bananu_kiekis` su kokia nors reikšme, o kitas tarkim `obuoliu_kiekis` su kokia nors reikšme.\n",
    "\n",
    "Vykdykite ciklą tol, kol dar turėsite bent vieno kiekio bent vieną vienetą. Pavyzdžiui, jeigu vienos prekės turėsite 5 vnt., o kitos jau 0, tai ciklas vis dar vykdomas, o jeigu turėsite abiejų po 0, tai ciklas jau sustoja.\n",
    "\n",
    "Cikle generuokite atsitiktinius skaičius, kuriuos atimsite iš šių kiekių. Tačiau neatimkite kiekių į minusą, pvz, jeigu prekės turite 5 vnt., o norite atimti 6, tai atimkite 5, o jeigu jau turite 0 vnt., tai daugiau nieko ir neatimkite.\n",
    "\n",
    "Viską išvedinėkite kuo aiškiau, kad matytųsi programos eiga.\n",
    "\n",
    "Galimas išvedimo pavyzdys:\n",
    "\n",
    "```\n",
    "Bananų yra 20  | Obuolių yra 14\n",
    "Bananų yra 18  | Obuolių yra 10\n",
    "Bananų yra 14  | Obuolių yra 5\n",
    "Bananų yra 9   | Obuolių yra 2\n",
    "Bananų yra 5   | Obuolių yra 0\n",
    "Bananų yra 3   | Obuolių yra 0\n",
    "Bananų yra 2   | Obuolių yra 0\n",
    "Bananų yra 0   | Obuolių yra 0\n",
    "```"
   ]
  },
  {
   "cell_type": "code",
   "execution_count": null,
   "metadata": {},
   "outputs": [],
   "source": []
  },
  {
   "attachments": {},
   "cell_type": "markdown",
   "metadata": {},
   "source": [
    "### Užduotis 9\n",
    "\n",
    "Išveskite visus skaičius nuo 1 iki kol pasitaikys toks, kuris yra pirminis ir yra didesnis nei 20."
   ]
  },
  {
   "cell_type": "code",
   "execution_count": 8,
   "metadata": {},
   "outputs": [],
   "source": [
    "# Kodą rašykite čia..."
   ]
  },
  {
   "attachments": {},
   "cell_type": "markdown",
   "metadata": {},
   "source": [
    "### Užduotis 10\n",
    "\n",
    "Išvedinėkite fibonačių skaičių seką iki tol kol pasitaikys toks skaičius kuris yra virš 50 ir yra lyginis.\n",
    "\n",
    "PS: Fibonačiaus skaičiai yra tokie skaičiai kur kiekvienas skaičius yra lygus prieš jį ėjusių dviejų skaičių sumai. Pvz.: `1, 1, 2, 3, 5, 8, 13, 21, ...`"
   ]
  },
  {
   "cell_type": "code",
   "execution_count": 9,
   "metadata": {},
   "outputs": [],
   "source": [
    "# Kodą rašykite čia..."
   ]
  }
 ],
 "metadata": {
  "kernelspec": {
   "display_name": "Python 3",
   "language": "python",
   "name": "python3"
  },
  "language_info": {
   "codemirror_mode": {
    "name": "ipython",
    "version": 3
   },
   "file_extension": ".py",
   "mimetype": "text/x-python",
   "name": "python",
   "nbconvert_exporter": "python",
   "pygments_lexer": "ipython3",
   "version": "3.13.1"
  },
  "orig_nbformat": 4,
  "vscode": {
   "interpreter": {
    "hash": "aa11ca274996316222ef16f35c5f6dbeb467b694c0b2154cdf34dcf9271d5fd0"
   }
  }
 },
 "nbformat": 4,
 "nbformat_minor": 2
}
