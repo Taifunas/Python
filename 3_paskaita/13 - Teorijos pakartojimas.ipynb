{
 "cells": [
  {
   "attachments": {},
   "cell_type": "markdown",
   "metadata": {},
   "source": [
    "# Žinių pakartojimas (1)"
   ]
  },
  {
   "attachments": {},
   "cell_type": "markdown",
   "metadata": {},
   "source": [
    "## Užduoties tikslas\n",
    "\n",
    "Suskaičiuoti kiek duonos kepalų kepykla sugebės iškepti per dieną, ar spės įgyvendinti visus dienos užsakymus ir suskaičiuoti kiek iš jų uždirbs pelno."
   ]
  },
  {
   "attachments": {},
   "cell_type": "markdown",
   "metadata": {},
   "source": [
    "## Duomenys\n",
    "\n",
    "Apibrėžti duomenys:\n",
    "\n",
    "- Darbo valandų per dieną - 8 val.\n",
    "\n",
    "Jūsų suvedami duomenys:\n",
    "\n",
    "- Kiek darbuotojas gali iškepti kepalų per valandą.\n",
    "- Kiek darbuotojų turi kepykla.\n",
    "- Vieno kepalo savikaina.\n",
    "- Vieno kepalo pardavimo kaina.\n",
    "- Kiek kepykla turi tą dieną iškepti kepalų (užsakymai)."
   ]
  },
  {
   "cell_type": "code",
   "execution_count": 2,
   "metadata": {},
   "outputs": [],
   "source": [
    "# Susikurkite kintamuosius ir priskirkite informaciją jiems...\n",
    "valandos=8\n",
    "iskepa=100\n",
    "darbuotojai=10\n",
    "savikaina=1\n",
    "kaina=2\n"
   ]
  },
  {
   "attachments": {},
   "cell_type": "markdown",
   "metadata": {},
   "source": [
    "## Skaičiavimai"
   ]
  },
  {
   "attachments": {},
   "cell_type": "markdown",
   "metadata": {},
   "source": [
    "Suskaičiuoti kiek kepykla per vieną darbo dieną spės iškepti duonos kepalų."
   ]
  },
  {
   "cell_type": "code",
   "execution_count": 4,
   "metadata": {},
   "outputs": [
    {
     "name": "stdout",
     "output_type": "stream",
     "text": [
      "8000\n"
     ]
    }
   ],
   "source": [
    "# Rašykite kodą čia...\n",
    "per_diena=valandos*iskepa*darbuotojai\n",
    "print(per_diena)"
   ]
  },
  {
   "attachments": {},
   "cell_type": "markdown",
   "metadata": {},
   "source": [
    "Apskaičiuoti visų kepalų savikainą, gautas pajamas pardavus ir iš to gauto pelno dalį."
   ]
  },
  {
   "cell_type": "code",
   "execution_count": 5,
   "metadata": {},
   "outputs": [],
   "source": [
    "# Rašykite kodą čia...\n",
    "savikaina_visu=per_diena*savikaina\n",
    "pajamos=per_diena*kaina-savikaina_visu"
   ]
  },
  {
   "attachments": {},
   "cell_type": "markdown",
   "metadata": {},
   "source": [
    "Patikrinti ar kepykla spės iškepti visus tos dienos užsakymus. Jei ne, suskaičiuoti kiek kepalų nespės iškepti."
   ]
  },
  {
   "cell_type": "code",
   "execution_count": 7,
   "metadata": {},
   "outputs": [
    {
     "name": "stdout",
     "output_type": "stream",
     "text": [
      "nespes iskepti 2000 kepalu\n"
     ]
    }
   ],
   "source": [
    "# Rašykite kodą čia...\n",
    "uzsakymas=int(input('iveskite kiek kepalu reikia iskept: '))\n",
    "if uzsakymas<per_diena:\n",
    "    print('spes iskepti')\n",
    "else:\n",
    "    nespes=uzsakymas-per_diena\n",
    "    print(f'nespes iskepti {nespes} kepalu')"
   ]
  },
  {
   "attachments": {},
   "cell_type": "markdown",
   "metadata": {},
   "source": [
    "(Papildomai) Įvertinkite tai, kad pajamas ir pelną galite gauti tik iš parduotų kepalų."
   ]
  },
  {
   "cell_type": "code",
   "execution_count": null,
   "metadata": {},
   "outputs": [],
   "source": [
    "# Rašykite kodą čia...\n"
   ]
  }
 ],
 "metadata": {
  "kernelspec": {
   "display_name": "Python 3",
   "language": "python",
   "name": "python3"
  },
  "language_info": {
   "codemirror_mode": {
    "name": "ipython",
    "version": 3
   },
   "file_extension": ".py",
   "mimetype": "text/x-python",
   "name": "python",
   "nbconvert_exporter": "python",
   "pygments_lexer": "ipython3",
   "version": "3.13.1"
  },
  "orig_nbformat": 4,
  "vscode": {
   "interpreter": {
    "hash": "aa11ca274996316222ef16f35c5f6dbeb467b694c0b2154cdf34dcf9271d5fd0"
   }
  }
 },
 "nbformat": 4,
 "nbformat_minor": 2
}
