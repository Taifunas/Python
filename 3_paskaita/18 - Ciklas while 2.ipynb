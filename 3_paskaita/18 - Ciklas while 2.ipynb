{
 "cells": [
  {
   "attachments": {},
   "cell_type": "markdown",
   "metadata": {},
   "source": [
    "# Ciklas `while` (2 dalis)"
   ]
  },
  {
   "attachments": {},
   "cell_type": "markdown",
   "metadata": {},
   "source": [
    "## Pavyzdžiai"
   ]
  },
  {
   "cell_type": "code",
   "execution_count": 1,
   "metadata": {},
   "outputs": [
    {
     "name": "stdout",
     "output_type": "stream",
     "text": [
      "2+30=32\n",
      "pabaiga\n"
     ]
    }
   ],
   "source": [
    "kartoti = 't'\n",
    "\n",
    "while kartoti.lower()=='t':\n",
    "    x,y=input('iveskite du skaicius, atskiriant tarpu').split()\n",
    "    x=int(x)\n",
    "    y=int(y)\n",
    "    print(f'{x}+{y}={x+y}')\n",
    "    kartoti=input('ar norite kartoti? t/n')\n",
    "\n",
    "print('pabaiga')"
   ]
  },
  {
   "cell_type": "code",
   "execution_count": 6,
   "metadata": {},
   "outputs": [
    {
     "name": "stdout",
     "output_type": "stream",
     "text": [
      "2+5=7\n",
      "pabaiga\n"
     ]
    }
   ],
   "source": [
    "kartoti = 't'\n",
    "\n",
    "while True:\n",
    "    x,y=input('iveskite du skaicius, atskiriant tarpu').split()\n",
    "    x=int(x)\n",
    "    y=int(y)\n",
    "    print(f'{x}+{y}={x+y}')\n",
    "    kartoti=input('ar norite kartoti? t/n')\n",
    "    if input('ar norite kartoti? t/n').lower()!='t':\n",
    "        break\n",
    "\n",
    "print('pabaiga')"
   ]
  },
  {
   "cell_type": "code",
   "execution_count": 9,
   "metadata": {},
   "outputs": [
    {
     "name": "stdout",
     "output_type": "stream",
     "text": [
      "pinigai buvo prideti, siuo metu saskaitoje yra 2\n",
      "pinigai buvo prideti, siuo metu saskaitoje yra 31\n"
     ]
    }
   ],
   "source": [
    "pinigu_kiekis=0\n",
    "kartoti='t'\n",
    "\n",
    "while kartoti.lower()=='t':\n",
    "    pinigai=input('iveskite pinigu kieki')\n",
    "    while not pinigai.isdigit():\n",
    "        pinigai=input('iveskite piniguy kieki, tai turi buti skaicius!')\n",
    "    pinigai=int(pinigai) \n",
    "    pinigu_kiekis+=pinigai\n",
    "    print(f'pinigai buvo prideti, siuo metu saskaitoje yra {pinigu_kiekis}')\n",
    "    kartoti=input('ar norite kartoti? t/n')"
   ]
  },
  {
   "cell_type": "code",
   "execution_count": 15,
   "metadata": {},
   "outputs": [
    {
     "name": "stdout",
     "output_type": "stream",
     "text": [
      "5.0\n"
     ]
    }
   ],
   "source": []
  },
  {
   "cell_type": "code",
   "execution_count": 16,
   "metadata": {},
   "outputs": [
    {
     "name": "stdout",
     "output_type": "stream",
     "text": [
      "85 nelyginis\n",
      "61 nelyginis\n",
      "11 nelyginis\n",
      "19 nelyginis\n",
      "53 nelyginis\n",
      "37 nelyginis\n",
      "27 nelyginis\n",
      "99 nelyginis\n",
      "29 nelyginis\n",
      "86 lyginis\n",
      "57 nelyginis\n",
      "60 lyginis\n",
      "92 lyginis\n",
      "12 lyginis\n",
      "16 lyginis\n",
      "rasta lyginiu suma 266\n"
     ]
    }
   ],
   "source": []
  },
  {
   "cell_type": "code",
   "execution_count": null,
   "metadata": {},
   "outputs": [],
   "source": []
  },
  {
   "cell_type": "code",
   "execution_count": null,
   "metadata": {},
   "outputs": [],
   "source": []
  },
  {
   "cell_type": "code",
   "execution_count": null,
   "metadata": {},
   "outputs": [],
   "source": []
  },
  {
   "attachments": {},
   "cell_type": "markdown",
   "metadata": {},
   "source": [
    "## Užduotys"
   ]
  },
  {
   "attachments": {},
   "cell_type": "markdown",
   "metadata": {},
   "source": [
    "### Užduotis 1\n",
    "\n",
    "Sukurkite programą kur vartotojas galėtų įvedinėti informaciją tiek kartų kiek jis norėtų. Kiekvieną kartą jam būtų leidžiama įvesti du skaičius. Tuomet būtų paskaičiuojama šių skaičių suma, skirtumas, sandauga ir dalmuo, bei išvedami visi atsakymai."
   ]
  },
  {
   "cell_type": "code",
   "execution_count": null,
   "metadata": {},
   "outputs": [],
   "source": [
    "# Kodą rašykite čia..."
   ]
  },
  {
   "attachments": {},
   "cell_type": "markdown",
   "metadata": {},
   "source": [
    "### Užduotis 2\n",
    "\n",
    "Leiskite vartotojui įvesti tiek žodžių kiek norės. Suskaičiuokite ir išveskite kiek žodžių jis įvedė."
   ]
  },
  {
   "cell_type": "code",
   "execution_count": null,
   "metadata": {},
   "outputs": [],
   "source": [
    "# Kodą rašykite čia..."
   ]
  },
  {
   "attachments": {},
   "cell_type": "markdown",
   "metadata": {},
   "source": [
    "### Užduotis 3\n",
    "\n",
    "Programoje susikurkite kintamąjį su kažkiek teksto. Leiskite vartotojui atlikinėti paiešką šiame tekste tiek kartų kiek jis norės. Paieška vyksta žmogui įvedant pasirinktą žodį, tada programa žiūri ar turimame tekste tas žodis yra ar nėra, bei išveda atsakymą."
   ]
  },
  {
   "cell_type": "code",
   "execution_count": null,
   "metadata": {},
   "outputs": [],
   "source": [
    "# Kodą rašykite čia..."
   ]
  },
  {
   "attachments": {},
   "cell_type": "markdown",
   "metadata": {},
   "source": [
    "### Užduotis 4\n",
    "\n",
    "Leiskite žmogui suvesti turimų prekių likučius. Įvedimą sustabdykite tuomet, kai žmogus įves -1. Suskaičiuokite turimų likučių sumą (-1 neturėtų būti įtrauktas į skaičiavimą) bei kiekį kiek yra tokių prekių, kurių likę 5 vienetai ar mažiau. Išveskite gautus atsakymus."
   ]
  },
  {
   "cell_type": "code",
   "execution_count": null,
   "metadata": {},
   "outputs": [],
   "source": [
    "# Kodą rašykite čia..."
   ]
  },
  {
   "attachments": {},
   "cell_type": "markdown",
   "metadata": {},
   "source": [
    "### Užduotis 5\n",
    "\n",
    "Generuokite ir išvedinėkite atsitiktinius skaičius. Veiksmą kartokite tiek kartų iki kol pasitaikys trys tokie skaičiai, kurie yra nelyginiai. Prie kiekvieno nelyginio skaičiaus išveskite, kad tai nelyginis skaičius. Raskite ir išveskite šių nelyginių skaičių vidurkį.\n",
    "\n",
    "Pvz:\n",
    "\n",
    "```\n",
    "5 nelyginis\n",
    "2\n",
    "4\n",
    "7 nelyginis\n",
    "8\n",
    "6\n",
    "2\n",
    "1 nelyginis\n",
    "baigė darbą\n",
    "```"
   ]
  },
  {
   "cell_type": "code",
   "execution_count": null,
   "metadata": {},
   "outputs": [],
   "source": [
    "# Kodą rašykite čia..."
   ]
  },
  {
   "attachments": {},
   "cell_type": "markdown",
   "metadata": {},
   "source": [
    "### Užduotis 6\n",
    "\n",
    "Vartotojui leiskite įvedinėti tiek žodžių kiek jis nori. Įvedimą baikite kai įrašys žodį \"baigti\". Visus įvestus žodžius sujunkite į vieną bendrą `string`, kiekvieną žodį atskiriant tarpu (bet po paskutinio nepaliekant tarpo). Parodykite sujungtą tekstą, įvestų žodžių kiekį ir bendrą simbolių kiekį."
   ]
  },
  {
   "cell_type": "code",
   "execution_count": null,
   "metadata": {},
   "outputs": [],
   "source": [
    "# Kodą rašykite čia..."
   ]
  },
  {
   "attachments": {},
   "cell_type": "markdown",
   "metadata": {},
   "source": [
    "### Užduotis 7\n",
    "\n",
    "Liepkite vartotojui įvedinėti bet kokius skaičius. Vykdykite įvedinėjimą iki kol įvestas skaičius bus lygus 0. Raskite įvestų skaičių sumą."
   ]
  },
  {
   "cell_type": "code",
   "execution_count": null,
   "metadata": {},
   "outputs": [],
   "source": [
    "# Kodą rašykite čia..."
   ]
  },
  {
   "attachments": {},
   "cell_type": "markdown",
   "metadata": {},
   "source": [
    "### Užduotis 8\n",
    "\n",
    "Leiskite vartotojui įvedinėti tiek teigiamų ir neigiamų skaičių kiek norės, įvedimą nutraukiant jeigu įves skaičių 0. Programa turėtų suskaičiuoti ir išvesti kiek buvo suvestų teigiamų skaičių ir kiek buvo suvestų neigiamų skaičių. Pvz: jeigu žmogus įves `7, 4, 9, 5, -4, 2, -7, 0`, tai gausime `teigiamų - 5` ir `neigiamų - 2`."
   ]
  },
  {
   "cell_type": "code",
   "execution_count": null,
   "metadata": {},
   "outputs": [],
   "source": [
    "# Kodą rašykite čia..."
   ]
  },
  {
   "attachments": {},
   "cell_type": "markdown",
   "metadata": {},
   "source": [
    "### Užduotis 9\n",
    "\n",
    "Leiskite vartotojui išsivedinėti tiek skirtingų daugybos lentelių kiek norėtų. Kiekvieną kartą kai žmogui leidžiama gauti daugybos lentelę, turėtų būti jo paklausiama kokio skaičiaus tai daugybos lentelė, nuo kokio daugiklio iki kokio reikia praeiti.\n",
    "\n",
    "Pvz: jeigu pasirinko, kad nori daugybos lentelės skaičiaus `5`, o pradžiai davė `1` ir pabaigai `5`, tai jam bus išvesti tokie atsakymai:\n",
    "\n",
    "```\n",
    "5 * 1 = 5\n",
    "5 * 2 = 10\n",
    "5 * 3 = 15\n",
    "5 * 4 = 20\n",
    "5 * 5 = 25\n",
    "```\n",
    "\n",
    "Po tokios lentelės išvedimo vartotojas gali vėl išsivesti daugybos lentelę, nurodant naujus parametrus išvedimui, arba gali sustabdyti programą."
   ]
  },
  {
   "cell_type": "code",
   "execution_count": null,
   "metadata": {},
   "outputs": [],
   "source": [
    "# Kodą rašykite čia..."
   ]
  },
  {
   "attachments": {},
   "cell_type": "markdown",
   "metadata": {},
   "source": [
    "### Užduotis 10\n",
    "\n",
    "Leiskite žmogui įvedinėti bet kokius žodžius. Kiekvieną kartą žmogui įvedus žodį jis turėtų būti išspausdinamas ekrane ir šalia jo parašyta kiek raidžių šiame žodyje yra. Įvedinėjimas yra vykdomas tol kol nepasitaikys žodis ilgesnis nei 5 simboliai.\n",
    "\n",
    "Pvz, jeigu įves kažką tokio:\n",
    "\n",
    "```\n",
    "Abc\n",
    "Def\n",
    "AAAA\n",
    "gg\n",
    "pomidoras\n",
    "```\n",
    "\n",
    "Programa sustos po žodžio `pomidoras` nes jis buvo ilgesnis nei `5` simboliai."
   ]
  },
  {
   "cell_type": "code",
   "execution_count": null,
   "metadata": {},
   "outputs": [],
   "source": [
    "# Kodą rašykite čia..."
   ]
  }
 ],
 "metadata": {
  "kernelspec": {
   "display_name": "Python 3",
   "language": "python",
   "name": "python3"
  },
  "language_info": {
   "codemirror_mode": {
    "name": "ipython",
    "version": 3
   },
   "file_extension": ".py",
   "mimetype": "text/x-python",
   "name": "python",
   "nbconvert_exporter": "python",
   "pygments_lexer": "ipython3",
   "version": "3.13.1"
  },
  "orig_nbformat": 4,
  "vscode": {
   "interpreter": {
    "hash": "aa11ca274996316222ef16f35c5f6dbeb467b694c0b2154cdf34dcf9271d5fd0"
   }
  }
 },
 "nbformat": 4,
 "nbformat_minor": 2
}
