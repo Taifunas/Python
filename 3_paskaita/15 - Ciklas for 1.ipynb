{
 "cells": [
  {
   "attachments": {},
   "cell_type": "markdown",
   "metadata": {},
   "source": [
    "# Ciklai\n",
    "\n",
    "- Ciklai naudojami norint kartoti tuos pačius veiksmus daugiau nei vieną kartą.\n",
    "- Yra du ciklų tipai:\n",
    "  - `for`\n",
    "  - `while`\n",
    "- Kiekvienas ciklas pasižymi tam tikromis savybėmis, todėl kiekvienu atveju reikia patiems nuspręsti, kuris ciklas tuo konkrečiu atveju yra tinkamesnis naudoti."
   ]
  },
  {
   "attachments": {},
   "cell_type": "markdown",
   "metadata": {},
   "source": [
    "# Ciklas `for` (1 dalis)"
   ]
  },
  {
   "attachments": {},
   "cell_type": "markdown",
   "metadata": {},
   "source": [
    "## Apie ciklą `for`\n",
    "\n",
    "Šis ciklas dažniausiai naudojamas kai yra žinoma, kiek kartų jis turi būti vykdomas, arba kai yra iteruojamas duomenų rinkinys (skaičių sąrašas, elementų rinkinys, …)."
   ]
  },
  {
   "attachments": {},
   "cell_type": "markdown",
   "metadata": {},
   "source": [
    "## Sintaksė\n",
    "\n",
    "```\n",
    "for elementas in iteruojamas_objektas:\n",
    "\t# vykdomas kodas\n",
    "```\n",
    "\n",
    "- **iteruojamas_objektas** - elementų rinkinys, sąrašas ir pan. - tai, ką mes iteruojame naudodami ciklą\n",
    "- **elementas** - vienas elementas, viena dalis, iš `iteruojamas_objektas`"
   ]
  },
  {
   "attachments": {},
   "cell_type": "markdown",
   "metadata": {},
   "source": [
    "**iteruojamas_objektas** gali būti:\n",
    "\n",
    "```\n",
    "[40, 32, 73]\n",
    "\"labas\"\n",
    "range(1, 10)\n",
    "...\n",
    "```"
   ]
  },
  {
   "attachments": {},
   "cell_type": "markdown",
   "metadata": {},
   "source": [
    "## Pavyzdžiai"
   ]
  },
  {
   "attachments": {},
   "cell_type": "markdown",
   "metadata": {},
   "source": [
    "Be ciklo:"
   ]
  },
  {
   "cell_type": "code",
   "execution_count": 1,
   "metadata": {},
   "outputs": [
    {
     "name": "stdout",
     "output_type": "stream",
     "text": [
      "1\n",
      "2\n",
      "3\n",
      "4\n"
     ]
    }
   ],
   "source": [
    "print(1)\n",
    "print(2)\n",
    "print(3)\n",
    "print(4)"
   ]
  },
  {
   "attachments": {},
   "cell_type": "markdown",
   "metadata": {},
   "source": [
    "Su ciklu:"
   ]
  },
  {
   "cell_type": "code",
   "execution_count": 3,
   "metadata": {},
   "outputs": [
    {
     "name": "stdout",
     "output_type": "stream",
     "text": [
      "0\n",
      "1\n",
      "2\n",
      "3\n",
      "4\n"
     ]
    }
   ],
   "source": [
    "for i in range(5):\n",
    "    print(i)"
   ]
  },
  {
   "attachments": {},
   "cell_type": "markdown",
   "metadata": {},
   "source": [
    "Nuo 0 iki 5:"
   ]
  },
  {
   "cell_type": "code",
   "execution_count": null,
   "metadata": {},
   "outputs": [],
   "source": []
  },
  {
   "attachments": {},
   "cell_type": "markdown",
   "metadata": {},
   "source": [
    "Nuo 1 iki 6:"
   ]
  },
  {
   "cell_type": "code",
   "execution_count": 4,
   "metadata": {},
   "outputs": [
    {
     "name": "stdout",
     "output_type": "stream",
     "text": [
      "1\n",
      "2\n",
      "3\n",
      "4\n",
      "5\n",
      "6\n"
     ]
    }
   ],
   "source": [
    "for skaicius in range(1,7):\n",
    "    print(skaicius)"
   ]
  },
  {
   "attachments": {},
   "cell_type": "markdown",
   "metadata": {},
   "source": [
    "Nuo 0 iki 5:"
   ]
  },
  {
   "cell_type": "code",
   "execution_count": null,
   "metadata": {},
   "outputs": [],
   "source": []
  },
  {
   "attachments": {},
   "cell_type": "markdown",
   "metadata": {},
   "source": [
    "Be ciklo:"
   ]
  },
  {
   "cell_type": "code",
   "execution_count": 5,
   "metadata": {},
   "outputs": [
    {
     "name": "stdout",
     "output_type": "stream",
     "text": [
      "labas\n"
     ]
    }
   ],
   "source": [
    "print('labas')\n",
    "print('labas')\n",
    "print('labas')\n",
    "print('labas')\n",
    "print('labas')"
   ]
  },
  {
   "attachments": {},
   "cell_type": "markdown",
   "metadata": {},
   "source": [
    "Su ciklu:"
   ]
  },
  {
   "cell_type": "code",
   "execution_count": 6,
   "metadata": {},
   "outputs": [
    {
     "name": "stdout",
     "output_type": "stream",
     "text": [
      "labas\n",
      "labas\n",
      "labas\n",
      "labas\n",
      "labas\n"
     ]
    }
   ],
   "source": [
    "for i in range(5):\n",
    "    print('labas')"
   ]
  },
  {
   "attachments": {},
   "cell_type": "markdown",
   "metadata": {},
   "source": [
    "Be ciklo:"
   ]
  },
  {
   "cell_type": "code",
   "execution_count": null,
   "metadata": {},
   "outputs": [],
   "source": [
    "print('eilute nr. 1')\n",
    "print('eilute nr. 2')\n",
    "print('eilute nr. 3')\n",
    "print('eilute nr. 4')\n",
    "print('eilute nr. 5')"
   ]
  },
  {
   "attachments": {},
   "cell_type": "markdown",
   "metadata": {},
   "source": [
    "Su ciklu:"
   ]
  },
  {
   "cell_type": "code",
   "execution_count": 7,
   "metadata": {},
   "outputs": [
    {
     "name": "stdout",
     "output_type": "stream",
     "text": [
      "eiklute nr 0\n",
      "eiklute nr 1\n",
      "eiklute nr 2\n",
      "eiklute nr 3\n",
      "eiklute nr 4\n"
     ]
    }
   ],
   "source": [
    "for i in range(5):\n",
    "    print(f'eiklute nr {i}')"
   ]
  },
  {
   "attachments": {},
   "cell_type": "markdown",
   "metadata": {},
   "source": [
    "Nuo 5 iki 11:"
   ]
  },
  {
   "cell_type": "code",
   "execution_count": null,
   "metadata": {},
   "outputs": [],
   "source": []
  },
  {
   "attachments": {},
   "cell_type": "markdown",
   "metadata": {},
   "source": [
    "Nuo 5 iki 16:"
   ]
  },
  {
   "cell_type": "code",
   "execution_count": null,
   "metadata": {},
   "outputs": [],
   "source": []
  },
  {
   "attachments": {},
   "cell_type": "markdown",
   "metadata": {},
   "source": [
    "Nuo 2 iki 11, lyginiai:"
   ]
  },
  {
   "cell_type": "code",
   "execution_count": 8,
   "metadata": {},
   "outputs": [
    {
     "name": "stdout",
     "output_type": "stream",
     "text": [
      "eiklute nr 2\n",
      "eiklute nr 3\n",
      "eiklute nr 4\n",
      "eiklute nr 5\n",
      "eiklute nr 6\n",
      "eiklute nr 7\n",
      "eiklute nr 8\n",
      "eiklute nr 9\n",
      "eiklute nr 10\n",
      "eiklute nr 11\n"
     ]
    }
   ],
   "source": [
    "for i in range(2,12):\n",
    "    print(f'eiklute nr {i}')"
   ]
  },
  {
   "attachments": {},
   "cell_type": "markdown",
   "metadata": {},
   "source": [
    "Nuo 2 iki 11, kas antrą:"
   ]
  },
  {
   "cell_type": "code",
   "execution_count": null,
   "metadata": {},
   "outputs": [],
   "source": []
  },
  {
   "attachments": {},
   "cell_type": "markdown",
   "metadata": {},
   "source": [
    "Nuo 1 iki 13, kurie dalinasi iš 2 arba 5:"
   ]
  },
  {
   "cell_type": "code",
   "execution_count": 9,
   "metadata": {},
   "outputs": [
    {
     "name": "stdout",
     "output_type": "stream",
     "text": [
      "2\n",
      "4\n",
      "5\n",
      "6\n",
      "8\n",
      "10\n",
      "12\n"
     ]
    }
   ],
   "source": [
    "for i in range(1,13):\n",
    "    if i%2==0 or i%5==0:\n",
    "        print(i)"
   ]
  },
  {
   "attachments": {},
   "cell_type": "markdown",
   "metadata": {},
   "source": [
    "Kintamųjų naudojimas cikle:"
   ]
  },
  {
   "cell_type": "code",
   "execution_count": 11,
   "metadata": {},
   "outputs": [
    {
     "name": "stdout",
     "output_type": "stream",
     "text": [
      "mantas\n",
      "mantas\n"
     ]
    }
   ],
   "source": [
    "vardas=input('iveskite savo varda: ')\n",
    "kiek_kartoti=int(input('kiek kartu kartoti?'))\n",
    "\n",
    "for i in range(kiek_kartoti):\n",
    "    print(vardas)"
   ]
  },
  {
   "attachments": {},
   "cell_type": "markdown",
   "metadata": {},
   "source": [
    "Kintamųjų naudojimas cikle:"
   ]
  },
  {
   "cell_type": "code",
   "execution_count": null,
   "metadata": {},
   "outputs": [],
   "source": []
  },
  {
   "attachments": {},
   "cell_type": "markdown",
   "metadata": {},
   "source": [
    "Kintamųjų naudojimas cikle:"
   ]
  },
  {
   "cell_type": "code",
   "execution_count": null,
   "metadata": {},
   "outputs": [],
   "source": []
  },
  {
   "attachments": {},
   "cell_type": "markdown",
   "metadata": {},
   "source": [
    "Kintamųjų naudojimas cikle:"
   ]
  },
  {
   "cell_type": "code",
   "execution_count": null,
   "metadata": {},
   "outputs": [],
   "source": []
  },
  {
   "attachments": {},
   "cell_type": "markdown",
   "metadata": {},
   "source": [
    "## Užduotys"
   ]
  },
  {
   "attachments": {},
   "cell_type": "markdown",
   "metadata": {},
   "source": [
    "### Užduotis 1\n",
    "\n",
    "Parašyti `for`, kuris išvestų kiekvieną skaičių pradedant nuo 0 ir baigiant 10 (pvz: `0, 1, 2, 3, 4, 5, 6, 7, 8, 9, 10`)."
   ]
  },
  {
   "cell_type": "code",
   "execution_count": 12,
   "metadata": {},
   "outputs": [
    {
     "name": "stdout",
     "output_type": "stream",
     "text": [
      "0\n",
      "1\n",
      "2\n",
      "3\n",
      "4\n",
      "5\n",
      "6\n",
      "7\n",
      "8\n",
      "9\n",
      "10\n"
     ]
    }
   ],
   "source": [
    "# Kodą rašykite čia...\n",
    "for i in range(0,11):\n",
    "    print(i)"
   ]
  },
  {
   "attachments": {},
   "cell_type": "markdown",
   "metadata": {},
   "source": [
    "### Užduotis 2\n",
    "\n",
    "Parašyti `for`, kuris išvestų kas antrą skaičių pradedant 0 ir baigiant 15 (pvz: `0, 2, 4, 6, 8, 10, 12, 14`)."
   ]
  },
  {
   "cell_type": "code",
   "execution_count": 14,
   "metadata": {},
   "outputs": [
    {
     "name": "stdout",
     "output_type": "stream",
     "text": [
      "0\n",
      "2\n",
      "4\n",
      "6\n",
      "8\n",
      "10\n",
      "12\n",
      "14\n"
     ]
    }
   ],
   "source": [
    "# Kodą rašykite čia...\n",
    "for i in range(0,16,2):\n",
    "    print(i)"
   ]
  },
  {
   "attachments": {},
   "cell_type": "markdown",
   "metadata": {},
   "source": [
    "### Užduotis 3\n",
    "\n",
    "Parašyti `for`, kuris išvestų kas trečią skaičių, pradedant 1 ir baigiant 20. Kiekvieną skaičių apskliausti laužtiniais skliaustais. Pvz.: `[1][4][7]`..."
   ]
  },
  {
   "cell_type": "code",
   "execution_count": 15,
   "metadata": {},
   "outputs": [
    {
     "name": "stdout",
     "output_type": "stream",
     "text": [
      "[1]\n",
      "[4]\n",
      "[7]\n",
      "[10]\n",
      "[13]\n",
      "[16]\n",
      "[19]\n"
     ]
    }
   ],
   "source": [
    "# Kodą rašykite čia...\n",
    "for i in range(1,20,3):\n",
    "    print(f'[{i}]')"
   ]
  },
  {
   "attachments": {},
   "cell_type": "markdown",
   "metadata": {},
   "source": [
    "### Užduotis 4\n",
    "\n",
    "Su `for` pagalba penkis kartus išveskite savo vardą."
   ]
  },
  {
   "cell_type": "code",
   "execution_count": 16,
   "metadata": {},
   "outputs": [
    {
     "name": "stdout",
     "output_type": "stream",
     "text": [
      "mantas\n",
      "mantas\n",
      "mantas\n",
      "mantas\n",
      "mantas\n"
     ]
    }
   ],
   "source": [
    "# Kodą rašykite čia...\n",
    "vardas=input('iveskite savo varda: ')\n",
    "kiek_kartoti=int(input('kiek kartu kartoti?'))\n",
    "\n",
    "for i in range(kiek_kartoti):\n",
    "    print(vardas)"
   ]
  },
  {
   "attachments": {},
   "cell_type": "markdown",
   "metadata": {},
   "source": [
    "### Užduotis 5\n",
    "\n",
    "Parašyti `for`, kuris eitų pro kiekvieną skaičių nuo 1 iki 20. Jame apsirašyti `if` sąlygą, kuri patikrintų ar dabartinis skaičius dalinasi iš 4, jei taip tai šį skaičių išvesti."
   ]
  },
  {
   "cell_type": "code",
   "execution_count": 17,
   "metadata": {},
   "outputs": [
    {
     "name": "stdout",
     "output_type": "stream",
     "text": [
      "4\n",
      "8\n",
      "12\n",
      "16\n",
      "20\n"
     ]
    }
   ],
   "source": [
    "# Kodą rašykite čia...\n",
    "for i in range(1,20):\n",
    "    if i%4==0:\n",
    "        print(i)"
   ]
  },
  {
   "attachments": {},
   "cell_type": "markdown",
   "metadata": {},
   "source": [
    "### Užduotis 6\n",
    "\n",
    "Išveskite visus skaičius nuo 1 iki 15, prie kiekvieno jų nurodant tai lyginis ar nelyginis skaičius. Pvz:\n",
    "\n",
    "```\n",
    "1 - nelyginis\n",
    "2 - lyginis\n",
    "3 - nelyginis\n",
    "...\n",
    "```"
   ]
  },
  {
   "cell_type": "code",
   "execution_count": 18,
   "metadata": {},
   "outputs": [
    {
     "name": "stdout",
     "output_type": "stream",
     "text": [
      "1 nelygins\n",
      "2 lyginis\n",
      "3 nelygins\n",
      "4 lyginis\n",
      "5 nelygins\n",
      "6 lyginis\n",
      "7 nelygins\n",
      "8 lyginis\n",
      "9 nelygins\n",
      "10 lyginis\n",
      "11 nelygins\n",
      "12 lyginis\n",
      "13 nelygins\n",
      "14 lyginis\n"
     ]
    }
   ],
   "source": [
    "# Kodą rašykite čia...\n",
    "for i in range(1,15):\n",
    "    if i%2==0:\n",
    "        print(f'{i} lyginis')\n",
    "    else:\n",
    "        print(f'{i} nelygins')"
   ]
  },
  {
   "attachments": {},
   "cell_type": "markdown",
   "metadata": {},
   "source": [
    "### Užduotis 7\n",
    "\n",
    "Susikurkite kintamuosius rėžių pradžiai ir pabaigai nusakyti. Patikrinkite, kad tai būtų validu (pradžia turi būti mažesnė nei pabaiga). Jei rėžiai tinkami, tuomet vykdyti `for`, kuris atskirose eilutėse išvestų kiekvieną skaičių iš tų rėžių, bei atskiriant tarpu - tų skaičių kvadratus."
   ]
  },
  {
   "cell_type": "code",
   "execution_count": 22,
   "metadata": {},
   "outputs": [
    {
     "name": "stdout",
     "output_type": "stream",
     "text": [
      "1 1\n",
      "4 2\n",
      "9 3\n",
      "16 4\n",
      "25 5\n",
      "36 6\n",
      "49 7\n",
      "64 8\n",
      "81 9\n",
      "100 10\n",
      "121 11\n",
      "144 12\n",
      "169 13\n",
      "196 14\n",
      "225 15\n",
      "256 16\n",
      "289 17\n",
      "324 18\n",
      "361 19\n",
      "400 20\n",
      "441 21\n",
      "484 22\n",
      "529 23\n",
      "576 24\n",
      "625 25\n",
      "676 26\n",
      "729 27\n",
      "784 28\n",
      "841 29\n",
      "900 30\n",
      "961 31\n",
      "1024 32\n",
      "1089 33\n",
      "1156 34\n",
      "1225 35\n",
      "1296 36\n",
      "1369 37\n",
      "1444 38\n",
      "1521 39\n",
      "1600 40\n",
      "1681 41\n",
      "1764 42\n",
      "1849 43\n",
      "1936 44\n",
      "2025 45\n",
      "2116 46\n",
      "2209 47\n",
      "2304 48\n",
      "2401 49\n",
      "2500 50\n",
      "2601 51\n",
      "2704 52\n",
      "2809 53\n",
      "2916 54\n",
      "3025 55\n",
      "3136 56\n",
      "3249 57\n",
      "3364 58\n",
      "3481 59\n",
      "3600 60\n",
      "3721 61\n",
      "3844 62\n",
      "3969 63\n",
      "4096 64\n",
      "4225 65\n",
      "4356 66\n",
      "4489 67\n",
      "4624 68\n",
      "4761 69\n",
      "4900 70\n",
      "5041 71\n",
      "5184 72\n",
      "5329 73\n",
      "5476 74\n",
      "5625 75\n",
      "5776 76\n",
      "5929 77\n",
      "6084 78\n",
      "6241 79\n",
      "6400 80\n",
      "6561 81\n",
      "6724 82\n",
      "6889 83\n",
      "7056 84\n",
      "7225 85\n",
      "7396 86\n",
      "7569 87\n",
      "7744 88\n",
      "7921 89\n",
      "8100 90\n",
      "8281 91\n",
      "8464 92\n",
      "8649 93\n",
      "8836 94\n",
      "9025 95\n",
      "9216 96\n",
      "9409 97\n",
      "9604 98\n",
      "9801 99\n"
     ]
    }
   ],
   "source": [
    "# Kodą rašykite čia...\n",
    "pradzia=1\n",
    "pabaiga=100\n",
    "\n",
    "if pradzia < pabaiga:\n",
    "    for i in range(pradzia,pabaiga):\n",
    "        print(i**2, i)\n",
    "else:\n",
    "    print('pabaiga turi buti didesne neigu pabaiga')"
   ]
  },
  {
   "attachments": {},
   "cell_type": "markdown",
   "metadata": {},
   "source": [
    "### Užduotis 8\n",
    "\n",
    "Susikurkite kintamuosius rėžių pradžiai ir pabaigai nusakyti. Patikrinkite, kad tai būtų validu (pradžia turi būti mažesnė nei pabaiga). Jei rėžiai tinkami, tuomet vykdyti `for`, kuris iš duotų skaičių išvestų visus nelyginius skaičius arba tuos, kurie dalinasi iš 8."
   ]
  },
  {
   "cell_type": "code",
   "execution_count": 23,
   "metadata": {},
   "outputs": [
    {
     "name": "stdout",
     "output_type": "stream",
     "text": [
      "1 1\n",
      "9 3\n",
      "25 5\n",
      "49 7\n",
      "64 8\n",
      "81 9\n",
      "121 11\n",
      "169 13\n",
      "225 15\n",
      "256 16\n",
      "289 17\n",
      "361 19\n",
      "441 21\n",
      "529 23\n",
      "576 24\n",
      "625 25\n",
      "729 27\n",
      "841 29\n",
      "961 31\n",
      "1024 32\n",
      "1089 33\n",
      "1225 35\n",
      "1369 37\n",
      "1521 39\n",
      "1600 40\n",
      "1681 41\n",
      "1849 43\n",
      "2025 45\n",
      "2209 47\n",
      "2304 48\n",
      "2401 49\n",
      "2601 51\n",
      "2809 53\n",
      "3025 55\n",
      "3136 56\n",
      "3249 57\n",
      "3481 59\n",
      "3721 61\n",
      "3969 63\n",
      "4096 64\n",
      "4225 65\n",
      "4489 67\n",
      "4761 69\n",
      "5041 71\n",
      "5184 72\n",
      "5329 73\n",
      "5625 75\n",
      "5929 77\n",
      "6241 79\n",
      "6400 80\n",
      "6561 81\n",
      "6889 83\n",
      "7225 85\n",
      "7569 87\n",
      "7744 88\n",
      "7921 89\n",
      "8281 91\n",
      "8649 93\n",
      "9025 95\n",
      "9216 96\n",
      "9409 97\n",
      "9801 99\n"
     ]
    }
   ],
   "source": [
    "# Kodą rašykite čia...\n",
    "pradzia=1\n",
    "pabaiga=100\n",
    "\n",
    "if pradzia < pabaiga:\n",
    "    for i in range(pradzia,pabaiga):\n",
    "       if i %8==0 or i%2!=0:\n",
    "           print(i**2, i)\n",
    "#else:\n",
    "#    print('pabaiga turi buti didesne neigu pabaiga')"
   ]
  }
 ],
 "metadata": {
  "kernelspec": {
   "display_name": "Python 3",
   "language": "python",
   "name": "python3"
  },
  "language_info": {
   "codemirror_mode": {
    "name": "ipython",
    "version": 3
   },
   "file_extension": ".py",
   "mimetype": "text/x-python",
   "name": "python",
   "nbconvert_exporter": "python",
   "pygments_lexer": "ipython3",
   "version": "3.13.1"
  },
  "orig_nbformat": 4,
  "vscode": {
   "interpreter": {
    "hash": "aa11ca274996316222ef16f35c5f6dbeb467b694c0b2154cdf34dcf9271d5fd0"
   }
  }
 },
 "nbformat": 4,
 "nbformat_minor": 2
}
