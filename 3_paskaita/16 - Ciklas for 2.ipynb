{
 "cells": [
  {
   "attachments": {},
   "cell_type": "markdown",
   "metadata": {},
   "source": [
    "# Ciklas `for` (2 dalis)"
   ]
  },
  {
   "attachments": {},
   "cell_type": "markdown",
   "metadata": {},
   "source": [
    "## Sintaksė\n",
    "\n",
    "```\n",
    "for elementas in iteruojamas_objektas:\n",
    "\t# vykdomas kodas\n",
    "```\n",
    "\n",
    "- **iteruojamas_objektas** - elementų rinkinys, sąrašas ir pan. - tai, ką mes iteruojame naudodami ciklą\n",
    "- **elementas** - vienas elementas, viena dalis, iš `iteruojamas_objektas`"
   ]
  },
  {
   "attachments": {},
   "cell_type": "markdown",
   "metadata": {},
   "source": [
    "**iteruojamas_objektas** gali būti:\n",
    "\n",
    "```\n",
    "[40, 32, 73]\n",
    "\"labas\"\n",
    "range(1, 10)\n",
    "...\n",
    "```"
   ]
  },
  {
   "attachments": {},
   "cell_type": "markdown",
   "metadata": {},
   "source": [
    "## Pavyzdžiai"
   ]
  },
  {
   "cell_type": "code",
   "execution_count": 1,
   "metadata": {},
   "outputs": [
    {
     "name": "stdout",
     "output_type": "stream",
     "text": [
      "c\n",
      "i\n",
      "a\n",
      " \n",
      "y\n",
      "r\n",
      "a\n",
      " \n",
      "m\n",
      "a\n",
      "n\n",
      "o\n",
      " \n",
      "s\n",
      "a\n",
      "k\n",
      "i\n",
      "n\n",
      "y\n",
      "s\n"
     ]
    }
   ],
   "source": [
    "for raide in 'cia yra mano sakinys':\n",
    "    print(raide)"
   ]
  },
  {
   "cell_type": "code",
   "execution_count": 2,
   "metadata": {},
   "outputs": [
    {
     "name": "stdout",
     "output_type": "stream",
     "text": [
      "aaaaaaaaaa\n",
      "zzzzzzzzzz\n",
      "uuuuuuuuuu\n",
      "oooooooooo\n",
      "llllllllll\n",
      "aaaaaaaaaa\n",
      "ssssssssss\n"
     ]
    }
   ],
   "source": [
    "\n",
    "tekstas='azuolas'\n",
    "for raide in tekstas:\n",
    "    print(raide*10)"
   ]
  },
  {
   "cell_type": "code",
   "execution_count": 3,
   "metadata": {},
   "outputs": [
    {
     "name": "stdout",
     "output_type": "stream",
     "text": [
      "7\n",
      "4\n",
      "5\n",
      "22\n",
      "10\n",
      "20\n",
      "30\n"
     ]
    }
   ],
   "source": [
    "for el in [7,4,5,22,10,20,30]:\n",
    "    print(el)"
   ]
  },
  {
   "cell_type": "code",
   "execution_count": 4,
   "metadata": {},
   "outputs": [
    {
     "name": "stdout",
     "output_type": "stream",
     "text": [
      "skaicius 6 yra lyginis\n",
      "skaicius 7 nera lyginis\n",
      "skaicius 10 yra lyginis\n",
      "skaicius 12 yra lyginis\n",
      "skaicius 14 yra lyginis\n",
      "skaicius 13 nera lyginis\n",
      "skaicius 16 yra lyginis\n",
      "skaicius 18 yra lyginis\n",
      "skaicius 27 nera lyginis\n"
     ]
    }
   ],
   "source": [
    "for skaicius in [6,7,10,12,14,13,16,18,27]:\n",
    "    if skaicius%2==0:\n",
    "        print(f'skaicius {skaicius} yra lyginis')\n",
    "    else:\n",
    "        print(f'skaicius {skaicius} nera lyginis')"
   ]
  },
  {
   "cell_type": "code",
   "execution_count": 9,
   "metadata": {},
   "outputs": [
    {
     "name": "stdout",
     "output_type": "stream",
     "text": [
      "pradzia\n",
      "a\n",
      "z\n",
      "u\n",
      "o\n",
      "radom simbli l\n",
      "a\n",
      "s\n"
     ]
    }
   ],
   "source": [
    "print('pradzia')\n",
    "for raide in 'azuolas':\n",
    "    if raide =='l':\n",
    "        print('radom simbli l')\n",
    "        continue # break nutraukia likusi cikla\n",
    "    print(raide)"
   ]
  },
  {
   "cell_type": "code",
   "execution_count": 13,
   "metadata": {},
   "outputs": [
    {
     "name": "stdout",
     "output_type": "stream",
     "text": [
      "visi pazymaii teigiami:  False\n"
     ]
    }
   ],
   "source": [
    "visi_teigiami=True\n",
    "for pazymys in [5,6,7,3,2,1,6,7,10]:\n",
    "    if pazymys < 5:\n",
    "        visi_teigiami=False\n",
    "        break\n",
    "\n",
    "print('visi pazymaii teigiami: ', visi_teigiami)"
   ]
  },
  {
   "cell_type": "code",
   "execution_count": 16,
   "metadata": {},
   "outputs": [
    {
     "name": "stdout",
     "output_type": "stream",
     "text": [
      "studento nr. 1 pazymiai: 4 3 7 10 7 \n",
      "studento nr. 2 pazymiai: 10 2 6 2 4 \n",
      "studento nr. 3 pazymiai: 1 4 8 8 2 \n",
      "studento nr. 4 pazymiai: 4 7 1 2 3 \n"
     ]
    }
   ],
   "source": [
    "from random import randint\n",
    "\n",
    "for studentas in range(1,5):\n",
    "    print(f'studento nr. {studentas} pazymiai: ', end='')\n",
    "    for pazymys in range(5):\n",
    "        paz=randint(1,10)\n",
    "        print(paz, end=' ')\n",
    "    print()"
   ]
  },
  {
   "cell_type": "code",
   "execution_count": 19,
   "metadata": {},
   "outputs": [
    {
     "name": "stdout",
     "output_type": "stream",
     "text": [
      "klientui nr. 0 buvo issiusta apklausa nr. 0\n",
      "klientui nr. 0 buvo issiusta apklausa nr. 1\n",
      "klientui nr. 0 buvo issiusta apklausa nr. 2\n",
      "klientui nr. 0 buvo issiusta apklausa nr. 3\n",
      "klientui nr. 0 buvo issiusta apklausa nr. 4\n",
      "isorinio ciklo pabaiga\n",
      "klientui nr. 1 buvo issiusta apklausa nr. 0\n",
      "klientui nr. 1 buvo issiusta apklausa nr. 1\n",
      "klientui nr. 1 buvo issiusta apklausa nr. 2\n",
      "klientui nr. 1 buvo issiusta apklausa nr. 3\n",
      "isorinio ciklo pabaiga\n",
      "klientui nr. 2 buvo issiusta apklausa nr. 0\n",
      "klientui nr. 2 buvo issiusta apklausa nr. 1\n",
      "klientui nr. 2 buvo issiusta apklausa nr. 2\n",
      "isorinio ciklo pabaiga\n",
      "klientui nr. 3 buvo issiusta apklausa nr. 0\n",
      "klientui nr. 3 buvo issiusta apklausa nr. 1\n",
      "isorinio ciklo pabaiga\n",
      "klientui nr. 4 buvo issiusta apklausa nr. 0\n",
      "isorinio ciklo pabaiga\n",
      "isorinio ciklo pabaiga\n",
      "isorinio ciklo pabaiga\n",
      "isorinio ciklo pabaiga\n",
      "isorinio ciklo pabaiga\n",
      "isorinio ciklo pabaiga\n",
      "isorinio ciklo pabaiga\n",
      "isorinio ciklo pabaiga\n",
      "isorinio ciklo pabaiga\n",
      "isorinio ciklo pabaiga\n",
      "isorinio ciklo pabaiga\n",
      "isorinio ciklo pabaiga\n",
      "isorinio ciklo pabaiga\n",
      "isorinio ciklo pabaiga\n",
      "isorinio ciklo pabaiga\n",
      "isorinio ciklo pabaiga\n",
      "isorinio ciklo pabaiga\n",
      "isorinio ciklo pabaiga\n",
      "isorinio ciklo pabaiga\n",
      "isorinio ciklo pabaiga\n",
      "isorinio ciklo pabaiga\n",
      "isorinio ciklo pabaiga\n",
      "isorinio ciklo pabaiga\n",
      "isorinio ciklo pabaiga\n",
      "isorinio ciklo pabaiga\n",
      "isorinio ciklo pabaiga\n",
      "isorinio ciklo pabaiga\n",
      "isorinio ciklo pabaiga\n",
      "isorinio ciklo pabaiga\n",
      "isorinio ciklo pabaiga\n",
      "veikiapo ciklu\n"
     ]
    }
   ],
   "source": [
    "klientai=34\n",
    "apklausos=5\n",
    "\n",
    "for klientas in range(klientai):\n",
    "    for apklausos in range(apklausos):\n",
    "        print(f'klientui nr. {klientas} buvo issiusta apklausa nr. {apklausos}')\n",
    "    print('isorinio ciklo pabaiga')\n",
    "print('veikiapo ciklu')"
   ]
  },
  {
   "cell_type": "code",
   "execution_count": null,
   "metadata": {},
   "outputs": [],
   "source": []
  },
  {
   "cell_type": "code",
   "execution_count": null,
   "metadata": {},
   "outputs": [],
   "source": []
  },
  {
   "cell_type": "code",
   "execution_count": null,
   "metadata": {},
   "outputs": [],
   "source": []
  },
  {
   "attachments": {},
   "cell_type": "markdown",
   "metadata": {},
   "source": [
    "## Užduotys"
   ]
  },
  {
   "attachments": {},
   "cell_type": "markdown",
   "metadata": {},
   "source": [
    "### Užduotis 1\n",
    "\n",
    "Leiskite vartotojui įvesti savo vardą. Ciklą `for` vykdykite tiek kartų kiek tame varde yra raidžių. Visais atvejais išveskite tą patį pasisveikinimą, pavyzdžiui \"Labas, Ieva\" (ši eilutė kartotųsi 4 kartus, kadangi varde \"Ieva\" yra 4 raidės)."
   ]
  },
  {
   "cell_type": "code",
   "execution_count": 21,
   "metadata": {},
   "outputs": [
    {
     "name": "stdout",
     "output_type": "stream",
     "text": [
      "labas ieva\n",
      "labas ieva\n",
      "labas ieva\n",
      "labas ieva\n"
     ]
    }
   ],
   "source": [
    "# Kodą rašykite čia...\n",
    "vardas=input('iveskite varda')\n",
    "for i in vardas:\n",
    "    print(f'labas {vardas}')"
   ]
  },
  {
   "attachments": {},
   "cell_type": "markdown",
   "metadata": {},
   "source": [
    "### Užduotis 2\n",
    "\n",
    "Susikurkite tokį ciklą: `for elementas in [88, 65, 21, 26, 47]`\n",
    "\n",
    "Iš duotų skaičių išveskite visus skaičius, kurie yra lyginiai."
   ]
  },
  {
   "cell_type": "code",
   "execution_count": 22,
   "metadata": {},
   "outputs": [
    {
     "name": "stdout",
     "output_type": "stream",
     "text": [
      "skaicius lyginis 88\n",
      "skaicius lyginis 26\n"
     ]
    }
   ],
   "source": [
    "# Kodą rašykite čia...\n",
    "for el in [88,65,21,26,47]:\n",
    "    if el%2==0:\n",
    "        print(f'skaicius lyginis {el}')"
   ]
  },
  {
   "attachments": {},
   "cell_type": "markdown",
   "metadata": {},
   "source": [
    "### Užduotis 3\n",
    "\n",
    "Leiskite vartotojui nurodyti rėžių pradžią, pabaigą, žingsnį. Taip pat, kokius skaičius jis nori matyti (lyginius ar nelyginius). Patikrinkite ar rėžiai tinkami, jei taip vykdykite ciklą, kuris eitų per nurodytą rėžių, darant atitinkamą žingsnį. Išveskite tik tokius skaičius kokius vartotojas pasirinko (lyginius arba nelyginius)."
   ]
  },
  {
   "cell_type": "code",
   "execution_count": null,
   "metadata": {},
   "outputs": [
    {
     "name": "stdout",
     "output_type": "stream",
     "text": [
      "2\n",
      "4\n",
      "6\n",
      "8\n"
     ]
    }
   ],
   "source": [
    "# Kodą rašykite čia...\n",
    "pradzia=int(input('iveskite rezio pradzia'))\n",
    "pabaiga=int(input('iveskite rezio pabaiga'))\n",
    "zingsnis=int(input('iveskite rezio zingsnius'))\n",
    "skaicius=(input('iveskite lyginis - lyg arba nelyginis - ne')).lower()\n",
    "\n",
    "if pradzia>=pabaiga:\n",
    "    print('pabaiga turi buti didesne uz pradzia')\n",
    "else:\n",
    "    for i in range(pradzia,pabaiga,zingsnis):\n",
    "        if skaicius == 'lyg' and i%2==0:\n",
    "             print(i)\n",
    "        elif skaicius == 'ne' and i%2!=0:\n",
    "             print(i)\n",
    "        else:\n",
    "             continue\n",
    "\n",
    "\n"
   ]
  },
  {
   "attachments": {},
   "cell_type": "markdown",
   "metadata": {},
   "source": [
    "### Užduotis 4\n",
    "\n",
    "Su `for` pagalba, pamėginkite išvesti tokią eglutę:\n",
    "\n",
    "```\n",
    "*\n",
    "**\n",
    "***\n",
    "****\n",
    "*****\n",
    "```\n",
    "\n",
    "(papildomai) leiskite vartotojui pasirinkti kokio dydžio eglutė turėtų būti išvesta."
   ]
  },
  {
   "cell_type": "code",
   "execution_count": 35,
   "metadata": {},
   "outputs": [
    {
     "name": "stdout",
     "output_type": "stream",
     "text": [
      "*\n",
      "**\n",
      "***\n",
      "****\n",
      "*****\n"
     ]
    }
   ],
   "source": [
    "# Kodą rašykite čia...\n",
    "for i in range(1,6):\n",
    "    print(\"*\"*i)"
   ]
  },
  {
   "attachments": {},
   "cell_type": "markdown",
   "metadata": {},
   "source": [
    "### Užduotis 5\n",
    "\n",
    "Leiskite vartotojui įvesti bet kokį žodį, bei pasirinkti po kiek kartų turėtų būti pakartojama kiekviena raidė. Su ciklo pagalba išveskite kiekvieną raidę iš žodžio atskiroje eilutėje, taip pat, tą raidę eilutėje kartokite tiek kartų kiek pasirinko vartotojas."
   ]
  },
  {
   "cell_type": "code",
   "execution_count": 36,
   "metadata": {},
   "outputs": [
    {
     "name": "stdout",
     "output_type": "stream",
     "text": [
      "zz\n",
      "oo\n",
      "dd\n",
      "ii\n",
      "ss\n"
     ]
    }
   ],
   "source": [
    "# Kaip pagrindą galite naudoti šį ciklą ir jį pakeisti:\n",
    "# for raide in \"mano tekstas\":\n",
    "#     print(raide)\n",
    "\n",
    "# Kodą rašykite čia...\n",
    "zodis=input('iveskite zodi')\n",
    "kartu=int(input('kiek kartu pakartoti raide'))\n",
    "\n",
    "for raide in zodis:\n",
    "    print(raide*kartu)"
   ]
  },
  {
   "attachments": {},
   "cell_type": "markdown",
   "metadata": {},
   "source": [
    "### Užduotis 6\n",
    "\n",
    "(papildomai, sunkiau) Be daugybos veiksmo programoje, sudauginkite du skaičius."
   ]
  },
  {
   "cell_type": "code",
   "execution_count": 39,
   "metadata": {},
   "outputs": [
    {
     "name": "stdout",
     "output_type": "stream",
     "text": [
      "10\n"
     ]
    }
   ],
   "source": [
    "# Kodą rašykite čia...\n",
    "skaicius1 = int(input(\"iveskite pirmaji skaiciu: \"))\n",
    "skaicius2 = int(input(\"iveskite antraji skaiciu: \"))\n",
    "rez=0\n",
    "for i in range(1,skaicius1+1):\n",
    "    rez+=skaicius2\n",
    "print(rez)"
   ]
  },
  {
   "attachments": {},
   "cell_type": "markdown",
   "metadata": {},
   "source": [
    "### Užduotis 7\n",
    "\n",
    "Susikurkite skaičiaus kintamąjį. Suraskite ar šis skaičius yra pirminis."
   ]
  },
  {
   "cell_type": "code",
   "execution_count": 42,
   "metadata": {},
   "outputs": [
    {
     "name": "stdout",
     "output_type": "stream",
     "text": [
      "22 yra nepirminis\n"
     ]
    }
   ],
   "source": [
    "# Kodą rašykite čia...\n",
    "sk=22\n",
    "temp=0\n",
    "\n",
    "for i in range(2,sk):\n",
    "    if sk%i==0:\n",
    "        print(sk, 'yra nepirminis')\n",
    "        break\n",
    "    temp=i\n",
    "if sk==temp+1:\n",
    "    print(sk,'yra pirminis')"
   ]
  }
 ],
 "metadata": {
  "kernelspec": {
   "display_name": "Python 3",
   "language": "python",
   "name": "python3"
  },
  "language_info": {
   "codemirror_mode": {
    "name": "ipython",
    "version": 3
   },
   "file_extension": ".py",
   "mimetype": "text/x-python",
   "name": "python",
   "nbconvert_exporter": "python",
   "pygments_lexer": "ipython3",
   "version": "3.13.1"
  },
  "orig_nbformat": 4,
  "vscode": {
   "interpreter": {
    "hash": "aa11ca274996316222ef16f35c5f6dbeb467b694c0b2154cdf34dcf9271d5fd0"
   }
  }
 },
 "nbformat": 4,
 "nbformat_minor": 2
}
