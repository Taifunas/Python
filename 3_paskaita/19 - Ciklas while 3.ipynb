{
 "cells": [
  {
   "attachments": {},
   "cell_type": "markdown",
   "metadata": {},
   "source": [
    "# Ciklas `while` (3 dalis)"
   ]
  },
  {
   "attachments": {},
   "cell_type": "markdown",
   "metadata": {},
   "source": [
    "## Pavyzdžiai"
   ]
  },
  {
   "cell_type": "code",
   "execution_count": null,
   "metadata": {},
   "outputs": [
    {
     "name": "stdout",
     "output_type": "stream",
     "text": [
      "labas@gmail.com\n"
     ]
    }
   ],
   "source": [
    "email = None\n",
    "\n",
    "while email == '' or email==None or email.find('@')== -1:\n",
    "    email=input('iveskite email')\n",
    "print(email)"
   ]
  },
  {
   "cell_type": "code",
   "execution_count": 1,
   "metadata": {},
   "outputs": [
    {
     "name": "stdout",
     "output_type": "stream",
     "text": [
      "6\n"
     ]
    },
    {
     "data": {
      "text/plain": [
       "6"
      ]
     },
     "execution_count": 1,
     "metadata": {},
     "output_type": "execute_result"
    }
   ],
   "source": [
    "print('testas@gmail.com'.index('@'))\n",
    "\n",
    "'testas'.find('@')\n",
    "'testas@'.find('@')"
   ]
  },
  {
   "cell_type": "code",
   "execution_count": 8,
   "metadata": {},
   "outputs": [
    {
     "ename": "TypeError",
     "evalue": "object of type 'NoneType' has no len()",
     "output_type": "error",
     "traceback": [
      "\u001b[1;31m---------------------------------------------------------------------------\u001b[0m",
      "\u001b[1;31mTypeError\u001b[0m                                 Traceback (most recent call last)",
      "Cell \u001b[1;32mIn[8], line 4\u001b[0m\n\u001b[0;32m      1\u001b[0m \u001b[38;5;28mlen\u001b[39m(\u001b[38;5;124m'\u001b[39m\u001b[38;5;124mtestas\u001b[39m\u001b[38;5;124m'\u001b[39m)\n\u001b[0;32m      3\u001b[0m email\u001b[38;5;241m=\u001b[39m\u001b[38;5;28;01mNone\u001b[39;00m\n\u001b[1;32m----> 4\u001b[0m \u001b[38;5;28;01mwhile\u001b[39;00m \u001b[38;5;28;43mlen\u001b[39;49m\u001b[43m(\u001b[49m\u001b[43memail\u001b[49m\u001b[43m)\u001b[49m \u001b[38;5;241m<\u001b[39m \u001b[38;5;241m6\u001b[39m \u001b[38;5;129;01mor\u001b[39;00m email\u001b[38;5;241m.\u001b[39mfind(\u001b[38;5;124m'\u001b[39m\u001b[38;5;124m@\u001b[39m\u001b[38;5;124m'\u001b[39m)\u001b[38;5;241m==\u001b[39m \u001b[38;5;241m-\u001b[39m\u001b[38;5;241m1\u001b[39m:\n\u001b[0;32m      5\u001b[0m     email\u001b[38;5;241m=\u001b[39m\u001b[38;5;28minput\u001b[39m(\u001b[38;5;124m'\u001b[39m\u001b[38;5;124miveskite email\u001b[39m\u001b[38;5;124m'\u001b[39m)\n\u001b[0;32m      6\u001b[0m     \u001b[38;5;28;01mif\u001b[39;00m \u001b[38;5;28mlen\u001b[39m(email) \u001b[38;5;241m<\u001b[39m \u001b[38;5;241m6\u001b[39m:\n",
      "\u001b[1;31mTypeError\u001b[0m: object of type 'NoneType' has no len()"
     ]
    }
   ],
   "source": [
    "len('testas')\n",
    "\n",
    "email=None\n",
    "while len(email) < 6 or email.find('@')== -1:\n",
    "    email=input('iveskite email')\n",
    "    if len(email) < 6:\n",
    "        print('email turi buti ilgesnis nei 6 simboliai')\n",
    "    if email.find('@') == -1:\n",
    "        print('email turi tureti simboli @')"
   ]
  },
  {
   "cell_type": "code",
   "execution_count": null,
   "metadata": {},
   "outputs": [],
   "source": []
  },
  {
   "cell_type": "code",
   "execution_count": null,
   "metadata": {},
   "outputs": [],
   "source": []
  },
  {
   "cell_type": "code",
   "execution_count": null,
   "metadata": {},
   "outputs": [],
   "source": []
  },
  {
   "cell_type": "code",
   "execution_count": null,
   "metadata": {},
   "outputs": [],
   "source": []
  },
  {
   "cell_type": "code",
   "execution_count": null,
   "metadata": {},
   "outputs": [],
   "source": []
  },
  {
   "cell_type": "code",
   "execution_count": null,
   "metadata": {},
   "outputs": [],
   "source": []
  },
  {
   "cell_type": "code",
   "execution_count": null,
   "metadata": {},
   "outputs": [],
   "source": [
    "\n"
   ]
  },
  {
   "cell_type": "code",
   "execution_count": null,
   "metadata": {},
   "outputs": [],
   "source": []
  },
  {
   "cell_type": "code",
   "execution_count": null,
   "metadata": {},
   "outputs": [],
   "source": []
  },
  {
   "cell_type": "code",
   "execution_count": null,
   "metadata": {},
   "outputs": [],
   "source": []
  },
  {
   "attachments": {},
   "cell_type": "markdown",
   "metadata": {},
   "source": [
    "## Užduotys"
   ]
  },
  {
   "attachments": {},
   "cell_type": "markdown",
   "metadata": {},
   "source": [
    "### Užduotis 1\n",
    "\n",
    "Leiskite vartotojui įvesti norimą žodį. Kartokite įvedimą tol kol vartotojas neįves jokio validaus žodžio. O kai žodis bus įvestas, išveskite patį žodį ir kokio ilgio jis yra."
   ]
  },
  {
   "cell_type": "code",
   "execution_count": 11,
   "metadata": {},
   "outputs": [
    {
     "name": "stdout",
     "output_type": "stream",
     "text": [
      "labas 5\n"
     ]
    }
   ],
   "source": [
    "# Kodą rašykite čia...\n",
    "email=''\n",
    "while len(email) < 3:\n",
    "    email=input('iveskite email')\n",
    "\n",
    "print(email, len(email))"
   ]
  },
  {
   "attachments": {},
   "cell_type": "markdown",
   "metadata": {},
   "source": [
    "### Užduotis 2\n",
    "\n",
    "Leiskite vartotojui įvesti du žodžius. Kartokite įvedimus jei bent vienas iš įvestų žodžių nėra įvestas gerai (pvz.: tuščias `str`). Kai žodžiai bus suvesti gerai, raskite kuris iš jų yra ilgesnis, bei per kiek simbolių ilgesnis už trumpesnį, pvz.: jeigu įvesta bus `gynyba` ir `puolimas`, tai `gynyba` sudaryta iš `6` simbolių, o `puolimas` iš `8`, ir jis yra ilgesnis už pirmą žodį per `2` simbolius."
   ]
  },
  {
   "cell_type": "code",
   "execution_count": null,
   "metadata": {},
   "outputs": [
    {
     "name": "stdout",
     "output_type": "stream",
     "text": [
      "antras zodis yra ilgesnis 3 simboliais \n"
     ]
    }
   ],
   "source": [
    "# Kodą rašykite čia...\n",
    "zodis1=input('1 zodis')\n",
    "zodis2=input('2 zodis')\n",
    "\n",
    "while zodis1=='' or zodis2=='':\n",
    "    zodis1=input('naujai ivesti 1 zodis')\n",
    "    zodis2=input('naujai ivesti 2 zodis')\n",
    "\n",
    "if len(zodis1)>len(zodis2):\n",
    "    print(f'pirmas zodis yra ilgesnis {abs(len(zodis1)-len(zodis2))} simboliais ')\n",
    "elif len(zodis1)==len(zodis2):\n",
    "    print('zodziai yra vienodai ilgi')\n",
    "else:\n",
    "    print(f'antras zodis yra ilgesnis {len(zodis2)-len(zodis1)} simboliais ')"
   ]
  },
  {
   "attachments": {},
   "cell_type": "markdown",
   "metadata": {},
   "source": [
    "### Užduotis 3\n",
    "\n",
    "Leiskite vartotojui įvesti skaičių. Kartokite įvedimą jei įvestas ne skaičius ar nebuvo išvis jokios įvesties. Po sėkmingos įvesties išveskite patį skaičių ir ar jis yra lyginis ar ne lyginis."
   ]
  },
  {
   "cell_type": "code",
   "execution_count": 19,
   "metadata": {},
   "outputs": [
    {
     "name": "stdout",
     "output_type": "stream",
     "text": [
      "skaicius2 yra lyginis\n"
     ]
    }
   ],
   "source": [
    "# Kodą rašykite čia...\n",
    "\n",
    "skaicius=input('iveskite skaicius')\n",
    "while not skaicius.isdigit():\n",
    "    skaicius=input('iveskite skaiciu is naujo')\n",
    "\n",
    "if int(skaicius) %2==0:\n",
    "    print(f'skaicius{skaicius} yra lyginis')\n",
    "else:\n",
    "    print(f'skaicius {skaicius} nera lyginis')\n"
   ]
  },
  {
   "attachments": {},
   "cell_type": "markdown",
   "metadata": {},
   "source": [
    "### Užduotis 4\n",
    "\n",
    "Leiskite vartotojui įvesti tris skaičius. Jei bent vienas skaičius yra įvestas negerai, tuomet kartokite jo įvedimą. Kai viskas įvyks sėkmingai, tai suraskite šių skaičių sumą ir vidurkį bei gautus atsakymus išveskite."
   ]
  },
  {
   "cell_type": "code",
   "execution_count": 21,
   "metadata": {},
   "outputs": [
    {
     "name": "stdout",
     "output_type": "stream",
     "text": [
      "skaiciu suma yra 6 ir vidurkis 2.0\n"
     ]
    }
   ],
   "source": [
    "# Kodą rašykite čia...\n",
    "skaicius1=input('iveskite 1 skaiciu')\n",
    "skaicius2=input('iveskite 2 skaiciu')\n",
    "skaicius3=input('iveskite 3 skaiciu')\n",
    "\n",
    "while not skaicius1.isdigit() or not skaicius2.isdigit() or not skaicius3.isdigit():\n",
    "    skaicius1=input('iveskite kita 1 skaiciu')\n",
    "    skaicius2=input('iveskite kita 2 skaiciu')\n",
    "    skaicius3=input('iveskite kita 3 skaiciu')\n",
    "\n",
    "\n",
    "suma=int(skaicius1)+int(skaicius2)+int(skaicius3)\n",
    "vidurkis=suma/3\n",
    "print(f'skaiciu suma yra {suma} ir vidurkis {vidurkis}')\n"
   ]
  },
  {
   "cell_type": "code",
   "execution_count": 7,
   "metadata": {},
   "outputs": [
    {
     "name": "stdout",
     "output_type": "stream",
     "text": [
      "ivestas skaicius!\n"
     ]
    }
   ],
   "source": []
  },
  {
   "attachments": {},
   "cell_type": "markdown",
   "metadata": {},
   "source": [
    "### Užduotis 5\n",
    "\n",
    "Vartotojas turi suvesti rėžių pradžią ir pabaigą. Tačiau jūs turite patikrinti ar nurodyti rėžiai yra geri (pradžia mažesnė už pabaigą), bei rėžiai nurodyti kaip skaičiai. Liepkite vartotojui kartoti įvedimą tol, kol rėžiai jau bus įvesti tinkamai. Turint tinkamus rėžius, išveskite visus skaičius nuo rėžių pradžios iki pabaigos (šitam jau vietoj `while` galite naudoti `for` ciklą), šalia kiekvieno skaičiaus išvedant jo kvadratą, bei ar jis lyginis / nelyginis."
   ]
  },
  {
   "cell_type": "code",
   "execution_count": 23,
   "metadata": {},
   "outputs": [
    {
     "name": "stdout",
     "output_type": "stream",
     "text": [
      "2 4 lyginis\n",
      "3 9 nelyginis\n",
      "4 16 lyginis\n"
     ]
    }
   ],
   "source": [
    "# Kodą rašykite čia...\n",
    "skaicius1=input('iveskite 1 rezi')\n",
    "skaicius2=input('iveskite 2 rezi')\n",
    "\n",
    "while not skaicius1.isdigit() or not skaicius2.isdigit() or int(skaicius1)>int(skaicius2):\n",
    "    skaicius1=input('iveskite kita 1 rezi')\n",
    "    skaicius2=input('iveskite kita 2 rezi')\n",
    "\n",
    "\n",
    "for i in range(int(skaicius1), int(skaicius2)):\n",
    "    if i %2==0:\n",
    "        print(i,i**2, 'lyginis')\n",
    "    else:\n",
    "        print(i,i**2, 'nelyginis')\n"
   ]
  },
  {
   "attachments": {},
   "cell_type": "markdown",
   "metadata": {},
   "source": [
    "### Užduotis 6\n",
    "\n",
    "Leiskite vartotojui atlikti norimus skaičiavimus tiek kartų kiek jis nori. Pavyzdžiui, leiskite vartotojui įvesti du skaičius, tuomet jam parodykite pačius skaičius, veiksmus (sudėtis, atimtis, daugyba, dalyba) ir suskaičiuotus atsakymus (`5 + 3 = 8`; `5 - 3 = 2`; ...). Kai atsakymai bus parodyti, vartotojas turi turėti galimybę pakartoti skaičiavimus, todėl leiskite pasirinkti ar dar kartoti veiksmą, ar jau programa turėtų baigti savo darbą. Taip pat, nepamirškite apsaugoti visų įvedimų, kad jeigu pavyzdžiui norime skaičiaus ir programa gauna ne skaičių, tai vartotojas turėtų suvesti skaičių iš naujo."
   ]
  },
  {
   "cell_type": "code",
   "execution_count": 10,
   "metadata": {},
   "outputs": [
    {
     "name": "stdout",
     "output_type": "stream",
     "text": [
      "10 + 20 = 30\n",
      "10 - 20 = -10\n",
      "10 * 20 = 200\n",
      "10 / 20 = 0.5\n"
     ]
    }
   ],
   "source": [
    "# Kodą rašykite čia...\n"
   ]
  },
  {
   "attachments": {},
   "cell_type": "markdown",
   "metadata": {},
   "source": [
    "### Užduotis 7\n",
    "\n",
    "Vartotojui išveskite pasirinkto skaičiaus daugybos lentelę (pvz, skaičiaus 5 daugybos lentelė būtų `5 * 1 = 5`; `5 * 2 = 10`; `5 * 3 = 15`; ...). Leiskite vartotojui kartoti veiksmą (tiek kartų kiek norės) ir gauti dar vieną daugybos lentelę su kitu pasirinktu skaičiumi. Taip pat, nepamirškite apsaugoti visų įvedimų, kad jeigu pavyzdžiui norime skaičiaus ir programa gauna ne skaičių, tai vartotojas turėtų suvesti skaičių iš naujo."
   ]
  },
  {
   "cell_type": "code",
   "execution_count": null,
   "metadata": {},
   "outputs": [],
   "source": [
    "# Kodą rašykite čia..."
   ]
  },
  {
   "attachments": {},
   "cell_type": "markdown",
   "metadata": {},
   "source": [
    "### Užduotis 8\n",
    "\n",
    "Liepkite vartotojui įvesti kiek jis nori skaičių. Įvedimą sustabdykite tuomet, kai vartototojas įves 0 ar -1, ar kitą jūsų pasirinktą skaičių ar simbolį. Raskite vartotojo įvestų skaičių sumą, vidurkį. Taip pat, nepamirškite apsaugoti visų įvedimų, kad jeigu pavyzdžiui norime skaičiaus ir programa gauna ne skaičių, tai vartotojas turėtų suvesti skaičių iš naujo."
   ]
  },
  {
   "cell_type": "code",
   "execution_count": null,
   "metadata": {},
   "outputs": [],
   "source": [
    "# Kodą rašykite čia..."
   ]
  },
  {
   "attachments": {},
   "cell_type": "markdown",
   "metadata": {},
   "source": [
    "### Užduotis 9\n",
    "\n",
    "Sukurkite studentų pažymių vidurkių skaičiuoklę (kaip pavyzdį galite naudoti kodo blokelyje prisegtą pavyzdį). Tačiau tokia skaičiuoklė turėtų leisti skaičiuoti vidurkį ne tik iš vieno studento pažymių, bet leistų pakartoti pažymių įvedimą ir vidurkio skaičiavimą ant tiek studentų kiek reikia. Taip pat, nepamirškite apsaugoti visų įvedimų, kad jeigu pavyzdžiui norime skaičiaus ir programa gauna ne skaičių, tai vartotojas turėtų suvesti skaičių iš naujo."
   ]
  },
  {
   "cell_type": "code",
   "execution_count": null,
   "metadata": {},
   "outputs": [],
   "source": [
    "# Kaip pagrindą galite naudoti šį pavyzdį ir pamodifikuoti:\n",
    "\n",
    "# pazymiu_suma = 0\n",
    "# pazymiu_kiekis = 0\n",
    "\n",
    "# pazymys = -1\n",
    "\n",
    "# print('Iveskite tiek pazymiu kiek norite (atskiriant enter)')\n",
    "# print('Norint baigti irasykite 0')\n",
    "\n",
    "# while pazymys != 0:\n",
    "#     pazymys = int(input('Iveskite pazymi: '))\n",
    "#     if pazymys != 0:\n",
    "#         pazymiu_suma += pazymys\n",
    "#         pazymiu_kiekis += 1\n",
    "\n",
    "# vidurkis = round(pazymiu_suma / pazymiu_kiekis, 1)\n",
    "# print('Suvestu pazymiu vidurkis:', vidurkis)\n",
    "\n",
    "# Kodą rašykite čia...\n",
    "\n",
    "\n",
    "studentu_kiekis = 1\n",
    "while True:\n",
    "    print(f'{studentu_kiekis} studento pazymiai')\n",
    "    pazymiu_suma = 0\n",
    "    pazymiu_kiekis = 0\n",
    "    dar_ivesti = 't'\n",
    "    while dar_ivesti.lower() == 't':\n",
    "        paz = int(input('iveskite pazymi'))\n",
    "        pazymiu_suma += paz\n",
    "        pazymiu_kiekis += 1\n",
    "        dar_ivesti = input('Ar studentas dar turi pazymiu? t/n')\n",
    "    print(f'studento {studentu_kiekis} pazymiu vidurkis yra {pazymiu_suma/pazymiu_kiekis} ')\n",
    "    ar_kartoti = input('Ar norite skaiciuoti kito studento vidurki? t/n' )\n",
    "    if ar_kartoti != 't':\n",
    "        break\n",
    "    studentu_kiekis += 1"
   ]
  },
  {
   "attachments": {},
   "cell_type": "markdown",
   "metadata": {},
   "source": [
    "### Užduotis 10\n",
    "\n",
    "Sukurkite žaidimą, panašų į skaičių spėliojimo žaidimą. Tik šis skirsis tuo, kad programa automatiškai sugeneruos du atsitiktinius skaičius (čia bus mūsų rėžiai), o vartotojas turės atspėti bet kokį skaičių esantį tarp tų rėžių. Kiekvieną kartą kai žmogus įvedinės skaičių, įsitikinkite, kad tai yra skaičius ir tik tada vykdykite tolimesnius veiksmus, o jeigu skaičius suvestas blogai, tuomet kartokite įvedimą.\n",
    "\n",
    "Pavyzdžiui:\n",
    "\n",
    "Jeigu programa sugeneravo 2 ir 5, tai žmogus laimės jeigu spės 2, 3, 4, arba 5, tačiau pralaimės jeigu spės ką nors kito.\n",
    "\n",
    "Arba jeigu programa sugeneravo 10 ir 15, tai žmogus laimės jeigu spės 10, 11, 12, 13, 14, arba 15, tačiau pralaimės jeigu spės ką nors kito."
   ]
  },
  {
   "cell_type": "code",
   "execution_count": null,
   "metadata": {},
   "outputs": [],
   "source": [
    "# Kodą rašykite čia..."
   ]
  },
  {
   "attachments": {},
   "cell_type": "markdown",
   "metadata": {},
   "source": [
    "### Užduotis 11\n",
    "\n",
    "Sukurkite skaičiaus atspėjimo užduotį. Leiskite vartotojui pasirinkti žaidimo sudėtingumą (atsitiktinio skaičiaus rėžiai), ar suteikiamos pagalbos (skaičius mažesnis / didesnis nei spėjamas), kiek spėjimų leidžiama (neribotai, arba pvz iki 10 ėjimų), bei kiti pasirinkti parametrai. Vartotojas šiuos parametrus pasirenka žaidimo pradžioje. Turite užtikrinti, kad vartotojas pasirinko parametrus tik iš galimų - jeigu ne, liepkite įvedimą pakartoti."
   ]
  },
  {
   "cell_type": "code",
   "execution_count": null,
   "metadata": {},
   "outputs": [],
   "source": [
    "# Kodą rašykite čia..."
   ]
  }
 ],
 "metadata": {
  "kernelspec": {
   "display_name": "Python 3",
   "language": "python",
   "name": "python3"
  },
  "language_info": {
   "codemirror_mode": {
    "name": "ipython",
    "version": 3
   },
   "file_extension": ".py",
   "mimetype": "text/x-python",
   "name": "python",
   "nbconvert_exporter": "python",
   "pygments_lexer": "ipython3",
   "version": "3.13.1"
  },
  "orig_nbformat": 4,
  "vscode": {
   "interpreter": {
    "hash": "aa11ca274996316222ef16f35c5f6dbeb467b694c0b2154cdf34dcf9271d5fd0"
   }
  }
 },
 "nbformat": 4,
 "nbformat_minor": 2
}
