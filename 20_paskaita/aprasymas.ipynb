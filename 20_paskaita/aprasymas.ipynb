{
 "cells": [
  {
   "cell_type": "markdown",
   "metadata": {},
   "source": [
    "# Užduotys\n",
    "\n",
    "## Užduotis 1\n",
    "\n",
    "Sukurkite programą, kuri simuliuotų banko veiklą. . Kiekviena banko sąskaita turi būti atskiras objektas su atributais kaip savininko vardas, sąskaitos numeris ir balansas. Programa turi turėti funkcijas, leidžiančias vartotojams pridėti pinigų į sąskaitą, nusiimti pinigus iš sąskaitos ir peržiūrėti sąskaitos likutį.\n",
    "\n",
    "papildomai turi būti įgyvendinta:\n",
    "\n",
    "- jeigu vartotojas bando išsiimti daugiau pinigų nei jis turi, mes turime parodyti klaidą (try and catch)\n",
    "- visi veiksmai turi būti valdomi per terminalą (testavimo metu galima pridėti tiek klientų kiek noriu, atlikti veiksmus su jais ir tik tada sustabdyti aplikaciją)"
   ]
  }
 ],
 "metadata": {
  "language_info": {
   "name": "python"
  }
 },
 "nbformat": 4,
 "nbformat_minor": 2
}
