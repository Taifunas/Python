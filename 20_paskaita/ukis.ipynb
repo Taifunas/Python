{
 "cells": [
  {
   "cell_type": "markdown",
   "metadata": {},
   "source": [
    "## Užduotis 2\n",
    "Sukurkite programą, kurioje ūkininkas galėtų valdyti savo laukus, laukai turi šiuos atributus plotas, derliaus metai, auginama kultūra, išlaidos (skaičius) ir pajamos (skaičius). Ūkininkas gali pridėti neribotą kiekį laukų, kurie yra konstruojami pagal Laukas klasę. \n",
    "\n",
    "papildomai turi būti įgyvendinta:\n",
    "\n",
    "- ūkininkas gali atnaujinti bet kurį lauką (pakeisti jo plotą, pridėti išlaidas, padidinti pajamas)\n",
    "- ūkininkas gali pamatyti visus savo laukus, taip pat juos ir filtruoti - a) matyti pelningus laukus b)matyti nuostolingus laukus c) matyti laukus, kuriuose nieko neaugina\n",
    "- lauko pelningumas turi būti apskaičiuojamas su atskiru metodu\n",
    "- reikalingas atskiras metodas, kuris apskaičiuotų ar visas jo ūkis yra pelningas (sudėtų visų laukų pelnus)\n",
    "- sukurti metodą, kuris leistų visų laukų informaciją išsaugoti CSV formatu\n",
    "- visur įvedimas turi būti validuojamas, negalime įvesti neigiamo ploto dydžio ir t.t.\n",
    "- visi veiksmai turi būti valdomi per terminalą (testavimo metu galima pridėti tiek klientų kiek noriu, atlikti veiksmus su jais ir tik tada sustabdyti aplikaciją)"
   ]
  }
 ],
 "metadata": {
  "language_info": {
   "name": "python"
  }
 },
 "nbformat": 4,
 "nbformat_minor": 2
}
