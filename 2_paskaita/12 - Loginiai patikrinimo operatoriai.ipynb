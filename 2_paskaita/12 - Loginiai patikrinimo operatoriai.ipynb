{
 "cells": [
  {
   "attachments": {},
   "cell_type": "markdown",
   "metadata": {},
   "source": [
    "# Loginiai patikrinimo operatoriai"
   ]
  },
  {
   "attachments": {},
   "cell_type": "markdown",
   "metadata": {},
   "source": [
    "## Apie loginius operatorius\n",
    "\n",
    "Loginiai operatoriai naudojami norint patikrinti kelias sąlygas vienu metu (o ne iš eilės kaip tai vyktų su `elif`). Pavyzdžiui:\n",
    "\n",
    "- Ar vartotojas prisijungęs **IR** ar vartotojas turi atitinkamą rolę?\n",
    "- Ar failas egzistuoja failų sistemoje **ARBA** yra nustatytas atsarginis failas?\n",
    "- Ar studentas turi užtektinai pinigų ant bilieto **IR** turi galiojantį LSP?\n",
    "- Ar skaičius patenka į rėžius (yra didesnis už pradžią **IR** yra mažesnis už pabaigą)?\n",
    "- Ar prie produkto yra įrašyta kaina **ARBA** produktas pažymėtas kaip nemokamas?"
   ]
  },
  {
   "attachments": {},
   "cell_type": "markdown",
   "metadata": {},
   "source": [
    "## Pavyzdžiai"
   ]
  },
  {
   "cell_type": "code",
   "execution_count": 3,
   "metadata": {},
   "outputs": [
    {
     "name": "stdout",
     "output_type": "stream",
     "text": [
      "skaicius yra netinkamas\n"
     ]
    }
   ],
   "source": [
    "skaicius = int(input('iveskite skaiciu 1-100'))\n",
    "\n",
    "if skaicius >= 1 and skaicius < 100:\n",
    "    print('skaicius yra tinkamas')\n",
    "else:\n",
    "    print('skaicius yra netinkamas')"
   ]
  },
  {
   "cell_type": "code",
   "execution_count": 8,
   "metadata": {},
   "outputs": [
    {
     "name": "stdout",
     "output_type": "stream",
     "text": [
      "skaicius yra netinkamas\n"
     ]
    }
   ],
   "source": [
    "#skaicius turi buti teigiamas ARBA lyginis \n",
    "skaicius = int(input('iveskite skaiciu 1-100'))\n",
    "\n",
    "if skaicius >= 0 or skaicius % 2==0:\n",
    "    print('skaicius yra tinkamas')\n",
    "else:\n",
    "    print('skaicius yra netinkamas')"
   ]
  },
  {
   "cell_type": "code",
   "execution_count": 9,
   "metadata": {},
   "outputs": [
    {
     "name": "stdout",
     "output_type": "stream",
     "text": [
      "test\n"
     ]
    }
   ],
   "source": [
    "if True and True or False:\n",
    "    print('test')\n",
    "\n",
    "if True and True and False:\n",
    "    print('test') "
   ]
  },
  {
   "cell_type": "code",
   "execution_count": null,
   "metadata": {},
   "outputs": [],
   "source": []
  },
  {
   "cell_type": "code",
   "execution_count": null,
   "metadata": {},
   "outputs": [],
   "source": []
  },
  {
   "cell_type": "code",
   "execution_count": null,
   "metadata": {},
   "outputs": [],
   "source": []
  },
  {
   "cell_type": "code",
   "execution_count": null,
   "metadata": {},
   "outputs": [],
   "source": []
  },
  {
   "cell_type": "code",
   "execution_count": null,
   "metadata": {},
   "outputs": [],
   "source": []
  },
  {
   "cell_type": "code",
   "execution_count": null,
   "metadata": {},
   "outputs": [],
   "source": []
  },
  {
   "cell_type": "code",
   "execution_count": null,
   "metadata": {},
   "outputs": [],
   "source": []
  },
  {
   "cell_type": "code",
   "execution_count": null,
   "metadata": {},
   "outputs": [],
   "source": []
  },
  {
   "cell_type": "code",
   "execution_count": null,
   "metadata": {},
   "outputs": [],
   "source": []
  },
  {
   "cell_type": "code",
   "execution_count": null,
   "metadata": {},
   "outputs": [],
   "source": []
  },
  {
   "cell_type": "code",
   "execution_count": null,
   "metadata": {},
   "outputs": [],
   "source": []
  },
  {
   "attachments": {},
   "cell_type": "markdown",
   "metadata": {},
   "source": [
    "## Užduotys"
   ]
  },
  {
   "attachments": {},
   "cell_type": "markdown",
   "metadata": {},
   "source": [
    "### Užduotis 1\n",
    "\n",
    "Leiskite vartotojui suvesti tris skaičius. Suraskite kuris iš šių skaičių yra didžiausias."
   ]
  },
  {
   "cell_type": "code",
   "execution_count": 24,
   "metadata": {},
   "outputs": [
    {
     "name": "stdout",
     "output_type": "stream",
     "text": [
      "C - 3 didziausias\n"
     ]
    }
   ],
   "source": [
    "# Kodą rašykite čia...\n",
    "a = int(input('iveskite skaiciu'))\n",
    "b = int(input('iveskite skaiciu'))\n",
    "c = int(input('iveskite skaiciu'))\n",
    "\n",
    "#if a>b and a>c:\n",
    "#    print('pirmas didziausias')\n",
    "#elif b>c:\n",
    "#    print('antras didziausias')\n",
    "#else: \n",
    "#    print('c didziausias')\n",
    "\n",
    "\n",
    "#if a==b and a==c and b==c:\n",
    "#    print('yra vienodu skaiciu')\n",
    "#    if a==b:\n",
    "#        print('{a} lygyus {b}')\n",
    "#    elif a==c:\n",
    "#        print('{a} lygyus {c}')\n",
    "#    else:\n",
    "#        print('{b} lygus {c}')\n",
    "#elif a>b and a>c:\n",
    "#    print('pirmas didziausias')\n",
    "#elif b>c and b>a:\n",
    "#    print('antras didziausias')\n",
    "#else: \n",
    "#    print('c didziausias')\n",
    "\n",
    "\n",
    "if a==b and a==c and b==c:\n",
    "    print('visi skaiciai yra vienodi')\n",
    "elif a>b and a>c:\n",
    "    print(f'A - {a} didziausias')\n",
    "elif b>c and b>a:\n",
    "    print(f'B - {b} didziausias')\n",
    "else: \n",
    "    print(f'C - {c} didziausias')"
   ]
  },
  {
   "attachments": {},
   "cell_type": "markdown",
   "metadata": {},
   "source": [
    "### Užduotis 2\n",
    "\n",
    "Leiskite vartotojui suvesti tris skaičius. Suraskite kuris iš šių skaičių yra mažiausias."
   ]
  },
  {
   "cell_type": "code",
   "execution_count": 2,
   "metadata": {},
   "outputs": [],
   "source": [
    "# Kodą rašykite čia..."
   ]
  },
  {
   "attachments": {},
   "cell_type": "markdown",
   "metadata": {},
   "source": [
    "### Užduotis 3\n",
    "\n",
    "Susikurkite trijų egzaminų rezultatų kintamuosius arba paprašykite, kad vartotojas suvestų šias reikšmes. Suraskite pažymių vidurkį. Atlikite šiuos patikrinimus:\n",
    "\n",
    "- ar gautas vidurkis yra [8-10];\n",
    "- ar gautas vidurkis yra [5-8);\n",
    "- ar gautas vidurkis yra < 5."
   ]
  },
  {
   "cell_type": "code",
   "execution_count": 3,
   "metadata": {},
   "outputs": [],
   "source": [
    "# Kodą rašykite čia..."
   ]
  },
  {
   "attachments": {},
   "cell_type": "markdown",
   "metadata": {},
   "source": [
    "### Užduotis 4\n",
    "\n",
    "Susikurkite du skaičius. Patikrinkite (naudojant 4 atskirus `if`'us):\n",
    "\n",
    "- ar pirmas skaičius yra didesnis už antrąjį arba yra lygus 0;\n",
    "- ar antras skaičius yra didesnis už pirmąjį arba yra lygus 5;\n",
    "- ar pirmas skaičius yra didesnis už antrąjį ir yra lygus 20;\n",
    "- ar antras skaičius yra didesnis už pirmąjį ir yra mažesnis už 100;"
   ]
  },
  {
   "cell_type": "code",
   "execution_count": 4,
   "metadata": {},
   "outputs": [],
   "source": [
    "# Kodą rašykite čia..."
   ]
  }
 ],
 "metadata": {
  "kernelspec": {
   "display_name": "Python 3",
   "language": "python",
   "name": "python3"
  },
  "language_info": {
   "codemirror_mode": {
    "name": "ipython",
    "version": 3
   },
   "file_extension": ".py",
   "mimetype": "text/x-python",
   "name": "python",
   "nbconvert_exporter": "python",
   "pygments_lexer": "ipython3",
   "version": "3.13.1"
  },
  "orig_nbformat": 4,
  "vscode": {
   "interpreter": {
    "hash": "aa11ca274996316222ef16f35c5f6dbeb467b694c0b2154cdf34dcf9271d5fd0"
   }
  }
 },
 "nbformat": 4,
 "nbformat_minor": 2
}
