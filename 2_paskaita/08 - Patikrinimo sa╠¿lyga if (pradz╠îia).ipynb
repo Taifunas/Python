{
 "cells": [
  {
   "attachments": {},
   "cell_type": "markdown",
   "metadata": {},
   "source": [
    "# Patikrinimo sąlyga if (pradžia)"
   ]
  },
  {
   "attachments": {},
   "cell_type": "markdown",
   "metadata": {},
   "source": [
    "## Apie if sąlygą\n",
    "\n",
    "If sąlyga skirta norint ką nors patikrinti ar palyginti. Pavyzdžiui:\n",
    "\n",
    "- Ar skaičiai lygūs?\n",
    "- Ar vartotojo amžius yra didesnis už 18?\n",
    "- Ar vartotojas prisijungęs?\n",
    "- Ar vartotojo rolė yra tinkama norint pasiekti turinį?\n",
    "- Ar failas egzistuoja?\n",
    "- …\n",
    "\n",
    "Kai sąlyga teisinga (užduotas klausimas yra tiesa (`True`)), tuomet yra vykdomas atitinkamas kodas."
   ]
  },
  {
   "attachments": {},
   "cell_type": "markdown",
   "metadata": {},
   "source": [
    "## Palyginimo operatoriai (comparison operators)\n",
    "\n",
    "| Operatorius | Pavadinimas | Pavyzdys |\n",
    "| - | - | - |\n",
    "| == | Lygu | x == y |\n",
    "| != | Nelygu | x != y |\n",
    "| > | Daugiau nei | x > y |\n",
    "| < | Mažiau nei | x < y |\n",
    "| >= | Daugiau nei arba lygu | x >= y |\n",
    "| <= | Mažiau nei arba lygu | x <= y |"
   ]
  },
  {
   "attachments": {},
   "cell_type": "markdown",
   "metadata": {},
   "source": [
    "## if sąlygos dalys\n",
    "\n",
    "If sąlyga gali susidėti iš kelių dalių:\n",
    "\n",
    "- `if` - būtinoji dalis.\n",
    "- `elif` / `else if` - jeigu reikia tikrinti daugiau sąlygų, galima rašyti tiek `else if` dalių kiek tik reikia.\n",
    "- `else` - jei reikia galima rašyti, rašosi pačiame gale, vieną kartą."
   ]
  },
  {
   "attachments": {},
   "cell_type": "markdown",
   "metadata": {},
   "source": [
    "# Patikrinimo sąlyga if: if dalis"
   ]
  },
  {
   "attachments": {},
   "cell_type": "markdown",
   "metadata": {},
   "source": [
    "## Sintaksė\n",
    "\n",
    "```\n",
    "if tikrinama_salyga:\n",
    "    # musu vykdomas kodas jeigu tikrinama_salyga yra True\n",
    "```"
   ]
  },
  {
   "attachments": {},
   "cell_type": "markdown",
   "metadata": {},
   "source": [
    "## Pavyzdžiai"
   ]
  },
  {
   "cell_type": "code",
   "execution_count": 1,
   "metadata": {},
   "outputs": [
    {
     "name": "stdout",
     "output_type": "stream",
     "text": [
      "5 yra didesnis nei 3\n"
     ]
    }
   ],
   "source": [
    "if 5>3:\n",
    "    print('5 yra didesnis nei 3')\n",
    "\n",
    "if 5<3:\n",
    "    print('5 maziau nei 3')\n",
    "\n",
    "if False:\n",
    "    print('Testas')"
   ]
  },
  {
   "cell_type": "code",
   "execution_count": null,
   "metadata": {},
   "outputs": [],
   "source": [
    "if -7>-10:\n",
    "    print('-7 yra daugiau nei -10')\n",
    "\n",
    "print('pabaiga.')"
   ]
  },
  {
   "cell_type": "code",
   "execution_count": null,
   "metadata": {},
   "outputs": [],
   "source": [
    "if 0>1000:\n",
    "    print('0 yra daugiau nei 1000')"
   ]
  },
  {
   "cell_type": "code",
   "execution_count": 4,
   "metadata": {},
   "outputs": [
    {
     "name": "stdout",
     "output_type": "stream",
     "text": [
      "skaicius 5 yra teigiamas\n"
     ]
    }
   ],
   "source": [
    "skaicius=5\n",
    "if skaicius > 0:\n",
    "    print(f'skaicius {skaicius} yra teigiamas')\n",
    "\n",
    "if skaicius < 0:\n",
    "    print(f'skaicius {skaicius} yra neigiamas')\n",
    "\n",
    "if skaicius == 0:\n",
    "    print('skaicius yra lygus 0')"
   ]
  },
  {
   "cell_type": "code",
   "execution_count": 6,
   "metadata": {},
   "outputs": [
    {
     "name": "stdout",
     "output_type": "stream",
     "text": [
      "skaiciai yra vienodi\n"
     ]
    }
   ],
   "source": [
    "if 5>5:\n",
    "    print('5 yra daugiau nei 5')\n",
    "\n",
    "if 5==5:\n",
    "    print('skaiciai yra vienodi')"
   ]
  },
  {
   "cell_type": "code",
   "execution_count": 7,
   "metadata": {},
   "outputs": [
    {
     "name": "stdout",
     "output_type": "stream",
     "text": [
      "antras if\n"
     ]
    }
   ],
   "source": [
    "slaptazodis = 'slaptas'\n",
    "\n",
    "if slaptazodis == 'Slaptas':\n",
    "    print('pirmas if')\n",
    "\n",
    "if slaptazodis == 'slaptas':\n",
    "    print('antras if')"
   ]
  },
  {
   "cell_type": "code",
   "execution_count": 11,
   "metadata": {},
   "outputs": [
    {
     "name": "stdout",
     "output_type": "stream",
     "text": [
      "Jonas yra pilnametis\n"
     ]
    }
   ],
   "source": [
    "vardas = 'Jonas'\n",
    "amzius = 20\n",
    "\n",
    "if amzius >= 18:\n",
    "    print(f'{vardas} yra pilnametis')\n",
    "\n",
    "if amzius <= 17:\n",
    "    print(f'{vardas} yra nepilnametis')"
   ]
  },
  {
   "cell_type": "code",
   "execution_count": 14,
   "metadata": {},
   "outputs": [
    {
     "name": "stdout",
     "output_type": "stream",
     "text": [
      "skaicius yra teigiamas\n"
     ]
    }
   ],
   "source": [
    "skaicius=input('Iveskite skaiciu: ')\n",
    "\n",
    "if skaicius.isdigit():\n",
    "    skaicius=int(skaicius)\n",
    "    if skaicius > 0:\n",
    "        print('skaicius yra teigiamas')\n",
    "    if skaicius < 0:\n",
    "        print('skaicius yra neigiamas')\n",
    "    if skaicius == 0:\n",
    "        print('skaicius yra 0')"
   ]
  },
  {
   "cell_type": "code",
   "execution_count": null,
   "metadata": {},
   "outputs": [
    {
     "name": "stdout",
     "output_type": "stream",
     "text": [
      "dalinasi is 2\n",
      "dalinasi is 5\n"
     ]
    }
   ],
   "source": [
    "skaicius=int(input('iveskite skaiciu'))\n",
    "\n",
    "if skaicius % 2==0:\n",
    "    print('dalinasi is 2')\n",
    "if skaicius % 3==0:\n",
    "    print('dalinasi is 3')\n",
    "if skaicius % 4==0:\n",
    "    print('dalinasi is 4')\n",
    "if skaicius % 5==0:\n",
    "    print('dalinasi is 5')\n",
    "    "
   ]
  },
  {
   "cell_type": "code",
   "execution_count": 20,
   "metadata": {},
   "outputs": [],
   "source": [
    "skaicius = 8\n",
    "if skaicius % 2 !=0:\n",
    "    print('skaicius nesidalina is 2')\n",
    "if skaicius % 3 !=0:\n",
    "    print('skaicius nesidalina is 3')\n",
    "if skaicius % 4 !=0:\n",
    "    print('skaicius nesidalina is 4')"
   ]
  },
  {
   "cell_type": "code",
   "execution_count": null,
   "metadata": {},
   "outputs": [],
   "source": [
    "ar_turi_teises = True\n",
    "\n",
    "if ar_turi_teises:\n",
    "    print('gali vairuoti')\n",
    "if ar_turi_teises ==True:\n",
    "    print('gali vairuoti')\n",
    "\n",
    "vardas = 'asdfas'"
   ]
  },
  {
   "cell_type": "code",
   "execution_count": null,
   "metadata": {},
   "outputs": [],
   "source": []
  },
  {
   "cell_type": "code",
   "execution_count": null,
   "metadata": {},
   "outputs": [],
   "source": []
  },
  {
   "cell_type": "code",
   "execution_count": null,
   "metadata": {},
   "outputs": [],
   "source": []
  },
  {
   "cell_type": "code",
   "execution_count": null,
   "metadata": {},
   "outputs": [],
   "source": []
  },
  {
   "attachments": {},
   "cell_type": "markdown",
   "metadata": {},
   "source": [
    "## Užduotys"
   ]
  },
  {
   "attachments": {},
   "cell_type": "markdown",
   "metadata": {},
   "source": [
    "### Užduotis 1\n",
    "\n",
    "Susikurkite tris kintamuosius skaičiams saugoti. Parašykite šias atskiras `if` sąlygas:\n",
    "\n",
    "- Ar pirmas ir antras skaičiai yra lygūs?\n",
    "- Ar antras ir trečias skaičiai yra lygūs?\n",
    "- Ar pirmas skaičius yra didesnis už antrąjį?\n",
    "- Ar antras skaičius yra didesnis už dvigubą trečiojo skaičiaus reikšmę (trečias skaičius padaugintas iš 2)?\n",
    "- Ar pirmas skaičius yra lyginis (ar dalinasi iš 2)?\n",
    "- Ar antras skaičius yra nelyginis (ar nesidalina iš 2)?\n",
    "- Ar trečias skaičius yra teigiamas (didesnis už 0)?\n",
    "- Ar pirmas skaičius yra neigiamas (mažesnis už 0)?\n",
    "- Ar antras skaičius dalinasi iš 4?\n",
    "- Ar trečias skaičius dalinasi iš 8?"
   ]
  },
  {
   "cell_type": "code",
   "execution_count": 45,
   "metadata": {},
   "outputs": [
    {
     "name": "stdout",
     "output_type": "stream",
     "text": [
      "pirmas ir antras skaiciai nera lygus\n",
      "antras ir trecias skaiciai nera lygys\n",
      "pirmas skaicius nera didesnis uz antra\n",
      "antras skaicius yra didesnis uz dviguba trecia skaiciu\n"
     ]
    }
   ],
   "source": [
    "# Kodą rašykite čia...\n",
    "x=1\n",
    "y=20\n",
    "z=3\n",
    "\n",
    "if x==y:\n",
    "    print('pirmas ir antras skaiciai yra lygus')\n",
    "else:\n",
    "    print('pirmas ir antras skaiciai nera lygus')\n",
    "if y==z:\n",
    "    print('antras ir trecias skaiciai yra lygys')\n",
    "else:\n",
    "    print('antras ir trecias skaiciai nera lygys')\n",
    "if x>y:\n",
    "    print('pirmas skaicius yra didesnis uz antra')\n",
    "else:\n",
    "    print('pirmas skaicius nera didesnis uz antra')\n",
    "if y>(2*z):\n",
    "    print('antras skaicius yra didesnis uz dviguba trecia skaiciu')\n",
    "else:\n",
    "    print('antras skaicius nera didesnis uz dviguba trecia skaiciu')"
   ]
  },
  {
   "attachments": {},
   "cell_type": "markdown",
   "metadata": {},
   "source": [
    "### Užduotis 2\n",
    "\n",
    "Liepkite vartotojui suvesti savo amžių. Patikrinkite ar amžius yra didesnis arba lygus 18-ai, jei taip - išveskite \"jūs galite balsuoti\"."
   ]
  },
  {
   "cell_type": "code",
   "execution_count": 28,
   "metadata": {},
   "outputs": [
    {
     "name": "stdout",
     "output_type": "stream",
     "text": [
      "pilnametis\n"
     ]
    }
   ],
   "source": [
    "# Kodą rašykite čia...\n",
    "amzius=int(input('iveskite savo amziu'))\n",
    "if amzius>=18:\n",
    "    print('pilnametis')"
   ]
  },
  {
   "attachments": {},
   "cell_type": "markdown",
   "metadata": {},
   "source": [
    "### Užduotis 3\n",
    "\n",
    "Leiskite vartotojui suvesti norimą kiekį pažymių (pavyzdžiui, jūs nusimatote 3-is kintamuosius, tai leidžiate įvykdyti 3 įvedimus). Raskite šių pažymių vidurkį. Patikrinkite ar vidurkis teigiamas (daugiau arba lygu 5-iems), jei taip - išveskite \"vidurkis teigiamas\"."
   ]
  },
  {
   "cell_type": "code",
   "execution_count": 34,
   "metadata": {},
   "outputs": [],
   "source": [
    "# Kodą rašykite čia...\n",
    "x,y,z=input('iveskite 3 pazymius skiriant tarpu').split()\n",
    "if (int(x)+int(y)+int(z))/3 > 0:\n",
    "    print('teigiamas vidurkis')"
   ]
  },
  {
   "attachments": {},
   "cell_type": "markdown",
   "metadata": {},
   "source": [
    "### Užduotis 4\n",
    "\n",
    "Susikurkite skaičiaus kintamąjį arba leiskite šį skaičių įvesti vartotojui. Atlikite šiuos patikrinimus ir veiksmus:\n",
    "\n",
    "- Jei skaičius dalinasi iš 5, tuomet išveskite šio skaičiaus daugybos lentelę nuo 1 iki 5.\n",
    "- Jei skaičius lyginis, tuomet išveskite šį skaičių, jo kvadratą ir jį padalintą iš 2.\n",
    "- Jei skaičius nesidalina iš 7, tuomet susikurkite antrąjį kintamąjį, išveskite šių dviejų skaičių sumą, skirtumą, sandaugą, dalmenį."
   ]
  },
  {
   "cell_type": "code",
   "execution_count": 43,
   "metadata": {},
   "outputs": [
    {
     "name": "stdout",
     "output_type": "stream",
     "text": [
      "10 20 30 40 50\n",
      "10 100 5.0\n",
      "15 5 50 50\n"
     ]
    }
   ],
   "source": [
    "# Kodą rašykite čia...\n",
    "kintamasis=int(input('iveskite skaiciu'))\n",
    "if kintamasis%5==0:\n",
    "    print(kintamasis*1, kintamasis*2, kintamasis*3, kintamasis*4, kintamasis*5)\n",
    "if kintamasis%2==0:\n",
    "    print(kintamasis, kintamasis**2, kintamasis/2)\n",
    "if kintamasis%7!=0:\n",
    "    antras_skaicius=int(input('iveskite dar viena skaiciu'))\n",
    "    print(kintamasis+antras_skaicius, kintamasis-antras_skaicius, kintamasis*antras_skaicius, kintamasis*antras_skaicius)"
   ]
  }
 ],
 "metadata": {
  "kernelspec": {
   "display_name": "Python 3",
   "language": "python",
   "name": "python3"
  },
  "language_info": {
   "codemirror_mode": {
    "name": "ipython",
    "version": 3
   },
   "file_extension": ".py",
   "mimetype": "text/x-python",
   "name": "python",
   "nbconvert_exporter": "python",
   "pygments_lexer": "ipython3",
   "version": "3.13.1"
  },
  "orig_nbformat": 4,
  "vscode": {
   "interpreter": {
    "hash": "aa11ca274996316222ef16f35c5f6dbeb467b694c0b2154cdf34dcf9271d5fd0"
   }
  }
 },
 "nbformat": 4,
 "nbformat_minor": 2
}
