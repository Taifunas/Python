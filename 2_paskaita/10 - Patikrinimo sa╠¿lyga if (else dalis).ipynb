{
 "cells": [
  {
   "attachments": {},
   "cell_type": "markdown",
   "metadata": {},
   "source": [
    "# Patikrinimo sąlyga if: else dalis"
   ]
  },
  {
   "attachments": {},
   "cell_type": "markdown",
   "metadata": {},
   "source": [
    "## else sąlyga\n",
    "\n",
    "- `else` bus vykdomas visada kai jokia kita, prieš jį ėjusi sąlyga nebus teisinga.\n",
    "- `else` dalyje nebereikia rašyti jokios sąlygos, jis automatiškai vykdomas kai niekas kitas netinka.\n",
    "- `else` dalis rašoma tik vieną kartą, visos if sąlygos pabaigoje.\n",
    "- `else` dalies rašyti nebūtina.\n",
    "- `else` dalyje galima:\n",
    "  - išvesti klaidos pranešimą;\n",
    "  - leisti kartoti veiksmą;\n",
    "  - įrašyti klaidą į “log” failus;\n",
    "  - atlikti kitus veiksmus, kurie nėra priskiriami jokiai tikrintai sąlygai;\n",
    "  - ..."
   ]
  },
  {
   "attachments": {},
   "cell_type": "markdown",
   "metadata": {},
   "source": [
    "## else sąlygos sintaksė\n",
    "\n",
    "```\n",
    "if tikrinama_salyga:\n",
    "\t# musu vykdomas kodas jeigu tikrinama_salyga yra True\n",
    "else:\n",
    "\t# musu vykdomas kodas jeigu salyga if yra False\n",
    "```"
   ]
  },
  {
   "attachments": {},
   "cell_type": "markdown",
   "metadata": {},
   "source": [
    "## Pavyzdžiai"
   ]
  },
  {
   "cell_type": "code",
   "execution_count": 2,
   "metadata": {},
   "outputs": [
    {
     "name": "stdout",
     "output_type": "stream",
     "text": [
      "dar teks taupyti..,\n"
     ]
    }
   ],
   "source": [
    "pinigai = 100\n",
    "\n",
    "if pinigai >=200:\n",
    "    print('galite nusipirkti preke')\n",
    "else:\n",
    "    print('dar teks taupyti..,')"
   ]
  },
  {
   "cell_type": "code",
   "execution_count": 4,
   "metadata": {},
   "outputs": [
    {
     "name": "stdout",
     "output_type": "stream",
     "text": [
      "nesutampa\n"
     ]
    }
   ],
   "source": [
    "slaptazodis ='123'\n",
    "\n",
    "ivestas_slaptazodis=input('iveskite slaptazodi')\n",
    "\n",
    "if ivestas_slaptazodis == slaptazodis:\n",
    "    print('slaptazodis sutampa')\n",
    "else:\n",
    "    print('nesutampa')"
   ]
  },
  {
   "cell_type": "code",
   "execution_count": null,
   "metadata": {},
   "outputs": [],
   "source": [
    "failas = 'filai/duomenys/uzrasai.txt'\n",
    "\n",
    "if failas.endswith('.txt'):\n",
    "    print('failo formatas tinkamas')\n",
    "    print('prasidedam nuskaityti faila...')\n",
    "else:\n",
    "    print('failas nera palaikomas')"
   ]
  },
  {
   "cell_type": "code",
   "execution_count": 8,
   "metadata": {},
   "outputs": [
    {
     "name": "stdout",
     "output_type": "stream",
     "text": [
      "atspejot!\n"
     ]
    }
   ],
   "source": [
    "from random import randint\n",
    "\n",
    "slaptas = randint(1,10)\n",
    "\n",
    "spejimas = int(input('spekite skaiciu 1-10'))\n",
    "\n",
    "if slaptas == spejimas:\n",
    "    print('atspejot!')\n",
    "else:\n",
    "    print(f'neatspejote, skaicius buvo {slaptas}')"
   ]
  },
  {
   "cell_type": "code",
   "execution_count": null,
   "metadata": {},
   "outputs": [],
   "source": []
  },
  {
   "cell_type": "code",
   "execution_count": null,
   "metadata": {},
   "outputs": [],
   "source": []
  },
  {
   "cell_type": "code",
   "execution_count": null,
   "metadata": {},
   "outputs": [],
   "source": []
  },
  {
   "cell_type": "code",
   "execution_count": null,
   "metadata": {},
   "outputs": [],
   "source": []
  },
  {
   "cell_type": "code",
   "execution_count": null,
   "metadata": {},
   "outputs": [],
   "source": []
  },
  {
   "attachments": {},
   "cell_type": "markdown",
   "metadata": {},
   "source": [
    "## Patikrinimo sąlyga vienoje eilutėje (inline if / ternary operator)\n",
    "\n",
    "If sakinį galime sutrumpinti panaudodami ternarinį operatorių. Taip kelių eilučių `if` sakinį galime užrašyti viena eilute.\n",
    "\n",
    "Sintaksė:\n",
    "\n",
    "```\n",
    "[ką daryti True atveju] if [patikrinimo sąlyga] else [ką daryti False atveju]\n",
    "```"
   ]
  },
  {
   "attachments": {},
   "cell_type": "markdown",
   "metadata": {},
   "source": [
    "Jeigu pažymys yra 10, tai įvertinimas \"Puikai\", o jeigu pažymys yra bet kas kitas, tai įvertinimas \"Galima geriau\"."
   ]
  },
  {
   "cell_type": "code",
   "execution_count": 10,
   "metadata": {},
   "outputs": [
    {
     "name": "stdout",
     "output_type": "stream",
     "text": [
      "Galima geriau \n"
     ]
    }
   ],
   "source": [
    "pazymys = 8\n",
    "\n",
    "ivertinimas = 'Puikiai' if pazymys == 10 else 'Galima geriau '\n",
    "print(ivertinimas)"
   ]
  },
  {
   "cell_type": "code",
   "execution_count": 11,
   "metadata": {},
   "outputs": [
    {
     "name": "stdout",
     "output_type": "stream",
     "text": [
      "Puikiai\n"
     ]
    }
   ],
   "source": [
    "pazymys = 10\n",
    "ivertinimas='Galima geriau'\n",
    "\n",
    "if pazymys == 10:\n",
    "    ivertinimas='Puikiai'\n",
    "\n",
    "print(ivertinimas)"
   ]
  },
  {
   "attachments": {},
   "cell_type": "markdown",
   "metadata": {},
   "source": [
    "Jeigu klientas turi daugiau nei 100 taškų, jis yra 'Auksinis' klientas, kitu atveju, jis yra 'Sidabrinis' klientas."
   ]
  },
  {
   "cell_type": "code",
   "execution_count": 13,
   "metadata": {},
   "outputs": [
    {
     "name": "stdout",
     "output_type": "stream",
     "text": [
      "Auksinis\n"
     ]
    }
   ],
   "source": [
    "taskai=110\n",
    "klientp_tipas='Auksinis' if taskai > 100 else 'Sidabrinis'\n",
    "print(klientp_tipas)"
   ]
  },
  {
   "cell_type": "code",
   "execution_count": null,
   "metadata": {},
   "outputs": [],
   "source": []
  },
  {
   "cell_type": "code",
   "execution_count": null,
   "metadata": {},
   "outputs": [],
   "source": []
  },
  {
   "cell_type": "code",
   "execution_count": null,
   "metadata": {},
   "outputs": [],
   "source": []
  },
  {
   "attachments": {},
   "cell_type": "markdown",
   "metadata": {},
   "source": [
    "Kaip matome - sutaupėme kokias 3 eilutes. Vis tik - reikėtų atsargiai naudoti ternarinius operatorius. Programuotojai lig šiol diskutuoja ar verta juos naudoti. Manoma, jog jie gali sumažinti programos skaitomumą ir įtakoti klaidų atsiradimą."
   ]
  },
  {
   "attachments": {},
   "cell_type": "markdown",
   "metadata": {},
   "source": [
    "## Užduotys"
   ]
  },
  {
   "attachments": {},
   "cell_type": "markdown",
   "metadata": {},
   "source": [
    "### Užduotis 1\n",
    "\n",
    "Leiskite vartotojui suvesti norimą skaičių. Patikrinkite ar jis yra lyginis, jei taip išveskite vieną informaciją, jei ne - kitą."
   ]
  },
  {
   "cell_type": "code",
   "execution_count": 1,
   "metadata": {},
   "outputs": [],
   "source": [
    "# Kodą rašykite čia...\n"
   ]
  },
  {
   "attachments": {},
   "cell_type": "markdown",
   "metadata": {},
   "source": [
    "### Užduotis 2\n",
    "\n",
    "Leiskite vartotojui suvesti norimą skaičių. Patikrinkite ar šis skaičius dalinasi iš 7, jei taip išveskite vieną tekstą, jei ne - kitą."
   ]
  },
  {
   "cell_type": "code",
   "execution_count": 2,
   "metadata": {},
   "outputs": [],
   "source": [
    "# Kodą rašykite čia...\n"
   ]
  },
  {
   "attachments": {},
   "cell_type": "markdown",
   "metadata": {},
   "source": [
    "### Užduotis 3\n",
    "\n",
    "Susikurkite kintamąjį, kuriame nurodytumėte kelią iki norimo failo. Patikrinkite ar šis failas yra .py tipo, jei taip išveskite vieną tekstą, jei ne - kitą."
   ]
  },
  {
   "cell_type": "code",
   "execution_count": 3,
   "metadata": {},
   "outputs": [],
   "source": [
    "# Kodą rašykite čia...\n"
   ]
  }
 ],
 "metadata": {
  "kernelspec": {
   "display_name": "Python 3",
   "language": "python",
   "name": "python3"
  },
  "language_info": {
   "codemirror_mode": {
    "name": "ipython",
    "version": 3
   },
   "file_extension": ".py",
   "mimetype": "text/x-python",
   "name": "python",
   "nbconvert_exporter": "python",
   "pygments_lexer": "ipython3",
   "version": "3.13.1"
  },
  "orig_nbformat": 4,
  "vscode": {
   "interpreter": {
    "hash": "aa11ca274996316222ef16f35c5f6dbeb467b694c0b2154cdf34dcf9271d5fd0"
   }
  }
 },
 "nbformat": 4,
 "nbformat_minor": 2
}
