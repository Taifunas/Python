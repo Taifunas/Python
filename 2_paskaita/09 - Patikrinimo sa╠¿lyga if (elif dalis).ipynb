{
 "cells": [
  {
   "attachments": {},
   "cell_type": "markdown",
   "metadata": {},
   "source": [
    "# Patikrinimo sąlyga if: elif / else if dalis"
   ]
  },
  {
   "attachments": {},
   "cell_type": "markdown",
   "metadata": {},
   "source": [
    "## elif / else if sąlyga\n",
    "\n",
    "- Naudojant tik `if` dalį tikriausiai pastebėjote, kad tikrinate tik vieną dalyką. `Elif` / `else if` leidžia tikrinti kelis dalykus vieną po kito. Pavyzdžiui:\n",
    "  - Ar skaičius teigiamas? Jei ne - sekantis tikrinimas: o gal skaičius neigiamas?\n",
    "  - Ar vartotojui yra 18 metų? Jei ne - sekantis tikrinimas: o gal vartotojui yra 16 metų? Jei ne - sekantis tikrinimas - o gal - vartotojui mažiau nei 16?\n",
    "- Galima naudoti tiek `elif` dalių kiek tik reikia.\n",
    "- Kiekviena `elif` dalis atsakinga už naujos sąlygos patikrinimą.\n",
    "- Jei tikrinant skirtingas sąlygas (einant per `if` ir `elif` dalis) yra randama teisinga, tuomet jai priskirtas kodas yra įvykdomas ir sekančios sąlygos nebetikrinamos. T.y. yra vykdoma tik pirma teisinga sąlyga.\n"
   ]
  },
  {
   "attachments": {},
   "cell_type": "markdown",
   "metadata": {},
   "source": [
    "## elif / else if sąlygos sintaksė\n",
    "\n",
    "```\n",
    "if tikrinama_salyga:\n",
    "\t# musu vykdomas kodas jeigu tikrinama_salyga yra True\n",
    "elif tikrinama_salyga2:\n",
    "\t# musu vykdomas kodas jeigu tikrinama_salyga2 yra True\n",
    "elif tikrinama_salyga3:\n",
    "\t# musu vykdomas kodas jeigu tikrinama_salyga3 yra True\n",
    "```"
   ]
  },
  {
   "attachments": {},
   "cell_type": "markdown",
   "metadata": {},
   "source": [
    "## Pavyzdžiai"
   ]
  },
  {
   "cell_type": "code",
   "execution_count": 1,
   "metadata": {},
   "outputs": [
    {
     "name": "stdout",
     "output_type": "stream",
     "text": [
      "suveike antra dalis\n"
     ]
    }
   ],
   "source": [
    "if 5>8:\n",
    "    print('suveike pirmas if')\n",
    "elif 7>3:\n",
    "    print('suveike antra dalis')\n",
    "elif 1==1:\n",
    "    print('suveike trecia dalis')"
   ]
  },
  {
   "cell_type": "code",
   "execution_count": 2,
   "metadata": {},
   "outputs": [
    {
     "name": "stdout",
     "output_type": "stream",
     "text": [
      "pasirinkote 3\n",
      "pabaiga\n"
     ]
    }
   ],
   "source": [
    "pasirinkimas = int(input('iveskite skaiciu 1-4'))\n",
    "\n",
    "if pasirinkimas==1:\n",
    "    print('pasirinkote 1')\n",
    "elif pasirinkimas == 2:\n",
    "    print('pasirinkote 2')\n",
    "elif pasirinkimas == 3:\n",
    "    print('pasirinkote 3')\n",
    "elif pasirinkimas == 4:\n",
    "    print('pasirinkote 4')\n",
    "\n",
    "print('pabaiga')"
   ]
  },
  {
   "cell_type": "code",
   "execution_count": null,
   "metadata": {},
   "outputs": [],
   "source": [
    "pinigai = 10\n",
    "bilietas = True\n",
    "\n",
    "if bilietas:\n",
    "    print('galite ieiti')\n",
    "elif pinigai > 5:\n",
    "    print('galite nusipirkti bilieta')"
   ]
  },
  {
   "cell_type": "code",
   "execution_count": null,
   "metadata": {},
   "outputs": [],
   "source": [
    "amzius=int(input('iveskite savo amziu'))\n",
    "\n",
    "if amzius >= 65:\n",
    "    print('senjoras')\n",
    "elif amzius >= 18:\n",
    "    print('pilnametis')\n",
    "elif amzius <18:\n",
    "    print('nepilnametis')"
   ]
  },
  {
   "cell_type": "code",
   "execution_count": null,
   "metadata": {},
   "outputs": [],
   "source": [
    "vardas='jonas'\n",
    "\n",
    "if vardas.islower():\n",
    "    print('vardas parasytas is mazuju')\n",
    "elif vardas.isupper():\n",
    "    print('vardas parasytas is didziuju')\n",
    "elif vardas.istitle():\n",
    "    print('pirmoji raide yra didzioji')"
   ]
  },
  {
   "cell_type": "code",
   "execution_count": null,
   "metadata": {},
   "outputs": [],
   "source": [
    "vardas = 'PetrasABC'\n",
    "\n",
    "if 'ABC' in vardas:\n",
    "    print(f'varde {vardas} yra ABC')\n",
    "elif vardas.startswith('Pet'):\n",
    "    print(f'vardas {vardas} prasideda simboliais Pet')\n",
    "elif vardas.endswith('as'):\n",
    "    print(f'Vardas {vardas} baigiasi simboliais as')"
   ]
  },
  {
   "cell_type": "code",
   "execution_count": null,
   "metadata": {},
   "outputs": [],
   "source": []
  },
  {
   "cell_type": "code",
   "execution_count": null,
   "metadata": {},
   "outputs": [],
   "source": []
  },
  {
   "cell_type": "code",
   "execution_count": null,
   "metadata": {},
   "outputs": [],
   "source": []
  },
  {
   "cell_type": "code",
   "execution_count": null,
   "metadata": {},
   "outputs": [],
   "source": []
  },
  {
   "attachments": {},
   "cell_type": "markdown",
   "metadata": {},
   "source": [
    "## Užduotys"
   ]
  },
  {
   "attachments": {},
   "cell_type": "markdown",
   "metadata": {},
   "source": [
    "### Užduotis 1\n",
    "\n",
    "Susikurkite tris skaičių kintamuosius su norimomis reikšmėmis, arba leiskite šiuos skaičius suvesti vartotojui. Patikrinkite šias sąlygas (naudojant `elif` dalis):\n",
    "\n",
    "- Ar pirmas skaičius didesnis už antrą?\n",
    "- Ar antras skaičius didesnis už trečią?\n",
    "- Ar trečias skaičius didesnis už pirmą?\n",
    "- Ar pirmi du skaičiai yra lygūs?\n",
    "- Ar paskutiniai du skaičiai yra lygūs?\n",
    "- Ar pirmas skaičius yra lygus 0?\n",
    "- Ar antras skaičius neigiamas?\n",
    "- Ar trečias skaičius teigiamas?"
   ]
  },
  {
   "cell_type": "code",
   "execution_count": 14,
   "metadata": {},
   "outputs": [
    {
     "name": "stdout",
     "output_type": "stream",
     "text": [
      "trecias skaicius didesnis uz pirma\n"
     ]
    }
   ],
   "source": [
    "# Kodą rašykite čia...\n",
    "x,y,z=input('iveskite 3 skaicius atskyrus tarpu').split()\n",
    "\n",
    "\n",
    "if x>y:\n",
    "    print('pirmas skaicius didesnis uz antra')\n",
    "elif y>z:\n",
    "    print('antras skaicius didesnis uz trecia')\n",
    "elif z>x:\n",
    "    print('trecias skaicius didesnis uz pirma')\n",
    "elif x==y:\n",
    "    print('pirmi du skaiciai yra lygus')\n",
    "elif y==z:\n",
    "    print('paskutiniai du skaiciai yra lygus')\n",
    "elif x==0:\n",
    "    print('pirmas skaicius lygus 0')\n",
    "elif y<0:\n",
    "    print('antras skaicius yra neigiamas')\n",
    "elif z>0:\n",
    "    print('trecias skaicius teigiamas')\n"
   ]
  },
  {
   "attachments": {},
   "cell_type": "markdown",
   "metadata": {},
   "source": [
    "### Užduotis 2\n",
    "\n",
    "Susikurkite kintamąjį egzamino pažymiui saugoti [0-10]. Naudojant elif dalis patikrinkite šias sąlygas ir išveskite atitinkamą tekstą:\n",
    "\n",
    "- Jei pažymys yra lygus 10 išvesti \"puiku\".\n",
    "- Jei pažymys yra lygus arba didesnis nei 9 išvesti \"labai gerai\".\n",
    "- Jei pažymys yra lygus arba didesnis nei 7 išvesti \"gerai\".\n",
    "- Jei pažymys yra lygus arba didesnis nei 5 išvesti \"patenkinamai\".\n",
    "- Jei pažymys mažesnis nei 5 išvesti \"egzaminas neišlaikytas\"."
   ]
  },
  {
   "cell_type": "code",
   "execution_count": 2,
   "metadata": {},
   "outputs": [],
   "source": [
    "# Kodą rašykite čia...\n",
    "pazimys = "
   ]
  }
 ],
 "metadata": {
  "kernelspec": {
   "display_name": "Python 3",
   "language": "python",
   "name": "python3"
  },
  "language_info": {
   "codemirror_mode": {
    "name": "ipython",
    "version": 3
   },
   "file_extension": ".py",
   "mimetype": "text/x-python",
   "name": "python",
   "nbconvert_exporter": "python",
   "pygments_lexer": "ipython3",
   "version": "3.13.1"
  },
  "orig_nbformat": 4,
  "vscode": {
   "interpreter": {
    "hash": "aa11ca274996316222ef16f35c5f6dbeb467b694c0b2154cdf34dcf9271d5fd0"
   }
  }
 },
 "nbformat": 4,
 "nbformat_minor": 2
}
