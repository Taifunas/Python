{
 "cells": [
  {
   "cell_type": "markdown",
   "id": "822f0583",
   "metadata": {},
   "source": [
    "# Apžvelgsime\n",
    "\n",
    "Dažnai naudojami teksto metodai <br>\n",
    "Teksto formatavimo kodai naudojami spausdinamo teksto formatavimui"
   ]
  },
  {
   "cell_type": "code",
   "execution_count": 5,
   "id": "b5dc08bf",
   "metadata": {},
   "outputs": [
    {
     "name": "stdout",
     "output_type": "stream",
     "text": [
      "SAUSIS\n",
      "sausis\n"
     ]
    }
   ],
   "source": [
    "zodis='sausis'\n",
    "zodis=zodis.upper()\n",
    "print(zodis)\n",
    "zodis_is_mazuju=zodis.lower()\n",
    "print(zodis_is_mazuju) "
   ]
  },
  {
   "cell_type": "markdown",
   "id": "443ba8a4",
   "metadata": {},
   "source": [
    "Pilnas string metodų sąrašas https://docs.python.org/3/library/stdtypes.html#string-methods"
   ]
  },
  {
   "cell_type": "code",
   "execution_count": 16,
   "id": "6e88dd0f",
   "metadata": {},
   "outputs": [
    {
     "name": "stdout",
     "output_type": "stream",
     "text": [
      "k\n",
      "o\n",
      "m\n",
      "t\n",
      "6\n",
      "11\n",
      "-1\n",
      "raide t pasikartoja 5 kartus\n",
      "raide t pasikartoja 4 kartus\n"
     ]
    }
   ],
   "source": [
    "zodis='kompiuteristttt'\n",
    "print(zodis[0])\n",
    "print(zodis[1])\n",
    "print(zodis[2])\n",
    "print(zodis[-1])\n",
    "\n",
    "print(zodis.find('t')) #simbolio pradzia\n",
    "print(zodis.find('tt'))\n",
    "print(zodis.find('r', 11, 20))\n",
    "\n",
    "print('raide t pasikartoja', zodis.count('t'),'kartus')\n",
    "print('raide t pasikartoja', zodis.count('t', 11,20),'kartus')"
   ]
  },
  {
   "cell_type": "markdown",
   "id": "70b8a3a8",
   "metadata": {},
   "source": [
    "# Paieškos ir skaičiavimo metodai"
   ]
  },
  {
   "cell_type": "code",
   "execution_count": null,
   "id": "8e96bd55",
   "metadata": {},
   "outputs": [],
   "source": []
  },
  {
   "cell_type": "markdown",
   "id": "6f1e869a",
   "metadata": {},
   "source": [
    "# Formatavimo metodai"
   ]
  },
  {
   "cell_type": "code",
   "execution_count": 20,
   "id": "a5a1420c",
   "metadata": {},
   "outputs": [
    {
     "name": "stdout",
     "output_type": "stream",
     "text": [
      "naudotojai     irgi     klysta\n",
      "naudotojai irgi klysta\n",
      "TESTAS\n"
     ]
    }
   ],
   "source": [
    "sakinys_su_tarpais='vartotojai     irgi     klysta'\n",
    "sakinys_su_tarpais=sakinys_su_tarpais.replace('vartotojai', 'naudotojai')\n",
    "print(sakinys_su_tarpais)\n",
    "sakinys_br_tarpu=sakinys_su_tarpais.replace('     ', ' ')\n",
    "print(sakinys_br_tarpu)\n",
    "\n",
    "print('testas'.upper())"
   ]
  },
  {
   "cell_type": "code",
   "execution_count": 26,
   "id": "530a065e",
   "metadata": {},
   "outputs": [
    {
     "name": "stdout",
     "output_type": "stream",
     "text": [
      "         jonui patinka programuoti!!!!!!!    \n",
      "         JONUI PATINKA PROGRAMUOTI!!!!!!!    \n",
      "         Jonui Patinka Programuoti!!!!!!!    \n",
      "         jonui PATINKA PROGRAMUOTI!!!!!!!    \n",
      "JONUI patinka programuoti!!!!!!!\n",
      "         JONUI patinka programuoti!!!!!!!    \n",
      "         JONUI patinka programuoti!!!!!!!\n",
      "JONUI patinka programuoti!!!!!!!    \n"
     ]
    }
   ],
   "source": [
    "s='         JONUI patinka programuoti!!!!!!!    '\n",
    "print(s.lower()) #visas tekstas mazosiomis\n",
    "print(s.upper()) #visas tekstas didziosiomis\n",
    "print(s.title()) #Pirmosios raises didziosios\n",
    "print(s.swapcase()) #didziosios tampa mazosiomis ir apvirksciai\n",
    "print(s.strip()) #Panaikina tarpus priekyje ir gale\n",
    "print(s)\n",
    "print(s.rstrip()) #panaikina tarpus desineje\n",
    "print(s.lstrip()) #panaikina tarpus kaireje\n"
   ]
  },
  {
   "cell_type": "markdown",
   "id": "a1c12e66",
   "metadata": {},
   "source": [
    "# Formato tikrinimo metodai grąžina Boolean reikšmę"
   ]
  },
  {
   "cell_type": "code",
   "execution_count": 37,
   "id": "885ca100",
   "metadata": {},
   "outputs": [
    {
     "name": "stdout",
     "output_type": "stream",
     "text": [
      "True\n",
      "False\n",
      "True\n",
      "False\n",
      "True\n",
      "False\n",
      "False\n",
      "True\n"
     ]
    }
   ],
   "source": [
    "#amzius=input('iveskite amziu')\n",
    "#amzius=amzius**2\n",
    "#print('testas')\n",
    "\n",
    "sakinys='cia yra tekstas'\n",
    "skaicius='12'\n",
    "sakinys2='Jonui Patinka Programuoti'\n",
    "\n",
    "print(skaicius.isalnum()) #yra skaicius\n",
    "print(sakinys.isalnum()) \n",
    "print(skaicius.isdigit()) #vien skaiciai\n",
    "print(sakinys.isdigit())\n",
    "print(sakinys.islower())\n",
    "print(sakinys.isupper())\n",
    "print(sakinys.istitle())\n",
    "print(sakinys2.istitle())\n",
    "\n",
    "\n"
   ]
  },
  {
   "cell_type": "markdown",
   "id": "d90336ca",
   "metadata": {},
   "source": [
    "# Teksto skaidymas ir apjungimas"
   ]
  },
  {
   "cell_type": "code",
   "execution_count": 47,
   "id": "f396605e",
   "metadata": {},
   "outputs": [
    {
     "name": "stdout",
     "output_type": "stream",
     "text": [
      "['cia', 'yra', 'keturi', 'zodziai']\n",
      "cia-yra-keturi-zodziai\n",
      "['1', '3', '5', '6', '7', '8', '12']\n",
      "1 3 5 6 7 8 12\n"
     ]
    }
   ],
   "source": [
    "tekstas = 'cia yra keturi zodziai'\n",
    "\n",
    "atskirtas_tekstas=tekstas.split(' ')\n",
    "print(atskirtas_tekstas)\n",
    "\n",
    "sujungtas_tekstas = '-'.join(atskirtas_tekstas)\n",
    "print(sujungtas_tekstas)\n",
    "\n",
    "skaiciai=\"1,3,5,6,7,8,12\"\n",
    "atskirti_skaiciai=skaiciai.split(',')\n",
    "print(atskirti_skaiciai)\n",
    "\n",
    "sujungti_skaiciai=' '.join(atskirti_skaiciai)\n",
    "print(sujungti_skaiciai)"
   ]
  },
  {
   "cell_type": "markdown",
   "id": "ce2595f0",
   "metadata": {},
   "source": [
    "# Užduotys"
   ]
  },
  {
   "cell_type": "markdown",
   "id": "be949d21",
   "metadata": {},
   "source": [
    "1. Pakeisti tekstą vien tik didžiosiomis raidėmis\n"
   ]
  },
  {
   "cell_type": "code",
   "execution_count": 49,
   "id": "6f08a642",
   "metadata": {},
   "outputs": [
    {
     "name": "stdout",
     "output_type": "stream",
     "text": [
      "KOMPIUTERIS SAMSUNG\n"
     ]
    }
   ],
   "source": [
    "tekstas='kompiuteris samsung'\n",
    "print(tekstas.upper())"
   ]
  },
  {
   "cell_type": "markdown",
   "id": "7a5d022d",
   "metadata": {},
   "source": [
    "2. „Reversuoti“ tekstą, paliekant pirmąsias raides didžiosiomis\n"
   ]
  },
  {
   "cell_type": "code",
   "execution_count": 50,
   "id": "cd29275c",
   "metadata": {},
   "outputs": [
    {
     "name": "stdout",
     "output_type": "stream",
     "text": [
      "Kompiuteris Samsung\n"
     ]
    }
   ],
   "source": [
    "print(tekstas.title())"
   ]
  },
  {
   "cell_type": "markdown",
   "id": "f0ec6e26",
   "metadata": {},
   "source": [
    "3. Iš žodžio „Patefonas“ „strip“ metodo pagalba padarykite žodį „fonas“\n"
   ]
  },
  {
   "cell_type": "code",
   "execution_count": 58,
   "id": "ece08004",
   "metadata": {},
   "outputs": [
    {
     "name": "stdout",
     "output_type": "stream",
     "text": [
      "fonas\n"
     ]
    }
   ],
   "source": [
    "tekstas='Patefonas'\n",
    "print(tekstas.strip('Pate'))"
   ]
  },
  {
   "cell_type": "markdown",
   "id": "a095457b",
   "metadata": {},
   "source": [
    "4. PAPILDOMAI: Tekstą išskaidyti žodžiais. <br>\n",
    "Sujungti išskaidytą tekstą atskiriant žodžius kableliu"
   ]
  },
  {
   "cell_type": "code",
   "execution_count": 59,
   "id": "563058a6",
   "metadata": {},
   "outputs": [
    {
     "name": "stdout",
     "output_type": "stream",
     "text": [
      "['mano', 'labai', 'ilgas', 'tekstas']\n",
      "mano,labai,ilgas,tekstas\n"
     ]
    }
   ],
   "source": [
    "tekstas = 'mano labai ilgas tekstas'\n",
    "naujas_tekstas=tekstas.split(' ')\n",
    "print(naujas_tekstas)\n",
    "\n",
    "sujungtas_tekstas= ','.join(naujas_tekstas)\n",
    "print(sujungtas_tekstas)"
   ]
  }
 ],
 "metadata": {
  "kernelspec": {
   "display_name": "Python 3",
   "language": "python",
   "name": "python3"
  },
  "language_info": {
   "codemirror_mode": {
    "name": "ipython",
    "version": 3
   },
   "file_extension": ".py",
   "mimetype": "text/x-python",
   "name": "python",
   "nbconvert_exporter": "python",
   "pygments_lexer": "ipython3",
   "version": "3.13.1"
  }
 },
 "nbformat": 4,
 "nbformat_minor": 5
}
