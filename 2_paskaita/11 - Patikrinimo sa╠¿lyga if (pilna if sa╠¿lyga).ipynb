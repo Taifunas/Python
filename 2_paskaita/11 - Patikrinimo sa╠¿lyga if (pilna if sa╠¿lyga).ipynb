{
 "cells": [
  {
   "attachments": {},
   "cell_type": "markdown",
   "metadata": {},
   "source": [
    "# Patikrinimo sąlyga if: pilna if sąlyga (su visomis dalimis)"
   ]
  },
  {
   "attachments": {},
   "cell_type": "markdown",
   "metadata": {},
   "source": [
    "## Pilnos if sąlygos sintaksė\n",
    "\n",
    "```\n",
    "if tikrinama_salyga:\n",
    "\t# musu vykdomas kodas jeigu tikrinama_salyga yra True\n",
    "elif tikrinama_salyga2:\n",
    "\t# musu vykdomas kodas jeigu tikrinama_salyga2 yra True\n",
    "else:\n",
    "\t# musu vykdomas kodas jeigu salyga if yra False\n",
    "```"
   ]
  },
  {
   "attachments": {},
   "cell_type": "markdown",
   "metadata": {},
   "source": [
    "## Pavyzdžiai"
   ]
  },
  {
   "cell_type": "code",
   "execution_count": 3,
   "metadata": {},
   "outputs": [
    {
     "name": "stdout",
     "output_type": "stream",
     "text": [
      "skaicius yra teigiamas\n"
     ]
    }
   ],
   "source": [
    "skaicius = int(input('ivesktie skaiciu: '))\n",
    "\n",
    "if skaicius > 0:\n",
    "    print('skaicius yra teigiamas')\n",
    "elif skaicius <0:\n",
    "    print('skaicius yra neigiams')\n",
    "else:\n",
    "    print('skaicius yra lygus 0')"
   ]
  },
  {
   "cell_type": "code",
   "execution_count": 6,
   "metadata": {},
   "outputs": [
    {
     "name": "stdout",
     "output_type": "stream",
     "text": [
      "skaicius dalinasi is 2\n"
     ]
    }
   ],
   "source": [
    "skaicius = int(input('Iveskite skaiciu: '))\n",
    "\n",
    "if skaicius % 2 == 0:\n",
    "    print('skaicius dalinasi is 2')\n",
    "elif skaicius % 3 == 0:\n",
    "    print('skaicius dalinasi is 3')\n",
    "elif skaicius % 4 == 0:\n",
    "    print('skaicius dalinasi is 4')\n",
    "else:\n",
    "    print('nerandame skaiciaus is kurio dalinasi')"
   ]
  },
  {
   "cell_type": "code",
   "execution_count": 8,
   "metadata": {},
   "outputs": [
    {
     "name": "stdout",
     "output_type": "stream",
     "text": [
      "skaiciai vienodi\n"
     ]
    }
   ],
   "source": [
    "pirmas = int(input('Iveskite skaiciu: '))\n",
    "antras = int(input('Iveskite skaiciu: '))\n",
    "\n",
    "if pirmas > antras:\n",
    "    print('pirmas skaicius yra didesnis')\n",
    "elif antras > pirmas:\n",
    "    print('antras skaicius yra didesnis')\n",
    "else:\n",
    "    print('skaiciai vienodi')"
   ]
  },
  {
   "cell_type": "code",
   "execution_count": null,
   "metadata": {},
   "outputs": [],
   "source": []
  },
  {
   "cell_type": "code",
   "execution_count": null,
   "metadata": {},
   "outputs": [],
   "source": []
  },
  {
   "cell_type": "code",
   "execution_count": null,
   "metadata": {},
   "outputs": [],
   "source": []
  },
  {
   "attachments": {},
   "cell_type": "markdown",
   "metadata": {},
   "source": [
    "## Užduotys"
   ]
  },
  {
   "attachments": {},
   "cell_type": "markdown",
   "metadata": {},
   "source": [
    "### Užduotis 1\n",
    "\n",
    "Susikurkite skaičiui saugoti skirtą kintamąjį, arba reikšmę leiskite suvesti vartotojui. Tikrinkite (naudojant visas `if` sąlygos dalis):\n",
    "\n",
    "- Ar skaičius yra lyginis?\n",
    "- Ar dalinasi iš 5?\n",
    "- Ar skaičius lygus 3?\n",
    "- Jeigu nieko nepavyko rasti, išveskite klaidos pranešimą."
   ]
  },
  {
   "cell_type": "code",
   "execution_count": 1,
   "metadata": {},
   "outputs": [],
   "source": [
    "# Kodą rašykite čia..."
   ]
  },
  {
   "attachments": {},
   "cell_type": "markdown",
   "metadata": {},
   "source": [
    "### Užduotis 2\n",
    "\n",
    "Susikurkite tris skaičius arba leiskite visus skaičius suvesti vartotojui. Tikrinkite (naudojant visas `if` sąlygos dalis):\n",
    "\n",
    "- Ar pirmi du skaičiai lygūs?\n",
    "- Ar pirmas ir trečias skaičiai lygūs?\n",
    "- Ar trečias skaičius didesnis už pirmą?\n",
    "- Ar antras skaičius lygus dvigubai trečio skaičiaus reikšmei?\n",
    "- Ar pirmas skaičius dalinasi iš 3?\n",
    "- Jei nieko nepavyko rasti, išveskite klaidos pranešimą."
   ]
  },
  {
   "cell_type": "code",
   "execution_count": 2,
   "metadata": {},
   "outputs": [],
   "source": [
    "# Kodą rašykite čia..."
   ]
  }
 ],
 "metadata": {
  "kernelspec": {
   "display_name": "Python 3",
   "language": "python",
   "name": "python3"
  },
  "language_info": {
   "codemirror_mode": {
    "name": "ipython",
    "version": 3
   },
   "file_extension": ".py",
   "mimetype": "text/x-python",
   "name": "python",
   "nbconvert_exporter": "python",
   "pygments_lexer": "ipython3",
   "version": "3.13.1"
  },
  "orig_nbformat": 4,
  "vscode": {
   "interpreter": {
    "hash": "aa11ca274996316222ef16f35c5f6dbeb467b694c0b2154cdf34dcf9271d5fd0"
   }
  }
 },
 "nbformat": 4,
 "nbformat_minor": 2
}
