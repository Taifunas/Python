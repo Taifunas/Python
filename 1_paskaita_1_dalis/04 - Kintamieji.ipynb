{
  "cells": [
    {
      "cell_type": "markdown",
      "metadata": {
        "id": "joEKV-9mX_uS"
      },
      "source": [
        "# Kintamieji"
      ]
    },
    {
      "cell_type": "markdown",
      "metadata": {
        "id": "DmtwV6EoYDkZ"
      },
      "source": [
        "Programavimo kalbos turi labai patogią priemonę pakartotiniam duomenų naudojimui. Jei turime duomenų, kuriuos reikia prisiminti ir panaudoti vėliau, galime sukurti kintamąjį. Jame saugosime reikšmę ir prireikus panaudosime.Pitone reikšmių priskyrimui kintamiesiems naudosime lygybės ženklą (`=`)."
      ]
    },
    {
      "cell_type": "code",
      "execution_count": null,
      "metadata": {
        "colab": {
          "base_uri": "https://localhost:8080/"
        },
        "id": "rpsbQXBaXRwj",
        "outputId": "3d371ea3-b735-4c3c-bbff-007a6206cc44"
      },
      "outputs": [],
      "source": []
    },
    {
      "cell_type": "markdown",
      "metadata": {
        "id": "XuhBFDuPZ9aj"
      },
      "source": [
        "## Kintamųjų kūrimo taisyklės"
      ]
    },
    {
      "cell_type": "markdown",
      "metadata": {
        "id": "uAqfoRV7aC7o"
      },
      "source": [
        "1. Norint sukurti kintamąjį mums užtenka iškart rašyti kintamojo pavadinimą. Python nuspręs kintamojo tipą pagal jo reikšmę.\n",
        "2. Kintamojo pavadinimą gali sudaryti raidės, skaičiai ir apatinis brūkšnelis (A-z, 0-9, _).\n",
        "3. Kintamojo pavadinimas gali prasidėti tik raide arba apatiniu brūkšneliu. \n",
        "4. Pagal Pitono programavimo stiliaus gaires, kintamųjų pavadinimai turėtų prasidėti mažąja raide.\n",
        "5. Pagal Pitono programavimo stiliaus gaires, atskiri kintamojo pavadinimo žodžiai jungiami pabraukimu (pvz. `lauko_temperatura`).\n",
        "4. Kintamųjų pavadinimai yra jautrūs mažosioms/didžiosioms raidėms. A didžioji ir a mažoji nėra tas pats, todėl kintamasis `vardas` ir kintamasis `VARDAS` nėra tas pat.\n",
        "5. Aprašant reikšmę reikia nepamiršti naudoti ar nenaudoti kabučių, pagal tai koks kintamojo tipas yra naudojamas"
      ]
    },
    {
      "cell_type": "markdown",
      "metadata": {
        "id": "yCj_9f0kba-s"
      },
      "source": [
        "# Duomenų tipai\n",
        "\n"
      ]
    },
    {
      "cell_type": "markdown",
      "metadata": {
        "id": "_VdfImm5be26"
      },
      "source": [
        "Duomenų tipas  | Raktažodis \n",
        "-------------------|------------------\n",
        "Tekstas (text type) | `str`\n",
        "Skaičius (numeric types) | `int`, `float`, `complex`\n",
        "Sąrašai (sequence types) | `list`, `tuple`, `range`\n",
        "Žodynai (mapping type) | `dict`\n",
        "Rinkiniai (set types) | `set`, `frozenset`\n",
        "Loginis (boolean) | `bool`\n",
        "Dvejetainis (binary types) | `bytes`, `bytearray`, `memoryview`\n",
        "Jokio tipo | `NoneType`"
      ]
    },
    {
      "cell_type": "markdown",
      "metadata": {
        "id": "UcVHYWy_diJ2"
      },
      "source": [
        "# Pavyzdžiai"
      ]
    },
    {
      "cell_type": "markdown",
      "metadata": {
        "id": "F-QZdEZNdmS4"
      },
      "source": [
        "Norėdami parodyti Pitonui, kad kintamasis yra eilutė panaudojam viengubas arba dvigubas kabutes:"
      ]
    },
    {
      "cell_type": "code",
      "execution_count": 12,
      "metadata": {
        "colab": {
          "base_uri": "https://localhost:8080/"
        },
        "id": "ylGX5Btid6Pp",
        "outputId": "e02e2f4b-882c-46d1-d5ec-b996bf207ef6"
      },
      "outputs": [
        {
          "name": "stdout",
          "output_type": "stream",
          "text": [
            "Pirmas mano sakinys\n",
            "8\n",
            "10\n",
            "18\n"
          ]
        }
      ],
      "source": [
        "tekstas = 'Pirmas mano sakinys'\n",
        "print(tekstas)\n",
        "\n",
        "vardas = \"Antanas\"\n",
        "pavarde = \"Testauskas\"\n",
        "\n",
        "skaicius_1=8\n",
        "skaicius_2=10\n",
        "\n",
        "print(skaicius_1)\n",
        "print(skaicius_2)\n",
        "\n",
        "print(skaicius_1 + skaicius_2)"
      ]
    },
    {
      "cell_type": "code",
      "execution_count": null,
      "metadata": {},
      "outputs": [],
      "source": []
    },
    {
      "cell_type": "markdown",
      "metadata": {
        "id": "GTPPz1a6eCpf"
      },
      "source": [
        "Skaičius būtinai rašome be kabučių. Taip Pitonas supras, kad kintamasis yra skaičiaus tipo. "
      ]
    },
    {
      "cell_type": "code",
      "execution_count": 2,
      "metadata": {
        "colab": {
          "base_uri": "https://localhost:8080/"
        },
        "id": "PkqOUMtEeOSL",
        "outputId": "319707d8-c11a-4239-d452-0757ef27400f"
      },
      "outputs": [
        {
          "name": "stdout",
          "output_type": "stream",
          "text": [
            "Pirmas mano sakinys\n"
          ]
        }
      ],
      "source": [
        "print(tekstas)"
      ]
    },
    {
      "cell_type": "markdown",
      "metadata": {
        "id": "10rVUNeSflBO"
      },
      "source": [
        "Šiame pavyzdyje pridėtas skaičiaus su kableliu ir None tipai."
      ]
    },
    {
      "cell_type": "code",
      "execution_count": null,
      "metadata": {
        "colab": {
          "base_uri": "https://localhost:8080/"
        },
        "id": "uuGucylUfxAs",
        "outputId": "5049667c-f416-4f1c-a851-e54a74e1228f"
      },
      "outputs": [],
      "source": []
    },
    {
      "cell_type": "markdown",
      "metadata": {
        "id": "dOB3akKyhQh7"
      },
      "source": [
        "Jei norime pasižiūrėti, kokius tipus Pitonas priskyrė kintamiesiems, panaudojam funkciją `type()`:"
      ]
    },
    {
      "cell_type": "code",
      "execution_count": 24,
      "metadata": {
        "colab": {
          "base_uri": "https://localhost:8080/"
        },
        "id": "V8b0vcEEhacc",
        "outputId": "6f82ae07-edb5-423b-b270-aaf4ce3c5e08"
      },
      "outputs": [
        {
          "name": "stdout",
          "output_type": "stream",
          "text": [
            "50 <class 'int'>\n",
            "True <class 'bool'>\n",
            "89.5 <class 'float'>\n",
            "Antanas <class 'str'>\n",
            "None <class 'NoneType'>\n"
          ]
        }
      ],
      "source": [
        "amzius=50\n",
        "svoris=89.5\n",
        "ar_vedes=True\n",
        "turi_vaiku=False\n",
        "vaikas=None\n",
        "\n",
        "print(amzius, type(amzius))\n",
        "print(ar_vedes, type(ar_vedes))\n",
        "print(svoris, type(svoris))\n",
        "print(vardas, type(vardas))\n",
        "print(vaikas, type(vaikas))"
      ]
    },
    {
      "cell_type": "markdown",
      "metadata": {
        "id": "cAFdT8BCiVCR"
      },
      "source": [
        "# Užduotys"
      ]
    },
    {
      "cell_type": "markdown",
      "metadata": {
        "id": "o53g8eN8knYN"
      },
      "source": [
        "Atlikite žemiau esančias užduotis, o rezultatą įsivertinkite patys."
      ]
    },
    {
      "cell_type": "markdown",
      "metadata": {
        "id": "D2mpDLebih-g"
      },
      "source": [
        "## Užduotis 1"
      ]
    },
    {
      "cell_type": "markdown",
      "metadata": {
        "id": "ZklhTwT9iZ2R"
      },
      "source": [
        "Susikurkite kintamąjį savo vardui saugoti. Išveskite į konsolę tekstą \"Mano vardas yra \" ir turimo kintamojo reikšmę."
      ]
    },
    {
      "cell_type": "code",
      "execution_count": 21,
      "metadata": {
        "id": "d5K8Hm2JiYnl"
      },
      "outputs": [
        {
          "name": "stdout",
          "output_type": "stream",
          "text": [
            "Mano vardas yra Mantas\n"
          ]
        }
      ],
      "source": [
        "# Kodą rašykite čia...\n",
        "Vardas = 'Mantas'\n",
        "print('Mano vardas yra', Vardas)"
      ]
    },
    {
      "cell_type": "markdown",
      "metadata": {
        "id": "98XYwnUKik-b"
      },
      "source": [
        "## Užduotis 2"
      ]
    },
    {
      "cell_type": "markdown",
      "metadata": {
        "id": "nL6PRd1siwa0"
      },
      "source": [
        "Susikurkite kintamuosius studento akademinei grupei ir vidurkiui saugoti. Išveskite į konsolę šią informaciją tokiu pavidalu:\n",
        "```\n",
        "Akademinė grupė: ifzm-6\n",
        "Vidurkis: 8\n",
        "```"
      ]
    },
    {
      "cell_type": "code",
      "execution_count": 44,
      "metadata": {
        "id": "MtIB53Y4jph_"
      },
      "outputs": [
        {
          "name": "stdout",
          "output_type": "stream",
          "text": [
            "akademine grupe: ifzm-6\n",
            "Vidurkis: 8\n"
          ]
        }
      ],
      "source": [
        "# Kodą rašykite čia...\n",
        "Akademine_grupe = \"ifzm-6\"\n",
        "Vidurkis = 8\n",
        "\n",
        "print(\"akademine grupe:\",Akademine_grupe)\n",
        "print(\"Vidurkis:\",Vidurkis)"
      ]
    },
    {
      "cell_type": "markdown",
      "metadata": {
        "id": "ceLstTcSjCaG"
      },
      "source": [
        "## Užduotis 3"
      ]
    },
    {
      "cell_type": "markdown",
      "metadata": {
        "id": "DJGMvlqpjGBn"
      },
      "source": [
        "Susikurkite kintamąjį, kuris saugotų žodį Lietuva!. O dabar Pitono pagalba skanduosime, išvesdami šį žodį į konsolę tris kartus `Lietuva! Lietuva! Lietuva!`."
      ]
    },
    {
      "cell_type": "code",
      "execution_count": 25,
      "metadata": {
        "id": "2r1T2IeZjqNK"
      },
      "outputs": [
        {
          "name": "stdout",
          "output_type": "stream",
          "text": [
            "Lietuva! Lietuva! Lietuva!\n"
          ]
        }
      ],
      "source": [
        "# Kodą rašykite čia...\n",
        "Salis=\"Lietuva!\"\n",
        "print(Salis, Salis, Salis)"
      ]
    },
    {
      "cell_type": "markdown",
      "metadata": {
        "id": "tw0Z4_MQjrxc"
      },
      "source": [
        "## Užduotis 4"
      ]
    },
    {
      "cell_type": "markdown",
      "metadata": {
        "id": "n7BDeur0jvXS"
      },
      "source": [
        "Aprašykite ir išveskite (atskirose eilutėse) kintamuosius, saugančius šią informaciją apie miestą:\n",
        "1. Pavadinimas;\n",
        "2. Valstybė;\n",
        "3. Įkūrimo data;\n",
        "4. Platuma;\n",
        "5. Ilguma;\n",
        "6. Plotas kv. km.;\n",
        "7. Gyventojų skaičius (tukstančiais)."
      ]
    },
    {
      "cell_type": "code",
      "execution_count": 28,
      "metadata": {
        "id": "oYJ12D0HkbFb"
      },
      "outputs": [
        {
          "name": "stdout",
          "output_type": "stream",
          "text": [
            "Vilnius\n",
            "Lietuva\n",
            "1323\n"
          ]
        }
      ],
      "source": [
        "# Kodą rašykite čia...\n",
        "pavadinimas = \"Vilnius\"\n",
        "valstybe = 'Lietuva'\n",
        "ikurimo_data = 1323\n",
        "\n",
        "print(pavadinimas)\n",
        "print(valstybe)\n",
        "print(ikurimo_data)"
      ]
    },
    {
      "attachments": {},
      "cell_type": "markdown",
      "metadata": {},
      "source": [
        "## Užduotis 5\n",
        "\n",
        "Susikurkite kintamąjį, kuris saugotų bet kokį žodį. Išveskite šį žodį naudojant vieną `print()`. Žodis turi būti išvestas 5 kartus toje pačioje eilutėje, atskiriant tarpo simboliu."
      ]
    },
    {
      "cell_type": "code",
      "execution_count": 39,
      "metadata": {},
      "outputs": [
        {
          "name": "stdout",
          "output_type": "stream",
          "text": [
            "labas\tlabas\tlabas\tlabas\tlabas\t\n"
          ]
        }
      ],
      "source": [
        "# Kodą rašykite čia...\n",
        "x = \"labas\"\n",
        "print((x+'\\t')*5)"
      ]
    }
  ],
  "metadata": {
    "colab": {
      "provenance": []
    },
    "kernelspec": {
      "display_name": "Python 3",
      "language": "python",
      "name": "python3"
    },
    "language_info": {
      "codemirror_mode": {
        "name": "ipython",
        "version": 3
      },
      "file_extension": ".py",
      "mimetype": "text/x-python",
      "name": "python",
      "nbconvert_exporter": "python",
      "pygments_lexer": "ipython3",
      "version": "3.13.1"
    },
    "vscode": {
      "interpreter": {
        "hash": "aa11ca274996316222ef16f35c5f6dbeb467b694c0b2154cdf34dcf9271d5fd0"
      }
    }
  },
  "nbformat": 4,
  "nbformat_minor": 0
}
