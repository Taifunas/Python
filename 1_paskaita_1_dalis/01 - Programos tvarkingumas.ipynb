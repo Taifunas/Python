{
  "cells": [
    {
      "attachments": {},
      "cell_type": "markdown",
      "metadata": {},
      "source": [
        "# Atitraukimai nuo krašto"
      ]
    },
    {
      "attachments": {},
      "cell_type": "markdown",
      "metadata": {},
      "source": [
        "Programa yra skaidoma blokais (funkcijos, ciklai ir kt.). Norint parodyti bloko ribas, to bloko kodas yra atitraukiamas nuo krašto.\n",
        "Bloko eilutės yra atitraukiamos nuo krašto (arba prieš tai esančio bloko) su 4 tarpais arba 1 tab paspaudimu.\n",
        "\n",
        "> **Atkreipkite dėmesį**: skirtingai nuo daugelio programavimo kalbų, atitraukimas turi didelę reikšmę programos vykdymui.\n",
        "\n",
        "Atitraukimas atstoja begin ir end paskalio kalboje arba { } C kalbos simbolius. Žemiau matote pitono programos pavyzdį su tinkamu kodo atitraukimu. Kol kas nesiaiškinkite kaip programa veikia."
      ]
    },
    {
      "cell_type": "code",
      "execution_count": 1,
      "metadata": {},
      "outputs": [
        {
          "name": "stdout",
          "output_type": "stream",
          "text": [
            "test\n"
          ]
        }
      ],
      "source": [
        "print('test')"
      ]
    },
    {
      "attachments": {},
      "cell_type": "markdown",
      "metadata": {},
      "source": [
        "# Komentavimas"
      ]
    },
    {
      "attachments": {},
      "cell_type": "markdown",
      "metadata": {},
      "source": [
        "Kodas yra komentuojamas tais atvejais kai mes norime parašyti paaiškinimą apie tai kas vyksta kode arba kai norim kažkurią kodo dalį padaryti nebeaktyvią (nebevykdomą).\n",
        "\n",
        "> Komentarui naudojamas simbolis: #\n",
        "\n",
        "Toliau parodyta ta pati programa su funkcijos aprašymu bei dviem užkomentuotom kodo eilutėm, kurios išveda *pradžia* ir *pabaiga*"
      ]
    },
    {
      "cell_type": "code",
      "execution_count": null,
      "metadata": {},
      "outputs": [],
      "source": []
    },
    {
      "attachments": {},
      "cell_type": "markdown",
      "metadata": {},
      "source": [
        "# Užduotis"
      ]
    },
    {
      "attachments": {},
      "cell_type": "markdown",
      "metadata": {},
      "source": [
        "Žemiau pateikta programa, kuri neveikia, nes kviečiamos funkcijos, kurios nėra užrašytos. Atlikite šiuos veiksmus:\n",
        "* Nukopijuokite programą į savo aplinką\n",
        "* Užkomentuokite neveikiančias kodo dalis\n",
        "\n",
        "Atkreipkite dėmesį, kad aplinka pati raudonai pažymi neteisingas eilutes. "
      ]
    },
    {
      "cell_type": "code",
      "execution_count": null,
      "metadata": {},
      "outputs": [],
      "source": []
    },
    {
      "cell_type": "code",
      "execution_count": null,
      "metadata": {},
      "outputs": [],
      "source": []
    }
  ],
  "metadata": {
    "kernelspec": {
      "display_name": "Python 3",
      "language": "python",
      "name": "python3"
    },
    "language_info": {
      "codemirror_mode": {
        "name": "ipython",
        "version": 3
      },
      "file_extension": ".py",
      "mimetype": "text/x-python",
      "name": "python",
      "nbconvert_exporter": "python",
      "pygments_lexer": "ipython3",
      "version": "3.13.1"
    },
    "vscode": {
      "interpreter": {
        "hash": "aa11ca274996316222ef16f35c5f6dbeb467b694c0b2154cdf34dcf9271d5fd0"
      }
    }
  },
  "nbformat": 4,
  "nbformat_minor": 0
}
