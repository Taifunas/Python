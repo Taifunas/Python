{
 "cells": [
  {
   "cell_type": "markdown",
   "metadata": {
    "id": "hLvbocp2jbhr"
   },
   "source": [
    "# Įvedimas iš konsolės"
   ]
  },
  {
   "cell_type": "markdown",
   "metadata": {
    "id": "KKXxxcLMjnJS"
   },
   "source": [
    "Vienas iš būdų, kaip įvesti duomenis programai - paprašyti naudotojo, kad konsolėje suvestų reikalingą informaciją. Tam naudojama `input()` funkcija."
   ]
  },
  {
   "cell_type": "markdown",
   "metadata": {},
   "source": []
  },
  {
   "cell_type": "markdown",
   "metadata": {
    "id": "wzd6nwMlj54O"
   },
   "source": [
    "Kai prašymas įvesti informaciją išvedamas atskirai:"
   ]
  },
  {
   "cell_type": "code",
   "execution_count": 2,
   "metadata": {
    "colab": {
     "base_uri": "https://localhost:8080/"
    },
    "executionInfo": {
     "elapsed": 27345,
     "status": "ok",
     "timestamp": 1680506210971,
     "user": {
      "displayName": "Ieva Jaksaityte",
      "userId": "00831868984698131417"
     },
     "user_tz": -180
    },
    "id": "TYB0piIejX5q",
    "outputId": "353bb836-2de6-4264-bd34-48ba5d83cf32"
   },
   "outputs": [
    {
     "name": "stdout",
     "output_type": "stream",
     "text": [
      "iveskite varda: \n",
      "Testas\n"
     ]
    }
   ],
   "source": [
    "print('iveskite varda: ')\n",
    "vardas=input()\n",
    "print(vardas)"
   ]
  },
  {
   "cell_type": "markdown",
   "metadata": {
    "id": "IPh_dErRkHzY"
   },
   "source": [
    "Kai prašymas įvesti informaciją išvedamas kartu:"
   ]
  },
  {
   "cell_type": "code",
   "execution_count": 4,
   "metadata": {
    "colab": {
     "base_uri": "https://localhost:8080/"
    },
    "executionInfo": {
     "elapsed": 13250,
     "status": "ok",
     "timestamp": 1680506255081,
     "user": {
      "displayName": "Ieva Jaksaityte",
      "userId": "00831868984698131417"
     },
     "user_tz": -180
    },
    "id": "I_BmVJuskORt",
    "outputId": "14eb2f52-7062-4ea6-eb84-39a7e37b245e"
   },
   "outputs": [
    {
     "name": "stdout",
     "output_type": "stream",
     "text": [
      "testas\n"
     ]
    }
   ],
   "source": [
    "\n",
    "vardas = input ('Iveskite varda: ')\n",
    "print(vardas)"
   ]
  },
  {
   "cell_type": "markdown",
   "metadata": {
    "id": "R65X81PU-P5l"
   },
   "source": [
    "Kokio tipo informaciją gauname iš input?"
   ]
  },
  {
   "cell_type": "code",
   "execution_count": 7,
   "metadata": {
    "id": "41MMdkac-P5m",
    "outputId": "f705a983-4f61-4b04-f423-53bf2f4aa9cb"
   },
   "outputs": [
    {
     "name": "stdout",
     "output_type": "stream",
     "text": [
      "12\n",
      "1 <class 'int'>\n",
      "2 <class 'int'>\n",
      "3\n"
     ]
    }
   ],
   "source": [
    "skaicius=input('iveskite skaiciu: ')\n",
    "skaicius2=input('iveskite antra skaiciu: ')\n",
    "print(skaicius + skaicius2)\n",
    "\n",
    "skaicius = int(skaicius)\n",
    "skaicius2 = int(skaicius2)\n",
    "print(skaicius, type(skaicius))\n",
    "print(skaicius2, type(skaicius2))\n",
    "print(skaicius+skaicius2)\n",
    "\n",
    "\n"
   ]
  },
  {
   "cell_type": "markdown",
   "metadata": {
    "id": "oeMi6hOt-P5p"
   },
   "source": [
    "Gauname skaičių iš prieš tai įvykusios įvesties:"
   ]
  },
  {
   "cell_type": "code",
   "execution_count": 8,
   "metadata": {
    "id": "aC0HAhB9-P5r",
    "outputId": "bba33f56-984b-46b4-9ca4-d190c1dcc139"
   },
   "outputs": [
    {
     "name": "stdout",
     "output_type": "stream",
     "text": [
      "6\n"
     ]
    }
   ],
   "source": [
    "\n"
   ]
  },
  {
   "cell_type": "markdown",
   "metadata": {
    "id": "fj_Qb3ZJkuDN"
   },
   "source": [
    "Skaičiaus įvestį galime įgyvendinti ir per vieną eilutę:"
   ]
  },
  {
   "cell_type": "code",
   "execution_count": null,
   "metadata": {
    "colab": {
     "base_uri": "https://localhost:8080/"
    },
    "id": "LK5BQCfLk1i8",
    "outputId": "f3129f80-a189-4414-9eb7-5571091658c8"
   },
   "outputs": [],
   "source": [
    "skaicius=int(input('Iveskite skaiciu: '))\n",
    "skaicius2=int(input('Iveskite antra skaiciu: '))\n",
    "\n",
    "print(skaicius+skaicius2)\n"
   ]
  },
  {
   "cell_type": "markdown",
   "metadata": {
    "id": "4s7fFRKhk0e_"
   },
   "source": [
    "Kai norime gauti įvestą slankaus kablelio skaičių:"
   ]
  },
  {
   "cell_type": "code",
   "execution_count": null,
   "metadata": {
    "colab": {
     "base_uri": "https://localhost:8080/"
    },
    "id": "RHJmuu4-lMPN",
    "outputId": "be7d262d-7084-4f5d-a369-de3d26eb9276"
   },
   "outputs": [],
   "source": [
    "skaicius=float(input('Iveskite skaiciu: '))\n",
    "skaicius2=float(input('Iveskite antra skaiciu: '))\n",
    "\n",
    "print(skaicius+skaicius2)"
   ]
  },
  {
   "cell_type": "markdown",
   "metadata": {
    "id": "9kza4VX9l9cr"
   },
   "source": [
    "F-eilučių prisiminimui įvesime du skaičius atskirose eilutėse ir juos sudėsime:"
   ]
  },
  {
   "cell_type": "code",
   "execution_count": 15,
   "metadata": {
    "id": "s8VJoSVXlqbj",
    "outputId": "5d179eb2-2cbc-4520-d743-ef9b00dc8f23"
   },
   "outputs": [
    {
     "name": "stdout",
     "output_type": "stream",
     "text": [
      "1 + 2 = 3\n"
     ]
    }
   ],
   "source": [
    "skaicius=int(input('Iveskite skaiciu: '))\n",
    "skaicius2=int(input('Iveskite antra skaiciu: '))\n",
    "\n",
    "print(f'{skaicius} + {skaicius2} = {skaicius + skaicius2}')"
   ]
  },
  {
   "cell_type": "code",
   "execution_count": null,
   "metadata": {},
   "outputs": [
    {
     "name": "stdout",
     "output_type": "stream",
     "text": [
      "4.333333333333334\n",
      "5.0\n"
     ]
    }
   ],
   "source": []
  },
  {
   "cell_type": "markdown",
   "metadata": {
    "id": "Ld0OIqsV-P6B"
   },
   "source": [
    "Atkreipkite dėmesį į tai kad praeitame pavyzdyje gauta įvestis yra `str` tipo, todėl sudėtis (`+`) atliko teksto sudėtį, o ne matematinę sudėtį. Tai ištaisyti būtų galima taip:"
   ]
  },
  {
   "cell_type": "code",
   "execution_count": null,
   "metadata": {
    "id": "2qLqVRo6-P6F",
    "outputId": "0c5afd45-d36a-4787-8515-95b9c946d92d"
   },
   "outputs": [],
   "source": []
  },
  {
   "cell_type": "markdown",
   "metadata": {
    "id": "QUSzPjd9-P6I"
   },
   "source": [
    "Arba taip:"
   ]
  },
  {
   "cell_type": "code",
   "execution_count": null,
   "metadata": {
    "id": "0LHXu7Dm-P6K",
    "outputId": "5e46a039-1bb7-463a-a822-dbfeae52a940"
   },
   "outputs": [],
   "source": []
  },
  {
   "cell_type": "markdown",
   "metadata": {
    "id": "yeB--dnIml-I"
   },
   "source": [
    "Šį kartą įvesime tuos du skaičius vienoje eilutėje:"
   ]
  },
  {
   "cell_type": "code",
   "execution_count": 13,
   "metadata": {
    "colab": {
     "base_uri": "https://localhost:8080/"
    },
    "id": "e-xkcMowmySz",
    "outputId": "eee61098-7ed0-4829-861b-477b1eaece36"
   },
   "outputs": [
    {
     "name": "stdout",
     "output_type": "stream",
     "text": [
      "5\n",
      "10\n",
      "5 10\n",
      "15\n"
     ]
    }
   ],
   "source": [
    "sk1, sk2 = 5, 10\n",
    "print(sk1)\n",
    "print(sk2)\n",
    "\n",
    "x,y = input('iveskite du skaicius, atskirdami juos tarpu ').split()\n",
    "print(x,y)\n",
    "print(int(x) + int(y))"
   ]
  },
  {
   "cell_type": "code",
   "execution_count": 14,
   "metadata": {
    "id": "hLUgBPAv-P6O",
    "outputId": "d5af7623-8981-4ae0-ab98-b148a0efa50d"
   },
   "outputs": [
    {
     "name": "stdout",
     "output_type": "stream",
     "text": [
      "12345\n",
      "15\n"
     ]
    }
   ],
   "source": [
    "a, b, c, d, e = input('inveskite penkis skaicius, juos atskirdami tarpu').split()\n",
    "print(a+b+c+d+e)\n",
    "print(int(a)+int(b)+int(c)+int(d)+int(e))"
   ]
  },
  {
   "cell_type": "code",
   "execution_count": null,
   "metadata": {
    "id": "vQYO-cmC-P6Q",
    "outputId": "fbcca2e9-de76-420b-8ecb-c6909684e71c"
   },
   "outputs": [],
   "source": [
    "a,b,c,d,e = [int(skaicius) for skaicius in input('inveskite penkis skaicius, juos atskirdami tarpu').split()]"
   ]
  },
  {
   "cell_type": "markdown",
   "metadata": {
    "id": "04BsLXN1-P6S"
   },
   "source": [
    "Galima ir taip:"
   ]
  },
  {
   "cell_type": "code",
   "execution_count": null,
   "metadata": {
    "id": "fvWrOYrU-P6T",
    "outputId": "928d8eb7-aaf1-4b55-8221-4cea58c1131e"
   },
   "outputs": [],
   "source": [
    "\n"
   ]
  },
  {
   "cell_type": "markdown",
   "metadata": {
    "id": "YudRJYaB-P6U"
   },
   "source": [
    "Daugiau įvesties:"
   ]
  },
  {
   "cell_type": "code",
   "execution_count": null,
   "metadata": {
    "id": "YFmI5QTD-P6U",
    "outputId": "28cac284-9379-4321-c999-88b9f45b30f1"
   },
   "outputs": [],
   "source": []
  },
  {
   "cell_type": "markdown",
   "metadata": {
    "id": "HrnY00hVnhy2"
   },
   "source": [
    "## Užduotys"
   ]
  },
  {
   "cell_type": "markdown",
   "metadata": {
    "id": "hwDj6lv8nkm1"
   },
   "source": [
    "### Užduotis 1"
   ]
  },
  {
   "cell_type": "markdown",
   "metadata": {
    "id": "bp9fj9jxn2gO"
   },
   "source": [
    "Paprašykite naudotojo įvesti savo vardą, amžių ir kodėl panoro išmokti Pitoną. Įvestą informaciją išveskite tvarkingai, vienu sakiniu ar atskirose eilutėse su prierašais."
   ]
  },
  {
   "cell_type": "code",
   "execution_count": 1,
   "metadata": {
    "id": "eXWqDJLmoAwP"
   },
   "outputs": [],
   "source": [
    "# Kodą rašykite čia..."
   ]
  },
  {
   "cell_type": "markdown",
   "metadata": {
    "id": "Dmuvr1dO-P6Y"
   },
   "source": [
    "### Užduotis 2\n",
    "\n",
    "Paprašykite vartotojo įvesti norimą simbolį. Iš šio simbolio atspausdinkite laiptus. Pvz.:\n",
    "\n",
    "```\n",
    "*\n",
    "**\n",
    "***\n",
    "```"
   ]
  },
  {
   "cell_type": "code",
   "execution_count": 2,
   "metadata": {
    "id": "s329GMSe-P6Z"
   },
   "outputs": [],
   "source": [
    "# Kodą rašykite čia..."
   ]
  },
  {
   "cell_type": "markdown",
   "metadata": {
    "id": "6A35-IQnoLXk"
   },
   "source": [
    "### Užduotis 3"
   ]
  },
  {
   "cell_type": "markdown",
   "metadata": {
    "id": "7XAZwWOzoi8J"
   },
   "source": [
    "Paprašykite vartotojo įvesti norimą simbolį. Iš šio simbolio atspausdinkite inicialus. Pvz.:\n",
    "```\n",
    "*** *\n",
    " *  *\n",
    " *  ***\n",
    "```\n"
   ]
  },
  {
   "cell_type": "markdown",
   "metadata": {
    "id": "7q-0t1XCpzjg"
   },
   "source": [
    "Užduočiai atlikti galite naudoti daugelio eilučių išvedimą."
   ]
  },
  {
   "cell_type": "code",
   "execution_count": 3,
   "metadata": {
    "id": "M5vavct5oRTh"
   },
   "outputs": [],
   "source": [
    "# Kodą rašykite čia..."
   ]
  },
  {
   "cell_type": "markdown",
   "metadata": {
    "id": "lmB90fOEoMdK"
   },
   "source": [
    "### Užduotis 4"
   ]
  },
  {
   "cell_type": "markdown",
   "metadata": {
    "id": "zg6IFhvJowb3"
   },
   "source": [
    "Paprašykite vartotojo įvesti vardą, amžių, ūgį (metais) (nepamirškite ką reikia iškonvertuoti iš `str` į `int` ar `float`). Išveskite gautus duomenis ir jų tipus."
   ]
  },
  {
   "cell_type": "code",
   "execution_count": 5,
   "metadata": {
    "id": "D_TSyx1-oR_5"
   },
   "outputs": [
    {
     "name": "stdout",
     "output_type": "stream",
     "text": [
      "Vardas:  Mantas\n",
      "amzius:  int1\n",
      "ugis:  float12\n"
     ]
    }
   ],
   "source": [
    "# Kodą rašykite čia...\n",
    "vardas, amzius, ugis = input(\"iveskite varda amziu ir ugi atskiriant tarpu: \").split()\n",
    "print(f\"Vardas:  {vardas}\")\n",
    "print(f\"amzius:  int{amzius}\")\n",
    "print(f\"ugis:  float{ugis}\")\n"
   ]
  },
  {
   "cell_type": "markdown",
   "metadata": {
    "id": "_R8pynb9oNpE"
   },
   "source": [
    "### Užduotis 5"
   ]
  },
  {
   "cell_type": "markdown",
   "metadata": {
    "id": "SFB0Ad1JpEMd"
   },
   "source": [
    "Leiskite naudotojui įvesti metrus. Išveskite kiek tai gaunasi centimetrais, milimetrais ir kilometrais."
   ]
  },
  {
   "cell_type": "code",
   "execution_count": 5,
   "metadata": {
    "id": "wrT9zY9IoSvr"
   },
   "outputs": [],
   "source": [
    "metrai=int(input())\n",
    "milimetrai=metrai/100\n",
    "kilometrai=metrai/1000\n"
   ]
  },
  {
   "cell_type": "markdown",
   "metadata": {
    "id": "BsHZhrt-oO1f"
   },
   "source": [
    "### Užduotis 6"
   ]
  },
  {
   "cell_type": "markdown",
   "metadata": {
    "id": "yv7UcPT2p_2i"
   },
   "source": [
    "Vienoje eilutėje įveskite vardą, pavardę ir amžių. Išveskite informaciją vienu sakiniu."
   ]
  },
  {
   "cell_type": "code",
   "execution_count": 6,
   "metadata": {
    "id": "3Afrr09ZoUeE"
   },
   "outputs": [],
   "source": [
    "# Kodą rašykite čia...\n"
   ]
  },
  {
   "cell_type": "markdown",
   "metadata": {
    "id": "jTOrqyhX-P6i"
   },
   "source": [
    "### Užduotis 7\n",
    "\n",
    "Paprašykite vartotojo įvesti 5-is savo pažymius vienoje eilutėje. Paskaičiuokite pažymių vidurkį. Išveskite atsakymą."
   ]
  },
  {
   "cell_type": "code",
   "execution_count": 9,
   "metadata": {
    "id": "Df68msm6-P6j"
   },
   "outputs": [
    {
     "name": "stdout",
     "output_type": "stream",
     "text": [
      "3.0\n"
     ]
    }
   ],
   "source": [
    "# Kodą rašykite čia...\n",
    "#a,b,c,d,e = [int(skaicius) for skaicius in input('inveskite penkis skaicius, juos atskirdami tarpu').split()]\n",
    "paz1, paz2, paz3, paz4, paz5 = [int(skaicius) for skaicius in input('inveskite penkis skaicius, juos atskirdami tarpu').split()]\n",
    "print((paz1+paz2+paz3+paz4+paz5)/5)\n"
   ]
  },
  {
   "cell_type": "markdown",
   "metadata": {
    "id": "NJynM5Eb-P6k"
   },
   "source": [
    "### Užduotis 8\n",
    "\n",
    "Leiskite vartotojui įvesti du skaičius. Išveskite šių skaičių sudėtį, skirtumą, sandaugą ir dalmenį."
   ]
  },
  {
   "cell_type": "code",
   "execution_count": 7,
   "metadata": {
    "id": "ec0_nwTX-P6l"
   },
   "outputs": [
    {
     "name": "stdout",
     "output_type": "stream",
     "text": [
      "3\n",
      "-1\n",
      "2\n",
      "0.5\n"
     ]
    }
   ],
   "source": [
    "# Kodą rašykite čia...\n",
    "sk1, sk2 = input(\"ivesti 2 skaicius per tarpa\").split()\n",
    "sk1=int(sk1)\n",
    "sk2=int(sk2)\n",
    "print(sk1+sk2)\n",
    "print(sk1-sk2)\n",
    "print(sk1*sk2)\n",
    "print(sk1/sk2)\n"
   ]
  },
  {
   "cell_type": "markdown",
   "metadata": {
    "id": "-Mo1EpGl-P6m"
   },
   "source": [
    "### Užduotis 9\n",
    "\n",
    "Leiskite vartotojui įvesti du norimus skaičius. Išveskite kokia gaunasi liekana padalinus vieną skaičių iš kito."
   ]
  },
  {
   "cell_type": "code",
   "execution_count": 10,
   "metadata": {
    "id": "35HXxxZ3-P6n"
   },
   "outputs": [
    {
     "name": "stdout",
     "output_type": "stream",
     "text": [
      "5\n"
     ]
    }
   ],
   "source": [
    "# Kodą rašykite čia...\n",
    "sk1, sk2 = input(\"ivesti 2 skaicius per tarpa\").split()\n",
    "sk1=int(sk1)\n",
    "sk2=int(sk2)\n",
    "print(sk1%sk2)"
   ]
  },
  {
   "cell_type": "markdown",
   "metadata": {
    "id": "eqnKq7_J-P6n"
   },
   "source": [
    "### Užduotis 10\n",
    "\n",
    "Leiskite vartotojui įvesti du skaičius. Išveskite kiek gautųsi vieną skaičių pakėlus kito skaičiaus laipsniu (pvz, pirmas skaičius eina už pagrindą, o antras skaičius yra laipsnis, kuriuo ir keliame)."
   ]
  },
  {
   "cell_type": "code",
   "execution_count": 13,
   "metadata": {
    "id": "pFD0zbAM-P6o"
   },
   "outputs": [
    {
     "name": "stdout",
     "output_type": "stream",
     "text": [
      "32\n"
     ]
    }
   ],
   "source": [
    "# Kodą rašykite čia...\n",
    "sk1, sk2 = input(\"ivesti 2 skaicius per tarpa\").split()\n",
    "print(int(sk1)**int(sk2))\n"
   ]
  }
 ],
 "metadata": {
  "colab": {
   "provenance": []
  },
  "kernelspec": {
   "display_name": "Python 3",
   "language": "python",
   "name": "python3"
  },
  "language_info": {
   "codemirror_mode": {
    "name": "ipython",
    "version": 3
   },
   "file_extension": ".py",
   "mimetype": "text/x-python",
   "name": "python",
   "nbconvert_exporter": "python",
   "pygments_lexer": "ipython3",
   "version": "3.13.1"
  },
  "vscode": {
   "interpreter": {
    "hash": "aa11ca274996316222ef16f35c5f6dbeb467b694c0b2154cdf34dcf9271d5fd0"
   }
  }
 },
 "nbformat": 4,
 "nbformat_minor": 0
}
