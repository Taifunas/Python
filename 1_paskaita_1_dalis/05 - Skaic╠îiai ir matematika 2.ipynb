{
  "cells": [
    {
      "cell_type": "markdown",
      "metadata": {
        "id": "vQyNbZ4ZQzvZ"
      },
      "source": [
        "# Kitos matematinės operacijos"
      ]
    },
    {
      "attachments": {},
      "cell_type": "markdown",
      "metadata": {
        "id": "YMPVuhOnQ91l"
      },
      "source": [
        "Mes jau žinome šiuos matematinius operatorius:\n",
        "\n",
        "Operatorius\t| Pavadinimas |\tPavyzdys | Paaiškinimas\n",
        "------------|-------------|----------|-------------\n",
        "`+` | Sudėtis | `5 + 3` | Sudeda `5` ir `3`\n",
        "`-` | Atimtis | `5 - 3` | Atima `3` iš `5`\n",
        "`*` | Daugyba | `5 * 3` | Sudaugina `5` iš `3`\n",
        "`/` | Dalyba | `5 / 3` | Padalina `5` iš `3`\n",
        "`**` | Laipsnis | `5 ** 3` | Pakelia `5` laipsniu `3`\n",
        "`%` | Liekana | `5 % 3` | Liekana (ats. 2)\n",
        "`//` | Dalyba | `5 // 3` | Sveiko skaičiaus dalyba (ats. 1)  "
      ]
    },
    {
      "cell_type": "markdown",
      "metadata": {
        "id": "iVk319FqRETx"
      },
      "source": [
        "Ir žinome pagrindinę priskyrimo kintamiesiems formą:\n",
        "```\n",
        "kintamasis = reikšmė\n",
        "```\n",
        "\n"
      ]
    },
    {
      "cell_type": "markdown",
      "metadata": {
        "id": "6ESXyeToRhwd"
      },
      "source": [
        "Dažnai pasitaiko tokia situacija, kai kintamąjį reikia pakeisti. Pavyzdžiui jį padidinant, pamažinant ar kitaip pakeičiant jo reikšmę. Pavyzdžiui, norint padidinti pradinę kintamojo `kintamasis` reikšmę 5-iais, reikia daryti taip:"
      ]
    },
    {
      "cell_type": "code",
      "execution_count": 8,
      "metadata": {
        "colab": {
          "base_uri": "https://localhost:8080/"
        },
        "id": "7u_QfX8IQrv_",
        "outputId": "25615354-223c-472e-86a3-71bf2a8d5549"
      },
      "outputs": [
        {
          "name": "stdout",
          "output_type": "stream",
          "text": [
            "5\n",
            "10\n",
            "penki\n"
          ]
        }
      ],
      "source": [
        "kintamasis = 5\n",
        "print(kintamasis)\n",
        "kintamasis = kintamasis + 5\n",
        "print(kintamasis)\n",
        "kintamasis='penki'\n",
        "print(kintamasis)"
      ]
    },
    {
      "cell_type": "markdown",
      "metadata": {
        "id": "iU0-mvKHSlty"
      },
      "source": [
        "Pitone, kaip ir įvairiose kitose programavimo kalbose, tai galima padaryti efektyviau:"
      ]
    },
    {
      "cell_type": "code",
      "execution_count": 14,
      "metadata": {
        "colab": {
          "base_uri": "https://localhost:8080/"
        },
        "id": "iUCFSPLvS1vo",
        "outputId": "39232cf9-0820-43ec-bb70-6d631d64ee0b"
      },
      "outputs": [
        {
          "name": "stdout",
          "output_type": "stream",
          "text": [
            "skaicius reiksme: 0\n",
            "skaicius reiksme: 10\n",
            "skaicius reiksme: 5\n",
            "skaicius reiksme: 10\n",
            "skaicius reiksme: 5.0\n"
          ]
        }
      ],
      "source": [
        "kintamasis_2=10\n",
        "skaicius = 0\n",
        "print('skaicius reiksme:', skaicius)\n",
        "skaicius += 10\n",
        "print('skaicius reiksme:', skaicius)\n",
        "skaicius -= 5\n",
        "print('skaicius reiksme:', skaicius)\n",
        "skaicius *= 2\n",
        "print('skaicius reiksme:', skaicius)\n",
        "skaicius /= 2\n",
        "print('skaicius reiksme:', skaicius)\n",
        "\n",
        "\n"
      ]
    },
    {
      "cell_type": "markdown",
      "metadata": {
        "id": "OLObCchRS9tl"
      },
      "source": [
        "Ar pastebėjote skirtumą? Kaip matote, skirtumas yra `+=` operacija."
      ]
    },
    {
      "attachments": {},
      "cell_type": "markdown",
      "metadata": {
        "id": "9xBFar1sTKVZ"
      },
      "source": [
        "# Kiti reikšmės pakeitimo operatoriai"
      ]
    },
    {
      "cell_type": "markdown",
      "metadata": {
        "id": "nz0CnfyjTfoq"
      },
      "source": [
        "`+=` yra ne vienintelis toks reikšmės pakeitimo (šiuo atveju - padidinimo) operatorius. Yra ir eilė kitų:\n",
        "\n",
        "Priskyrimas | Atitikmuo | Paaiškinimas\n",
        "------------|-----------|----------\n",
        "`x += y` | `x = x + y` | Kintamasis `x` padidinamas `y` skaičiumi\n",
        "`x -= y` | `x = x - y` | Kintamasis `x` sumažinamas `y` skaičiumi\n",
        "`x *= y` | `x = x * y` | Kintamasis `x` padauginamas iš `y` \n",
        "`x /= y` | `x = x / y` | Kintamasis `x` padalinamas iš `y` \n",
        "`x %= y` | `x = x % y` | Kintamasis `x` padalinamas iš `y` ir paimama liekana\n",
        "`x **= y` | `x = x % y` | Kintamasis `x` pakeliamas `y` laipsniu\n",
        "\n"
      ]
    },
    {
      "cell_type": "markdown",
      "metadata": {
        "id": "SIhriuTCWf68"
      },
      "source": [
        "Panagrinėkite žemiau esantį pavyzdį ir jei kas buvo neaišku - paaiškės 😀"
      ]
    },
    {
      "cell_type": "code",
      "execution_count": null,
      "metadata": {
        "colab": {
          "base_uri": "https://localhost:8080/"
        },
        "id": "A6TCHzv_WfKk",
        "outputId": "16ea7a7e-a7b0-4b08-c93b-e083a3d1438d"
      },
      "outputs": [],
      "source": [
        "kintamasis_2=10\n",
        "skaicius = 0\n",
        "print('skaicius reiksme:', skaicius)\n",
        "skaicius += 10\n",
        "print('skaicius reiksme:', skaicius)\n",
        "skaicius -= 5\n",
        "print('skaicius reiksme:', skaicius)\n",
        "skaicius *= 2\n",
        "print('skaicius reiksme:', skaicius)\n",
        "skaicius /= 2\n",
        "print('skaicius reiksme:', skaicius)\n",
        "\n"
      ]
    },
    {
      "cell_type": "markdown",
      "metadata": {
        "id": "v7aTNWPxVyGg"
      },
      "source": [
        "Čia matėte operacijas su skaičiais. Kita vertus, ši operacija galioja ir kitiems tipams, pavyzdžiui eilutėms:"
      ]
    },
    {
      "cell_type": "code",
      "execution_count": null,
      "metadata": {
        "colab": {
          "base_uri": "https://localhost:8080/"
        },
        "id": "WBhqUQpnV7AX",
        "outputId": "a650e2be-93cb-4307-9793-ba3ed885d421"
      },
      "outputs": [],
      "source": []
    },
    {
      "attachments": {},
      "cell_type": "markdown",
      "metadata": {},
      "source": [
        "# Daugiau pavyzdžių"
      ]
    },
    {
      "cell_type": "code",
      "execution_count": 15,
      "metadata": {},
      "outputs": [
        {
          "name": "stdout",
          "output_type": "stream",
          "text": [
            "13\n",
            "-7\n",
            "30\n",
            "0.3\n",
            "0\n",
            "3\n"
          ]
        }
      ],
      "source": [
        "x = 3\n",
        "y = 10\n",
        "\n",
        "print(x+y)\n",
        "print(x-y)\n",
        "print(x*y)\n",
        "print(x/y)\n",
        "print(x//y)\n",
        "print(x%y)"
      ]
    },
    {
      "cell_type": "code",
      "execution_count": 19,
      "metadata": {},
      "outputs": [
        {
          "name": "stdout",
          "output_type": "stream",
          "text": [
            "suma: 13\n"
          ]
        }
      ],
      "source": [
        "a = 5\n",
        "b = 8\n",
        "suma = a + b\n",
        "skirtumas = a - b\n",
        "sandauga = a * b\n",
        "dalmuo = a/b\n",
        "\n",
        "print('suma:', suma)"
      ]
    },
    {
      "cell_type": "code",
      "execution_count": null,
      "metadata": {},
      "outputs": [],
      "source": []
    },
    {
      "cell_type": "code",
      "execution_count": null,
      "metadata": {},
      "outputs": [],
      "source": []
    },
    {
      "cell_type": "code",
      "execution_count": null,
      "metadata": {},
      "outputs": [],
      "source": []
    },
    {
      "cell_type": "code",
      "execution_count": null,
      "metadata": {},
      "outputs": [],
      "source": []
    },
    {
      "cell_type": "code",
      "execution_count": null,
      "metadata": {},
      "outputs": [],
      "source": []
    },
    {
      "cell_type": "code",
      "execution_count": null,
      "metadata": {},
      "outputs": [],
      "source": []
    },
    {
      "cell_type": "code",
      "execution_count": null,
      "metadata": {},
      "outputs": [],
      "source": []
    },
    {
      "cell_type": "code",
      "execution_count": null,
      "metadata": {},
      "outputs": [],
      "source": []
    },
    {
      "attachments": {},
      "cell_type": "markdown",
      "metadata": {
        "id": "SzDBjd_LdNgD"
      },
      "source": [
        "# Užduotys"
      ]
    },
    {
      "attachments": {},
      "cell_type": "markdown",
      "metadata": {
        "id": "hcO7u0vidQzN"
      },
      "source": [
        "## Užduotis 1"
      ]
    },
    {
      "cell_type": "markdown",
      "metadata": {
        "id": "FloWp3HidVWh"
      },
      "source": [
        "Duotas pradinis kodas. Pakeiskite `?` taip, kad rezultatas būtų `125`."
      ]
    },
    {
      "cell_type": "code",
      "execution_count": 5,
      "metadata": {
        "colab": {
          "base_uri": "https://localhost:8080/"
        },
        "id": "vdSiSWtJdtLu",
        "outputId": "25a369d4-bd9a-4ced-ebea-f15920a6e6d6"
      },
      "outputs": [
        {
          "name": "stdout",
          "output_type": "stream",
          "text": [
            "1\n"
          ]
        }
      ],
      "source": [
        "rezultatas = 5\n",
        "rezultatas *= 2\n",
        "rezultatas **= 5\n",
        "rezultatas %= 3\n",
        "print(rezultatas)"
      ]
    },
    {
      "cell_type": "code",
      "execution_count": 1,
      "metadata": {},
      "outputs": [
        {
          "name": "stdout",
          "output_type": "stream",
          "text": [
            "125\n"
          ]
        }
      ],
      "source": []
    },
    {
      "attachments": {},
      "cell_type": "markdown",
      "metadata": {},
      "source": [
        "## Užduotis 2\n",
        "\n",
        "Susikurkite du kintamuosius skaičiams saugoti. Į juos įrašykite norimus skaičius. Susikurkite trečiąjį kintamąjį, kurio reikšmė būtų pirmų dviejų kintamųjų suma. Visus kintamuosius išveskite."
      ]
    },
    {
      "cell_type": "code",
      "execution_count": 22,
      "metadata": {},
      "outputs": [
        {
          "name": "stdout",
          "output_type": "stream",
          "text": [
            "6\n"
          ]
        }
      ],
      "source": [
        "# rašykite kodą čia\n",
        "skaicius1 = 2\n",
        "skaicius2 = 4\n",
        "suma = skaicius1 + skaicius2\n",
        "print(suma)"
      ]
    },
    {
      "attachments": {},
      "cell_type": "markdown",
      "metadata": {},
      "source": [
        "## Užduotis 3\n",
        "\n",
        "Susikurkite tris kintamuosius skaičiams saugoti. Į juos įrašykite norimus skaičius. Raskite šių skaičių suma, skirtumą, sandaugą ir dalmenį. Atsakymus išveskite kartu su atliekamu veiksmu (pvz 8 + 2 + 4 = 14)."
      ]
    },
    {
      "cell_type": "code",
      "execution_count": 25,
      "metadata": {},
      "outputs": [
        {
          "name": "stdout",
          "output_type": "stream",
          "text": [
            "12\n",
            "48\n",
            "0.08333333333333333\n"
          ]
        }
      ],
      "source": [
        "# rašykite kodą čia\n",
        "skaicius1 = 2\n",
        "skaicius2 = 4\n",
        "skaicius3 = 6\n",
        "suma = skaicius1 + skaicius2 + skaicius3\n",
        "sandauga = skaicius1 * skaicius2 * skaicius3\n",
        "dalmuo = skaicius1 / skaicius2 / skaicius3\n",
        "\n",
        "print(suma)\n",
        "print(sandauga)\n",
        "print(dalmuo)\n"
      ]
    },
    {
      "attachments": {},
      "cell_type": "markdown",
      "metadata": {},
      "source": [
        "## Užduotis 4\n",
        "\n",
        "Susikurkite du kintamuosius skaičiams saugoti. Į juos įrašykite norimus skaičius. Pirmąjį kintamąjį padidinkite 5-iais. Antrajį padidinkite 2 kartus. Išveskite visus atsakymus (pradines reikšmes ir pakeistas reikšmes)."
      ]
    },
    {
      "cell_type": "code",
      "execution_count": 26,
      "metadata": {},
      "outputs": [
        {
          "name": "stdout",
          "output_type": "stream",
          "text": [
            "7\n",
            "8\n"
          ]
        }
      ],
      "source": [
        "# rašykite kodą čia\n",
        "skaicius1 = 2\n",
        "skaicius2 = 4\n",
        "skaicius_padidintas = skaicius1 + 5\n",
        "skaicius_padaugintas = skaicius2 * 2\n",
        "\n",
        "print(skaicius_padidintas)\n",
        "print(skaicius_padaugintas)\n"
      ]
    }
  ],
  "metadata": {
    "colab": {
      "provenance": []
    },
    "kernelspec": {
      "display_name": "Python 3",
      "language": "python",
      "name": "python3"
    },
    "language_info": {
      "codemirror_mode": {
        "name": "ipython",
        "version": 3
      },
      "file_extension": ".py",
      "mimetype": "text/x-python",
      "name": "python",
      "nbconvert_exporter": "python",
      "pygments_lexer": "ipython3",
      "version": "3.13.1"
    },
    "vscode": {
      "interpreter": {
        "hash": "aa11ca274996316222ef16f35c5f6dbeb467b694c0b2154cdf34dcf9271d5fd0"
      }
    }
  },
  "nbformat": 4,
  "nbformat_minor": 0
}
