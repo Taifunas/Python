{
  "cells": [
    {
      "cell_type": "markdown",
      "metadata": {
        "id": "tryOIkqN4dV3"
      },
      "source": [
        "# Išvedimo formatavimas"
      ]
    },
    {
      "cell_type": "markdown",
      "metadata": {
        "id": "RNypakjB4hM4"
      },
      "source": [
        "Dažnai reikia suskaičiuoti įvairias reikšmes, jas apjungti ir gražiai išvesti. Panagrinėkime kelias galimybes tai padaryti."
      ]
    },
    {
      "cell_type": "markdown",
      "metadata": {
        "id": "wUmsNqiC5SwX"
      },
      "source": [
        "Jei naudosime funkciją `print()` ir kintamuosius atskirsime kableliu, tuomet Pitonas pats sudarys eilutę išvedimui:"
      ]
    },
    {
      "cell_type": "code",
      "execution_count": 3,
      "metadata": {
        "colab": {
          "base_uri": "https://localhost:8080/"
        },
        "id": "QhshRVW84J6h",
        "outputId": "7943631a-cf60-426c-a6d7-27de9196c0f1"
      },
      "outputs": [
        {
          "name": "stdout",
          "output_type": "stream",
          "text": [
            "medis berzas kurio rusis yra Lapuotis ir amzius yra 45 turi rieviu: 45\n",
            "('medis', 'berzas', 'kurio rusis yra', 'Lapuotis', 'ir amzius yra', '45', 'turi rieviu:', 45)\n"
          ]
        }
      ],
      "source": [
        "medis = 'berzas'\n",
        "amzius = '45'\n",
        "rieviu_skaicius = 45\n",
        "rusis = 'Lapuotis'\n",
        "\n",
        "print('medis', medis, 'kurio rusis yra', rusis, 'ir amzius yra', amzius,'turi rieviu:', rieviu_skaicius)\n",
        "\n",
        "sakinys = 'medis', medis, 'kurio rusis yra', rusis, 'ir amzius yra', amzius,'turi rieviu:', rieviu_skaicius\n",
        "\n",
        "print(sakinys)"
      ]
    },
    {
      "cell_type": "markdown",
      "metadata": {
        "id": "6wvFM5vi5go3"
      },
      "source": [
        "Eilutes galima sujungti prieš išvedant. Tai vienas dažniausiai naudojamų būdų. Tiesa, sujungiant eilutes reikia konvertuoti kitų tipų kintamuosius į eilutės tipą. Tam naudojama funkcija `str()`."
      ]
    },
    {
      "cell_type": "code",
      "execution_count": 5,
      "metadata": {
        "colab": {
          "base_uri": "https://localhost:8080/"
        },
        "id": "UpMek1-e_dxW",
        "outputId": "1e51ca31-c1bf-4a7c-9051-93e5f068c523"
      },
      "outputs": [
        {
          "name": "stdout",
          "output_type": "stream",
          "text": [
            "medisberzaskurio rusis yraLapuotisir amzius yra45turi rieviu:45\n"
          ]
        }
      ],
      "source": [
        "sakinys = 'medis' + medis + 'kurio rusis yra' + rusis + 'ir amzius yra' + str(amzius) + 'turi rieviu:' + str(rieviu_skaicius)\n",
        "print(sakinys)"
      ]
    },
    {
      "cell_type": "markdown",
      "metadata": {
        "id": "xeCjYTxiBZTr"
      },
      "source": [
        "Jei norime išvengti tipų konvertavimo, formuoti tekstinę eilutę galime pasinaudojant `%` formatavimo operaciją. Šis būdas nerekomenduojamas paties Pitono, bet galite pažiūrėti kaip jis atrodo:"
      ]
    },
    {
      "cell_type": "code",
      "execution_count": 6,
      "metadata": {
        "colab": {
          "base_uri": "https://localhost:8080/"
        },
        "id": "xny2Zzr8B92_",
        "outputId": "faf538bc-91d5-4b1f-f725-7788c1c34416"
      },
      "outputs": [
        {
          "name": "stdout",
          "output_type": "stream",
          "text": [
            "Medis berzas, kurio rusis yra Lapuotis, turi rieciu: 45 ir amzius yra 45\n"
          ]
        }
      ],
      "source": [
        "print('Medis %s, kurio rusis yra %s, turi rieciu: %s ir amzius yra %s' %(medis, rusis, amzius, rieviu_skaicius))"
      ]
    },
    {
      "cell_type": "markdown",
      "metadata": {
        "id": "xmVXp63GC-7r"
      },
      "source": [
        "Šiek tiek geresnis būdas yra `format` naudojimas:"
      ]
    },
    {
      "cell_type": "code",
      "execution_count": 9,
      "metadata": {
        "colab": {
          "base_uri": "https://localhost:8080/"
        },
        "id": "n7AdgkrdDMmJ",
        "outputId": "e2f2bd89-8044-4c87-9dac-a04151b7c6a7"
      },
      "outputs": [
        {
          "name": "stdout",
          "output_type": "stream",
          "text": [
            "Medis berzas, kurio rusis yra Lapuotis, turi rieciu: 45 ir amzius yra 45\n"
          ]
        }
      ],
      "source": [
        "print('Medis {0}, kurio rusis yra {1}, turi rieciu: {2} ir amzius yra {3}'.format(medis, rusis, amzius, rieviu_skaicius))"
      ]
    },
    {
      "cell_type": "code",
      "execution_count": null,
      "metadata": {
        "id": "SNARIQTUAdfv"
      },
      "outputs": [],
      "source": [
        "Naujesniame Pitone (nuo 3.6 versijos) atsirado dar patogesnis ir geresnis būdas formatuoti išvedamą tekstą. Tam naudojamos taip vadinamos f-eilutės (`f\"\"` arba `f''`). Šios f-eilutės yra atsparesnės klaidoms ir greitesnės nei `%` ar `format` būdai. Naudokite jas.\n"
      ]
    },
    {
      "cell_type": "code",
      "execution_count": 10,
      "metadata": {
        "colab": {
          "base_uri": "https://localhost:8080/"
        },
        "id": "mozGEPQyA_Ot",
        "outputId": "d7d2e75a-35e8-401f-b558-6cf16d631034"
      },
      "outputs": [
        {
          "name": "stdout",
          "output_type": "stream",
          "text": [
            "Medis berzas, kurio rusis yra Lapuotis, turi rieviu: 45 ir amzius yra 45\n"
          ]
        }
      ],
      "source": [
        "print(f'Medis {medis}, kurio rusis yra {rusis}, turi rieviu: {rieviu_skaicius} ir amzius yra {amzius}')"
      ]
    },
    {
      "cell_type": "markdown",
      "metadata": {
        "id": "patt7v5lL_Ac"
      },
      "source": [
        "Ir pabaigai, jei reiktų formatuoti daugelio eilučių tekstą, darykite taip:"
      ]
    },
    {
      "cell_type": "code",
      "execution_count": 15,
      "metadata": {
        "colab": {
          "base_uri": "https://localhost:8080/"
        },
        "id": "A4eG9wdMMEXy",
        "outputId": "ad602157-5102-4f89-a315-aff437d083c4"
      },
      "outputs": [
        {
          "ename": "SyntaxError",
          "evalue": "unterminated string literal (detected at line 7) (965138327.py, line 7)",
          "output_type": "error",
          "traceback": [
            "\u001b[1;36m  Cell \u001b[1;32mIn[15], line 7\u001b[1;36m\u001b[0m\n\u001b[1;33m    \"\"\"\"\u001b[0m\n\u001b[1;37m       ^\u001b[0m\n\u001b[1;31mSyntaxError\u001b[0m\u001b[1;31m:\u001b[0m unterminated string literal (detected at line 7)\n"
          ]
        }
      ],
      "source": [
        "sakinys = .f\"\"\"\"\n",
        "{medis}\n",
        "{rusis}\n",
        "{rieviu_skaicius}\n",
        "efefefefef\n",
        "{amzius}\n",
        "\"\"\"\""
      ]
    },
    {
      "cell_type": "markdown",
      "metadata": {
        "id": "6KnDfQ3fMmNR"
      },
      "source": [
        "## Užduotys"
      ]
    },
    {
      "cell_type": "markdown",
      "metadata": {
        "id": "axLuRXqlMsAR"
      },
      "source": [
        "## Užduotis 1"
      ]
    },
    {
      "cell_type": "markdown",
      "metadata": {
        "id": "LQVws38XMvF9"
      },
      "source": [
        "Duotas pradinis kodas. Suformatuokite eilutę taip, kad būtų išvedamas toks tekstas:\n",
        "```\n",
        "Vardenis Pavardenis (22 m.) mokosi 3-iame kurse, jo vidurkis yra 8.7\n",
        "```\n"
      ]
    },
    {
      "cell_type": "code",
      "execution_count": 26,
      "metadata": {
        "id": "wasDoufDNMbc"
      },
      "outputs": [
        {
          "name": "stdout",
          "output_type": "stream",
          "text": [
            "Vardenis Pavardenis, (22 m.) mokosi 3-iame kurse, jo vidurkis yra 8.7\n",
            "VardenisPavardenis(22m.) mokosi3-iame, jo vidurkis yra8.7\n"
          ]
        }
      ],
      "source": [
        "vardas = 'Vardenis'\n",
        "pavarde = 'Pavardenis'\n",
        "amzius = 22\n",
        "kursas = 3\n",
        "vidurkis = 8.7\n",
        "\n",
        "# šioje vietoje suformuokite eilutę: eilute = ...\n",
        "eilute = vardas + pavarde + \"(\" + str(amzius) +  \"m.) mokosi\" + str(kursas) + \"-iame, jo vidurkis yra\" + str(vidurkis)\n",
        "print(eilute)\n",
        "\n",
        "print('%s %s, (%s m.) mokosi %s-iame kurse, jo vidurkis yra %s' %(vardas, pavarde, amzius, kursas, vidurkis))"
      ]
    },
    {
      "cell_type": "markdown",
      "metadata": {
        "id": "BIYRCKJaN9Ak"
      },
      "source": [
        "## Užduotis 2"
      ]
    },
    {
      "cell_type": "markdown",
      "metadata": {
        "id": "0ZpaFj-rONrB"
      },
      "source": [
        "Duotas pradinis kodas. Suformatuokite eilutę taip, kad būtų išvedamas toks tekstas:\n",
        "```\n",
        "Mano batai buvo 2\n",
        "1 dingo - nerandu.\n",
        "Aš su 1 batuku,\n",
        "Niekur eiti negaliu.\n",
        "```\n",
        "Formatavimui panaudokite daugelio eilučių f-eilutę ir kode duotus kintamuosius."
      ]
    },
    {
      "cell_type": "code",
      "execution_count": null,
      "metadata": {
        "id": "DQRiAWKEOARE"
      },
      "outputs": [],
      "source": [
        "vienas = 1\n",
        "du = 2\n",
        "\n",
        "# šioje vietoje suformuokite eilutę: eilute = ...\n",
        "\n",
        "print(eilute)"
      ]
    },
    {
      "attachments": {},
      "cell_type": "markdown",
      "metadata": {},
      "source": [
        "## Užduotis 3\n",
        "\n",
        "Išveskite 3x3 dydžio tuščiavidurį kvadratą iš * simbolio. Galutinio rezultato pavyzdys:\n",
        "\n",
        "```\n",
        "***\n",
        "* *\n",
        "***\n",
        "```"
      ]
    },
    {
      "cell_type": "code",
      "execution_count": null,
      "metadata": {},
      "outputs": [],
      "source": [
        "# Kodą rašykite čia..."
      ]
    },
    {
      "attachments": {},
      "cell_type": "markdown",
      "metadata": {},
      "source": [
        "## Užduotis 4\n",
        "\n",
        "Susikurkite šiuos kintamuosius, saugančius informaciją apie gyvūną: pavadinimas, amžius, kailio spalva, svoris. Išveskite šiuos duomenis gražiai suformatuotus vienoje eilutėje, sakinio forma. Pavyzdžiui:\n",
        "\n",
        "```\n",
        "Gyvūnas - šuo (2 m.) turi rudą kailio spalvą ir sveria 1.4 kg.\n",
        "```"
      ]
    },
    {
      "cell_type": "code",
      "execution_count": null,
      "metadata": {},
      "outputs": [],
      "source": [
        "# Kodą rašykite čia..."
      ]
    },
    {
      "attachments": {},
      "cell_type": "markdown",
      "metadata": {},
      "source": [
        "## Užduotis 5\n",
        "\n",
        "Susikurkite skaičiaus kintamąjį, kurį išveskite penkis kartus toje pačioje eilutėje be tarpų tarp šių skaičių. Pavyzdžiui:\n",
        "skaičius - `25`, išvedimas - `2525252525`"
      ]
    },
    {
      "cell_type": "code",
      "execution_count": null,
      "metadata": {},
      "outputs": [],
      "source": [
        "# Kodą rašykite čia..."
      ]
    },
    {
      "attachments": {},
      "cell_type": "markdown",
      "metadata": {},
      "source": [
        "## Užduotis 6\n",
        "\n",
        "Susikurkite skaičiaus kintamąjį, kurį išveskite penkis kartus toje pačioje eilutėje su tarpais tarp šių skaičių. Pavyzdžiui:\n",
        "skaičius - `25`, rezultatas - `25 25 25 25 25`"
      ]
    },
    {
      "cell_type": "code",
      "execution_count": 2,
      "metadata": {},
      "outputs": [
        {
          "ename": "SyntaxError",
          "evalue": "unexpected character after line continuation character (882229338.py, line 3)",
          "output_type": "error",
          "traceback": [
            "\u001b[1;36m  Cell \u001b[1;32mIn[2], line 3\u001b[1;36m\u001b[0m\n\u001b[1;33m    print((skaicius + \\n)*5)\u001b[0m\n\u001b[1;37m                       ^\u001b[0m\n\u001b[1;31mSyntaxError\u001b[0m\u001b[1;31m:\u001b[0m unexpected character after line continuation character\n"
          ]
        }
      ],
      "source": [
        "# Kodą rašykite čia...\n",
        "skaicius = 25\n",
        "print((skaicius + "
      ]
    }
  ],
  "metadata": {
    "colab": {
      "provenance": []
    },
    "kernelspec": {
      "display_name": "Python 3",
      "language": "python",
      "name": "python3"
    },
    "language_info": {
      "codemirror_mode": {
        "name": "ipython",
        "version": 3
      },
      "file_extension": ".py",
      "mimetype": "text/x-python",
      "name": "python",
      "nbconvert_exporter": "python",
      "pygments_lexer": "ipython3",
      "version": "3.13.1"
    },
    "vscode": {
      "interpreter": {
        "hash": "aa11ca274996316222ef16f35c5f6dbeb467b694c0b2154cdf34dcf9271d5fd0"
      }
    }
  },
  "nbformat": 4,
  "nbformat_minor": 0
}
