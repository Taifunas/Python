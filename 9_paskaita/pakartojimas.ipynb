{
 "cells": [
  {
   "cell_type": "markdown",
   "metadata": {},
   "source": [
    "# Teorijos pakartojimas"
   ]
  },
  {
   "cell_type": "markdown",
   "metadata": {},
   "source": [
    "## 1 Užduotis\n",
    "\n",
    "Tu esi programos, kuri padeda parduoti bilietus į koncertą, kūrėjas. Programa turi paprašyti vartotojo įvesti:\n",
    "\t•\tsavo vardą,\n",
    "\t•\tkiek bilietų jis nori įsigyti,\n",
    "\t•\tbilieto kainą.\n",
    "\n",
    "Programa turi gražiai atvaizduoti informaciją, pvz.:\n",
    "\n",
    "Sveiki, Vardas!\n",
    "Jūsų užsakymas: 3 bilietai po 12.50 €.\n",
    "Bendra suma: 37.50 €.\n",
    "Smagaus koncerto!\n"
   ]
  },
  {
   "cell_type": "code",
   "execution_count": null,
   "metadata": {},
   "outputs": [
    {
     "name": "stdout",
     "output_type": "stream",
     "text": [
      "Sveiki, Mantas!\n",
      "Jūsų užsakymas: 3 bilietai po 10 €.\n",
      "Bendra suma: 30 €.\n",
      "Smagaus koncerto!\n"
     ]
    }
   ],
   "source": [
    "vardas=input('Iveskite varda: ')\n",
    "bilietai=int(input('Iveskite bilietu skaiciu: '))\n",
    "kaina=int(input('Iveskite bilietu kaina: '))\n",
    "suma=bilietai*kaina\n",
    "print(f'Sveiki, {vardas}!\\nJūsų užsakymas: {bilietai} bilietai po {kaina} €.\\nBendra suma: {suma} €.\\nSmagaus koncerto!')"
   ]
  },
  {
   "cell_type": "markdown",
   "metadata": {},
   "source": [
    "## 2 Užduotis\n",
    "Įsivaizduok, jog dirbi kelionių agentūroje. Tu kuri interaktyvią programą, kuri prašo vartotojo įvesti:\n",
    "-\tsavo vardą,\n",
    "-\tkiek metų jam/jai,\n",
    "-\tšalį, kurioje žmogus planuoja keliauti,\n",
    "-\tKelionės biudžetą.\n",
    "\n",
    "Programa tada sugeneruoja pranešimą:\n",
    "\n",
    "Malonu, kad renkatės keliauti su mumis, {Vardas}! Mūsų vadybininkai yra informuoti ir susisieks su Jumis, kai suras kelionę į {šalis} iki {kaina} eur.\n",
    "\n",
    "Papildomi reikalavimai: \n",
    "\n",
    "- ✅ reikia patikrinti, kad visos reikšmės būtų įvedamos, o skaičiai (metai ir biudžetas) būtų būtent int tipo\n",
    "\n",
    "\n"
   ]
  },
  {
   "cell_type": "code",
   "execution_count": 16,
   "metadata": {},
   "outputs": [
    {
     "name": "stdout",
     "output_type": "stream",
     "text": [
      "Ivedete ne skaiciu!\n",
      "Ivedete ne skaiciu!\n",
      "Malonu, kad renkatės keliauti su mumis, mantas! Mūsų vadybininkai yra informuoti ir susisieks su Jumis, kai suras kelionę į albanija iki 100 eur.\n"
     ]
    }
   ],
   "source": [
    "vardas=input('Iveskite savo varda')\n",
    "salis=input('iveskite sali i kuria keliausite')\n",
    "\n",
    "while True:\n",
    "    try:\n",
    "        metai = int(input('iveskite savo amziu metais'))\n",
    "        break\n",
    "    except ValueError:\n",
    "        print(\"Ivedete ne skaiciu!\")\n",
    "\n",
    "while True:\n",
    "    try:\n",
    "        biudzetas = int(input('iveskite savo biudzeta'))\n",
    "        break\n",
    "    except ValueError:\n",
    "        print(\"Ivedete ne skaiciu!\")\n",
    "\n",
    "print(f'Malonu, kad renkatės keliauti su mumis, {vardas}! Mūsų vadybininkai yra informuoti ir susisieks su Jumis, kai suras kelionę į {salis} iki {biudzetas} eur.')"
   ]
  },
  {
   "cell_type": "markdown",
   "metadata": {},
   "source": [
    "## 3 Užduotis\n",
    "\n",
    "Parašyk programą, kuri sugeneruoja atsitiktinį skaičių nuo 1 iki 100 ir leidžia vartotojui jį atspėti.\n",
    "\n",
    "- Po kiekvieno spėjimo programa pasako, ar skaičius per didelis, ar per mažas.\n",
    "- Jei vartotojas įveda ne skaičių, programa turi išmesti klaidos pranešimą ir leisti bandyti dar kartą.\n",
    "- Kai skaičius atspėjamas, programa turi pasveikinti vartotoją ir parodyti, kiek bandymų jam prireikė.\n",
    "\n",
    "Pavyzdys: \n",
    "\n",
    "- Atspėk skaičių nuo 1 iki 100: 50  \n",
    "- Per mažas! Bandyk dar kartą.  \n",
    "- Atspėk skaičių nuo 1 iki 100: 75  \n",
    "- Per didelis! Bandyk dar kartą.  \n",
    "- Atspėk skaičių nuo 1 iki 100: 63  \n",
    "- Sveikiname! Teisingas atsakymas – 63. Bandymų skaičius: 3\n",
    "\n",
    "Reikalavimai: \n",
    "\n",
    "\n",
    "- ✅ Naudoti random.randint() skaičiaus generavimui.\n",
    "- ✅ Naudoti while ciklą, kad vartotojas galėtų bandyti kelis kartus.\n",
    "- ✅ Naudoti try-except, kad būtų išvengtos klaidos įvedant neteisingus duomenis."
   ]
  },
  {
   "cell_type": "code",
   "execution_count": 49,
   "metadata": {},
   "outputs": [
    {
     "name": "stdout",
     "output_type": "stream",
     "text": [
      "Per mazas! Bandyk dar karta!\n",
      "Per mazas! Bandyk dar karta!\n",
      "Iveskite skaiciu!\n",
      "Per mazas! Bandyk dar karta!\n",
      "Per mazas! Bandyk dar karta!\n",
      "Per didelis! Bandyk dar karta!\n",
      "Per didelis! Bandyk dar karta!\n",
      "Per mazas! Bandyk dar karta!\n",
      "Per mazas! Bandyk dar karta!\n",
      "sveikiname! Tesiingas atsakymas - 77. Bandymu skaicius: 9\n"
     ]
    }
   ],
   "source": [
    "from random import randint\n",
    "\n",
    "random_number=randint(1,100)\n",
    "bandymas=0\n",
    "\n",
    "while True:\n",
    "    try:\n",
    "        spejimas=int(input('atspekite skaiciu nuo 1 iki 100: '))\n",
    "        bandymas+=1\n",
    "        if spejimas > random_number:\n",
    "            print('Per didelis! Bandyk dar karta!')\n",
    "        elif spejimas < random_number:\n",
    "            print('Per mazas! Bandyk dar karta!')\n",
    "        else:\n",
    "            print(f'sveikiname! Tesiingas atsakymas - {random_number}. Bandymu skaicius: {bandymas}')\n",
    "            break\n",
    "    except ValueError:\n",
    "        print('Iveskite skaiciu!')"
   ]
  },
  {
   "cell_type": "markdown",
   "metadata": {},
   "source": [
    "## 4 užduotis\n",
    "\n",
    "Įsivaizduok, kad turi daug pinigų ir nori juos išdalinti vaikams. Programa turi:\n",
    "- Paprašyti vartotojo įvesti, kiek turi pinigų.\n",
    "- Paprašyti įvesti, kiek yra vaikų.\n",
    "- Paskaičiuoti, kiek pinigų kiekvienas vaikas gaus ir kiek liks nepaskirstytų (galima dalinti tik po sveikąjį skaičių).\n",
    "\n",
    "Pavyzdžiui: \n",
    "\n",
    "- Įveskite saldainių skaičių: 25  \n",
    "- Įveskite vaikų skaičių: 4  \n",
    "- Kiekvienas vaikas gaus po 6 saldainius.  \n",
    "- Liks 1 saldainis.\n",
    "\n",
    "Reikalavimai:\n",
    "\n",
    "- ✅ Naudoti // ir % operacijas, kad padalintų saldainius ir rastų likutį.\n",
    "- ✅ Naudoti try-except, kad išvengtų dalybos iš nulio klaidos.\n",
    "- ✅ Užtikrinti, kad programa neveiktų su neigiamais skaičiais."
   ]
  },
  {
   "cell_type": "code",
   "execution_count": null,
   "metadata": {},
   "outputs": [
    {
     "name": "stdout",
     "output_type": "stream",
     "text": [
      "Kiekvienas vaikas gaus po 16 saldainiu.\n",
      "Liks 2 saldainiu.\n"
     ]
    }
   ],
   "source": [
    "try:\n",
    "    saldainiai = int(input(\"Iveskite, kiek turite saldainiu: \"))\n",
    "    vaikai = int(input(\"Iveskite, kiek yra vaiku: \"))\n",
    "\n",
    "    if saldainiai < 0 or vaikai < 0:\n",
    "        print(\"Pinigu ir vaiku skaicius negali buti neigiamas!\")\n",
    "    elif vaikai == 0:\n",
    "        print(\"nera kam duoti saldainiu!\")\n",
    "    else:\n",
    "        kiekvienam = saldainiai // vaikai\n",
    "        likutis = saldainiai % vaikai\n",
    "\n",
    "        print(f\"Kiekvienas vaikas gaus po {kiekvienam} saldainiu.\")\n",
    "        print(f\"Liks {likutis} saldainiu.\")\n",
    "except ValueError:\n",
    "    print(\"Iveskite sveikuosius skaicius!\")\n"
   ]
  },
  {
   "cell_type": "markdown",
   "metadata": {},
   "source": [
    "## 5 Užduotis\n",
    "\n",
    "Sukurk programą, kuri padės vartotojui įsivertinti savo fizinę būklę pagal kūno masės indeksą (KMI). Programa turėtų:\n",
    "-\tPaprašyti vartotojo įvesti savo ūgį (metrais) ir svorį (kilogramais).\n",
    "-\tApskaičiuoti KMI pagal formulę:\n",
    "\n",
    "KMI = svoris/ūgis(metrais)^2\n",
    "\n",
    "Remiantis KMI reikšme, programa turi pateikti rekomendaciją:\n",
    "- KMI < 18.5 – „Jūs esate per liesas. Rekomenduojama pasitarti su specialistu dėl svorio padidinimo.“\n",
    "- 18.5 ≤ KMI ≤ 24.9 – „Jūsų svoris normalus. Puiki forma!“\n",
    "- 25 ≤ KMI ≤ 29.9 – „Turite antsvorio. Gal verta daugiau pajudėti?“\n",
    "- KMI ≥ 30 – „Jūs turite nutukimą. Rekomenduojama daugiau fizinio aktyvumo ir sveikesnė mityba.“\n",
    "\n",
    "Reikalavimai:\n",
    "- ✅ Naudoti try-except, kad būtų išvengta klaidų, jei vartotojas įveda netinkamus duomenis.\n",
    "- ✅ Užtikrinti, kad vartotojas negalėtų įvesti neigiamų reikšmių.\n",
    "- ✅ Apvalinti KMI iki dviejų skaičių po kablelio."
   ]
  },
  {
   "cell_type": "code",
   "execution_count": 52,
   "metadata": {},
   "outputs": [
    {
     "name": "stdout",
     "output_type": "stream",
     "text": [
      "Jusu KMI: 29.8\n",
      "Turite antsvorio. Gal verta daugiau pajudėti?\n"
     ]
    }
   ],
   "source": [
    "try:\n",
    "    ugis = float(input(\"Iveskite savo ugi (metrais): \"))\n",
    "    svoris = float(input(\"Iveskite savo svori (kilogramais): \"))\n",
    "\n",
    "    if ugis <= 0 or svoris <= 0:\n",
    "        print(\"Ugis ir svoris turi būti teigiami skaiciai!\")\n",
    "    else:\n",
    "        kmi = round(svoris / (ugis ** 2), 2)\n",
    "\n",
    "        print(f\"Jusu KMI: {kmi}\")\n",
    "\n",
    "        if kmi < 18.5:\n",
    "            print(\"Js esate per liesas. Rekomenduojama pasitarti su specialistu dėl svorio padidinimo.\")\n",
    "        elif 18.5 <= kmi <= 24.9:\n",
    "            print(\"Jūsų svoris normalus. Puiki forma!\")\n",
    "        elif 25 <= kmi <= 29.9:\n",
    "            print(\"Turite antsvorio. Gal verta daugiau pajudėti?\")\n",
    "        else:\n",
    "            print(\"Jūs turite nutukimą. Rekomenduojama daugiau fizinio aktyvumo ir sveikesnė mityba.\")\n",
    "except ValueError:\n",
    "    print(\"Bloga ivestis\")\n"
   ]
  },
  {
   "cell_type": "markdown",
   "metadata": {},
   "source": [
    "## 6 Užduotis\n",
    "\n",
    "Įsivaizduok, kad programuojame kasos sistemą, kuri pritaiko nuolaidas priklausomai nuo pirkinio sumos:\n",
    "- Jei suma mažesnė nei 20€ → nėra nuolaidos.\n",
    "- Jei suma tarp 20€ ir 50€ → taikoma 5% nuolaida.\n",
    "- Jei suma tarp 50€ ir 100€ → taikoma 10% nuolaida.\n",
    "- Jei suma viršija 100€ → taikoma 15% nuolaida.\n",
    "\n",
    "Programa turėtų:\n",
    "- Paprašyti vartotojo įvesti pirkinių sumą.\n",
    "- Apskaičiuoti nuolaidą ir galutinę kainą.\n",
    "- Išvesti informaciją tokiu formatu:\n",
    "\n",
    "Jūsų pirkiniai kainuoja: 75.00 € <br />\n",
    "Jums taikoma 10% nuolaida (-7.50 €) <br />\n",
    "Galutinė suma po nuolaidos: 67.50 € <br />\n",
    "Ačiū, kad perkate pas mus! <br />"
   ]
  },
  {
   "cell_type": "code",
   "execution_count": 54,
   "metadata": {},
   "outputs": [
    {
     "name": "stdout",
     "output_type": "stream",
     "text": [
      "Jūsų pirkiniai kainuoja: 44.00 €\n",
      "Jums taikoma 5% nuolaida (-2.20 €)\n",
      "Galutinė suma po nuolaidos: 41.80 €\n",
      "Ačiū, kad perkate pas mus!\n"
     ]
    }
   ],
   "source": [
    "try:\n",
    "    suma = float(input(\"Iveskite pirkiniu suma €: \"))\n",
    "\n",
    "    if suma < 0:\n",
    "        print(\"Suma negali buti neigiama!\")\n",
    "    else:\n",
    "        if suma < 20:\n",
    "            nuolaida_procentais = 0\n",
    "        elif 20 <= suma < 50:\n",
    "            nuolaida_procentais = 5\n",
    "        elif 50 <= suma < 100:\n",
    "            nuolaida_procentais = 10\n",
    "        else:\n",
    "            nuolaida_procentais = 15\n",
    "\n",
    "        nuolaida = round(suma * nuolaida_procentais / 100, 2)\n",
    "        galutine_suma = round(suma - nuolaida, 2)\n",
    "\n",
    "        print(f\"Jūsų pirkiniai kainuoja: {suma:.2f} €\")\n",
    "        print(f\"Jums taikoma {nuolaida_procentais}% nuolaida (-{nuolaida:.2f} €)\")\n",
    "        print(f\"Galutinė suma po nuolaidos: {galutine_suma:.2f} €\")\n",
    "        print(\"Ačiū, kad perkate pas mus!\")\n",
    "except ValueError:\n",
    "    print(\"Iveskite suma skaiciais!\")\n"
   ]
  },
  {
   "cell_type": "markdown",
   "metadata": {},
   "source": [
    "## 7 Užduotis\n",
    "\n",
    "Tu kuri programą, kuri leidžia mokyklai sudaryti unikalų mokinių sąrašą, kad nebūtų pasikartojančių vardų.\n",
    "- Vartotojas įveda mokinių vardus po vieną.\n",
    "- Jei vardas jau buvo įvestas, programa išmeta pranešimą ir neleis jo pakartoti.\n",
    "- Kai vartotojas įveda „baigti“, programa išveda galutinį unikalių vardų sąrašą.\n",
    "\n",
    "Pvz.:\n",
    "\n",
    "- Įveskite mokinio vardą: Jonas  \n",
    "- Įveskite mokinio vardą: Marius  \n",
    "- Įveskite mokinio vardą: Jonas  \n",
    "- Šis vardas jau įvestas! Bandykite dar kartą.  \n",
    "- Įveskite mokinio vardą: Laura  \n",
    "- Įveskite mokinio vardą: baigti  \n",
    "\n",
    "- Unikalūs vardai klasėje: Jonas, Marius, Laura  \n",
    "\n",
    "Reikalavimai: \n",
    "\n",
    "- ✅ Naudoti set() arba if vardo not in sarasas, kad išvengtum pasikartojimų.\n",
    "- ✅ Užtikrinti, kad vardai būtų įrašomi taisyklingai (pvz., „jonas“ ir „Jonas“ laikomi tais pačiais vardais).\n",
    "- ✅ Gražiai išvesti vardų sąrašą, atskiriant juos kableliais."
   ]
  },
  {
   "cell_type": "code",
   "execution_count": 1,
   "metadata": {},
   "outputs": [
    {
     "name": "stdout",
     "output_type": "stream",
     "text": [
      "Šis vardas jau įvestas! Bandykite dar kartą.\n",
      "Šis vardas jau įvestas! Bandykite dar kartą.\n",
      "Šis vardas jau įvestas! Bandykite dar kartą.\n",
      "Šis vardas jau įvestas! Bandykite dar kartą.\n",
      "Šis vardas jau įvestas! Bandykite dar kartą.\n",
      "Šis vardas jau įvestas! Bandykite dar kartą.\n",
      "Šis vardas jau įvestas! Bandykite dar kartą.\n",
      "Šis vardas jau įvestas! Bandykite dar kartą.\n",
      "Šis vardas jau įvestas! Bandykite dar kartą.\n",
      "Šis vardas jau įvestas! Bandykite dar kartą.\n",
      "Šis vardas jau įvestas! Bandykite dar kartą.\n",
      "Unikalūs vardai klasėje: \n"
     ]
    }
   ],
   "source": [
    "mokiniu_vardai = set() \n",
    "\n",
    "while True:\n",
    "    vardas = input(\"Iveskite mokinio varda arba baigti: \").capitalize()\n",
    "\n",
    "    if vardas.lower() == \"baigti\":\n",
    "        break\n",
    "    if vardas in mokiniu_vardai:\n",
    "        print(\"Šis vardas jau įvestas! Bandykite dar kartą.\")\n",
    "    else:\n",
    "        mokiniu_vardai.add(vardas)\n",
    "\n",
    "if mokiniu_vardai:\n",
    "    print(\"Unikalūs vardai klasėje:\", \", \".join(mokiniu_vardai))\n",
    "else:\n",
    "    print(\"Neivedete vardu!\")\n"
   ]
  },
  {
   "cell_type": "markdown",
   "metadata": {},
   "source": []
  },
  {
   "cell_type": "markdown",
   "metadata": {},
   "source": [
    "## 8 Užduotis\n",
    "\n",
    "Sukurk prekybos centro kasos programą, kuri leidžia pirkėjui skenuoti prekes, matyti jų kainas ir sumokėti.\n",
    "- Programa turi produktų duomenų bazę (dict), kurioje saugomos prekės ir jų kainos.\n",
    "- Pirkėjas įveda prekių pavadinimus, o programa jas įdeda į krepšelį ir rodo viso mokėtiną sumą.\n",
    "- Jei prekė neegzistuoja, programa išveda klaidos pranešimą.\n",
    "- Kai pirkėjas baigia pirkimą, jis įveda sumą, kurią moka, ir programa apskaičiuoja grąžą.\n",
    "\n",
    "Pvz: \n",
    "\n",
    "- Sveiki! Pradėkite skenuoti prekes.  \n",
    "\n",
    "- Įveskite prekės pavadinimą (arba \"stop\" pabaigti): obuolys  \n",
    "- Įveskite prekės pavadinimą: duona  \n",
    "- Įveskite prekės pavadinimą: sūris  \n",
    "- Įveskite prekės pavadinimą: stop  \n",
    "\n",
    "- Jūsų krepšelis:  \n",
    "-   obuolys: 0.5 €  \n",
    "-   duona: 1.2 €  \n",
    "-   sūris: 2.5 €  \n",
    "- Iš viso mokėti: 4.2 €  \n",
    "\n",
    "- Įveskite sumą, kurią mokate: 5  \n",
    "- Jūsų grąža: 0.8 €  \n"
   ]
  },
  {
   "cell_type": "code",
   "execution_count": null,
   "metadata": {},
   "outputs": [],
   "source": [
    "produktai = {\n",
    "    \"duona\": 1.2,\n",
    "    \"pienas\": 1.6,\n",
    "    \"obuolys\": 0.5\n",
    "}\n",
    "\n",
    "krepselis = {}\n",
    "\n",
    "print(\"Sveiki! Pradėkite skenuoti prekes.\")\n",
    "while True:\n",
    "    preke = input('Įveskite prekės pavadinimą (arba \"stop\" pabaigti): ').strip().lower()\n",
    "    if preke == \"stop\":\n",
    "        break\n",
    "    if preke in produktai:\n",
    "        if preke in krepselis:\n",
    "            krepselis[preke] += 1\n",
    "        else:\n",
    "            krepselis[preke] = 1\n",
    "    else:\n",
    "        print(\"Prekes nera\")\n",
    "\n",
    "bendra_suma = sum(produktai[preke] * kiekis for preke, kiekis in krepselis.items())\n",
    "\n",
    "print(\"Jūsų krepšelis:\")\n",
    "for preke, kiekis in krepselis.items():\n",
    "    print(f\"  {preke}: {kiekis} vnt. x {produktai[preke]} € = {produktai[preke] * kiekis:.2f} €\")\n",
    "print(f\"Iš viso mokėti: {bendra_suma:.2f} €\")\n",
    "\n",
    "while True:\n",
    "    try:\n",
    "        suma_moketi = float(input(\"Įveskite sumą, kurią mokate: \"))\n",
    "        if suma_moketi < bendra_suma:\n",
    "            print(\"nepakankamai pinigu.\")\n",
    "        else:\n",
    "            graza = suma_moketi - bendra_suma\n",
    "            print(f\"Jūsų grąža: {graza:.2f} €\")\n",
    "            break\n",
    "    except ValueError:\n",
    "        print(\"iveskite suma skaiciais\")\n"
   ]
  },
  {
   "cell_type": "markdown",
   "metadata": {},
   "source": [
    "## 9 Užduotis\n",
    "\n",
    "Sukurk programą, kuri leidžia vartotojui registruoti savo kasdienes išlaidas, jas išsaugoti faile ir peržiūrėti išlaidų istoriją. <br />\n",
    "\n",
    "-\tIšlaidų įrašymas:\n",
    "- 1. Vartotojas įveda pirkimo datą, kategoriją (pvz., „Maistas“, „Transportas“) ir sumą.\n",
    "- 2.\tŠie duomenys įrašomi į .txt arba .csv failą.\n",
    "- Išlaidų peržiūra:\n",
    "- 1.\tPrograma gali atvaizduoti visas išlaidas iš failo.\n",
    "- 2.\tFiltravimas pagal kategoriją arba datą:\n",
    "- 3. Galima peržiūrėti tik tam tikros dienos ar kategorijos išlaidas.\n",
    "- Bendra suma:\n",
    "- 1. Programa apskaičiuoja bendrą išlaidų sumą.\n",
    "Failas gali atrodyti taip: \n",
    "- 2024-08-11, Maistas, 15.60\n",
    "- 2024-08-13, Transportas, 2.50\n",
    "- 2024-08-15, Pramogos, 20.00\n",
    "\n",
    "Pasirinkite veiksmą:\n",
    "\t1 - Pridėti naują išlaidą\n",
    "\t2 - Peržiūrėti visas išlaidas\n",
    "\t3 - Filtruoti pagal kategoriją\n",
    "\t4 - Filtruoti pagal datą\n",
    "\t5 - Apskaičiuoti bendrą sumą\n",
    "\t6 - Išeiti\n",
    "\n",
    "\tPasirinkimas: 1\n",
    "\tĮveskite datą (YYYY-MM-DD): 2025-02-10\n",
    "\tĮveskite kategoriją: Maistas\n",
    "\tĮveskite sumą: 15.60\n",
    "\n",
    "\tIšlaida įrašyta!\n",
    "\t------------------------\n",
    "\tPasirinkimas: 2\n",
    "\t2025-02-10 | Maistas | 15.60 €\n",
    "\t2025-02-10 | Transportas | 2.50 €\n",
    "\t2025-02-11 | Pramogos | 20.00 €\n",
    "\t------------------------\n",
    "\tPasirinkimas: 5\n",
    "\tBendra išlaidų suma: 38.10 €"
   ]
  },
  {
   "cell_type": "code",
   "execution_count": null,
   "metadata": {},
   "outputs": [],
   "source": []
  }
 ],
 "metadata": {
  "kernelspec": {
   "display_name": "mokymai",
   "language": "python",
   "name": "python3"
  },
  "language_info": {
   "codemirror_mode": {
    "name": "ipython",
    "version": 3
   },
   "file_extension": ".py",
   "mimetype": "text/x-python",
   "name": "python",
   "nbconvert_exporter": "python",
   "pygments_lexer": "ipython3",
   "version": "3.13.1"
  }
 },
 "nbformat": 4,
 "nbformat_minor": 2
}
