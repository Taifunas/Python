{
 "cells": [
  {
   "cell_type": "markdown",
   "metadata": {
    "id": "pkaxZB3CCFF4"
   },
   "source": [
    "# Pandas 3"
   ]
  },
  {
   "cell_type": "markdown",
   "metadata": {},
   "source": [
    "## Fill null values"
   ]
  },
  {
   "cell_type": "code",
   "execution_count": 2,
   "metadata": {
    "id": "pkaxZB3CCFF4"
   },
   "outputs": [],
   "source": [
    "import pandas as pd\n",
    "import matplotlib.pyplot as plt"
   ]
  },
  {
   "cell_type": "code",
   "execution_count": 9,
   "metadata": {
    "colab": {
     "base_uri": "https://localhost:8080/",
     "height": 617
    },
    "id": "lNwzTvnHCzNI",
    "outputId": "661707db-605d-4590-a3a6-b0eafc79d58b"
   },
   "outputs": [
    {
     "name": "stdout",
     "output_type": "stream",
     "text": [
      "<class 'pandas.core.frame.DataFrame'>\n",
      "RangeIndex: 1000 entries, 0 to 999\n",
      "Data columns (total 12 columns):\n",
      " #   Column      Non-Null Count  Dtype \n",
      "---  ------      --------------  ----- \n",
      " 0   id          1000 non-null   int64 \n",
      " 1   first_name  1000 non-null   object\n",
      " 2   last_name   1000 non-null   object\n",
      " 3   phone       944 non-null    object\n",
      " 4   email       944 non-null    object\n",
      " 5   gender      1000 non-null   object\n",
      " 6   birthdate   897 non-null    object\n",
      " 7   country     1000 non-null   object\n",
      " 8   city        1000 non-null   object\n",
      " 9   company     969 non-null    object\n",
      " 10  job_title   1000 non-null   object\n",
      " 11  salary      1000 non-null   int64 \n",
      "dtypes: int64(2), object(10)\n",
      "memory usage: 93.9+ KB\n"
     ]
    }
   ],
   "source": [
    "darbtuotojai=pd.read_csv('employees.csv')\n",
    "darbtuotojai.info()"
   ]
  },
  {
   "cell_type": "code",
   "execution_count": 10,
   "metadata": {
    "colab": {
     "base_uri": "https://localhost:8080/"
    },
    "id": "h4m-5Z4GDupF",
    "outputId": "e3477dbe-cb36-48eb-faf1-747557dc3585"
   },
   "outputs": [
    {
     "name": "stdout",
     "output_type": "stream",
     "text": [
      "<class 'pandas.core.frame.DataFrame'>\n",
      "RangeIndex: 1000 entries, 0 to 999\n",
      "Data columns (total 12 columns):\n",
      " #   Column      Non-Null Count  Dtype \n",
      "---  ------      --------------  ----- \n",
      " 0   id          1000 non-null   int64 \n",
      " 1   first_name  1000 non-null   object\n",
      " 2   last_name   1000 non-null   object\n",
      " 3   phone       1000 non-null   object\n",
      " 4   email       1000 non-null   object\n",
      " 5   gender      1000 non-null   object\n",
      " 6   birthdate   897 non-null    object\n",
      " 7   country     1000 non-null   object\n",
      " 8   city        1000 non-null   object\n",
      " 9   company     969 non-null    object\n",
      " 10  job_title   1000 non-null   object\n",
      " 11  salary      1000 non-null   int64 \n",
      "dtypes: int64(2), object(10)\n",
      "memory usage: 93.9+ KB\n"
     ]
    }
   ],
   "source": [
    "darbtuotojai=darbtuotojai.fillna(value={'email':'---------------','phone':'nenurodytas'})\n",
    "darbtuotojai.info()"
   ]
  },
  {
   "cell_type": "code",
   "execution_count": 11,
   "metadata": {
    "colab": {
     "base_uri": "https://localhost:8080/"
    },
    "id": "vl5ZPZAkEIXk",
    "outputId": "fe490270-48f6-4f9c-a380-57b07d28f0bb"
   },
   "outputs": [
    {
     "data": {
      "text/html": [
       "<div>\n",
       "<style scoped>\n",
       "    .dataframe tbody tr th:only-of-type {\n",
       "        vertical-align: middle;\n",
       "    }\n",
       "\n",
       "    .dataframe tbody tr th {\n",
       "        vertical-align: top;\n",
       "    }\n",
       "\n",
       "    .dataframe thead th {\n",
       "        text-align: right;\n",
       "    }\n",
       "</style>\n",
       "<table border=\"1\" class=\"dataframe\">\n",
       "  <thead>\n",
       "    <tr style=\"text-align: right;\">\n",
       "      <th></th>\n",
       "      <th>id</th>\n",
       "      <th>first_name</th>\n",
       "      <th>last_name</th>\n",
       "      <th>phone</th>\n",
       "      <th>email</th>\n",
       "      <th>gender</th>\n",
       "      <th>birthdate</th>\n",
       "      <th>country</th>\n",
       "      <th>city</th>\n",
       "      <th>company</th>\n",
       "      <th>job_title</th>\n",
       "      <th>salary</th>\n",
       "    </tr>\n",
       "  </thead>\n",
       "  <tbody>\n",
       "    <tr>\n",
       "      <th>988</th>\n",
       "      <td>989</td>\n",
       "      <td>Orion</td>\n",
       "      <td>Sanz</td>\n",
       "      <td>848-897-3263</td>\n",
       "      <td>osanzrg@mapy.cz</td>\n",
       "      <td>Male</td>\n",
       "      <td>1986-09-25</td>\n",
       "      <td>Nigeria</td>\n",
       "      <td>Aba</td>\n",
       "      <td>Voolia</td>\n",
       "      <td>VP Product Management</td>\n",
       "      <td>2998</td>\n",
       "    </tr>\n",
       "    <tr>\n",
       "      <th>696</th>\n",
       "      <td>697</td>\n",
       "      <td>Myrta</td>\n",
       "      <td>Devita</td>\n",
       "      <td>426-863-2659</td>\n",
       "      <td>mdevitajc@freewebs.com</td>\n",
       "      <td>Female</td>\n",
       "      <td>NaN</td>\n",
       "      <td>Haiti</td>\n",
       "      <td>Verrettes</td>\n",
       "      <td>Omba</td>\n",
       "      <td>Developer I</td>\n",
       "      <td>2989</td>\n",
       "    </tr>\n",
       "    <tr>\n",
       "      <th>358</th>\n",
       "      <td>359</td>\n",
       "      <td>Pearla</td>\n",
       "      <td>Binham</td>\n",
       "      <td>nenurodytas</td>\n",
       "      <td>---------------</td>\n",
       "      <td>Female</td>\n",
       "      <td>NaN</td>\n",
       "      <td>Brazil</td>\n",
       "      <td>Muzambinho</td>\n",
       "      <td>Divavu</td>\n",
       "      <td>Nurse Practicioner</td>\n",
       "      <td>2989</td>\n",
       "    </tr>\n",
       "    <tr>\n",
       "      <th>804</th>\n",
       "      <td>805</td>\n",
       "      <td>Ekaterina</td>\n",
       "      <td>Meach</td>\n",
       "      <td>788-934-7982</td>\n",
       "      <td>emeachmc@chronoengine.com</td>\n",
       "      <td>Female</td>\n",
       "      <td>2000-04-22</td>\n",
       "      <td>Serbia</td>\n",
       "      <td>Bašaid</td>\n",
       "      <td>Twitterworks</td>\n",
       "      <td>Developer III</td>\n",
       "      <td>2989</td>\n",
       "    </tr>\n",
       "    <tr>\n",
       "      <th>383</th>\n",
       "      <td>384</td>\n",
       "      <td>Emyle</td>\n",
       "      <td>Spennock</td>\n",
       "      <td>389-848-9304</td>\n",
       "      <td>espennockan@altervista.org</td>\n",
       "      <td>Female</td>\n",
       "      <td>1984-01-03</td>\n",
       "      <td>Vietnam</td>\n",
       "      <td>Ngoc Hon Doc</td>\n",
       "      <td>Skimia</td>\n",
       "      <td>Assistant Media Planner</td>\n",
       "      <td>2987</td>\n",
       "    </tr>\n",
       "    <tr>\n",
       "      <th>...</th>\n",
       "      <td>...</td>\n",
       "      <td>...</td>\n",
       "      <td>...</td>\n",
       "      <td>...</td>\n",
       "      <td>...</td>\n",
       "      <td>...</td>\n",
       "      <td>...</td>\n",
       "      <td>...</td>\n",
       "      <td>...</td>\n",
       "      <td>...</td>\n",
       "      <td>...</td>\n",
       "      <td>...</td>\n",
       "    </tr>\n",
       "    <tr>\n",
       "      <th>573</th>\n",
       "      <td>574</td>\n",
       "      <td>Giuseppe</td>\n",
       "      <td>Pountain</td>\n",
       "      <td>332-753-0199</td>\n",
       "      <td>gpountainfx@163.com</td>\n",
       "      <td>Male</td>\n",
       "      <td>1989-11-21</td>\n",
       "      <td>China</td>\n",
       "      <td>Wushan</td>\n",
       "      <td>Vimbo</td>\n",
       "      <td>Analyst Programmer</td>\n",
       "      <td>514</td>\n",
       "    </tr>\n",
       "    <tr>\n",
       "      <th>463</th>\n",
       "      <td>464</td>\n",
       "      <td>Anatol</td>\n",
       "      <td>MacGille</td>\n",
       "      <td>982-875-8698</td>\n",
       "      <td>amacgillecv@addthis.com</td>\n",
       "      <td>Male</td>\n",
       "      <td>1994-12-15</td>\n",
       "      <td>China</td>\n",
       "      <td>Yangmadao</td>\n",
       "      <td>Tagopia</td>\n",
       "      <td>Research Nurse</td>\n",
       "      <td>510</td>\n",
       "    </tr>\n",
       "    <tr>\n",
       "      <th>774</th>\n",
       "      <td>775</td>\n",
       "      <td>Delia</td>\n",
       "      <td>Twitchett</td>\n",
       "      <td>847-801-2792</td>\n",
       "      <td>dtwitchettli@army.mil</td>\n",
       "      <td>Female</td>\n",
       "      <td>2002-03-30</td>\n",
       "      <td>China</td>\n",
       "      <td>Alakak</td>\n",
       "      <td>Reallinks</td>\n",
       "      <td>Budget/Accounting Analyst II</td>\n",
       "      <td>508</td>\n",
       "    </tr>\n",
       "    <tr>\n",
       "      <th>608</th>\n",
       "      <td>609</td>\n",
       "      <td>Dyan</td>\n",
       "      <td>Bottomore</td>\n",
       "      <td>471-633-8429</td>\n",
       "      <td>dbottomoregw@mapy.cz</td>\n",
       "      <td>Female</td>\n",
       "      <td>2001-08-07</td>\n",
       "      <td>China</td>\n",
       "      <td>Doumen</td>\n",
       "      <td>Jamia</td>\n",
       "      <td>Web Developer I</td>\n",
       "      <td>507</td>\n",
       "    </tr>\n",
       "    <tr>\n",
       "      <th>6</th>\n",
       "      <td>7</td>\n",
       "      <td>Enid</td>\n",
       "      <td>Loadman</td>\n",
       "      <td>859-560-5933</td>\n",
       "      <td>eloadman6@statcounter.com</td>\n",
       "      <td>Female</td>\n",
       "      <td>NaN</td>\n",
       "      <td>Cameroon</td>\n",
       "      <td>Doumé</td>\n",
       "      <td>Thoughtstorm</td>\n",
       "      <td>Project Manager</td>\n",
       "      <td>505</td>\n",
       "    </tr>\n",
       "  </tbody>\n",
       "</table>\n",
       "<p>1000 rows × 12 columns</p>\n",
       "</div>"
      ],
      "text/plain": [
       "      id first_name  last_name         phone                       email  \\\n",
       "988  989      Orion       Sanz  848-897-3263             osanzrg@mapy.cz   \n",
       "696  697      Myrta     Devita  426-863-2659      mdevitajc@freewebs.com   \n",
       "358  359     Pearla     Binham   nenurodytas             ---------------   \n",
       "804  805  Ekaterina      Meach  788-934-7982   emeachmc@chronoengine.com   \n",
       "383  384      Emyle   Spennock  389-848-9304  espennockan@altervista.org   \n",
       "..   ...        ...        ...           ...                         ...   \n",
       "573  574   Giuseppe   Pountain  332-753-0199         gpountainfx@163.com   \n",
       "463  464     Anatol   MacGille  982-875-8698     amacgillecv@addthis.com   \n",
       "774  775      Delia  Twitchett  847-801-2792       dtwitchettli@army.mil   \n",
       "608  609       Dyan  Bottomore  471-633-8429        dbottomoregw@mapy.cz   \n",
       "6      7       Enid    Loadman  859-560-5933   eloadman6@statcounter.com   \n",
       "\n",
       "     gender   birthdate   country          city       company  \\\n",
       "988    Male  1986-09-25   Nigeria           Aba        Voolia   \n",
       "696  Female         NaN     Haiti     Verrettes          Omba   \n",
       "358  Female         NaN    Brazil    Muzambinho        Divavu   \n",
       "804  Female  2000-04-22    Serbia        Bašaid  Twitterworks   \n",
       "383  Female  1984-01-03   Vietnam  Ngoc Hon Doc        Skimia   \n",
       "..      ...         ...       ...           ...           ...   \n",
       "573    Male  1989-11-21     China        Wushan         Vimbo   \n",
       "463    Male  1994-12-15     China     Yangmadao       Tagopia   \n",
       "774  Female  2002-03-30     China        Alakak     Reallinks   \n",
       "608  Female  2001-08-07     China        Doumen         Jamia   \n",
       "6    Female         NaN  Cameroon         Doumé  Thoughtstorm   \n",
       "\n",
       "                        job_title  salary  \n",
       "988         VP Product Management    2998  \n",
       "696                   Developer I    2989  \n",
       "358            Nurse Practicioner    2989  \n",
       "804                 Developer III    2989  \n",
       "383       Assistant Media Planner    2987  \n",
       "..                            ...     ...  \n",
       "573            Analyst Programmer     514  \n",
       "463                Research Nurse     510  \n",
       "774  Budget/Accounting Analyst II     508  \n",
       "608               Web Developer I     507  \n",
       "6                 Project Manager     505  \n",
       "\n",
       "[1000 rows x 12 columns]"
      ]
     },
     "execution_count": 11,
     "metadata": {},
     "output_type": "execute_result"
    }
   ],
   "source": [
    "darbtuotojai_rikiuoti=darbtuotojai.sort_values(by='salary', ascending=False)\n",
    "darbtuotojai_rikiuoti"
   ]
  },
  {
   "cell_type": "markdown",
   "metadata": {},
   "source": [
    "# Top darbuotojai"
   ]
  },
  {
   "cell_type": "code",
   "execution_count": null,
   "metadata": {},
   "outputs": [],
   "source": [
    "top10['full_name']"
   ]
  },
  {
   "cell_type": "code",
   "execution_count": null,
   "metadata": {
    "colab": {
     "base_uri": "https://localhost:8080/",
     "height": 539
    },
    "id": "iHn6U-75KVe9",
    "outputId": "29d6b85e-34fb-4ab0-b886-b7ecfcacbde3"
   },
   "outputs": [],
   "source": []
  },
  {
   "cell_type": "code",
   "execution_count": null,
   "metadata": {
    "colab": {
     "base_uri": "https://localhost:8080/",
     "height": 678
    },
    "id": "7lb_JRKQK2Vi",
    "outputId": "67a09ee3-6077-45cf-a1a9-f6e4a550c216"
   },
   "outputs": [],
   "source": []
  },
  {
   "cell_type": "code",
   "execution_count": null,
   "metadata": {
    "colab": {
     "base_uri": "https://localhost:8080/",
     "height": 540
    },
    "id": "NqdJzOvFL6-f",
    "outputId": "2862ddd7-1ced-4211-b008-af53e7a4c5d3"
   },
   "outputs": [],
   "source": []
  },
  {
   "cell_type": "markdown",
   "metadata": {},
   "source": [
    "# Min darbuotojai"
   ]
  },
  {
   "cell_type": "code",
   "execution_count": 13,
   "metadata": {
    "colab": {
     "base_uri": "https://localhost:8080/",
     "height": 574
    },
    "id": "jSptOfoqOum0",
    "outputId": "0456f1b9-709f-4a66-83c6-6047801fb8fc"
   },
   "outputs": [],
   "source": []
  },
  {
   "cell_type": "code",
   "execution_count": null,
   "metadata": {
    "colab": {
     "base_uri": "https://localhost:8080/",
     "height": 430
    },
    "id": "725HbLlFQC7e",
    "outputId": "97f25ffe-f318-4ff4-f96e-a0f083bf270d"
   },
   "outputs": [],
   "source": [
    "\n"
   ]
  },
  {
   "cell_type": "markdown",
   "metadata": {},
   "source": [
    "# Lytis"
   ]
  },
  {
   "cell_type": "code",
   "execution_count": null,
   "metadata": {
    "colab": {
     "base_uri": "https://localhost:8080/"
    },
    "id": "Yx7BFnerUojd",
    "outputId": "913b1807-f5fb-49e5-abc8-b332d6e8d779"
   },
   "outputs": [],
   "source": []
  },
  {
   "cell_type": "code",
   "execution_count": null,
   "metadata": {
    "colab": {
     "base_uri": "https://localhost:8080/",
     "height": 406
    },
    "id": "PixDbNn1W2Hq",
    "outputId": "8b699580-029a-4585-f7b2-caaaf36a31cf"
   },
   "outputs": [],
   "source": []
  },
  {
   "cell_type": "markdown",
   "metadata": {},
   "source": [
    "# Atlyginimai"
   ]
  },
  {
   "cell_type": "code",
   "execution_count": null,
   "metadata": {
    "colab": {
     "base_uri": "https://localhost:8080/"
    },
    "id": "3h1fal4VYe5G",
    "outputId": "c9a1425c-db5c-46a7-d5ac-d95000ff1548"
   },
   "outputs": [],
   "source": []
  },
  {
   "cell_type": "code",
   "execution_count": null,
   "metadata": {
    "colab": {
     "base_uri": "https://localhost:8080/"
    },
    "id": "gBbJV4TiZH4F",
    "outputId": "0bb9842c-2187-468e-fd4f-d342f81eb57a"
   },
   "outputs": [],
   "source": []
  },
  {
   "cell_type": "code",
   "execution_count": null,
   "metadata": {
    "colab": {
     "base_uri": "https://localhost:8080/",
     "height": 583
    },
    "id": "tHmbUdj6alv-",
    "outputId": "11d972de-cab6-4dc0-9aa3-18e2726f26b1"
   },
   "outputs": [],
   "source": []
  },
  {
   "cell_type": "code",
   "execution_count": null,
   "metadata": {
    "colab": {
     "base_uri": "https://localhost:8080/"
    },
    "id": "hvzc9XhfgeRH",
    "outputId": "987d62b0-e553-4f4f-a652-ba828304ee35"
   },
   "outputs": [],
   "source": []
  },
  {
   "cell_type": "code",
   "execution_count": null,
   "metadata": {
    "colab": {
     "base_uri": "https://localhost:8080/"
    },
    "id": "rR0APhIRjlrW",
    "outputId": "5bf05d6a-ac3b-43a4-f356-0fcfa8582d7d"
   },
   "outputs": [],
   "source": []
  },
  {
   "cell_type": "markdown",
   "metadata": {},
   "source": [
    "# Užduotys"
   ]
  },
  {
   "cell_type": "markdown",
   "metadata": {},
   "source": [
    "## Užduotis 1\n",
    "\n",
    "- nuskaitykite failą pokemon_data.csv\n",
    "- raskite maksimalias HP, Attack, Defense reikšmes. Atspausdinkite\n",
    "- raskite kiek HP įrašų turi kiekvienas Generation"
   ]
  },
  {
   "cell_type": "code",
   "execution_count": null,
   "metadata": {},
   "outputs": [],
   "source": []
  },
  {
   "cell_type": "code",
   "execution_count": null,
   "metadata": {},
   "outputs": [],
   "source": []
  },
  {
   "cell_type": "code",
   "execution_count": null,
   "metadata": {},
   "outputs": [],
   "source": []
  },
  {
   "cell_type": "markdown",
   "metadata": {},
   "source": [
    "## Užduotis 2\n",
    "\n",
    "-  parsisiųskite Jūsų pasirinktą duomenų rinkinį iš https://www.kaggle.com/datasets\n",
    "-  susipažinkite  su duomenimis\n",
    "-  atlikite Jūsų pasirinktus tris paskaičiavimus"
   ]
  },
  {
   "cell_type": "code",
   "execution_count": null,
   "metadata": {},
   "outputs": [],
   "source": []
  }
 ],
 "metadata": {
  "colab": {
   "provenance": []
  },
  "kernelspec": {
   "display_name": "mokymai",
   "language": "python",
   "name": "python3"
  },
  "language_info": {
   "codemirror_mode": {
    "name": "ipython",
    "version": 3
   },
   "file_extension": ".py",
   "mimetype": "text/x-python",
   "name": "python",
   "nbconvert_exporter": "python",
   "pygments_lexer": "ipython3",
   "version": "3.13.1"
  }
 },
 "nbformat": 4,
 "nbformat_minor": 4
}
